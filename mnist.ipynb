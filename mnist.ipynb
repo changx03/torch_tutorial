{
 "cells": [
  {
   "cell_type": "code",
   "execution_count": 1,
   "metadata": {},
   "outputs": [
    {
     "name": "stdout",
     "output_type": "stream",
     "text": [
      "cuda:0\n",
      "cpu: 6\n"
     ]
    }
   ],
   "source": [
    "import os\n",
    "import time\n",
    "import torch\n",
    "import torch.nn as nn\n",
    "import torch.nn.functional as F\n",
    "import torch.optim as optim\n",
    "from torch.utils.data import DataLoader\n",
    "import torchvision as tv\n",
    "\n",
    "device = torch.device('cuda:0' if torch.cuda.is_available() else 'cpu')\n",
    "print(device)\n",
    "\n",
    "num_workers = os.cpu_count()\n",
    "print('cpu:', num_workers)"
   ]
  },
  {
   "cell_type": "code",
   "execution_count": 2,
   "metadata": {},
   "outputs": [],
   "source": [
    "root = os.path.join('.', 'dataset_root')\n",
    "batch_size = 128\n",
    "lr = 0.01\n",
    "momentum=0.9\n",
    "step_size=10\n",
    "gamma=0.1\n",
    "epochs = 20"
   ]
  },
  {
   "cell_type": "code",
   "execution_count": 3,
   "metadata": {},
   "outputs": [],
   "source": [
    "# tested value\n",
    "mean, std = [0.13066046], [0.30150425]\n",
    "\n",
    "transform = tv.transforms.Compose([\n",
    "        tv.transforms.ToTensor(),\n",
    "        tv.transforms.Normalize(mean, std)])\n",
    "train_dataset = tv.datasets.MNIST(\n",
    "    root,\n",
    "    train=True, \n",
    "    download=True,\n",
    "    transform=transform)\n",
    "test_dataset = tv.datasets.MNIST(\n",
    "    root,\n",
    "    train=False, \n",
    "    download=True,\n",
    "    transform=transform)\n",
    "\n",
    "train_loader = DataLoader(\n",
    "    train_dataset,\n",
    "    batch_size=batch_size,\n",
    "    shuffle=True,\n",
    "    num_workers=num_workers\n",
    ")\n",
    "test_loader = DataLoader(\n",
    "    test_dataset,\n",
    "    batch_size=batch_size,\n",
    "    shuffle=True,\n",
    "    num_workers=num_workers\n",
    ")"
   ]
  },
  {
   "cell_type": "code",
   "execution_count": 4,
   "metadata": {},
   "outputs": [],
   "source": [
    "class Net(nn.Module):\n",
    "    def __init__(self):\n",
    "        super(Net, self).__init__()\n",
    "        self.conv1 = nn.Conv2d(1, 32, 3, 1)\n",
    "        self.conv2 = nn.Conv2d(32, 64, 3, 1)\n",
    "        self.dropout1 = nn.Dropout2d(0.25)\n",
    "        self.dropout2 = nn.Dropout2d(0.5)\n",
    "        self.fc1 = nn.Linear(9216, 128)\n",
    "        self.fc2 = nn.Linear(128, 10)\n",
    "    \n",
    "    def forward(self, x):\n",
    "        x = self.conv1(x)\n",
    "        x = F.relu(x)\n",
    "        x = self.conv2(x)\n",
    "        x = F.max_pool2d(x, 2)\n",
    "        x = self.dropout1(x)\n",
    "        x = torch.flatten(x, 1)\n",
    "        x = self.fc1(x)\n",
    "        x = F.relu(x)\n",
    "        x = self.dropout2(x)\n",
    "        x = self.fc2(x)\n",
    "        return F.log_softmax(x, dim=1)"
   ]
  },
  {
   "cell_type": "code",
   "execution_count": 5,
   "metadata": {},
   "outputs": [],
   "source": [
    "def train():\n",
    "    model.train()\n",
    "    total_loss = 0.\n",
    "    corrects = 0.\n",
    "    \n",
    "    for x, y in train_loader:\n",
    "        x = x.to(device)\n",
    "        y = y.to(device)\n",
    "        batch_size = x.size(0)\n",
    "        \n",
    "        optimizer.zero_grad()\n",
    "        output = model(x)\n",
    "        loss = F.nll_loss(output, y)\n",
    "        loss.backward()\n",
    "        optimizer.step()\n",
    "\n",
    "        # for display\n",
    "        total_loss += loss.item() * batch_size\n",
    "        preds = output.max(1, keepdim=True)[1]\n",
    "        corrects += preds.eq(y.view_as(preds)).sum().item()\n",
    "    \n",
    "    n = len(train_loader.dataset)\n",
    "    total_loss = total_loss / n\n",
    "    accuracy = corrects / n\n",
    "    return total_loss, accuracy"
   ]
  },
  {
   "cell_type": "code",
   "execution_count": 6,
   "metadata": {},
   "outputs": [],
   "source": [
    "def validate():\n",
    "    model.eval()\n",
    "    total_loss = 0.\n",
    "    corrects = 0.\n",
    "    \n",
    "    with torch.no_grad():\n",
    "        for x, y in test_loader:\n",
    "            x = x.to(device)\n",
    "            y = y.to(device)\n",
    "            batch_size = x.size(0)\n",
    "            output = model(x)\n",
    "            loss = F.nll_loss(output, y)\n",
    "            total_loss += loss.item() * batch_size\n",
    "            preds = output.max(1, keepdim=True)[1]\n",
    "            corrects += preds.eq(y.view_as(preds)).sum().item()\n",
    "    \n",
    "    n = len(test_loader.dataset)\n",
    "    total_loss = total_loss / n\n",
    "    accuracy = corrects / n\n",
    "    return total_loss, accuracy"
   ]
  },
  {
   "cell_type": "code",
   "execution_count": 7,
   "metadata": {},
   "outputs": [],
   "source": [
    "model = Net().to(device)\n",
    "optimizer = optim.SGD(model.parameters(), lr=lr, momentum=momentum)\n",
    "lr_scheduler = optim.lr_scheduler.StepLR(\n",
    "    optimizer, \n",
    "    step_size=step_size, \n",
    "    gamma=gamma)"
   ]
  },
  {
   "cell_type": "code",
   "execution_count": 8,
   "metadata": {},
   "outputs": [
    {
     "name": "stdout",
     "output_type": "stream",
     "text": [
      "[ 1] 0m 3.1s Train Loss: 0.3531 Accuracy: 89.0467%, Test Loss: 0.0932 Accuracy: 97.0000%\n",
      "[ 2] 0m 2.9s Train Loss: 0.1262 Accuracy: 96.2433%, Test Loss: 0.0487 Accuracy: 98.3200%\n",
      "[ 3] 0m 2.9s Train Loss: 0.0894 Accuracy: 97.3217%, Test Loss: 0.0433 Accuracy: 98.6300%\n",
      "[ 4] 0m 2.9s Train Loss: 0.0719 Accuracy: 97.8500%, Test Loss: 0.0367 Accuracy: 98.7900%\n",
      "[ 5] 0m 3.0s Train Loss: 0.0620 Accuracy: 98.0600%, Test Loss: 0.0377 Accuracy: 98.7900%\n",
      "[ 6] 0m 3.0s Train Loss: 0.0546 Accuracy: 98.3133%, Test Loss: 0.0381 Accuracy: 98.7800%\n",
      "[ 7] 0m 2.9s Train Loss: 0.0468 Accuracy: 98.5317%, Test Loss: 0.0303 Accuracy: 98.9800%\n",
      "[ 8] 0m 2.9s Train Loss: 0.0443 Accuracy: 98.6183%, Test Loss: 0.0297 Accuracy: 99.0400%\n",
      "[ 9] 0m 2.9s Train Loss: 0.0396 Accuracy: 98.7850%, Test Loss: 0.0294 Accuracy: 98.9900%\n",
      "[10] 0m 3.1s Train Loss: 0.0404 Accuracy: 98.6783%, Test Loss: 0.0326 Accuracy: 98.9700%\n",
      "[11] 0m 2.9s Train Loss: 0.0307 Accuracy: 99.0317%, Test Loss: 0.0284 Accuracy: 99.1400%\n",
      "[12] 0m 3.0s Train Loss: 0.0275 Accuracy: 99.1417%, Test Loss: 0.0280 Accuracy: 99.1400%\n",
      "[13] 0m 3.1s Train Loss: 0.0251 Accuracy: 99.1717%, Test Loss: 0.0277 Accuracy: 99.1400%\n",
      "[14] 0m 2.9s Train Loss: 0.0233 Accuracy: 99.2883%, Test Loss: 0.0283 Accuracy: 99.1600%\n",
      "[15] 0m 2.9s Train Loss: 0.0240 Accuracy: 99.2683%, Test Loss: 0.0284 Accuracy: 99.1000%\n",
      "[16] 0m 2.9s Train Loss: 0.0240 Accuracy: 99.2400%, Test Loss: 0.0271 Accuracy: 99.1300%\n",
      "[17] 0m 2.9s Train Loss: 0.0227 Accuracy: 99.2933%, Test Loss: 0.0271 Accuracy: 99.1300%\n",
      "[18] 0m 2.9s Train Loss: 0.0221 Accuracy: 99.3183%, Test Loss: 0.0272 Accuracy: 99.1300%\n",
      "[19] 0m 3.0s Train Loss: 0.0219 Accuracy: 99.3100%, Test Loss: 0.0279 Accuracy: 99.1500%\n",
      "[20] 0m 2.9s Train Loss: 0.0210 Accuracy: 99.3167%, Test Loss: 0.0273 Accuracy: 99.1200%\n",
      "Total run time: 0m 59.2s\n"
     ]
    }
   ],
   "source": [
    "since = time.time()\n",
    "for epoch in range(epochs):\n",
    "    start = time.time()\n",
    "    tr_loss, tr_acc = train()\n",
    "    va_loss, va_acc = validate()\n",
    "    lr_scheduler.step()\n",
    "    \n",
    "    time_elapsed = time.time() - start\n",
    "    print(('[{:2d}] {:.0f}m {:.1f}s Train Loss: {:.4f} Accuracy: {:.4f}%, ' +\n",
    "        'Test Loss: {:.4f} Accuracy: {:.4f}%').format(\n",
    "            epoch+1, time_elapsed // 60, time_elapsed % 60,\n",
    "            tr_loss, tr_acc*100.,\n",
    "            va_loss, va_acc*100.))\n",
    "    \n",
    "time_elapsed = time.time() - since\n",
    "print('Total run time: {:.0f}m {:.1f}s'.format(\n",
    "    time_elapsed // 60,\n",
    "    time_elapsed % 60))"
   ]
  },
  {
   "cell_type": "code",
   "execution_count": 9,
   "metadata": {},
   "outputs": [],
   "source": [
    "torch.save(model.state_dict(), 'mnist_cnn.pt')"
   ]
  },
  {
   "cell_type": "code",
   "execution_count": null,
   "metadata": {},
   "outputs": [],
   "source": []
  }
 ],
 "metadata": {
  "kernelspec": {
   "display_name": "Python 3",
   "language": "python",
   "name": "python3"
  },
  "language_info": {
   "codemirror_mode": {
    "name": "ipython",
    "version": 3
   },
   "file_extension": ".py",
   "mimetype": "text/x-python",
   "name": "python",
   "nbconvert_exporter": "python",
   "pygments_lexer": "ipython3",
   "version": "3.6.9"
  }
 },
 "nbformat": 4,
 "nbformat_minor": 4
}
