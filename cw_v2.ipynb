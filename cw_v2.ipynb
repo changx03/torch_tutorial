{
 "cells": [
  {
   "cell_type": "code",
   "execution_count": 1,
   "metadata": {},
   "outputs": [
    {
     "name": "stdout",
     "output_type": "stream",
     "text": [
      "3.6.9 (default, Nov  7 2019, 10:44:02) \n",
      "[GCC 8.3.0]\n",
      "/usr/lib/python36.zip\n",
      "/usr/lib/python3.6\n",
      "/usr/lib/python3.6/lib-dynload\n",
      "\n",
      "/home/lukec/venv/lib/python3.6/site-packages\n",
      "/home/lukec/Downloads/jax/build\n",
      "/home/lukec/.local/lib/python3.6/site-packages\n",
      "/usr/local/lib/python3.6/dist-packages\n",
      "/usr/lib/python3/dist-packages\n",
      "/home/lukec/venv/lib/python3.6/site-packages/IPython/extensions\n",
      "/home/lukec/.ipython\n"
     ]
    }
   ],
   "source": [
    "import sys\n",
    "\n",
    "print(sys.version)\n",
    "print(*sys.path, sep='\\n')"
   ]
  },
  {
   "cell_type": "code",
   "execution_count": 2,
   "metadata": {},
   "outputs": [],
   "source": [
    "import numpy as np\n",
    "import matplotlib.pyplot as plt\n",
    "import time\n",
    "import os\n",
    "import torch\n",
    "import torch.nn as nn\n",
    "import torch.nn.functional as F\n",
    "from torch.utils.data import DataLoader, TensorDataset\n",
    "import torchvision as tv"
   ]
  },
  {
   "cell_type": "code",
   "execution_count": 3,
   "metadata": {},
   "outputs": [
    {
     "name": "stdout",
     "output_type": "stream",
     "text": [
      "cuda:0\n",
      "6\n"
     ]
    }
   ],
   "source": [
    "device = torch.device('cuda:0' if torch.cuda.is_available() else 'cpu')\n",
    "# device = 'cpu'  # use CPU for testing. GPU doesn't have inf and nan. It could overflow.\n",
    "print(device)\n",
    "\n",
    "num_workers = os.cpu_count()\n",
    "print(num_workers)"
   ]
  },
  {
   "cell_type": "code",
   "execution_count": 4,
   "metadata": {},
   "outputs": [],
   "source": [
    "# parameters for trained CNN\n",
    "ROOT = os.path.join('.', 'dataset_root')\n",
    "MODEL_PATH = os.path.join('.', 'mnist_autoencoder_cnn.pt')\n",
    "# mean, std = [0.13066046], [0.30150425] # based on training set\n",
    "BATCH_SIZE = 16\n",
    "NUM_CLASSES = 10"
   ]
  },
  {
   "cell_type": "code",
   "execution_count": 5,
   "metadata": {},
   "outputs": [],
   "source": [
    "def imshow(tensor_grid, mean=0., std=1., title=None):\n",
    "    assert isinstance(tensor_grid, torch.Tensor)\n",
    "    assert len(tensor_grid.size()) == 4, \\\n",
    "        f'For a batch of images only, {tensor_grid.size()} '\n",
    "    \n",
    "    tensor_grid = tv.utils.make_grid(tensor_grid)\n",
    "    grid = tensor_grid.numpy().transpose((1,2,0))\n",
    "    grid = std * grid + mean\n",
    "    grid = np.clip(grid, 0, 1)\n",
    "    plt.imshow(grid)\n",
    "    \n",
    "    if title is not None:\n",
    "        plt.title(title)\n",
    "        \n",
    "    plt.pause(0.001)"
   ]
  },
  {
   "cell_type": "code",
   "execution_count": 6,
   "metadata": {},
   "outputs": [],
   "source": [
    "# prepare data\n",
    "# foolbox model expects raw numpy array as image\n",
    "# NOTE: the normalize function put range to [-.4, 2.8]! NO!\n",
    "# https://developers.google.com/machine-learning/data-prep/transform/normalization\n",
    "transform = tv.transforms.Compose([\n",
    "        tv.transforms.ToTensor(),\n",
    "#         tv.transforms.Normalize(mean, std)\n",
    "])\n",
    "\n",
    "test_dataset = tv.datasets.MNIST(\n",
    "    ROOT,\n",
    "    train=False, \n",
    "    download=True,\n",
    "    transform=transform)\n",
    "\n",
    "test_loader = DataLoader(\n",
    "    test_dataset,\n",
    "    batch_size=BATCH_SIZE,\n",
    "    shuffle=True,\n",
    "    num_workers=num_workers)"
   ]
  },
  {
   "cell_type": "code",
   "execution_count": 7,
   "metadata": {},
   "outputs": [],
   "source": [
    "def validate(model, loader):\n",
    "    model.eval()\n",
    "    total_loss = 0.\n",
    "    corrects = 0.\n",
    "    \n",
    "    with torch.no_grad():\n",
    "        for x, y in loader:\n",
    "            x = x.to(device)\n",
    "            y = y.to(device)\n",
    "            batch_size = x.size(0)\n",
    "            output = model(x)\n",
    "            loss = F.nll_loss(output, y)\n",
    "            total_loss += loss.item() * batch_size\n",
    "            preds = output.max(1, keepdim=True)[1]\n",
    "            corrects += preds.eq(y.view_as(preds)).sum().item()\n",
    "            \n",
    "    n = float(len(loader.dataset))\n",
    "    total_loss = total_loss / n\n",
    "    accuracy = corrects / n\n",
    "    return total_loss, accuracy"
   ]
  },
  {
   "cell_type": "code",
   "execution_count": 8,
   "metadata": {},
   "outputs": [],
   "source": [
    "class Autoencoder(nn.Module):\n",
    "    def __init__(self, batch_size=BATCH_SIZE):\n",
    "        super(Autoencoder, self).__init__()\n",
    "        self.batch_size = batch_size\n",
    "        \n",
    "        self.encoder = nn.Sequential(\n",
    "            nn.Conv2d(1, 32, 3, 1),\n",
    "            nn.ReLU(),\n",
    "            nn.MaxPool2d(2),\n",
    "            nn.Conv2d(32, 64, 3, 2),\n",
    "            nn.ReLU(),\n",
    "            nn.MaxPool2d(2),\n",
    "            nn.Conv2d(64, 128, 3, 2))\n",
    "        \n",
    "        self.decoder = nn.Sequential(\n",
    "            nn.ConvTranspose2d(128, 64, 3, 2),\n",
    "            nn.ReLU(),\n",
    "            nn.ConvTranspose2d(64, 32, 3, 2),\n",
    "            nn.ReLU(),\n",
    "            nn.ConvTranspose2d(32, 32, 3, 2),\n",
    "            nn.ReLU(),\n",
    "            nn.Upsample((26, 26), mode='bilinear', align_corners=True),\n",
    "            nn.ConvTranspose2d(32, 1, 3, 1),\n",
    "            nn.Tanh())\n",
    "                \n",
    "    def forward(self, x):\n",
    "        x = self.encoder(x)\n",
    "        x = self.decoder(x)\n",
    "        return x\n",
    "    \n",
    "    def encode(self, x):\n",
    "        assert isinstance(x, torch.Tensor) \\\n",
    "            and x.size() == (self.batch_size, 1, 28, 28)\n",
    "        return self.encoder(x)\n",
    "    \n",
    "    def decode(self, x):\n",
    "        assert isinstance(x, torch.Tensor) \\\n",
    "            and x.size() in ((self.batch_size, 128, 1, 1), (self.batch_size, 128))\n",
    "        \n",
    "        if x.size() == (self.batch_size, 128):\n",
    "            x = x.view(self.batch_size, 128, 1, 1)\n",
    "        \n",
    "        return self.decoder(x)"
   ]
  },
  {
   "cell_type": "code",
   "execution_count": 9,
   "metadata": {},
   "outputs": [],
   "source": [
    "autoencoder = Autoencoder()\n",
    "\n",
    "# extract encoder\n",
    "for name, module in autoencoder.named_children():\n",
    "    if name == 'encoder':\n",
    "        encoder = module\n",
    "\n",
    "# freeze the encoder. Set gradients to readonly\n",
    "for p in encoder.parameters():\n",
    "    p.requires_grad = False\n",
    "\n",
    "# the neural network without softmax layer\n",
    "cnn = nn.Sequential(\n",
    "    encoder,\n",
    "    nn.Flatten(1),\n",
    "    nn.Linear(128, 128),\n",
    "    nn.ReLU(),\n",
    "    nn.Linear(128, 10))\n",
    "\n",
    "# the complete neural network for classification\n",
    "model = nn.Sequential(\n",
    "    cnn,\n",
    "    nn.LogSoftmax(dim=1))"
   ]
  },
  {
   "cell_type": "code",
   "execution_count": 10,
   "metadata": {},
   "outputs": [
    {
     "data": {
      "text/plain": [
       "Sequential(\n",
       "  (0): Sequential(\n",
       "    (0): Sequential(\n",
       "      (0): Conv2d(1, 32, kernel_size=(3, 3), stride=(1, 1))\n",
       "      (1): ReLU()\n",
       "      (2): MaxPool2d(kernel_size=2, stride=2, padding=0, dilation=1, ceil_mode=False)\n",
       "      (3): Conv2d(32, 64, kernel_size=(3, 3), stride=(2, 2))\n",
       "      (4): ReLU()\n",
       "      (5): MaxPool2d(kernel_size=2, stride=2, padding=0, dilation=1, ceil_mode=False)\n",
       "      (6): Conv2d(64, 128, kernel_size=(3, 3), stride=(2, 2))\n",
       "    )\n",
       "    (1): Flatten()\n",
       "    (2): Linear(in_features=128, out_features=128, bias=True)\n",
       "    (3): ReLU()\n",
       "    (4): Linear(in_features=128, out_features=10, bias=True)\n",
       "  )\n",
       "  (1): LogSoftmax()\n",
       ")"
      ]
     },
     "execution_count": 10,
     "metadata": {},
     "output_type": "execute_result"
    }
   ],
   "source": [
    "model.load_state_dict(torch.load(MODEL_PATH))\n",
    "model.eval()\n",
    "model.to(device)"
   ]
  },
  {
   "cell_type": "code",
   "execution_count": 11,
   "metadata": {},
   "outputs": [
    {
     "name": "stdout",
     "output_type": "stream",
     "text": [
      "10000\n",
      "Test Loss: 0.0423 Accuracy: 98.6600%\n"
     ]
    }
   ],
   "source": [
    "print(len(test_loader.dataset))\n",
    "va_loss, va_acc = validate(model, test_loader)\n",
    "print('Test Loss: {:.4f} Accuracy: {:.4f}%'.format(va_loss, va_acc*100.))"
   ]
  },
  {
   "cell_type": "code",
   "execution_count": 12,
   "metadata": {},
   "outputs": [
    {
     "name": "stdout",
     "output_type": "stream",
     "text": [
      "10000\n",
      "Test Loss: -14.5930 Accuracy: 98.6600%\n"
     ]
    }
   ],
   "source": [
    "print(len(test_loader.dataset))\n",
    "va_loss, va_acc = validate(cnn, test_loader)\n",
    "print('Test Loss: {:.4f} Accuracy: {:.4f}%'.format(va_loss, va_acc*100.))"
   ]
  },
  {
   "cell_type": "code",
   "execution_count": 13,
   "metadata": {},
   "outputs": [],
   "source": [
    "# parameters for C&W L2 attack\n",
    "BINARY_SEARCH_STEPS = 9           # number of times to adjust the constant with binary search\n",
    "MAX_ITERATIONS = 10000            # number of iterations to perform gradient descent\n",
    "ABORT_EARLY = True                # if we stop improving, abort gradient descent early\n",
    "LEARNING_RATE = 1e-2              # larger values converge faster to less accurate results\n",
    "TARGETED = False                  # should we target one specific class? or just be wrong?\n",
    "CONFIDENCE = 0                    # how strong the adversarial example should be, kappa in the paper\n",
    "INITIAL_C_MULTIPLIER = 1e-3       # the initial constant c_multiplier to pick as a first guess\n",
    "C_RANGE = [0, 1e10]            # lower and upper bounds for c_multiplier\n",
    "# NOTE: the normalize function does NOT scale the range to -1, 1.\n",
    "BOX_BOUND = [0., 1.]              # [-1., 1.] is used in original paper\n",
    "# NOTE: np.inf will return nan when np.inf*0. This is a problem!\n",
    "INF = 1e10                        # np.inf does NOT play well with pytorch. 1e10 was used in carlini's implementation\n",
    "NUM_CLASSES = 10\n",
    "NUM_ADV = 20  # aim to generate 1000 adversarial exmaples"
   ]
  },
  {
   "cell_type": "code",
   "execution_count": 14,
   "metadata": {},
   "outputs": [],
   "source": [
    "def arctanh(x, epsilon=1e-6):\n",
    "    '''\n",
    "    formular:\n",
    "    https://en.wikipedia.org/wiki/Inverse_hyperbolic_functions#Inverse_hyperbolic_tangent\n",
    "    '''\n",
    "    assert isinstance(x, torch.Tensor), type(x)\n",
    "\n",
    "    x = x * (1-epsilon)  # to enhance numeric stability. avoiding devide by zero\n",
    "    return 0.5 * torch.log((1.+x) / (1.-x))"
   ]
  },
  {
   "cell_type": "code",
   "execution_count": 15,
   "metadata": {},
   "outputs": [],
   "source": [
    "def to_tanh_sapce(image, bound=BOX_BOUND):\n",
    "    assert isinstance(image, torch.Tensor), type(image)\n",
    "    \n",
    "    box_mul = (bound[1] - bound[0]) * .5\n",
    "    box_plus = (bound[1] + bound[0]) * .5\n",
    "    return arctanh((image - box_plus) / box_mul)"
   ]
  },
  {
   "cell_type": "code",
   "execution_count": 16,
   "metadata": {},
   "outputs": [],
   "source": [
    "def from_tanh_space(w, bound=BOX_BOUND):\n",
    "    assert isinstance(w, torch.Tensor), type(w)\n",
    "    \n",
    "    box_mul = (bound[1] - bound[0]) * .5\n",
    "    box_plus = (bound[1] + bound[0]) * .5\n",
    "    return torch.tanh(w)*box_mul + box_plus"
   ]
  },
  {
   "cell_type": "code",
   "execution_count": 17,
   "metadata": {},
   "outputs": [],
   "source": [
    "def one_hot_encoding(labels, num_classes):\n",
    "    assert isinstance(labels, torch.Tensor), type(labels)\n",
    "    assert labels.max().item() < num_classes, f'{labels.max()} > {num_classes}'\n",
    "    \n",
    "    labels_t = labels.unsqueeze(1)\n",
    "    y_onehot = torch.zeros(len(labels), num_classes, dtype=torch.int8)\n",
    "    y_onehot = y_onehot.to(device)\n",
    "    return y_onehot.scatter_(1, labels_t, 1)"
   ]
  },
  {
   "cell_type": "code",
   "execution_count": 18,
   "metadata": {},
   "outputs": [],
   "source": [
    "def get_l2_norm(x, y):\n",
    "    assert isinstance(x, torch.Tensor)\n",
    "    assert isinstance(y, torch.Tensor)\n",
    "    assert x.size() == y.size()\n",
    "    \n",
    "    b = x.size(0)\n",
    "    return torch.sum(torch.pow(x - y, 2).view(b, -1), 1)"
   ]
  },
  {
   "cell_type": "code",
   "execution_count": 19,
   "metadata": {},
   "outputs": [],
   "source": [
    "def optimize(model, optimizer, inputs_tanh, pert_tanh, targets_oh, c):\n",
    "    assert isinstance(model, torch.nn.Module), type(model)\n",
    "    assert isinstance(optimizer, torch.optim.Optimizer), type(optimizer)\n",
    "    assert isinstance(inputs_tanh, torch.Tensor), type(inputs_tanh)\n",
    "    assert isinstance(pert_tanh, torch.Tensor), type(pert_tanh)\n",
    "    assert isinstance(targets_oh, torch.Tensor), type(targets_oh)\n",
    "    assert isinstance(c, torch.Tensor), type(c)\n",
    "    \n",
    "    optimizer.zero_grad()\n",
    "    \n",
    "    advs = from_tanh_space(inputs_tanh + pert_tanh)  # the adversarial examples in image space\n",
    "    inputs = from_tanh_space(inputs_tanh)  # the clean images converted back from tanh space\n",
    "    \n",
    "    # The softmax is stripped out from this model. It does NOT output probability! \n",
    "    adv_outputs = model(advs)\n",
    "    assert not torch.equal(\n",
    "        torch.round(adv_outputs.sum(1)), \n",
    "        torch.ones(len(adv_outputs)).to(device)), 'Softmax should NOT be used!'\n",
    "    \n",
    "    l2_norms = get_l2_norm(advs, inputs)\n",
    "    \n",
    "    target_outputs = torch.sum(targets_oh * adv_outputs, 1)\n",
    "    other_outputs = torch.max((1.-targets_oh)*adv_outputs - targets_oh*INF, 1)[0]\n",
    "    \n",
    "    if TARGETED:\n",
    "        f_loss = torch.clamp(other_outputs - target_outputs + CONFIDENCE, min=0.)\n",
    "    else:  # untargeted, the target variable is the true class\n",
    "        f_loss = torch.clamp(target_outputs - other_outputs + CONFIDENCE, min=0.)\n",
    "        \n",
    "    loss = torch.sum(l2_norms + c*f_loss)\n",
    "    loss.backward()\n",
    "    optimizer.step()\n",
    "    \n",
    "    return loss, l2_norms, adv_outputs, advs"
   ]
  },
  {
   "cell_type": "code",
   "execution_count": 20,
   "metadata": {},
   "outputs": [],
   "source": [
    "def compensate_confidence(outputs, targets):\n",
    "    assert type(outputs) == np.ndarray\n",
    "    assert type(targets) == np.ndarray\n",
    "    \n",
    "    outputs_comp = np.copy(outputs)\n",
    "    indices = np.arange(targets.shape[0])\n",
    "    if TARGETED:\n",
    "        outputs_comp[indices, targets] -= CONFIDENCE\n",
    "    else:\n",
    "        outputs_comp[indices, targets] += CONFIDENCE\n",
    "    \n",
    "    return outputs_comp"
   ]
  },
  {
   "cell_type": "code",
   "execution_count": 21,
   "metadata": {},
   "outputs": [],
   "source": [
    "def does_attack_success(pred, label):\n",
    "    if TARGETED:  \n",
    "        return int(pred) == int(label)  # match the target label\n",
    "    else:\n",
    "        return int(pred) != int(label)  # anyting other than the ture label"
   ]
  },
  {
   "cell_type": "code",
   "execution_count": 22,
   "metadata": {},
   "outputs": [
    {
     "name": "stdout",
     "output_type": "stream",
     "text": [
      "Is targeted attack: False\n",
      "Does repeat: False\n"
     ]
    }
   ],
   "source": [
    "print(f'Is targeted attack: {TARGETED}')\n",
    "repeat = BINARY_SEARCH_STEPS >= 10\n",
    "print(f'Does repeat: {repeat}')\n",
    "\n",
    "full_l2_np = np.empty(NUM_ADV, dtype=np.float32)\n",
    "full_label_np = np.empty(NUM_ADV, dtype=np.int64)\n",
    "full_pred_np = np.empty(NUM_ADV, dtype=np.int64)\n",
    "full_input_np = np.empty((NUM_ADV, 1, 28, 28), dtype=np.float32)\n",
    "full_adv_np = np.empty((NUM_ADV, 1, 28, 28), dtype=np.float32)"
   ]
  },
  {
   "cell_type": "code",
   "execution_count": 23,
   "metadata": {},
   "outputs": [
    {
     "name": "stdout",
     "output_type": "stream",
     "text": [
      "[0/20] - 0m 57.8s - L2 mean: 1.1585\n",
      "[16/20] - 0m 44.1s - L2 mean: 2.4387\n",
      "Total run time: 1m 42.1s\n"
     ]
    }
   ],
   "source": [
    "count = 0  # only count the image can be classified correct\n",
    "start = time.time()\n",
    "for x, y in test_loader:\n",
    "    since = time.time()\n",
    "    \n",
    "    x = x.to(device)\n",
    "    y = y.to(device)\n",
    "    \n",
    "    # fix batch size\n",
    "    with torch.no_grad():\n",
    "        # only use correct classified samples\n",
    "        outputs = model(x)\n",
    "        preds = outputs.max(1, keepdim=True)[1].int().view_as(y)\n",
    "        corrects = preds.eq(y.int())\n",
    "        \n",
    "        if len(corrects[corrects==True]) != len(y):        \n",
    "            x = x[corrects]\n",
    "            y = y[corrects]\n",
    "            print(f'Found {len(corrects[corrects==False])} misclassified samples')\n",
    "        \n",
    "        # the last batch have more than we need\n",
    "        if count + len(y) > NUM_ADV:\n",
    "            x = x[:NUM_ADV - count]\n",
    "            y = y[:NUM_ADV - count]\n",
    "    \n",
    "    batch_size = len(x)\n",
    "        \n",
    "    # c is the lagrange multiplier for optimization objective\n",
    "    lower_bounds_np = np.ones(batch_size, dtype=np.float32) * C_RANGE[0]\n",
    "    c_np = np.ones(batch_size, dtype=np.float32) * INITIAL_C_MULTIPLIER\n",
    "    upper_bounds_np = np.ones(batch_size, dtype=np.float32) * C_RANGE[1]\n",
    "    \n",
    "    # overal results\n",
    "    o_best_l2_np = np.ones(batch_size, dtype=np.float32) * INF\n",
    "    o_best_pred_np = -np.ones(batch_size, dtype=np.int64)\n",
    "    o_best_adv = torch.zeros_like(x)  # uses same device as x\n",
    "    \n",
    "    # we optimize over the tanh-space\n",
    "    x_tanh = to_tanh_sapce(x)\n",
    "    assert x_tanh.size() == x.size()\n",
    "    \n",
    "    # NOTE: testing untargeted attack here!\n",
    "    targets = y\n",
    "    targets_oh = one_hot_encoding(targets, num_classes=NUM_CLASSES)  # y in one-hot encoding\n",
    "    assert targets_oh.size() == (batch_size, NUM_CLASSES)\n",
    "    \n",
    "    # the perturbation variable to optimize (In Carlini's code it's denoted as `modifier`)\n",
    "    pert_tanh = torch.zeros_like(x, requires_grad=True)  # uses same device as x\n",
    "    assert device == 'cpu' or pert_tanh.is_cuda\n",
    "    \n",
    "    optimizer = torch.optim.Adam([pert_tanh], lr=LEARNING_RATE)  # we retrain it for every batch\n",
    "\n",
    "    for sstep in range(BINARY_SEARCH_STEPS):\n",
    "        # at least try upper bound once\n",
    "        if repeat and sstep == BINARY_SEARCH_STEPS - 1:\n",
    "            c_np = upper_bounds_np\n",
    "    \n",
    "        c = torch.from_numpy(c_np)\n",
    "        c = c.to(device)\n",
    "#         print(f'c: {c_np}')\n",
    "\n",
    "        best_l2_np = np.ones(batch_size, dtype=np.float32) * INF\n",
    "        best_pred_np = -np.ones(batch_size, dtype=np.int64)\n",
    "\n",
    "        # TODO: Not fully understand this part!\n",
    "        # previous (summed) batch loss, to be used in early stopping policy\n",
    "        prev_batch_loss = INF  # type: float\n",
    "        \n",
    "        # optimization step\n",
    "        for ostep in range(MAX_ITERATIONS):\n",
    "            loss, l2_norms, adv_outputs, advs = optimize(\n",
    "                cnn, optimizer, x_tanh, pert_tanh, targets_oh, c)\n",
    "            \n",
    "            # check if we should abort search if we're getting nowhere\n",
    "            if ABORT_EARLY and ostep % (MAX_ITERATIONS//10) == 0: \n",
    "                loss = loss.cpu().detach().item()\n",
    "                assert type(prev_batch_loss) == type(loss)\n",
    "                if loss > prev_batch_loss * (1-1e-4):\n",
    "#                     print('abort at [{}/{}] search step [{}/{}] optimize step'.format(\n",
    "#                         sstep, BINARY_SEARCH_STEPS, ostep, MAX_ITERATIONS))\n",
    "                    break\n",
    "                prev_batch_loss = loss  # only check it 10 times\n",
    "                \n",
    "            # update result\n",
    "            adv_outputs_np = adv_outputs.cpu().detach().numpy()\n",
    "            targets_np = targets.cpu().detach().numpy()\n",
    "            \n",
    "            # compensate outputs with parameter confidence\n",
    "            adv_outputs_np = compensate_confidence(adv_outputs_np, targets_np)\n",
    "            adv_predictions_np = np.argmax(adv_outputs_np, axis=1)\n",
    "            assert adv_predictions_np.shape == (batch_size,), comp_pred_outputs.shape\n",
    "            \n",
    "            for i in range(batch_size):\n",
    "                i_l2 = l2_norms[i]\n",
    "                i_adv_pred = adv_predictions_np[i]\n",
    "                i_target = targets_np[i]\n",
    "                i_adv = advs[i]  # a tensor\n",
    "\n",
    "                if does_attack_success(i_adv_pred, i_target):\n",
    "                    if i_l2 < best_l2_np[i]:\n",
    "                        best_l2_np[i] = i_l2\n",
    "                        best_pred_np[i] = i_adv_pred\n",
    "                        \n",
    "                    if i_l2 < o_best_l2_np[i]:\n",
    "                        o_best_l2_np[i] = i_l2\n",
    "                        o_best_pred_np[i] = i_adv_pred\n",
    "                        o_best_adv[i] = i_adv\n",
    "                        \n",
    "        # binary search for c\n",
    "        for i in range(batch_size):\n",
    "            i_target = targets_np[i]\n",
    "            assert best_pred_np[i] == -1 or does_attack_success(best_pred_np[i], i_target)\n",
    "            assert o_best_pred_np[i] == -1 or does_attack_success(o_best_pred_np[i], i_target)\n",
    "\n",
    "            if best_pred_np[i] != -1:  # successful, try lower `c` value\n",
    "                # update upper bound, and divide c by 2\n",
    "                upper_bounds_np[i] = min(upper_bounds_np[i], c_np[i])\n",
    "                if upper_bounds_np[i] < C_RANGE[1] * 0.1:  # 1e9 was used in carlini's implementation\n",
    "                    c_np[i] = (lower_bounds_np[i]+upper_bounds_np[i]) / 2.\n",
    "\n",
    "            else:  # failure, try larger `c` value\n",
    "                # either multiply by 10 if no solution found yet\n",
    "                # or do binary search with the known upper bound\n",
    "                lower_bounds_np[i] = max(lower_bounds_np[i], c_np[i])\n",
    "\n",
    "                if upper_bounds_np[i] < C_RANGE[1] * 0.1:  # 1e9 was used in carlini's implementation\n",
    "                    c_np[i] = (lower_bounds_np[i]+upper_bounds_np[i]) / 2.\n",
    "                else:\n",
    "                    c_np[i] *= 10\n",
    "    \n",
    "    # save results\n",
    "    full_l2_np[count: count+batch_size] = o_best_l2_np\n",
    "    full_label_np[count: count+batch_size] = y.cpu().detach().numpy()\n",
    "    full_pred_np[count: count+batch_size] = o_best_pred_np\n",
    "    full_input_np[count: count+batch_size] =  x.cpu().detach().numpy()\n",
    "    full_adv_np[count: count+batch_size] = o_best_adv.cpu().detach().numpy()\n",
    "    \n",
    "    # display logs\n",
    "    time_elapsed = time.time() - since\n",
    "    mean_l2 = np.mean(o_best_l2_np)\n",
    "    print(f'[{count}/{NUM_ADV}] - {time_elapsed//60:.0f}m {time_elapsed%60:.1f}s - L2 mean: {mean_l2:.4f}')\n",
    "    \n",
    "    count += batch_size\n",
    "    if count >= NUM_ADV:  # limit the number of adversarial example we want from the test set\n",
    "        break\n",
    "        \n",
    "time_elapsed = time.time() - start\n",
    "print('Total run time: {:.0f}m {:.1f}s'.format(\n",
    "    time_elapsed // 60,\n",
    "    time_elapsed % 60))"
   ]
  },
  {
   "cell_type": "code",
   "execution_count": 24,
   "metadata": {},
   "outputs": [],
   "source": [
    "# save results\n",
    "L2_FILE_PATH = 'mnist_cw_l2.npy'\n",
    "LABEL_FILE_PATH = 'mnist_cw_label.npy'\n",
    "PRED_FILE_PATH = 'mnist_cw_pred.npy'\n",
    "IMAGE_FILE_PATH = 'mnist_cw_images.npy'\n",
    "ADV_FILE_PATH = 'mnist_cw_adv.npy'\n",
    "\n",
    "full_l2_np.astype(np.float32).tofile(L2_FILE_PATH)\n",
    "full_label_np.astype(np.int64).tofile(LABEL_FILE_PATH)\n",
    "full_pred_np.astype(np.int64).tofile(PRED_FILE_PATH)\n",
    "full_input_np.astype(np.float32).tofile(IMAGE_FILE_PATH)\n",
    "full_adv_np.astype(np.float32).tofile(ADV_FILE_PATH)"
   ]
  },
  {
   "cell_type": "code",
   "execution_count": 25,
   "metadata": {},
   "outputs": [
    {
     "name": "stdout",
     "output_type": "stream",
     "text": [
      "(20,)\n",
      "(20,)\n",
      "(20,)\n",
      "(20, 1, 28, 28)\n",
      "(20, 1, 28, 28)\n"
     ]
    },
    {
     "data": {
      "image/png": "[encoded data removed]",
      "text/plain": [
       "<Figure size 1296x1296 with 1 Axes>"
      ]
     },
     "metadata": {
      "needs_background": "light"
     },
     "output_type": "display_data"
    },
    {
     "data": {
      "image/png": "[encoded data removed]",
      "text/plain": [
       "<Figure size 1296x1296 with 1 Axes>"
      ]
     },
     "metadata": {
      "needs_background": "light"
     },
     "output_type": "display_data"
    }
   ],
   "source": [
    "print(full_l2_np.shape)\n",
    "print(full_label_np.shape)\n",
    "print(full_pred_np.shape)\n",
    "print(full_input_np.shape)\n",
    "print(full_adv_np.shape)\n",
    "\n",
    "images = torch.from_numpy(full_input_np)\n",
    "plt.figure(figsize=[18, 18])\n",
    "imshow(images, title='Clean Inputs')\n",
    "plt.show()\n",
    "\n",
    "advs = torch.from_numpy(full_adv_np)\n",
    "plt.figure(figsize=[18, 18])\n",
    "imshow(advs, title='Adversarial Examples')\n",
    "plt.show()"
   ]
  },
  {
   "cell_type": "code",
   "execution_count": 26,
   "metadata": {},
   "outputs": [],
   "source": [
    "# load results\n",
    "saved_images = np.fromfile(open(IMAGE_FILE_PATH, 'rb'), dtype=np.float32)\n",
    "saved_images = np.reshape(saved_images, full_input_np.shape)\n",
    "\n",
    "saved_advs = np.fromfile(open(ADV_FILE_PATH, 'rb'), dtype=np.float32)\n",
    "saved_advs = np.reshape(saved_advs, full_adv_np.shape)\n",
    "assert saved_images.shape == saved_advs.shape\n",
    "\n",
    "saved_l2 = np.fromfile(open(L2_FILE_PATH, 'rb'), dtype=np.float32)\n",
    "assert saved_l2.shape == (NUM_ADV,)\n",
    "\n",
    "saved_labels = np.fromfile(open(LABEL_FILE_PATH, 'rb'), dtype=np.int64)\n",
    "assert saved_labels.shape == (NUM_ADV,)\n",
    "\n",
    "saved_preds = np.fromfile(open(PRED_FILE_PATH, 'rb'), dtype=np.int64)\n",
    "assert saved_preds.shape == (NUM_ADV,)\n",
    "\n",
    "# check saved file\n",
    "assert np.array_equal(saved_l2, full_l2_np)\n",
    "assert np.array_equal(saved_labels, full_label_np)\n",
    "assert np.array_equal(saved_preds, full_pred_np)\n",
    "assert np.array_equal(saved_images, full_input_np)\n",
    "assert np.array_equal(saved_advs, full_adv_np)\n",
    "not_equal = np.not_equal(saved_labels, saved_preds)\n",
    "assert len(not_equal[not_equal==True]) == len(not_equal)"
   ]
  },
  {
   "cell_type": "code",
   "execution_count": 27,
   "metadata": {},
   "outputs": [
    {
     "name": "stdout",
     "output_type": "stream",
     "text": [
      "NUM_ADV = 20\n"
     ]
    }
   ],
   "source": [
    "print('NUM_ADV =', NUM_ADV)\n",
    "\n",
    "# check saved results\n",
    "data_clean = TensorDataset(\n",
    "    torch.from_numpy(saved_images), \n",
    "    torch.from_numpy(saved_labels))\n",
    "loader_clean = DataLoader(\n",
    "    data_clean,\n",
    "    batch_size=BATCH_SIZE,\n",
    "    shuffle=True,\n",
    "    num_workers=num_workers)\n",
    "\n",
    "data_adv = TensorDataset(\n",
    "    torch.from_numpy(saved_advs), \n",
    "    torch.from_numpy(saved_labels))\n",
    "loader_adv = DataLoader(\n",
    "    data_adv,\n",
    "    batch_size=BATCH_SIZE,\n",
    "    shuffle=True,\n",
    "    num_workers=num_workers)\n",
    "\n",
    "assert len(loader_clean.dataset) == NUM_ADV\n",
    "assert len(loader_adv.dataset) == NUM_ADV"
   ]
  },
  {
   "cell_type": "code",
   "execution_count": 28,
   "metadata": {},
   "outputs": [
    {
     "name": "stdout",
     "output_type": "stream",
     "text": [
      "Clean images - Loss: 0.0204 Accuracy: 100.0000%\n"
     ]
    }
   ],
   "source": [
    "va_loss, va_acc = validate(model, loader_clean)\n",
    "print('Clean images - Loss: {:.4f} Accuracy: {:.4f}%'.format(va_loss, va_acc*100.))"
   ]
  },
  {
   "cell_type": "code",
   "execution_count": 29,
   "metadata": {},
   "outputs": [
    {
     "name": "stdout",
     "output_type": "stream",
     "text": [
      "Adversarial examples - Loss: 0.7133 Accuracy: 0.0000%\n"
     ]
    }
   ],
   "source": [
    "va_loss, va_acc = validate(model, loader_adv)\n",
    "print('Adversarial examples - Loss: {:.4f} Accuracy: {:.4f}%'.format(va_loss, va_acc*100.))"
   ]
  },
  {
   "cell_type": "code",
   "execution_count": null,
   "metadata": {},
   "outputs": [],
   "source": []
  }
 ],
 "metadata": {
  "kernelspec": {
   "display_name": "Python 3",
   "language": "python",
   "name": "python3"
  },
  "language_info": {
   "codemirror_mode": {
    "name": "ipython",
    "version": 3
   },
   "file_extension": ".py",
   "mimetype": "text/x-python",
   "name": "python",
   "nbconvert_exporter": "python",
   "pygments_lexer": "ipython3",
   "version": "3.6.9"
  }
 },
 "nbformat": 4,
 "nbformat_minor": 4
}
