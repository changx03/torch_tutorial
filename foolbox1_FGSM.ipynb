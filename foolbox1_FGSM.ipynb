{
 "cells": [
  {
   "cell_type": "code",
   "execution_count": 1,
   "metadata": {},
   "outputs": [],
   "source": [
    "import numpy as np\n",
    "import matplotlib.pyplot as plt\n",
    "import time\n",
    "import os\n",
    "import copy\n",
    "import torch\n",
    "import torch.nn as nn\n",
    "import torch.nn.functional as F\n",
    "import torch.optim as optim\n",
    "import torchvision as tv\n",
    "import torchvision.models as models\n",
    "from torch.utils.data import DataLoader\n",
    "import foolbox\n",
    "from foolbox.models import PyTorchModel"
   ]
  },
  {
   "cell_type": "code",
   "execution_count": 2,
   "metadata": {},
   "outputs": [
    {
     "name": "stdout",
     "output_type": "stream",
     "text": [
      "cuda:0\n",
      "6\n"
     ]
    }
   ],
   "source": [
    "device = torch.device('cuda:0' if torch.cuda.is_available() else 'cpu')\n",
    "print(device)\n",
    "\n",
    "num_workers = os.cpu_count()\n",
    "print(num_workers)"
   ]
  },
  {
   "cell_type": "code",
   "execution_count": 3,
   "metadata": {},
   "outputs": [],
   "source": [
    "root = os.path.join('.', 'dataset_root')\n",
    "mean, std = [0.13066046], [0.30150425] # based on training set\n",
    "batch_size = 64\n",
    "lr = 0.01\n",
    "momentum=0.9\n",
    "step_size=10\n",
    "gamma=0.1\n",
    "epochs = 20\n",
    "model_path = 'mnist_cnn.pt'"
   ]
  },
  {
   "cell_type": "code",
   "execution_count": 4,
   "metadata": {},
   "outputs": [],
   "source": [
    "transform = tv.transforms.Compose([\n",
    "        tv.transforms.ToTensor(),\n",
    "        tv.transforms.Normalize(mean, std)])\n",
    "train_dataset = tv.datasets.MNIST(\n",
    "    root,\n",
    "    train=True, \n",
    "    download=True,\n",
    "    transform=transform)\n",
    "test_dataset = tv.datasets.MNIST(\n",
    "    root,\n",
    "    train=False, \n",
    "    download=True,\n",
    "    transform=transform)\n",
    "\n",
    "train_loader = DataLoader(\n",
    "    train_dataset,\n",
    "    batch_size=batch_size,\n",
    "    shuffle=True,\n",
    "    num_workers=num_workers\n",
    ")\n",
    "test_loader = DataLoader(\n",
    "    test_dataset,\n",
    "    batch_size=batch_size,\n",
    "    shuffle=True,\n",
    "    num_workers=num_workers\n",
    ")"
   ]
  },
  {
   "cell_type": "code",
   "execution_count": 5,
   "metadata": {},
   "outputs": [],
   "source": [
    "# https://foolbox.readthedocs.io/en/stable/modules/models.html#foolbox.models.PyTorchModel\n",
    "# \"It should predict logits or log-probabilities, i.e. predictions without the softmax.\"\n",
    "class Net(nn.Module):\n",
    "    def __init__(self):\n",
    "        super(Net, self).__init__()\n",
    "        self.conv1 = nn.Conv2d(1, 32, 3, 1)\n",
    "        self.conv2 = nn.Conv2d(32, 64, 3, 1)\n",
    "        self.dropout1 = nn.Dropout2d(0.25)\n",
    "        self.dropout2 = nn.Dropout2d(0.5)\n",
    "        self.fc1 = nn.Linear(9216, 128)\n",
    "        self.fc2 = nn.Linear(128, 10)\n",
    "    \n",
    "    def forward(self, x):\n",
    "        x = self.conv1(x)\n",
    "        x = F.relu(x)\n",
    "        x = self.conv2(x)\n",
    "        x = F.max_pool2d(x, 2)\n",
    "        x = self.dropout1(x)\n",
    "        x = torch.flatten(x, 1)\n",
    "        x = self.fc1(x)\n",
    "        x = F.relu(x)\n",
    "        x = self.dropout2(x)\n",
    "        x = self.fc2(x)\n",
    "        # remove the softmax layer\n",
    "        output = F.log_softmax(x, dim=1)\n",
    "        return x"
   ]
  },
  {
   "cell_type": "code",
   "execution_count": 6,
   "metadata": {},
   "outputs": [],
   "source": [
    "model = Net()\n",
    "model.load_state_dict(torch.load(model_path))\n",
    "model.eval()\n",
    "model = model.to(device)"
   ]
  },
  {
   "cell_type": "code",
   "execution_count": 7,
   "metadata": {},
   "outputs": [],
   "source": [
    "def validate():\n",
    "    model.eval()\n",
    "    total_loss = 0.\n",
    "    corrects = 0\n",
    "    \n",
    "    with torch.no_grad():\n",
    "        for x, y in test_loader:\n",
    "            x = x.to(device)\n",
    "            y = y.to(device)\n",
    "            batch_size = x.size(0)\n",
    "            output = model(x)\n",
    "            # this log function is not suitable\n",
    "            loss = F.nll_loss(output, y)\n",
    "            total_loss += loss.item() * batch_size\n",
    "            preds = output.max(1, keepdim=True)[1]\n",
    "            corrects += preds.eq(y.view_as(preds)).sum().item()\n",
    "    \n",
    "    n = len(test_loader.dataset)\n",
    "    total_loss = total_loss / n\n",
    "    accuracy = corrects / n\n",
    "    return total_loss, accuracy"
   ]
  },
  {
   "cell_type": "code",
   "execution_count": 8,
   "metadata": {},
   "outputs": [
    {
     "name": "stdout",
     "output_type": "stream",
     "text": [
      "Test Loss: -21.2682 Accuracy: 99.1000%\n"
     ]
    }
   ],
   "source": [
    "# TODO: loss is NOT correct!\n",
    "va_loss, va_acc = validate()\n",
    "print('Test Loss: {:.4f} Accuracy: {:.4f}%'.format(va_loss, va_acc*100.))"
   ]
  },
  {
   "cell_type": "code",
   "execution_count": 9,
   "metadata": {},
   "outputs": [
    {
     "name": "stdout",
     "output_type": "stream",
     "text": [
      "torch.Size([64, 10])\n",
      "tensor([[ -0.2544,  -4.3162,   4.0443,  -4.4449,  -1.7499,   9.0927,  24.6008,\n",
      "         -14.9037,   5.8673, -14.0158],\n",
      "        [ -3.4522,   6.8931,  22.0301,   8.0551, -15.1559, -14.1744,  -7.6948,\n",
      "           3.4281,   5.0555, -10.6299],\n",
      "        [-11.4976,  -4.4836,  -0.2124,  28.9650, -12.6812,   8.1657, -13.8144,\n",
      "          -6.1253,   1.1220,   7.1071],\n",
      "        [ -4.3787,  -0.1679,   0.0756,  -3.6348,  15.5746,  -2.1111,  -6.4208,\n",
      "           0.6425,  -3.1432,   2.7650],\n",
      "        [ -7.3735,  -4.0035,   3.1835,   2.3440,  -4.5267,  -3.4284,  -6.6617,\n",
      "          -0.2388,  17.1043,   0.7089]], device='cuda:0',\n",
      "       grad_fn=<SliceBackward>)\n"
     ]
    }
   ],
   "source": [
    "x, y = next(iter(test_loader))\n",
    "x = x.to(device)\n",
    "y = y.to(device)\n",
    "output = model(x)\n",
    "print(output.size())\n",
    "print(output[:5])"
   ]
  },
  {
   "cell_type": "code",
   "execution_count": 10,
   "metadata": {},
   "outputs": [],
   "source": [
    "preprocessing = {'mean': mean, 'std': std, 'axis': -1}  # for single channel\n",
    "fmodel = PyTorchModel(\n",
    "    model, \n",
    "    bounds=(0, 1), \n",
    "    num_classes=10, \n",
    "    preprocessing=preprocessing,\n",
    "    channel_axis=1,\n",
    "    device=device)"
   ]
  },
  {
   "cell_type": "code",
   "execution_count": 11,
   "metadata": {},
   "outputs": [
    {
     "name": "stdout",
     "output_type": "stream",
     "text": [
      "(64, 1, 28, 28) (64,)\n"
     ]
    }
   ],
   "source": [
    "images, labels = next(iter(test_loader))\n",
    "images = images.numpy()\n",
    "labels = labels.numpy()\n",
    "print(images.shape, labels.shape)\n",
    "assert type(images) == np.ndarray"
   ]
  },
  {
   "cell_type": "code",
   "execution_count": 12,
   "metadata": {},
   "outputs": [
    {
     "name": "stdout",
     "output_type": "stream",
     "text": [
      "(64, 10)\n",
      "1.0\n"
     ]
    }
   ],
   "source": [
    "output = fmodel.forward(images)\n",
    "pred = output.argmax(axis=-1)\n",
    "print(output.shape)\n",
    "accuracy = np.mean(pred == labels)\n",
    "print(accuracy)"
   ]
  },
  {
   "cell_type": "code",
   "execution_count": 13,
   "metadata": {},
   "outputs": [
    {
     "name": "stdout",
     "output_type": "stream",
     "text": [
      "(64, 1, 28, 28)\n",
      "float32\n"
     ]
    }
   ],
   "source": [
    "images = images * std + mean\n",
    "images = np.clip(images, 0, 1)\n",
    "print(images.shape)\n",
    "images = images.astype(np.float32)\n",
    "print(images.dtype)"
   ]
  },
  {
   "cell_type": "code",
   "execution_count": 14,
   "metadata": {},
   "outputs": [
    {
     "name": "stdout",
     "output_type": "stream",
     "text": [
      "(28, 28)\n"
     ]
    },
    {
     "data": {
      "image/png": "[encoded data removed]",
      "text/plain": [
       "<Figure size 432x432 with 1 Axes>"
      ]
     },
     "metadata": {
      "needs_background": "light"
     },
     "output_type": "display_data"
    }
   ],
   "source": [
    "image = np.squeeze(np.transpose(images[0], (1, 2, 0)))\n",
    "print(image.shape)\n",
    "\n",
    "plt.figure(figsize=[6, 6])\n",
    "plt.imshow(image, cmap='gray', vmin=0., vmax=1.)\n",
    "plt.show()"
   ]
  },
  {
   "cell_type": "code",
   "execution_count": 18,
   "metadata": {},
   "outputs": [
    {
     "name": "stdout",
     "output_type": "stream",
     "text": [
      "(64, 1, 28, 28)\n",
      "0.046875\n"
     ]
    }
   ],
   "source": [
    "attack = foolbox.attacks.FGSM(\n",
    "    fmodel,\n",
    "    criterion=foolbox.criteria.Misclassification()\n",
    ")\n",
    "adversarials = attack(images, labels, max_epsilon=0.15)\n",
    "print(adversarials.shape)\n",
    "print(np.mean(fmodel.forward(adversarials).argmax(axis=-1) == labels))"
   ]
  },
  {
   "cell_type": "code",
   "execution_count": 19,
   "metadata": {},
   "outputs": [
    {
     "name": "stdout",
     "output_type": "stream",
     "text": [
      "(28, 28)\n",
      "(28, 28)\n",
      "0.10710001 -0.10710001\n",
      "(28, 28)\n"
     ]
    },
    {
     "data": {
      "image/png": "[encoded data removed]",
      "text/plain": [
       "<Figure size 1296x432 with 3 Axes>"
      ]
     },
     "metadata": {
      "needs_background": "light"
     },
     "output_type": "display_data"
    }
   ],
   "source": [
    "image = np.squeeze(np.transpose(images[0], (1, 2, 0)))\n",
    "print(image.shape)\n",
    "# ad = np.transpose(adversarials[0].perturbed, (1, 2, 0))\n",
    "ad = np.squeeze(np.transpose(adversarials[0], (1, 2, 0)))\n",
    "print(ad.shape)\n",
    "\n",
    "p = ad - image\n",
    "imax = np.max(p)\n",
    "imin = np.min(p)\n",
    "print(imax, imin)\n",
    "p = (p - imin)/ (imax-imin)\n",
    "print(p.shape)\n",
    "\n",
    "plt.figure(figsize=[18, 6])\n",
    "plt.subplot(1, 3, 1)\n",
    "plt.imshow(image, cmap='gray', vmin=0., vmax=1.)\n",
    "plt.subplot(1, 3, 2)\n",
    "plt.imshow(ad, cmap='gray', vmin=0., vmax=1.)\n",
    "plt.subplot(1, 3, 3)\n",
    "plt.imshow(p, cmap='gray', vmin=0., vmax=1.)\n",
    "plt.show()"
   ]
  },
  {
   "cell_type": "code",
   "execution_count": 20,
   "metadata": {},
   "outputs": [
    {
     "name": "stdout",
     "output_type": "stream",
     "text": [
      "torch.Size([64, 1, 28, 28])\n",
      "torch.Size([64, 10])\n",
      "[ 0] pred=8 label=6\n",
      "[ 1] pred=1 label=2\n",
      "[ 2] pred=1 label=3\n",
      "[ 3] pred=1 label=4\n",
      "[ 4] pred=9 label=8\n",
      "[ 5] pred=9 label=3\n",
      "[ 6] pred=1 label=6\n",
      "[ 7] pred=3 label=1\n",
      "[ 8] pred=1 label=2\n",
      "[ 9] pred=1 label=2\n",
      "[10] pred=1 label=6\n",
      "[11] pred=1 label=9\n",
      "[12] pred=9 label=4\n",
      "[13] pred=1 label=0\n",
      "[15] pred=1 label=2\n",
      "[16] pred=1 label=6\n",
      "[17] pred=9 label=7\n",
      "[18] pred=1 label=8\n",
      "[20] pred=1 label=4\n",
      "[21] pred=1 label=5\n",
      "[22] pred=1 label=8\n",
      "[24] pred=5 label=3\n",
      "[25] pred=8 label=1\n",
      "[26] pred=1 label=0\n",
      "[28] pred=8 label=1\n",
      "[29] pred=1 label=7\n",
      "[30] pred=1 label=3\n",
      "[34] pred=1 label=0\n",
      "[35] pred=1 label=3\n",
      "[36] pred=1 label=4\n",
      "[37] pred=1 label=3\n",
      "[38] pred=8 label=5\n",
      "[39] pred=1 label=4\n",
      "[41] pred=1 label=8\n",
      "[42] pred=1 label=2\n",
      "[43] pred=9 label=1\n",
      "[45] pred=1 label=5\n",
      "[46] pred=1 label=5\n",
      "[47] pred=8 label=9\n",
      "[48] pred=1 label=8\n",
      "[49] pred=1 label=9\n",
      "[50] pred=8 label=4\n",
      "[51] pred=8 label=0\n",
      "[52] pred=1 label=9\n",
      "[54] pred=9 label=3\n",
      "[55] pred=1 label=9\n",
      "[56] pred=1 label=6\n",
      "[58] pred=1 label=2\n",
      "[59] pred=8 label=6\n",
      "[60] pred=1 label=0\n",
      "[61] pred=1 label=4\n",
      "[62] pred=8 label=9\n",
      "[63] pred=1 label=3\n"
     ]
    }
   ],
   "source": [
    "ad_tensor = torch.tensor(adversarials, dtype=torch.float32)\n",
    "print(ad_tensor.size())\n",
    "ad_tensor = ad_tensor.to(device)\n",
    "ad_out = model(ad_tensor)\n",
    "print(ad_out.shape)\n",
    "preds = ad_out.max(1, keepdim=True)[1]\n",
    "\n",
    "for i, p in enumerate(preds, 0):\n",
    "    if p.item() != y[i]:\n",
    "        print(f'[{i:2d}] pred={p.item()} label={y[i]}')\n",
    "    "
   ]
  },
  {
   "cell_type": "code",
   "execution_count": null,
   "metadata": {},
   "outputs": [],
   "source": []
  }
 ],
 "metadata": {
  "kernelspec": {
   "display_name": "Python 3",
   "language": "python",
   "name": "python3"
  },
  "language_info": {
   "codemirror_mode": {
    "name": "ipython",
    "version": 3
   },
   "file_extension": ".py",
   "mimetype": "text/x-python",
   "name": "python",
   "nbconvert_exporter": "python",
   "pygments_lexer": "ipython3",
   "version": "3.6.9"
  }
 },
 "nbformat": 4,
 "nbformat_minor": 4
}
