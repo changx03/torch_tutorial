{
 "cells": [
  {
   "cell_type": "code",
   "execution_count": 26,
   "metadata": {},
   "outputs": [],
   "source": [
    "import numpy as np\n",
    "import matplotlib.pyplot as plt\n",
    "import time\n",
    "import os\n",
    "import copy\n",
    "import torch\n",
    "import torch.nn as nn\n",
    "import torch.nn.functional as F\n",
    "import torch.optim as optim\n",
    "import torchvision as tv\n",
    "import torchvision.models as models\n",
    "from torch.utils.data import DataLoader\n",
    "import foolbox\n",
    "from foolbox.models import PyTorchModel"
   ]
  },
  {
   "cell_type": "code",
   "execution_count": 27,
   "metadata": {},
   "outputs": [
    {
     "name": "stdout",
     "output_type": "stream",
     "text": "cuda:0\n6\n"
    }
   ],
   "source": [
    "device = torch.device('cuda:0' if torch.cuda.is_available() else 'cpu')\n",
    "print(device)\n",
    "\n",
    "num_workers = os.cpu_count()\n",
    "print(num_workers)"
   ]
  },
  {
   "cell_type": "code",
   "execution_count": 28,
   "metadata": {},
   "outputs": [],
   "source": [
    "root = os.path.join('.', 'dataset_root')\n",
    "mean, std = [0.13066046], [0.30150425] # based on training set\n",
    "batch_size = 64\n",
    "lr = 0.01\n",
    "momentum=0.9\n",
    "step_size=10\n",
    "gamma=0.1\n",
    "epochs = 20\n",
    "model_path = 'mnist_cnn.pt'"
   ]
  },
  {
   "cell_type": "code",
   "execution_count": 29,
   "metadata": {},
   "outputs": [],
   "source": [
    "transform = tv.transforms.Compose([\n",
    "        tv.transforms.ToTensor(),\n",
    "        tv.transforms.Normalize(mean, std)])\n",
    "train_dataset = tv.datasets.MNIST(\n",
    "    root,\n",
    "    train=True, \n",
    "    download=True,\n",
    "    transform=transform)\n",
    "test_dataset = tv.datasets.MNIST(\n",
    "    root,\n",
    "    train=False, \n",
    "    download=True,\n",
    "    transform=transform)\n",
    "\n",
    "train_loader = DataLoader(\n",
    "    train_dataset,\n",
    "    batch_size=batch_size,\n",
    "    shuffle=True,\n",
    "    num_workers=num_workers\n",
    ")\n",
    "test_loader = DataLoader(\n",
    "    test_dataset,\n",
    "    batch_size=batch_size,\n",
    "    shuffle=True,\n",
    "    num_workers=num_workers\n",
    ")"
   ]
  },
  {
   "cell_type": "code",
   "execution_count": 30,
   "metadata": {},
   "outputs": [],
   "source": [
    "# https://foolbox.readthedocs.io/en/stable/modules/models.html#foolbox.models.PyTorchModel\n",
    "# \"It should predict logits or log-probabilities, i.e. predictions without the softmax.\"\n",
    "class Net(nn.Module):\n",
    "    def __init__(self):\n",
    "        super(Net, self).__init__()\n",
    "        self.conv1 = nn.Conv2d(1, 32, 3, 1)\n",
    "        self.conv2 = nn.Conv2d(32, 64, 3, 1)\n",
    "        self.dropout1 = nn.Dropout2d(0.25)\n",
    "        self.dropout2 = nn.Dropout2d(0.5)\n",
    "        self.fc1 = nn.Linear(9216, 128)\n",
    "        self.fc2 = nn.Linear(128, 10)\n",
    "    \n",
    "    def forward(self, x):\n",
    "        x = self.conv1(x)\n",
    "        x = F.relu(x)\n",
    "        x = self.conv2(x)\n",
    "        x = F.max_pool2d(x, 2)\n",
    "        x = self.dropout1(x)\n",
    "        x = torch.flatten(x, 1)\n",
    "        x = self.fc1(x)\n",
    "        x = F.relu(x)\n",
    "        x = self.dropout2(x)\n",
    "        x = self.fc2(x)\n",
    "        # remove the softmax layer\n",
    "        output = F.log_softmax(x, dim=1)\n",
    "        return x"
   ]
  },
  {
   "cell_type": "code",
   "execution_count": 31,
   "metadata": {},
   "outputs": [],
   "source": [
    "model = Net()\n",
    "model.load_state_dict(torch.load(model_path))\n",
    "model.eval()\n",
    "model = model.to(device)"
   ]
  },
  {
   "cell_type": "code",
   "execution_count": 32,
   "metadata": {},
   "outputs": [],
   "source": [
    "def validate(model, loader):\n",
    "    model.eval()\n",
    "    total_loss = 0.\n",
    "    corrects = 0.\n",
    "    \n",
    "    with torch.no_grad():\n",
    "        for x, y in loader:\n",
    "            x = x.to(device)\n",
    "            y = y.to(device)\n",
    "            batch_size = x.size(0)\n",
    "            output = model(x)\n",
    "            # this log function is not suitable\n",
    "            loss = F.nll_loss(output, y)\n",
    "            total_loss += loss.item() * batch_size\n",
    "            preds = output.max(1, keepdim=True)[1]\n",
    "            corrects += preds.eq(y.view_as(preds)).sum().item()\n",
    "    \n",
    "    n = len(loader.dataset)\n",
    "    total_loss = total_loss / n\n",
    "    accuracy = corrects / n\n",
    "    return total_loss, accuracy"
   ]
  },
  {
   "cell_type": "code",
   "execution_count": 33,
   "metadata": {},
   "outputs": [
    {
     "name": "stdout",
     "output_type": "stream",
     "text": "Test Loss: -21.2682 Accuracy: 99.1000%\n"
    }
   ],
   "source": [
    "# TODO: loss is NOT correct!\n",
    "va_loss, va_acc = validate(model, test_loader)\n",
    "print('Test Loss: {:.4f} Accuracy: {:.4f}%'.format(va_loss, va_acc*100.))"
   ]
  },
  {
   "cell_type": "code",
   "execution_count": 34,
   "metadata": {},
   "outputs": [
    {
     "name": "stdout",
     "output_type": "stream",
     "text": "torch.Size([64, 10])\ntensor([[ 2.3710e+01, -8.0733e+00,  1.9657e-02, -1.0803e+01, -7.6144e+00,\n          1.7828e-01,  7.6318e+00, -7.5327e+00, -1.0084e+00,  2.8643e+00],\n        [-3.4426e+00,  2.1216e+01,  1.6238e-01, -6.1112e+00,  3.0153e+00,\n         -3.4610e+00, -1.0369e+00,  2.0348e+00, -6.7121e-01, -9.1889e+00],\n        [-6.1461e+00,  5.3426e+00,  6.3487e+00,  4.0475e+00, -4.8787e+00,\n         -1.0792e+01, -1.4921e+01,  2.0808e+01, -3.6810e+00,  1.2887e+00],\n        [ 6.3932e-01, -6.5975e+00, -1.1331e+01,  2.4911e+00, -8.9728e+00,\n          2.3088e+01, -2.3571e+00, -2.1367e+00, -8.2435e-01,  7.5108e+00],\n        [-1.0237e+01,  1.8211e+00, -5.1365e+00, -4.3989e+00,  2.6865e+01,\n         -5.0445e+00, -8.6280e+00,  2.9588e+00, -1.8095e+00,  6.2504e+00]],\n       device='cuda:0', grad_fn=<SliceBackward>)\n"
    }
   ],
   "source": [
    "x, y = next(iter(test_loader))\n",
    "x = x.to(device)\n",
    "y = y.to(device)\n",
    "output = model(x)\n",
    "print(output.size())\n",
    "print(output[:5])"
   ]
  },
  {
   "cell_type": "code",
   "execution_count": 35,
   "metadata": {},
   "outputs": [],
   "source": [
    "preprocessing = {'mean': mean, 'std': std, 'axis': -1}  # for single channel\n",
    "fmodel = PyTorchModel(\n",
    "    model, \n",
    "    bounds=(0, 1), \n",
    "    num_classes=10, \n",
    "    preprocessing=preprocessing,\n",
    "    channel_axis=1,\n",
    "    device=device)"
   ]
  },
  {
   "cell_type": "code",
   "execution_count": 36,
   "metadata": {},
   "outputs": [
    {
     "name": "stdout",
     "output_type": "stream",
     "text": "(64, 1, 28, 28) (64,)\n"
    }
   ],
   "source": [
    "images, labels = next(iter(test_loader))\n",
    "images = images.numpy()\n",
    "labels = labels.numpy()\n",
    "print(images.shape, labels.shape)\n",
    "assert type(images) == np.ndarray"
   ]
  },
  {
   "cell_type": "code",
   "execution_count": 37,
   "metadata": {},
   "outputs": [
    {
     "name": "stdout",
     "output_type": "stream",
     "text": "(64, 10)\n0.96875\n"
    }
   ],
   "source": [
    "output = fmodel.forward(images)\n",
    "pred = output.argmax(axis=-1)\n",
    "print(output.shape)\n",
    "accuracy = np.mean(pred == labels)\n",
    "print(accuracy)"
   ]
  },
  {
   "cell_type": "code",
   "execution_count": 38,
   "metadata": {},
   "outputs": [
    {
     "name": "stdout",
     "output_type": "stream",
     "text": "(64, 1, 28, 28)\nfloat32\n"
    }
   ],
   "source": [
    "images = images * std + mean\n",
    "images = np.clip(images, 0, 1)\n",
    "print(images.shape)\n",
    "images = images.astype(np.float32)\n",
    "print(images.dtype)"
   ]
  },
  {
   "cell_type": "code",
   "execution_count": 39,
   "metadata": {},
   "outputs": [
    {
     "name": "stdout",
     "output_type": "stream",
     "text": "(28, 28)\n"
    },
    {
     "data": {
      "image/png": "[encoded data removed]",
      "image/svg+xml": "<?xml version=\"1.0\" encoding=\"utf-8\" standalone=\"no\"?>\n<!DOCTYPE svg PUBLIC \"-//W3C//DTD SVG 1.1//EN\"\n  \"http://www.w3.org/Graphics/SVG/1.1/DTD/svg11.dtd\">\n<!-- Created with matplotlib (https://matplotlib.org/) -->\n<svg height=\"357.238125pt\" version=\"1.1\" viewBox=\"0 0 360.285 357.238125\" width=\"360.285pt\" xmlns=\"http://www.w3.org/2000/svg\" xmlns:xlink=\"http://www.w3.org/1999/xlink\">\n <defs>\n  <style type=\"text/css\">\n*{stroke-linecap:butt;stroke-linejoin:round;}\n  </style>\n </defs>\n <g id=\"figure_1\">\n  <g id=\"patch_1\">\n   <path d=\"M 0 357.238125 \nL 360.285 357.238125 \nL 360.285 0 \nL 0 0 \nz\n\" style=\"fill:none;\"/>\n  </g>\n  <g id=\"axes_1\">\n   <g id=\"patch_2\">\n    <path d=\"M 26.925 333.36 \nL 353.085 333.36 \nL 353.085 7.2 \nL 26.925 7.2 \nz\n\" style=\"fill:#ffffff;\"/>\n   </g>\n   <g clip-path=\"url(#p06783d557d)\">\n    <image height=\"327\" id=\"image21f76d4417\" transform=\"scale(1 -1)translate(0 -327)\" width=\"327\" x=\"26.925\" xlink:href=\"data:image/png;base64,\niVBORw0KGgoAAAANSUhEUgAAAUcAAAFHCAYAAAAySY5rAAAABHNCSVQICAgIfAhkiAAABoxJREFUeJzt3d1NXFcUgNFJlC74acOM3QaD27DBZQBTB+A2bOhjcB3Oc5TvYbbjK5iw1vPW0RGDPp2XrfvHarX6uQLgH/586QsAvEbiCBDEESCII0AQR4AgjgBBHAGCOAIEcQQI4ggQxBEgiCNAEEeAII4AQRwBgjgCBHEECOIIEMQRIIgjQBBHgCCOAEEcAYI4AgRxBAjiCBDEESCII0AQR4AgjgBBHAGCOAIEcQQI4ggQ/nrpC/wX9/f3e88+Pj6Ozv769etofrfbjeaB183LESCII0AQR4AgjgBBHAGCOAIEcQQI4ggQxBEgiCNAEEeA8Mdqtfr50pf4VT9/vp6rr9frvWefnp4WvAnwO3g5AgRxBAjiCBDEESCII0AQR4AgjgBBHAGCOAIEcQQIB70+uOSnWTebzWj++Ph479ntdjs6ezoP/HdejgBBHAGCOAIEcQQI4ggQxBEgiCNAEEeAII4AQRwBgjgChIPerT45Odl7dvLp1F/x7t27vWcvLy8XvMnsfHvb0LwcAYI4AgRxBAjiCBDEESCII0AQR4AgjgBBHAGCOAIEcQQIB71bvaTJ3vZqtVrtdru9Zy8uLkZnX19fj+Ynd59+z/v5+Xk0f3V1tffs5G8IS/NyBAjiCBDEESCII0AQR4AgjgBBHAGCOAIEcQQI4ggQrA/+JpOVvaOjowVvMl8JXNLt7e3es5NVQ1ialyNAEEeAII4AQRwBgjgCBHEECOIIEMQRIIgjQBBHgCCOAMFu9W8y2a0+Pz8fnX18fDya32w2e89OP0G7pOlO+Pv37xe6CXg5AiRxBAjiCBDEESCII0AQR4AgjgBBHAGCOAIEcQQI4ggQ7Fa/gOk+883NzWh+sou9Xq9HZ78mu91uNP/hw4fFzn5NPn/+PJpf8n/g4uJisbOX5uUIEMQRIIgjQBBHgCCOAEEcAYI4AgRxBAjiCBDEESBYH/wfmqwn3t3djc5+K+uG2+12dPaPHz9G80dHR6P5yUrg0p/bvby83Ht2+nd8TbwcAYI4AgRxBAjiCBDEESCII0AQR4AgjgBBHAGCOAIEcQQIdqvfuLOzs9H8/f39aH7pPV/+bfpZ2ennU5+enkbzh8rLESCII0AQR4AgjgBBHAGCOAIEcQQI4ggQxBEgiCNAEEeAYLeakemu9KdPn/aenX4T+5C/oT11enq69+x0t5rm5QgQxBEgiCNAEEeAII4AQRwBgjgCBHEECOIIEMQRIIgjQLBbzcGafnP78vJy79nNZjO9zqI+fvy49+z02+I0L0eAII4AQRwBgjgCBHEECOIIEMQRIIgjQBBHgCCOAMH6IISbm5vR/GQ18Vc8PDzsPXtxcbHgTd4OL0eAII4AQRwBgjgCBHEECOIIEMQRIIgjQBBHgCCOAEEcAYLdaggnJyej+W/fvi16/m6323t2u92Ozp7OvxVejgBBHAGCOAIEcQQI4ggQxBEgiCNAEEeAII4AQRwBgjgCBLvVL2D6XeHr6+vR/GRvd7Kzu1qtVl++fBnN39/fj+YP1fQ3vbu7W+gm89/09PR0oZscNi9HgCCOAEEcAYI4AgRxBAjiCBDEESCII0AQR4AgjgDB+uALmK6anZ+fj+aPj4/3nl2v16OzpyarbM/Pz6OzHx8fp9fZ28PDw2j+6elpNP/9+/fR/JK/03R9cLqeeKi8HAGCOAIEcQQI4ggQxBEgiCNAEEeAII4AQRwBgjgCBHEECHar37jJZ1xXq/me92QneLPZjM6m3d7ejuavrq4Wuslh83IECOIIEMQRIIgjQBBHgCCOAEEcAYI4AgRxBAjiCBDEESDYreZgnZ2djeYn32ee7pBPTffIJ/vSdqV/Dy9HgCCOAEEcAYI4AgRxBAjiCBDEESCII0AQR4AgjgDB+iBA8HIECOIIEMQRIIgjQBBHgCCOAEEcAYI4AgRxBAjiCBDEESCII0AQR4AgjgBBHAGCOAIEcQQI4ggQxBEgiCNAEEeAII4AQRwBgjgCBHEECOIIEMQRIIgjQBBHgCCOAEEcAYI4AgRxBAjiCBDEESCII0AQR4AgjgBBHAGCOAIEcQQI4ggQxBEgiCNAEEeAII4AQRwBgjgCBHEECOIIEMQRIIgjQBBHgCCOAEEcAYI4AgRxBAjiCBDEESCII0AQR4AgjgBBHAGCOAIEcQQI4ggQxBEgiCNAEEeAII4AQRwBgjgCBHEECOIIEMQRIIgjQBBHgCCOAEEcAYI4AgRxBAh/A1OqvWusbDpRAAAAAElFTkSuQmCC\" y=\"-6.36\"/>\n   </g>\n   <g id=\"matplotlib.axis_1\">\n    <g id=\"xtick_1\">\n     <g id=\"line2d_1\">\n      <defs>\n       <path d=\"M 0 0 \nL 0 3.5 \n\" id=\"m6af5aef2c9\" style=\"stroke:#000000;stroke-width:0.8;\"/>\n      </defs>\n      <g>\n       <use style=\"stroke:#000000;stroke-width:0.8;\" x=\"32.749286\" xlink:href=\"#m6af5aef2c9\" y=\"333.36\"/>\n      </g>\n     </g>\n     <g id=\"text_1\">\n      <!-- 0 -->\n      <defs>\n       <path d=\"M 31.78125 66.40625 \nQ 24.171875 66.40625 20.328125 58.90625 \nQ 16.5 51.421875 16.5 36.375 \nQ 16.5 21.390625 20.328125 13.890625 \nQ 24.171875 6.390625 31.78125 6.390625 \nQ 39.453125 6.390625 43.28125 13.890625 \nQ 47.125 21.390625 47.125 36.375 \nQ 47.125 51.421875 43.28125 58.90625 \nQ 39.453125 66.40625 31.78125 66.40625 \nz\nM 31.78125 74.21875 \nQ 44.046875 74.21875 50.515625 64.515625 \nQ 56.984375 54.828125 56.984375 36.375 \nQ 56.984375 17.96875 50.515625 8.265625 \nQ 44.046875 -1.421875 31.78125 -1.421875 \nQ 19.53125 -1.421875 13.0625 8.265625 \nQ 6.59375 17.96875 6.59375 36.375 \nQ 6.59375 54.828125 13.0625 64.515625 \nQ 19.53125 74.21875 31.78125 74.21875 \nz\n\" id=\"DejaVuSans-48\"/>\n      </defs>\n      <g transform=\"translate(29.568036 347.958438)scale(0.1 -0.1)\">\n       <use xlink:href=\"#DejaVuSans-48\"/>\n      </g>\n     </g>\n    </g>\n    <g id=\"xtick_2\">\n     <g id=\"line2d_2\">\n      <g>\n       <use style=\"stroke:#000000;stroke-width:0.8;\" x=\"90.992143\" xlink:href=\"#m6af5aef2c9\" y=\"333.36\"/>\n      </g>\n     </g>\n     <g id=\"text_2\">\n      <!-- 5 -->\n      <defs>\n       <path d=\"M 10.796875 72.90625 \nL 49.515625 72.90625 \nL 49.515625 64.59375 \nL 19.828125 64.59375 \nL 19.828125 46.734375 \nQ 21.96875 47.46875 24.109375 47.828125 \nQ 26.265625 48.1875 28.421875 48.1875 \nQ 40.625 48.1875 47.75 41.5 \nQ 54.890625 34.8125 54.890625 23.390625 \nQ 54.890625 11.625 47.5625 5.09375 \nQ 40.234375 -1.421875 26.90625 -1.421875 \nQ 22.3125 -1.421875 17.546875 -0.640625 \nQ 12.796875 0.140625 7.71875 1.703125 \nL 7.71875 11.625 \nQ 12.109375 9.234375 16.796875 8.0625 \nQ 21.484375 6.890625 26.703125 6.890625 \nQ 35.15625 6.890625 40.078125 11.328125 \nQ 45.015625 15.765625 45.015625 23.390625 \nQ 45.015625 31 40.078125 35.4375 \nQ 35.15625 39.890625 26.703125 39.890625 \nQ 22.75 39.890625 18.8125 39.015625 \nQ 14.890625 38.140625 10.796875 36.28125 \nz\n\" id=\"DejaVuSans-53\"/>\n      </defs>\n      <g transform=\"translate(87.810893 347.958438)scale(0.1 -0.1)\">\n       <use xlink:href=\"#DejaVuSans-53\"/>\n      </g>\n     </g>\n    </g>\n    <g id=\"xtick_3\">\n     <g id=\"line2d_3\">\n      <g>\n       <use style=\"stroke:#000000;stroke-width:0.8;\" x=\"149.235\" xlink:href=\"#m6af5aef2c9\" y=\"333.36\"/>\n      </g>\n     </g>\n     <g id=\"text_3\">\n      <!-- 10 -->\n      <defs>\n       <path d=\"M 12.40625 8.296875 \nL 28.515625 8.296875 \nL 28.515625 63.921875 \nL 10.984375 60.40625 \nL 10.984375 69.390625 \nL 28.421875 72.90625 \nL 38.28125 72.90625 \nL 38.28125 8.296875 \nL 54.390625 8.296875 \nL 54.390625 0 \nL 12.40625 0 \nz\n\" id=\"DejaVuSans-49\"/>\n      </defs>\n      <g transform=\"translate(142.8725 347.958438)scale(0.1 -0.1)\">\n       <use xlink:href=\"#DejaVuSans-49\"/>\n       <use x=\"63.623047\" xlink:href=\"#DejaVuSans-48\"/>\n      </g>\n     </g>\n    </g>\n    <g id=\"xtick_4\">\n     <g id=\"line2d_4\">\n      <g>\n       <use style=\"stroke:#000000;stroke-width:0.8;\" x=\"207.477857\" xlink:href=\"#m6af5aef2c9\" y=\"333.36\"/>\n      </g>\n     </g>\n     <g id=\"text_4\">\n      <!-- 15 -->\n      <g transform=\"translate(201.115357 347.958438)scale(0.1 -0.1)\">\n       <use xlink:href=\"#DejaVuSans-49\"/>\n       <use x=\"63.623047\" xlink:href=\"#DejaVuSans-53\"/>\n      </g>\n     </g>\n    </g>\n    <g id=\"xtick_5\">\n     <g id=\"line2d_5\">\n      <g>\n       <use style=\"stroke:#000000;stroke-width:0.8;\" x=\"265.720714\" xlink:href=\"#m6af5aef2c9\" y=\"333.36\"/>\n      </g>\n     </g>\n     <g id=\"text_5\">\n      <!-- 20 -->\n      <defs>\n       <path d=\"M 19.1875 8.296875 \nL 53.609375 8.296875 \nL 53.609375 0 \nL 7.328125 0 \nL 7.328125 8.296875 \nQ 12.9375 14.109375 22.625 23.890625 \nQ 32.328125 33.6875 34.8125 36.53125 \nQ 39.546875 41.84375 41.421875 45.53125 \nQ 43.3125 49.21875 43.3125 52.78125 \nQ 43.3125 58.59375 39.234375 62.25 \nQ 35.15625 65.921875 28.609375 65.921875 \nQ 23.96875 65.921875 18.8125 64.3125 \nQ 13.671875 62.703125 7.8125 59.421875 \nL 7.8125 69.390625 \nQ 13.765625 71.78125 18.9375 73 \nQ 24.125 74.21875 28.421875 74.21875 \nQ 39.75 74.21875 46.484375 68.546875 \nQ 53.21875 62.890625 53.21875 53.421875 \nQ 53.21875 48.921875 51.53125 44.890625 \nQ 49.859375 40.875 45.40625 35.40625 \nQ 44.1875 33.984375 37.640625 27.21875 \nQ 31.109375 20.453125 19.1875 8.296875 \nz\n\" id=\"DejaVuSans-50\"/>\n      </defs>\n      <g transform=\"translate(259.358214 347.958438)scale(0.1 -0.1)\">\n       <use xlink:href=\"#DejaVuSans-50\"/>\n       <use x=\"63.623047\" xlink:href=\"#DejaVuSans-48\"/>\n      </g>\n     </g>\n    </g>\n    <g id=\"xtick_6\">\n     <g id=\"line2d_6\">\n      <g>\n       <use style=\"stroke:#000000;stroke-width:0.8;\" x=\"323.963571\" xlink:href=\"#m6af5aef2c9\" y=\"333.36\"/>\n      </g>\n     </g>\n     <g id=\"text_6\">\n      <!-- 25 -->\n      <g transform=\"translate(317.601071 347.958438)scale(0.1 -0.1)\">\n       <use xlink:href=\"#DejaVuSans-50\"/>\n       <use x=\"63.623047\" xlink:href=\"#DejaVuSans-53\"/>\n      </g>\n     </g>\n    </g>\n   </g>\n   <g id=\"matplotlib.axis_2\">\n    <g id=\"ytick_1\">\n     <g id=\"line2d_7\">\n      <defs>\n       <path d=\"M 0 0 \nL -3.5 0 \n\" id=\"me187c1e9d4\" style=\"stroke:#000000;stroke-width:0.8;\"/>\n      </defs>\n      <g>\n       <use style=\"stroke:#000000;stroke-width:0.8;\" x=\"26.925\" xlink:href=\"#me187c1e9d4\" y=\"13.024286\"/>\n      </g>\n     </g>\n     <g id=\"text_7\">\n      <!-- 0 -->\n      <g transform=\"translate(13.5625 16.823504)scale(0.1 -0.1)\">\n       <use xlink:href=\"#DejaVuSans-48\"/>\n      </g>\n     </g>\n    </g>\n    <g id=\"ytick_2\">\n     <g id=\"line2d_8\">\n      <g>\n       <use style=\"stroke:#000000;stroke-width:0.8;\" x=\"26.925\" xlink:href=\"#me187c1e9d4\" y=\"71.267143\"/>\n      </g>\n     </g>\n     <g id=\"text_8\">\n      <!-- 5 -->\n      <g transform=\"translate(13.5625 75.066362)scale(0.1 -0.1)\">\n       <use xlink:href=\"#DejaVuSans-53\"/>\n      </g>\n     </g>\n    </g>\n    <g id=\"ytick_3\">\n     <g id=\"line2d_9\">\n      <g>\n       <use style=\"stroke:#000000;stroke-width:0.8;\" x=\"26.925\" xlink:href=\"#me187c1e9d4\" y=\"129.51\"/>\n      </g>\n     </g>\n     <g id=\"text_9\">\n      <!-- 10 -->\n      <g transform=\"translate(7.2 133.309219)scale(0.1 -0.1)\">\n       <use xlink:href=\"#DejaVuSans-49\"/>\n       <use x=\"63.623047\" xlink:href=\"#DejaVuSans-48\"/>\n      </g>\n     </g>\n    </g>\n    <g id=\"ytick_4\">\n     <g id=\"line2d_10\">\n      <g>\n       <use style=\"stroke:#000000;stroke-width:0.8;\" x=\"26.925\" xlink:href=\"#me187c1e9d4\" y=\"187.752857\"/>\n      </g>\n     </g>\n     <g id=\"text_10\">\n      <!-- 15 -->\n      <g transform=\"translate(7.2 191.552076)scale(0.1 -0.1)\">\n       <use xlink:href=\"#DejaVuSans-49\"/>\n       <use x=\"63.623047\" xlink:href=\"#DejaVuSans-53\"/>\n      </g>\n     </g>\n    </g>\n    <g id=\"ytick_5\">\n     <g id=\"line2d_11\">\n      <g>\n       <use style=\"stroke:#000000;stroke-width:0.8;\" x=\"26.925\" xlink:href=\"#me187c1e9d4\" y=\"245.995714\"/>\n      </g>\n     </g>\n     <g id=\"text_11\">\n      <!-- 20 -->\n      <g transform=\"translate(7.2 249.794933)scale(0.1 -0.1)\">\n       <use xlink:href=\"#DejaVuSans-50\"/>\n       <use x=\"63.623047\" xlink:href=\"#DejaVuSans-48\"/>\n      </g>\n     </g>\n    </g>\n    <g id=\"ytick_6\">\n     <g id=\"line2d_12\">\n      <g>\n       <use style=\"stroke:#000000;stroke-width:0.8;\" x=\"26.925\" xlink:href=\"#me187c1e9d4\" y=\"304.238571\"/>\n      </g>\n     </g>\n     <g id=\"text_12\">\n      <!-- 25 -->\n      <g transform=\"translate(7.2 308.03779)scale(0.1 -0.1)\">\n       <use xlink:href=\"#DejaVuSans-50\"/>\n       <use x=\"63.623047\" xlink:href=\"#DejaVuSans-53\"/>\n      </g>\n     </g>\n    </g>\n   </g>\n   <g id=\"patch_3\">\n    <path d=\"M 26.925 333.36 \nL 26.925 7.2 \n\" style=\"fill:none;stroke:#000000;stroke-linecap:square;stroke-linejoin:miter;stroke-width:0.8;\"/>\n   </g>\n   <g id=\"patch_4\">\n    <path d=\"M 353.085 333.36 \nL 353.085 7.2 \n\" style=\"fill:none;stroke:#000000;stroke-linecap:square;stroke-linejoin:miter;stroke-width:0.8;\"/>\n   </g>\n   <g id=\"patch_5\">\n    <path d=\"M 26.925 333.36 \nL 353.085 333.36 \n\" style=\"fill:none;stroke:#000000;stroke-linecap:square;stroke-linejoin:miter;stroke-width:0.8;\"/>\n   </g>\n   <g id=\"patch_6\">\n    <path d=\"M 26.925 7.2 \nL 353.085 7.2 \n\" style=\"fill:none;stroke:#000000;stroke-linecap:square;stroke-linejoin:miter;stroke-width:0.8;\"/>\n   </g>\n  </g>\n </g>\n <defs>\n  <clipPath id=\"p06783d557d\">\n   <rect height=\"326.16\" width=\"326.16\" x=\"26.925\" y=\"7.2\"/>\n  </clipPath>\n </defs>\n</svg>\n",
      "text/plain": "<Figure size 432x432 with 1 Axes>"
     },
     "metadata": {
      "needs_background": "light"
     },
     "output_type": "display_data"
    }
   ],
   "source": [
    "image = np.squeeze(np.transpose(images[0], (1, 2, 0)))\n",
    "print(image.shape)\n",
    "\n",
    "plt.figure(figsize=[6, 6])\n",
    "plt.imshow(image, cmap='gray', vmin=0., vmax=1.)\n",
    "plt.show()"
   ]
  },
  {
   "cell_type": "code",
   "execution_count": 40,
   "metadata": {},
   "outputs": [
    {
     "name": "stdout",
     "output_type": "stream",
     "text": "(64, 1, 28, 28)\n0.0625\n"
    }
   ],
   "source": [
    "attack = foolbox.attacks.FGSM(\n",
    "    fmodel,\n",
    "    criterion=foolbox.criteria.Misclassification()\n",
    ")\n",
    "adversarials = attack(images, labels, max_epsilon=0.15)\n",
    "print(adversarials.shape)\n",
    "print(np.mean(fmodel.forward(adversarials).argmax(axis=-1) == labels))"
   ]
  },
  {
   "cell_type": "code",
   "execution_count": 41,
   "metadata": {},
   "outputs": [
    {
     "name": "stdout",
     "output_type": "stream",
     "text": "(28, 28)\n(28, 28)\n0.0 0.0\n(28, 28)\n"
    },
    {
     "data": {
      "image/png": "[encoded data removed]",
      "image/svg+xml": "<?xml version=\"1.0\" encoding=\"utf-8\" standalone=\"no\"?>\n<!DOCTYPE svg PUBLIC \"-//W3C//DTD SVG 1.1//EN\"\n  \"http://www.w3.org/Graphics/SVG/1.1/DTD/svg11.dtd\">\n<!-- Created with matplotlib (https://matplotlib.org/) -->\n<svg height=\"326.48989pt\" version=\"1.1\" viewBox=\"0 0 1038.525 326.48989\" width=\"1038.525pt\" xmlns=\"http://www.w3.org/2000/svg\" xmlns:xlink=\"http://www.w3.org/1999/xlink\">\n <defs>\n  <style type=\"text/css\">\n*{stroke-linecap:butt;stroke-linejoin:round;}\n  </style>\n </defs>\n <g id=\"figure_1\">\n  <g id=\"patch_1\">\n   <path d=\"M 0 326.48989 \nL 1038.525 326.48989 \nL 1038.525 0 \nL 0 0 \nz\n\" style=\"fill:none;\"/>\n  </g>\n  <g id=\"axes_1\">\n   <g id=\"patch_2\">\n    <path d=\"M 26.925 302.611765 \nL 322.336765 302.611765 \nL 322.336765 7.2 \nL 26.925 7.2 \nz\n\" style=\"fill:#ffffff;\"/>\n   </g>\n   <g clip-path=\"url(#p453c46d0d2)\">\n    <image height=\"296\" id=\"imageb77b91aedb\" transform=\"scale(1 -1)translate(0 -296)\" width=\"296\" x=\"26.925\" xlink:href=\"data:image/png;base64,\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\" y=\"-6.611765\"/>\n   </g>\n   <g id=\"matplotlib.axis_1\">\n    <g id=\"xtick_1\">\n     <g id=\"line2d_1\">\n      <defs>\n       <path d=\"M 0 0 \nL 0 3.5 \n\" id=\"m9437fef6e7\" style=\"stroke:#000000;stroke-width:0.8;\"/>\n      </defs>\n      <g>\n       <use style=\"stroke:#000000;stroke-width:0.8;\" x=\"32.20021\" xlink:href=\"#m9437fef6e7\" y=\"302.611765\"/>\n      </g>\n     </g>\n     <g id=\"text_1\">\n      <!-- 0 -->\n      <defs>\n       <path d=\"M 31.78125 66.40625 \nQ 24.171875 66.40625 20.328125 58.90625 \nQ 16.5 51.421875 16.5 36.375 \nQ 16.5 21.390625 20.328125 13.890625 \nQ 24.171875 6.390625 31.78125 6.390625 \nQ 39.453125 6.390625 43.28125 13.890625 \nQ 47.125 21.390625 47.125 36.375 \nQ 47.125 51.421875 43.28125 58.90625 \nQ 39.453125 66.40625 31.78125 66.40625 \nz\nM 31.78125 74.21875 \nQ 44.046875 74.21875 50.515625 64.515625 \nQ 56.984375 54.828125 56.984375 36.375 \nQ 56.984375 17.96875 50.515625 8.265625 \nQ 44.046875 -1.421875 31.78125 -1.421875 \nQ 19.53125 -1.421875 13.0625 8.265625 \nQ 6.59375 17.96875 6.59375 36.375 \nQ 6.59375 54.828125 13.0625 64.515625 \nQ 19.53125 74.21875 31.78125 74.21875 \nz\n\" id=\"DejaVuSans-48\"/>\n      </defs>\n      <g transform=\"translate(29.01896 317.210202)scale(0.1 -0.1)\">\n       <use xlink:href=\"#DejaVuSans-48\"/>\n      </g>\n     </g>\n    </g>\n    <g id=\"xtick_2\">\n     <g id=\"line2d_2\">\n      <g>\n       <use style=\"stroke:#000000;stroke-width:0.8;\" x=\"84.952311\" xlink:href=\"#m9437fef6e7\" y=\"302.611765\"/>\n      </g>\n     </g>\n     <g id=\"text_2\">\n      <!-- 5 -->\n      <defs>\n       <path d=\"M 10.796875 72.90625 \nL 49.515625 72.90625 \nL 49.515625 64.59375 \nL 19.828125 64.59375 \nL 19.828125 46.734375 \nQ 21.96875 47.46875 24.109375 47.828125 \nQ 26.265625 48.1875 28.421875 48.1875 \nQ 40.625 48.1875 47.75 41.5 \nQ 54.890625 34.8125 54.890625 23.390625 \nQ 54.890625 11.625 47.5625 5.09375 \nQ 40.234375 -1.421875 26.90625 -1.421875 \nQ 22.3125 -1.421875 17.546875 -0.640625 \nQ 12.796875 0.140625 7.71875 1.703125 \nL 7.71875 11.625 \nQ 12.109375 9.234375 16.796875 8.0625 \nQ 21.484375 6.890625 26.703125 6.890625 \nQ 35.15625 6.890625 40.078125 11.328125 \nQ 45.015625 15.765625 45.015625 23.390625 \nQ 45.015625 31 40.078125 35.4375 \nQ 35.15625 39.890625 26.703125 39.890625 \nQ 22.75 39.890625 18.8125 39.015625 \nQ 14.890625 38.140625 10.796875 36.28125 \nz\n\" id=\"DejaVuSans-53\"/>\n      </defs>\n      <g transform=\"translate(81.771061 317.210202)scale(0.1 -0.1)\">\n       <use xlink:href=\"#DejaVuSans-53\"/>\n      </g>\n     </g>\n    </g>\n    <g id=\"xtick_3\">\n     <g id=\"line2d_3\">\n      <g>\n       <use style=\"stroke:#000000;stroke-width:0.8;\" x=\"137.704412\" xlink:href=\"#m9437fef6e7\" y=\"302.611765\"/>\n      </g>\n     </g>\n     <g id=\"text_3\">\n      <!-- 10 -->\n      <defs>\n       <path d=\"M 12.40625 8.296875 \nL 28.515625 8.296875 \nL 28.515625 63.921875 \nL 10.984375 60.40625 \nL 10.984375 69.390625 \nL 28.421875 72.90625 \nL 38.28125 72.90625 \nL 38.28125 8.296875 \nL 54.390625 8.296875 \nL 54.390625 0 \nL 12.40625 0 \nz\n\" id=\"DejaVuSans-49\"/>\n      </defs>\n      <g transform=\"translate(131.341912 317.210202)scale(0.1 -0.1)\">\n       <use xlink:href=\"#DejaVuSans-49\"/>\n       <use x=\"63.623047\" xlink:href=\"#DejaVuSans-48\"/>\n      </g>\n     </g>\n    </g>\n    <g id=\"xtick_4\">\n     <g id=\"line2d_4\">\n      <g>\n       <use style=\"stroke:#000000;stroke-width:0.8;\" x=\"190.456513\" xlink:href=\"#m9437fef6e7\" y=\"302.611765\"/>\n      </g>\n     </g>\n     <g id=\"text_4\">\n      <!-- 15 -->\n      <g transform=\"translate(184.094013 317.210202)scale(0.1 -0.1)\">\n       <use xlink:href=\"#DejaVuSans-49\"/>\n       <use x=\"63.623047\" xlink:href=\"#DejaVuSans-53\"/>\n      </g>\n     </g>\n    </g>\n    <g id=\"xtick_5\">\n     <g id=\"line2d_5\">\n      <g>\n       <use style=\"stroke:#000000;stroke-width:0.8;\" x=\"243.208613\" xlink:href=\"#m9437fef6e7\" y=\"302.611765\"/>\n      </g>\n     </g>\n     <g id=\"text_5\">\n      <!-- 20 -->\n      <defs>\n       <path d=\"M 19.1875 8.296875 \nL 53.609375 8.296875 \nL 53.609375 0 \nL 7.328125 0 \nL 7.328125 8.296875 \nQ 12.9375 14.109375 22.625 23.890625 \nQ 32.328125 33.6875 34.8125 36.53125 \nQ 39.546875 41.84375 41.421875 45.53125 \nQ 43.3125 49.21875 43.3125 52.78125 \nQ 43.3125 58.59375 39.234375 62.25 \nQ 35.15625 65.921875 28.609375 65.921875 \nQ 23.96875 65.921875 18.8125 64.3125 \nQ 13.671875 62.703125 7.8125 59.421875 \nL 7.8125 69.390625 \nQ 13.765625 71.78125 18.9375 73 \nQ 24.125 74.21875 28.421875 74.21875 \nQ 39.75 74.21875 46.484375 68.546875 \nQ 53.21875 62.890625 53.21875 53.421875 \nQ 53.21875 48.921875 51.53125 44.890625 \nQ 49.859375 40.875 45.40625 35.40625 \nQ 44.1875 33.984375 37.640625 27.21875 \nQ 31.109375 20.453125 19.1875 8.296875 \nz\n\" id=\"DejaVuSans-50\"/>\n      </defs>\n      <g transform=\"translate(236.846113 317.210202)scale(0.1 -0.1)\">\n       <use xlink:href=\"#DejaVuSans-50\"/>\n       <use x=\"63.623047\" xlink:href=\"#DejaVuSans-48\"/>\n      </g>\n     </g>\n    </g>\n    <g id=\"xtick_6\">\n     <g id=\"line2d_6\">\n      <g>\n       <use style=\"stroke:#000000;stroke-width:0.8;\" x=\"295.960714\" xlink:href=\"#m9437fef6e7\" y=\"302.611765\"/>\n      </g>\n     </g>\n     <g id=\"text_6\">\n      <!-- 25 -->\n      <g transform=\"translate(289.598214 317.210202)scale(0.1 -0.1)\">\n       <use xlink:href=\"#DejaVuSans-50\"/>\n       <use x=\"63.623047\" xlink:href=\"#DejaVuSans-53\"/>\n      </g>\n     </g>\n    </g>\n   </g>\n   <g id=\"matplotlib.axis_2\">\n    <g id=\"ytick_1\">\n     <g id=\"line2d_7\">\n      <defs>\n       <path d=\"M 0 0 \nL -3.5 0 \n\" id=\"m7b9ba53b84\" style=\"stroke:#000000;stroke-width:0.8;\"/>\n      </defs>\n      <g>\n       <use style=\"stroke:#000000;stroke-width:0.8;\" x=\"26.925\" xlink:href=\"#m7b9ba53b84\" y=\"12.47521\"/>\n      </g>\n     </g>\n     <g id=\"text_7\">\n      <!-- 0 -->\n      <g transform=\"translate(13.5625 16.274429)scale(0.1 -0.1)\">\n       <use xlink:href=\"#DejaVuSans-48\"/>\n      </g>\n     </g>\n    </g>\n    <g id=\"ytick_2\">\n     <g id=\"line2d_8\">\n      <g>\n       <use style=\"stroke:#000000;stroke-width:0.8;\" x=\"26.925\" xlink:href=\"#m7b9ba53b84\" y=\"65.227311\"/>\n      </g>\n     </g>\n     <g id=\"text_8\">\n      <!-- 5 -->\n      <g transform=\"translate(13.5625 69.02653)scale(0.1 -0.1)\">\n       <use xlink:href=\"#DejaVuSans-53\"/>\n      </g>\n     </g>\n    </g>\n    <g id=\"ytick_3\">\n     <g id=\"line2d_9\">\n      <g>\n       <use style=\"stroke:#000000;stroke-width:0.8;\" x=\"26.925\" xlink:href=\"#m7b9ba53b84\" y=\"117.979412\"/>\n      </g>\n     </g>\n     <g id=\"text_9\">\n      <!-- 10 -->\n      <g transform=\"translate(7.2 121.778631)scale(0.1 -0.1)\">\n       <use xlink:href=\"#DejaVuSans-49\"/>\n       <use x=\"63.623047\" xlink:href=\"#DejaVuSans-48\"/>\n      </g>\n     </g>\n    </g>\n    <g id=\"ytick_4\">\n     <g id=\"line2d_10\">\n      <g>\n       <use style=\"stroke:#000000;stroke-width:0.8;\" x=\"26.925\" xlink:href=\"#m7b9ba53b84\" y=\"170.731513\"/>\n      </g>\n     </g>\n     <g id=\"text_10\">\n      <!-- 15 -->\n      <g transform=\"translate(7.2 174.530731)scale(0.1 -0.1)\">\n       <use xlink:href=\"#DejaVuSans-49\"/>\n       <use x=\"63.623047\" xlink:href=\"#DejaVuSans-53\"/>\n      </g>\n     </g>\n    </g>\n    <g id=\"ytick_5\">\n     <g id=\"line2d_11\">\n      <g>\n       <use style=\"stroke:#000000;stroke-width:0.8;\" x=\"26.925\" xlink:href=\"#m7b9ba53b84\" y=\"223.483613\"/>\n      </g>\n     </g>\n     <g id=\"text_11\">\n      <!-- 20 -->\n      <g transform=\"translate(7.2 227.282832)scale(0.1 -0.1)\">\n       <use xlink:href=\"#DejaVuSans-50\"/>\n       <use x=\"63.623047\" xlink:href=\"#DejaVuSans-48\"/>\n      </g>\n     </g>\n    </g>\n    <g id=\"ytick_6\">\n     <g id=\"line2d_12\">\n      <g>\n       <use style=\"stroke:#000000;stroke-width:0.8;\" x=\"26.925\" xlink:href=\"#m7b9ba53b84\" y=\"276.235714\"/>\n      </g>\n     </g>\n     <g id=\"text_12\">\n      <!-- 25 -->\n      <g transform=\"translate(7.2 280.034933)scale(0.1 -0.1)\">\n       <use xlink:href=\"#DejaVuSans-50\"/>\n       <use x=\"63.623047\" xlink:href=\"#DejaVuSans-53\"/>\n      </g>\n     </g>\n    </g>\n   </g>\n   <g id=\"patch_3\">\n    <path d=\"M 26.925 302.611765 \nL 26.925 7.2 \n\" style=\"fill:none;stroke:#000000;stroke-linecap:square;stroke-linejoin:miter;stroke-width:0.8;\"/>\n   </g>\n   <g id=\"patch_4\">\n    <path d=\"M 322.336765 302.611765 \nL 322.336765 7.2 \n\" style=\"fill:none;stroke:#000000;stroke-linecap:square;stroke-linejoin:miter;stroke-width:0.8;\"/>\n   </g>\n   <g id=\"patch_5\">\n    <path d=\"M 26.925 302.611765 \nL 322.336765 302.611765 \n\" style=\"fill:none;stroke:#000000;stroke-linecap:square;stroke-linejoin:miter;stroke-width:0.8;\"/>\n   </g>\n   <g id=\"patch_6\">\n    <path d=\"M 26.925 7.2 \nL 322.336765 7.2 \n\" style=\"fill:none;stroke:#000000;stroke-linecap:square;stroke-linejoin:miter;stroke-width:0.8;\"/>\n   </g>\n  </g>\n  <g id=\"axes_2\">\n   <g id=\"patch_7\">\n    <path d=\"M 381.419118 302.611765 \nL 676.830882 302.611765 \nL 676.830882 7.2 \nL 381.419118 7.2 \nz\n\" style=\"fill:#ffffff;\"/>\n   </g>\n   <g clip-path=\"url(#p1dd7a54968)\">\n    <image height=\"296\" id=\"image23b53f59dd\" transform=\"scale(1 -1)translate(0 -296)\" width=\"296\" x=\"381.419118\" xlink:href=\"data:image/png;base64,\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\" y=\"-6.611765\"/>\n   </g>\n   <g id=\"matplotlib.axis_3\">\n    <g id=\"xtick_7\">\n     <g id=\"line2d_13\">\n      <g>\n       <use style=\"stroke:#000000;stroke-width:0.8;\" x=\"386.694328\" xlink:href=\"#m9437fef6e7\" y=\"302.611765\"/>\n      </g>\n     </g>\n     <g id=\"text_13\">\n      <!-- 0 -->\n      <g transform=\"translate(383.513078 317.210202)scale(0.1 -0.1)\">\n       <use xlink:href=\"#DejaVuSans-48\"/>\n      </g>\n     </g>\n    </g>\n    <g id=\"xtick_8\">\n     <g id=\"line2d_14\">\n      <g>\n       <use style=\"stroke:#000000;stroke-width:0.8;\" x=\"439.446429\" xlink:href=\"#m9437fef6e7\" y=\"302.611765\"/>\n      </g>\n     </g>\n     <g id=\"text_14\">\n      <!-- 5 -->\n      <g transform=\"translate(436.265179 317.210202)scale(0.1 -0.1)\">\n       <use xlink:href=\"#DejaVuSans-53\"/>\n      </g>\n     </g>\n    </g>\n    <g id=\"xtick_9\">\n     <g id=\"line2d_15\">\n      <g>\n       <use style=\"stroke:#000000;stroke-width:0.8;\" x=\"492.198529\" xlink:href=\"#m9437fef6e7\" y=\"302.611765\"/>\n      </g>\n     </g>\n     <g id=\"text_15\">\n      <!-- 10 -->\n      <g transform=\"translate(485.836029 317.210202)scale(0.1 -0.1)\">\n       <use xlink:href=\"#DejaVuSans-49\"/>\n       <use x=\"63.623047\" xlink:href=\"#DejaVuSans-48\"/>\n      </g>\n     </g>\n    </g>\n    <g id=\"xtick_10\">\n     <g id=\"line2d_16\">\n      <g>\n       <use style=\"stroke:#000000;stroke-width:0.8;\" x=\"544.95063\" xlink:href=\"#m9437fef6e7\" y=\"302.611765\"/>\n      </g>\n     </g>\n     <g id=\"text_16\">\n      <!-- 15 -->\n      <g transform=\"translate(538.58813 317.210202)scale(0.1 -0.1)\">\n       <use xlink:href=\"#DejaVuSans-49\"/>\n       <use x=\"63.623047\" xlink:href=\"#DejaVuSans-53\"/>\n      </g>\n     </g>\n    </g>\n    <g id=\"xtick_11\">\n     <g id=\"line2d_17\">\n      <g>\n       <use style=\"stroke:#000000;stroke-width:0.8;\" x=\"597.702731\" xlink:href=\"#m9437fef6e7\" y=\"302.611765\"/>\n      </g>\n     </g>\n     <g id=\"text_17\">\n      <!-- 20 -->\n      <g transform=\"translate(591.340231 317.210202)scale(0.1 -0.1)\">\n       <use xlink:href=\"#DejaVuSans-50\"/>\n       <use x=\"63.623047\" xlink:href=\"#DejaVuSans-48\"/>\n      </g>\n     </g>\n    </g>\n    <g id=\"xtick_12\">\n     <g id=\"line2d_18\">\n      <g>\n       <use style=\"stroke:#000000;stroke-width:0.8;\" x=\"650.454832\" xlink:href=\"#m9437fef6e7\" y=\"302.611765\"/>\n      </g>\n     </g>\n     <g id=\"text_18\">\n      <!-- 25 -->\n      <g transform=\"translate(644.092332 317.210202)scale(0.1 -0.1)\">\n       <use xlink:href=\"#DejaVuSans-50\"/>\n       <use x=\"63.623047\" xlink:href=\"#DejaVuSans-53\"/>\n      </g>\n     </g>\n    </g>\n   </g>\n   <g id=\"matplotlib.axis_4\">\n    <g id=\"ytick_7\">\n     <g id=\"line2d_19\">\n      <g>\n       <use style=\"stroke:#000000;stroke-width:0.8;\" x=\"381.419118\" xlink:href=\"#m7b9ba53b84\" y=\"12.47521\"/>\n      </g>\n     </g>\n     <g id=\"text_19\">\n      <!-- 0 -->\n      <g transform=\"translate(368.056618 16.274429)scale(0.1 -0.1)\">\n       <use xlink:href=\"#DejaVuSans-48\"/>\n      </g>\n     </g>\n    </g>\n    <g id=\"ytick_8\">\n     <g id=\"line2d_20\">\n      <g>\n       <use style=\"stroke:#000000;stroke-width:0.8;\" x=\"381.419118\" xlink:href=\"#m7b9ba53b84\" y=\"65.227311\"/>\n      </g>\n     </g>\n     <g id=\"text_20\">\n      <!-- 5 -->\n      <g transform=\"translate(368.056618 69.02653)scale(0.1 -0.1)\">\n       <use xlink:href=\"#DejaVuSans-53\"/>\n      </g>\n     </g>\n    </g>\n    <g id=\"ytick_9\">\n     <g id=\"line2d_21\">\n      <g>\n       <use style=\"stroke:#000000;stroke-width:0.8;\" x=\"381.419118\" xlink:href=\"#m7b9ba53b84\" y=\"117.979412\"/>\n      </g>\n     </g>\n     <g id=\"text_21\">\n      <!-- 10 -->\n      <g transform=\"translate(361.694118 121.778631)scale(0.1 -0.1)\">\n       <use xlink:href=\"#DejaVuSans-49\"/>\n       <use x=\"63.623047\" xlink:href=\"#DejaVuSans-48\"/>\n      </g>\n     </g>\n    </g>\n    <g id=\"ytick_10\">\n     <g id=\"line2d_22\">\n      <g>\n       <use style=\"stroke:#000000;stroke-width:0.8;\" x=\"381.419118\" xlink:href=\"#m7b9ba53b84\" y=\"170.731513\"/>\n      </g>\n     </g>\n     <g id=\"text_22\">\n      <!-- 15 -->\n      <g transform=\"translate(361.694118 174.530731)scale(0.1 -0.1)\">\n       <use xlink:href=\"#DejaVuSans-49\"/>\n       <use x=\"63.623047\" xlink:href=\"#DejaVuSans-53\"/>\n      </g>\n     </g>\n    </g>\n    <g id=\"ytick_11\">\n     <g id=\"line2d_23\">\n      <g>\n       <use style=\"stroke:#000000;stroke-width:0.8;\" x=\"381.419118\" xlink:href=\"#m7b9ba53b84\" y=\"223.483613\"/>\n      </g>\n     </g>\n     <g id=\"text_23\">\n      <!-- 20 -->\n      <g transform=\"translate(361.694118 227.282832)scale(0.1 -0.1)\">\n       <use xlink:href=\"#DejaVuSans-50\"/>\n       <use x=\"63.623047\" xlink:href=\"#DejaVuSans-48\"/>\n      </g>\n     </g>\n    </g>\n    <g id=\"ytick_12\">\n     <g id=\"line2d_24\">\n      <g>\n       <use style=\"stroke:#000000;stroke-width:0.8;\" x=\"381.419118\" xlink:href=\"#m7b9ba53b84\" y=\"276.235714\"/>\n      </g>\n     </g>\n     <g id=\"text_24\">\n      <!-- 25 -->\n      <g transform=\"translate(361.694118 280.034933)scale(0.1 -0.1)\">\n       <use xlink:href=\"#DejaVuSans-50\"/>\n       <use x=\"63.623047\" xlink:href=\"#DejaVuSans-53\"/>\n      </g>\n     </g>\n    </g>\n   </g>\n   <g id=\"patch_8\">\n    <path d=\"M 381.419118 302.611765 \nL 381.419118 7.2 \n\" style=\"fill:none;stroke:#000000;stroke-linecap:square;stroke-linejoin:miter;stroke-width:0.8;\"/>\n   </g>\n   <g id=\"patch_9\">\n    <path d=\"M 676.830882 302.611765 \nL 676.830882 7.2 \n\" style=\"fill:none;stroke:#000000;stroke-linecap:square;stroke-linejoin:miter;stroke-width:0.8;\"/>\n   </g>\n   <g id=\"patch_10\">\n    <path d=\"M 381.419118 302.611765 \nL 676.830882 302.611765 \n\" style=\"fill:none;stroke:#000000;stroke-linecap:square;stroke-linejoin:miter;stroke-width:0.8;\"/>\n   </g>\n   <g id=\"patch_11\">\n    <path d=\"M 381.419118 7.2 \nL 676.830882 7.2 \n\" style=\"fill:none;stroke:#000000;stroke-linecap:square;stroke-linejoin:miter;stroke-width:0.8;\"/>\n   </g>\n  </g>\n  <g id=\"axes_3\">\n   <g id=\"patch_12\">\n    <path d=\"M 735.913235 302.611765 \nL 1031.325 302.611765 \nL 1031.325 7.2 \nL 735.913235 7.2 \nz\n\" style=\"fill:#ffffff;\"/>\n   </g>\n   <g clip-path=\"url(#p84944f2436)\">\n    <image height=\"296\" id=\"image9814c441ed\" transform=\"scale(1 -1)translate(0 -296)\" width=\"296\" x=\"735.913235\" xlink:href=\"data:image/png;base64,\niVBORw0KGgoAAAANSUhEUgAAASgAAAEoCAYAAADrB2wZAAAABHNCSVQICAgIfAhkiAAAAWtJREFUeJztwTEBAAAAwqD1T20ND6AAAAAAAAAAAAAAAAAAAAAAAAAAAAAAAAAAAAAAAAAAAAAAAAAAAAAAAAAAAAAAAAAAAAAAAAAAAAAAAAAAAAAAAAAAAAAAAAAAAAAAAAAAAAAAAAAAAAAAAAAAAAAAAAAAAAAAAAAAAAAAAAAAAAAAAAAAAAAAAAAAAAAAAAAAAAAAAAAAAAAAAAAAAAAAAAAAAAAAAAAAAAAAAAAAAAAAAAAAAAAAAAAAAAAAAAAAAAAAAAAAAAAAAAAAAAAAAAAAAAAAAAAAAAAAAAAAAAAAAAAAAAAAAAAAAAAAAAAAAAAAAAAAAAAAAAAAAAAAAAAAAAAAAAAAAAAAAAAAAAAAAAAAAAAAAAAAAAAAAAAAAAAAAAAAAAAAAAAAAAAAAAAAAAAAAAAAAAAAAAAAAAAAAAAAAAAAAAAAAAAAAAAAAAAAAAAAAAAAAAAAAAAAAAAAAACAFwNacwAB6BfT8QAAAABJRU5ErkJggg==\" y=\"-6.611765\"/>\n   </g>\n   <g id=\"matplotlib.axis_5\">\n    <g id=\"xtick_13\">\n     <g id=\"line2d_25\">\n      <g>\n       <use style=\"stroke:#000000;stroke-width:0.8;\" x=\"741.188445\" xlink:href=\"#m9437fef6e7\" y=\"302.611765\"/>\n      </g>\n     </g>\n     <g id=\"text_25\">\n      <!-- 0 -->\n      <g transform=\"translate(738.007195 317.210202)scale(0.1 -0.1)\">\n       <use xlink:href=\"#DejaVuSans-48\"/>\n      </g>\n     </g>\n    </g>\n    <g id=\"xtick_14\">\n     <g id=\"line2d_26\">\n      <g>\n       <use style=\"stroke:#000000;stroke-width:0.8;\" x=\"793.940546\" xlink:href=\"#m9437fef6e7\" y=\"302.611765\"/>\n      </g>\n     </g>\n     <g id=\"text_26\">\n      <!-- 5 -->\n      <g transform=\"translate(790.759296 317.210202)scale(0.1 -0.1)\">\n       <use xlink:href=\"#DejaVuSans-53\"/>\n      </g>\n     </g>\n    </g>\n    <g id=\"xtick_15\">\n     <g id=\"line2d_27\">\n      <g>\n       <use style=\"stroke:#000000;stroke-width:0.8;\" x=\"846.692647\" xlink:href=\"#m9437fef6e7\" y=\"302.611765\"/>\n      </g>\n     </g>\n     <g id=\"text_27\">\n      <!-- 10 -->\n      <g transform=\"translate(840.330147 317.210202)scale(0.1 -0.1)\">\n       <use xlink:href=\"#DejaVuSans-49\"/>\n       <use x=\"63.623047\" xlink:href=\"#DejaVuSans-48\"/>\n      </g>\n     </g>\n    </g>\n    <g id=\"xtick_16\">\n     <g id=\"line2d_28\">\n      <g>\n       <use style=\"stroke:#000000;stroke-width:0.8;\" x=\"899.444748\" xlink:href=\"#m9437fef6e7\" y=\"302.611765\"/>\n      </g>\n     </g>\n     <g id=\"text_28\">\n      <!-- 15 -->\n      <g transform=\"translate(893.082248 317.210202)scale(0.1 -0.1)\">\n       <use xlink:href=\"#DejaVuSans-49\"/>\n       <use x=\"63.623047\" xlink:href=\"#DejaVuSans-53\"/>\n      </g>\n     </g>\n    </g>\n    <g id=\"xtick_17\">\n     <g id=\"line2d_29\">\n      <g>\n       <use style=\"stroke:#000000;stroke-width:0.8;\" x=\"952.196849\" xlink:href=\"#m9437fef6e7\" y=\"302.611765\"/>\n      </g>\n     </g>\n     <g id=\"text_29\">\n      <!-- 20 -->\n      <g transform=\"translate(945.834349 317.210202)scale(0.1 -0.1)\">\n       <use xlink:href=\"#DejaVuSans-50\"/>\n       <use x=\"63.623047\" xlink:href=\"#DejaVuSans-48\"/>\n      </g>\n     </g>\n    </g>\n    <g id=\"xtick_18\">\n     <g id=\"line2d_30\">\n      <g>\n       <use style=\"stroke:#000000;stroke-width:0.8;\" x=\"1004.94895\" xlink:href=\"#m9437fef6e7\" y=\"302.611765\"/>\n      </g>\n     </g>\n     <g id=\"text_30\">\n      <!-- 25 -->\n      <g transform=\"translate(998.58645 317.210202)scale(0.1 -0.1)\">\n       <use xlink:href=\"#DejaVuSans-50\"/>\n       <use x=\"63.623047\" xlink:href=\"#DejaVuSans-53\"/>\n      </g>\n     </g>\n    </g>\n   </g>\n   <g id=\"matplotlib.axis_6\">\n    <g id=\"ytick_13\">\n     <g id=\"line2d_31\">\n      <g>\n       <use style=\"stroke:#000000;stroke-width:0.8;\" x=\"735.913235\" xlink:href=\"#m7b9ba53b84\" y=\"12.47521\"/>\n      </g>\n     </g>\n     <g id=\"text_31\">\n      <!-- 0 -->\n      <g transform=\"translate(722.550735 16.274429)scale(0.1 -0.1)\">\n       <use xlink:href=\"#DejaVuSans-48\"/>\n      </g>\n     </g>\n    </g>\n    <g id=\"ytick_14\">\n     <g id=\"line2d_32\">\n      <g>\n       <use style=\"stroke:#000000;stroke-width:0.8;\" x=\"735.913235\" xlink:href=\"#m7b9ba53b84\" y=\"65.227311\"/>\n      </g>\n     </g>\n     <g id=\"text_32\">\n      <!-- 5 -->\n      <g transform=\"translate(722.550735 69.02653)scale(0.1 -0.1)\">\n       <use xlink:href=\"#DejaVuSans-53\"/>\n      </g>\n     </g>\n    </g>\n    <g id=\"ytick_15\">\n     <g id=\"line2d_33\">\n      <g>\n       <use style=\"stroke:#000000;stroke-width:0.8;\" x=\"735.913235\" xlink:href=\"#m7b9ba53b84\" y=\"117.979412\"/>\n      </g>\n     </g>\n     <g id=\"text_33\">\n      <!-- 10 -->\n      <g transform=\"translate(716.188235 121.778631)scale(0.1 -0.1)\">\n       <use xlink:href=\"#DejaVuSans-49\"/>\n       <use x=\"63.623047\" xlink:href=\"#DejaVuSans-48\"/>\n      </g>\n     </g>\n    </g>\n    <g id=\"ytick_16\">\n     <g id=\"line2d_34\">\n      <g>\n       <use style=\"stroke:#000000;stroke-width:0.8;\" x=\"735.913235\" xlink:href=\"#m7b9ba53b84\" y=\"170.731513\"/>\n      </g>\n     </g>\n     <g id=\"text_34\">\n      <!-- 15 -->\n      <g transform=\"translate(716.188235 174.530731)scale(0.1 -0.1)\">\n       <use xlink:href=\"#DejaVuSans-49\"/>\n       <use x=\"63.623047\" xlink:href=\"#DejaVuSans-53\"/>\n      </g>\n     </g>\n    </g>\n    <g id=\"ytick_17\">\n     <g id=\"line2d_35\">\n      <g>\n       <use style=\"stroke:#000000;stroke-width:0.8;\" x=\"735.913235\" xlink:href=\"#m7b9ba53b84\" y=\"223.483613\"/>\n      </g>\n     </g>\n     <g id=\"text_35\">\n      <!-- 20 -->\n      <g transform=\"translate(716.188235 227.282832)scale(0.1 -0.1)\">\n       <use xlink:href=\"#DejaVuSans-50\"/>\n       <use x=\"63.623047\" xlink:href=\"#DejaVuSans-48\"/>\n      </g>\n     </g>\n    </g>\n    <g id=\"ytick_18\">\n     <g id=\"line2d_36\">\n      <g>\n       <use style=\"stroke:#000000;stroke-width:0.8;\" x=\"735.913235\" xlink:href=\"#m7b9ba53b84\" y=\"276.235714\"/>\n      </g>\n     </g>\n     <g id=\"text_36\">\n      <!-- 25 -->\n      <g transform=\"translate(716.188235 280.034933)scale(0.1 -0.1)\">\n       <use xlink:href=\"#DejaVuSans-50\"/>\n       <use x=\"63.623047\" xlink:href=\"#DejaVuSans-53\"/>\n      </g>\n     </g>\n    </g>\n   </g>\n   <g id=\"patch_13\">\n    <path d=\"M 735.913235 302.611765 \nL 735.913235 7.2 \n\" style=\"fill:none;stroke:#000000;stroke-linecap:square;stroke-linejoin:miter;stroke-width:0.8;\"/>\n   </g>\n   <g id=\"patch_14\">\n    <path d=\"M 1031.325 302.611765 \nL 1031.325 7.2 \n\" style=\"fill:none;stroke:#000000;stroke-linecap:square;stroke-linejoin:miter;stroke-width:0.8;\"/>\n   </g>\n   <g id=\"patch_15\">\n    <path d=\"M 735.913235 302.611765 \nL 1031.325 302.611765 \n\" style=\"fill:none;stroke:#000000;stroke-linecap:square;stroke-linejoin:miter;stroke-width:0.8;\"/>\n   </g>\n   <g id=\"patch_16\">\n    <path d=\"M 735.913235 7.2 \nL 1031.325 7.2 \n\" style=\"fill:none;stroke:#000000;stroke-linecap:square;stroke-linejoin:miter;stroke-width:0.8;\"/>\n   </g>\n  </g>\n </g>\n <defs>\n  <clipPath id=\"p453c46d0d2\">\n   <rect height=\"295.411765\" width=\"295.411765\" x=\"26.925\" y=\"7.2\"/>\n  </clipPath>\n  <clipPath id=\"p1dd7a54968\">\n   <rect height=\"295.411765\" width=\"295.411765\" x=\"381.419118\" y=\"7.2\"/>\n  </clipPath>\n  <clipPath id=\"p84944f2436\">\n   <rect height=\"295.411765\" width=\"295.411765\" x=\"735.913235\" y=\"7.2\"/>\n  </clipPath>\n </defs>\n</svg>\n",
      "text/plain": "<Figure size 1296x432 with 3 Axes>"
     },
     "metadata": {
      "needs_background": "light"
     },
     "output_type": "display_data"
    }
   ],
   "source": [
    "image = np.squeeze(np.transpose(images[0], (1, 2, 0)))\n",
    "print(image.shape)\n",
    "# ad = np.transpose(adversarials[0].perturbed, (1, 2, 0))\n",
    "ad = np.squeeze(np.transpose(adversarials[0], (1, 2, 0)))\n",
    "print(ad.shape)\n",
    "\n",
    "p = ad - image\n",
    "imax = np.max(p)\n",
    "imin = np.min(p)\n",
    "print(imax, imin)\n",
    "p = (p - imin)/ (imax-imin)\n",
    "print(p.shape)\n",
    "\n",
    "plt.figure(figsize=[18, 6])\n",
    "plt.subplot(1, 3, 1)\n",
    "plt.imshow(image, cmap='gray', vmin=0., vmax=1.)\n",
    "plt.subplot(1, 3, 2)\n",
    "plt.imshow(ad, cmap='gray', vmin=0., vmax=1.)\n",
    "plt.subplot(1, 3, 3)\n",
    "plt.imshow(p, cmap='gray', vmin=0., vmax=1.)\n",
    "plt.show()"
   ]
  },
  {
   "cell_type": "code",
   "execution_count": 42,
   "metadata": {},
   "outputs": [
    {
     "name": "stdout",
     "output_type": "stream",
     "text": "torch.Size([64, 1, 28, 28])\ntorch.Size([64, 10])\n[ 0] pred=7 label=0\n[ 2] pred=1 label=7\n[ 3] pred=9 label=5\n[ 4] pred=9 label=4\n[ 5] pred=1 label=5\n[ 7] pred=9 label=3\n[ 8] pred=1 label=2\n[ 9] pred=1 label=9\n[10] pred=1 label=4\n[11] pred=1 label=9\n[12] pred=1 label=9\n[13] pred=3 label=9\n[14] pred=7 label=3\n[15] pred=1 label=6\n[16] pred=5 label=0\n[17] pred=5 label=6\n[18] pred=3 label=4\n[19] pred=6 label=9\n[20] pred=1 label=0\n[22] pred=1 label=7\n[23] pred=2 label=1\n[24] pred=1 label=6\n[25] pred=8 label=4\n[26] pred=8 label=6\n[27] pred=1 label=6\n[29] pred=8 label=1\n[30] pred=1 label=0\n[31] pred=1 label=8\n[32] pred=1 label=4\n[33] pred=1 label=8\n[34] pred=1 label=8\n[35] pred=1 label=7\n[36] pred=1 label=8\n[37] pred=1 label=6\n[38] pred=1 label=0\n[39] pred=1 label=6\n[40] pred=1 label=2\n[41] pred=1 label=3\n[42] pred=9 label=3\n[43] pred=7 label=5\n[44] pred=1 label=9\n[45] pred=1 label=0\n[46] pred=6 label=5\n[47] pred=8 label=9\n[49] pred=1 label=2\n[50] pred=5 label=0\n[51] pred=1 label=2\n[52] pred=1 label=8\n[53] pred=9 label=2\n[54] pred=8 label=3\n[55] pred=1 label=5\n[56] pred=1 label=7\n[57] pred=1 label=9\n[58] pred=9 label=4\n[59] pred=1 label=4\n[60] pred=1 label=6\n[61] pred=1 label=8\n[62] pred=2 label=4\n[63] pred=1 label=5\n"
    }
   ],
   "source": [
    "ad_tensor = torch.tensor(adversarials, dtype=torch.float32)\n",
    "print(ad_tensor.size())\n",
    "ad_tensor = ad_tensor.to(device)\n",
    "ad_out = model(ad_tensor)\n",
    "print(ad_out.shape)\n",
    "preds = ad_out.max(1, keepdim=True)[1]\n",
    "\n",
    "for i, p in enumerate(preds, 0):\n",
    "    if p.item() != y[i]:\n",
    "        print(f'[{i:2d}] pred={p.item()} label={y[i]}')\n",
    "    "
   ]
  },
  {
   "cell_type": "code",
   "execution_count": null,
   "metadata": {},
   "outputs": [],
   "source": []
  }
 ],
 "metadata": {
  "kernelspec": {
   "display_name": "Python 3",
   "language": "python",
   "name": "python3"
  },
  "language_info": {
   "codemirror_mode": {
    "name": "ipython",
    "version": 3
   },
   "file_extension": ".py",
   "mimetype": "text/x-python",
   "name": "python",
   "nbconvert_exporter": "python",
   "pygments_lexer": "ipython3",
   "version": "3.6.9-final"
  }
 },
 "nbformat": 4,
 "nbformat_minor": 4
}