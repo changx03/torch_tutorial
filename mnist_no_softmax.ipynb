{
 "cells": [
  {
   "cell_type": "code",
   "execution_count": 1,
   "metadata": {},
   "outputs": [
    {
     "name": "stdout",
     "output_type": "stream",
     "text": [
      "3.6.9 (default, Nov  7 2019, 10:44:02) \n",
      "[GCC 8.3.0]\n",
      "/usr/lib/python36.zip\n",
      "/usr/lib/python3.6\n",
      "/usr/lib/python3.6/lib-dynload\n",
      "\n",
      "/home/lukec/venv/lib/python3.6/site-packages\n",
      "/home/lukec/Downloads/jax/build\n",
      "/home/lukec/.local/lib/python3.6/site-packages\n",
      "/usr/local/lib/python3.6/dist-packages\n",
      "/usr/lib/python3/dist-packages\n",
      "/home/lukec/venv/lib/python3.6/site-packages/IPython/extensions\n",
      "/home/lukec/.ipython\n"
     ]
    }
   ],
   "source": [
    "import sys\n",
    "print(sys.version)\n",
    "print(*sys.path, sep='\\n')"
   ]
  },
  {
   "cell_type": "code",
   "execution_count": 2,
   "metadata": {},
   "outputs": [],
   "source": [
    "import numpy as np\n",
    "import matplotlib.pyplot as plt\n",
    "import time\n",
    "import os\n",
    "import torch\n",
    "import torch.nn as nn\n",
    "import torch.nn.functional as F\n",
    "from torch.utils.data import DataLoader\n",
    "import torchvision as tv"
   ]
  },
  {
   "cell_type": "code",
   "execution_count": 3,
   "metadata": {},
   "outputs": [
    {
     "name": "stdout",
     "output_type": "stream",
     "text": [
      "cuda:0\n",
      "6\n"
     ]
    }
   ],
   "source": [
    "device = torch.device('cuda:0' if torch.cuda.is_available() else 'cpu')\n",
    "print(device)\n",
    "\n",
    "num_workers = os.cpu_count()\n",
    "print(num_workers)"
   ]
  },
  {
   "cell_type": "code",
   "execution_count": 4,
   "metadata": {},
   "outputs": [],
   "source": [
    "# parameters for trained CNN\n",
    "root = os.path.join('.', 'dataset_root')\n",
    "# mean, std = [0.13066046], [0.30150425] # based on training set\n",
    "batch_size = 64\n",
    "lr = 0.001\n",
    "momentum=0.9\n",
    "epochs = 30"
   ]
  },
  {
   "cell_type": "code",
   "execution_count": 5,
   "metadata": {},
   "outputs": [],
   "source": [
    "def imshow(tensor_grid, mean=0., std=1., title=None):\n",
    "    assert isinstance(tensor_grid, torch.Tensor)\n",
    "    assert len(tensor_grid.size()) == 4, \\\n",
    "        f'For a batch of images only, {tensor_grid.size()} '\n",
    "    \n",
    "    tensor_grid = tv.utils.make_grid(tensor_grid)\n",
    "    grid = tensor_grid.numpy().transpose((1,2,0))\n",
    "    grid = std * grid + mean\n",
    "    grid = np.clip(grid, 0, 1)\n",
    "    plt.imshow(grid)\n",
    "    \n",
    "    if title is not None:\n",
    "        plt.title(title)\n",
    "        \n",
    "    plt.pause(0.001)"
   ]
  },
  {
   "cell_type": "code",
   "execution_count": 6,
   "metadata": {},
   "outputs": [],
   "source": [
    "# prepare data\n",
    "# foolbox model expects raw numpy array as image\n",
    "transform = tv.transforms.Compose([\n",
    "        tv.transforms.ToTensor(),\n",
    "#         tv.transforms.Normalize(mean, std)\n",
    "])\n",
    "train_dataset = tv.datasets.MNIST(\n",
    "    root,\n",
    "    train=True, \n",
    "    download=True,\n",
    "    transform=transform)\n",
    "test_dataset = tv.datasets.MNIST(\n",
    "    root,\n",
    "    train=False, \n",
    "    download=True,\n",
    "    transform=transform)\n",
    "\n",
    "train_loader = DataLoader(\n",
    "    train_dataset,\n",
    "    batch_size=batch_size,\n",
    "    shuffle=True,\n",
    "    num_workers=num_workers\n",
    ")\n",
    "test_loader = DataLoader(\n",
    "    test_dataset,\n",
    "    batch_size=batch_size,\n",
    "    shuffle=True,\n",
    "    num_workers=num_workers\n",
    ")"
   ]
  },
  {
   "cell_type": "code",
   "execution_count": 7,
   "metadata": {},
   "outputs": [],
   "source": [
    "class Net(nn.Module):\n",
    "    def __init__(self):\n",
    "        super(Net, self).__init__()\n",
    "        self.conv1 = nn.Conv2d(1, 8, 3, 1)\n",
    "        self.dropout1 = nn.Dropout2d(0.25)\n",
    "        self.fc1 = nn.Linear(int(((28 - (3-1)) / 2)**2 * 8), 128)\n",
    "        self.fc2 = nn.Linear(128, 10)\n",
    "    \n",
    "    def forward(self, x):\n",
    "        x = F.relu(self.conv1(x))\n",
    "        x = F.max_pool2d(x, 2)\n",
    "        x = self.dropout1(x)\n",
    "        x = torch.flatten(x, 1)\n",
    "        x = self.fc1(x)\n",
    "        x = F.relu(x)\n",
    "        x = self.fc2(x)\n",
    "        return x"
   ]
  },
  {
   "cell_type": "code",
   "execution_count": 8,
   "metadata": {},
   "outputs": [],
   "source": [
    "def train(model, loader, optimizer):\n",
    "    model.train()\n",
    "    total_loss = 0.\n",
    "    corrects = 0\n",
    "    \n",
    "    for x, y in loader:\n",
    "        x = x.to(device)\n",
    "        y = y.to(device)\n",
    "        batch_size = x.size(0)\n",
    "        \n",
    "        optimizer.zero_grad()\n",
    "        output = model(x)\n",
    "        loss = F.nll_loss(output, y)\n",
    "        loss.backward()\n",
    "        optimizer.step()\n",
    "\n",
    "        # for display\n",
    "        total_loss += loss.item() * batch_size\n",
    "        preds = output.max(1, keepdim=True)[1]\n",
    "        corrects += preds.eq(y.view_as(preds)).sum().item()\n",
    "    \n",
    "    n = len(train_loader.dataset)\n",
    "    total_loss = total_loss / n\n",
    "    accuracy = corrects / n\n",
    "    return total_loss, accuracy"
   ]
  },
  {
   "cell_type": "code",
   "execution_count": 9,
   "metadata": {},
   "outputs": [],
   "source": [
    "def validate(model, loader):\n",
    "    model.eval()\n",
    "    total_loss = 0.\n",
    "    corrects = 0\n",
    "    \n",
    "    with torch.no_grad():\n",
    "        for x, y in loader:\n",
    "            x = x.to(device)\n",
    "            y = y.to(device)\n",
    "            batch_size = x.size(0)\n",
    "            output = model(x)\n",
    "            loss = F.nll_loss(output, y)\n",
    "            total_loss += loss.item() * batch_size\n",
    "            preds = output.max(1, keepdim=True)[1]\n",
    "            corrects += preds.eq(y.view_as(preds)).sum().item()\n",
    "    \n",
    "    n = len(test_loader.dataset)\n",
    "    total_loss = total_loss / n\n",
    "    accuracy = corrects / n\n",
    "    return total_loss, accuracy"
   ]
  },
  {
   "cell_type": "code",
   "execution_count": 10,
   "metadata": {},
   "outputs": [],
   "source": [
    "# NOTE: NO GPU AT SCHOOL!\n",
    "model = Net()\n",
    "model_softmax = torch.nn.Sequential(\n",
    "    model,\n",
    "    torch.nn.LogSoftmax(dim=1)\n",
    ")\n",
    "model_softmax.to(device)\n",
    "optimizer = torch.optim.SGD(model_softmax.parameters(), lr=lr, momentum=momentum)"
   ]
  },
  {
   "cell_type": "code",
   "execution_count": 11,
   "metadata": {},
   "outputs": [
    {
     "name": "stdout",
     "output_type": "stream",
     "text": [
      "[ 1] 0m 2.1s Train Loss: 1.1427 Accuracy: 70.4567%, Test Loss: 0.3623 Accuracy: 89.5400%\n",
      "[ 2] 0m 2.1s Train Loss: 0.3948 Accuracy: 89.5367%, Test Loss: 0.2905 Accuracy: 91.5700%\n",
      "[ 3] 0m 2.1s Train Loss: 0.3293 Accuracy: 91.1733%, Test Loss: 0.2464 Accuracy: 92.7900%\n",
      "[ 4] 0m 2.1s Train Loss: 0.2825 Accuracy: 92.3900%, Test Loss: 0.2305 Accuracy: 93.3800%\n",
      "[ 5] 0m 2.1s Train Loss: 0.2475 Accuracy: 93.3000%, Test Loss: 0.1913 Accuracy: 94.4200%\n",
      "[ 6] 0m 2.2s Train Loss: 0.2201 Accuracy: 93.9767%, Test Loss: 0.1789 Accuracy: 94.6400%\n",
      "[ 7] 0m 2.2s Train Loss: 0.1974 Accuracy: 94.5400%, Test Loss: 0.1629 Accuracy: 94.8800%\n",
      "[ 8] 0m 2.2s Train Loss: 0.1799 Accuracy: 95.0650%, Test Loss: 0.1494 Accuracy: 95.6500%\n",
      "[ 9] 0m 2.1s Train Loss: 0.1641 Accuracy: 95.4783%, Test Loss: 0.1395 Accuracy: 95.8100%\n",
      "[10] 0m 2.1s Train Loss: 0.1524 Accuracy: 95.8167%, Test Loss: 0.1293 Accuracy: 96.0900%\n",
      "[11] 0m 2.1s Train Loss: 0.1421 Accuracy: 96.0633%, Test Loss: 0.1188 Accuracy: 96.2700%\n",
      "[12] 0m 2.1s Train Loss: 0.1314 Accuracy: 96.3000%, Test Loss: 0.1140 Accuracy: 96.6100%\n",
      "[13] 0m 2.1s Train Loss: 0.1234 Accuracy: 96.6317%, Test Loss: 0.1112 Accuracy: 96.6300%\n",
      "[14] 0m 2.1s Train Loss: 0.1169 Accuracy: 96.6650%, Test Loss: 0.1047 Accuracy: 96.7500%\n",
      "[15] 0m 2.1s Train Loss: 0.1111 Accuracy: 96.8883%, Test Loss: 0.1050 Accuracy: 96.8300%\n",
      "[16] 0m 2.1s Train Loss: 0.1067 Accuracy: 96.9833%, Test Loss: 0.0995 Accuracy: 97.0100%\n",
      "[17] 0m 2.1s Train Loss: 0.1013 Accuracy: 97.1300%, Test Loss: 0.0940 Accuracy: 97.0300%\n",
      "[18] 0m 2.1s Train Loss: 0.0971 Accuracy: 97.2350%, Test Loss: 0.0942 Accuracy: 97.1200%\n",
      "[19] 0m 2.2s Train Loss: 0.0921 Accuracy: 97.3317%, Test Loss: 0.0914 Accuracy: 97.1800%\n",
      "[20] 0m 2.3s Train Loss: 0.0883 Accuracy: 97.4950%, Test Loss: 0.0894 Accuracy: 97.2600%\n",
      "[21] 0m 2.2s Train Loss: 0.0859 Accuracy: 97.5050%, Test Loss: 0.0879 Accuracy: 97.1900%\n",
      "[22] 0m 2.2s Train Loss: 0.0825 Accuracy: 97.6783%, Test Loss: 0.0850 Accuracy: 97.2900%\n",
      "[23] 0m 2.1s Train Loss: 0.0792 Accuracy: 97.7350%, Test Loss: 0.0840 Accuracy: 97.3600%\n",
      "[24] 0m 2.1s Train Loss: 0.0760 Accuracy: 97.8333%, Test Loss: 0.0799 Accuracy: 97.3300%\n",
      "[25] 0m 2.2s Train Loss: 0.0745 Accuracy: 97.8933%, Test Loss: 0.0887 Accuracy: 97.1600%\n",
      "[26] 0m 2.2s Train Loss: 0.0725 Accuracy: 97.9183%, Test Loss: 0.0783 Accuracy: 97.5500%\n",
      "[27] 0m 2.5s Train Loss: 0.0705 Accuracy: 97.9367%, Test Loss: 0.0804 Accuracy: 97.4400%\n",
      "[28] 0m 2.2s Train Loss: 0.0697 Accuracy: 98.0217%, Test Loss: 0.0765 Accuracy: 97.6600%\n",
      "[29] 0m 2.4s Train Loss: 0.0653 Accuracy: 98.0733%, Test Loss: 0.0784 Accuracy: 97.6200%\n",
      "[30] 0m 2.2s Train Loss: 0.0641 Accuracy: 98.1217%, Test Loss: 0.0753 Accuracy: 97.6600%\n",
      "Total run time: 1m 4.3s\n"
     ]
    }
   ],
   "source": [
    "since = time.time()\n",
    "for epoch in range(epochs):\n",
    "    start = time.time()\n",
    "    tr_loss, tr_acc = train(model_softmax, train_loader, optimizer)\n",
    "    va_loss, va_acc = validate(model_softmax, test_loader)\n",
    "    \n",
    "    time_elapsed = time.time() - start\n",
    "    print(('[{:2d}] {:.0f}m {:.1f}s Train Loss: {:.4f} Accuracy: {:.4f}%, ' +\n",
    "        'Test Loss: {:.4f} Accuracy: {:.4f}%').format(\n",
    "            epoch+1, time_elapsed // 60, time_elapsed % 60,\n",
    "            tr_loss, tr_acc*100.,\n",
    "            va_loss, va_acc*100.))\n",
    "    \n",
    "time_elapsed = time.time() - since\n",
    "print('Total run time: {:.0f}m {:.1f}s'.format(\n",
    "    time_elapsed // 60,\n",
    "    time_elapsed % 60))"
   ]
  },
  {
   "cell_type": "code",
   "execution_count": 12,
   "metadata": {},
   "outputs": [],
   "source": [
    "torch.save(model.state_dict(), 'mnist_simple_nosoftmax.pt')\n",
    "torch.save(model_softmax.state_dict(), 'mnist_simple_full.pt')"
   ]
  },
  {
   "cell_type": "code",
   "execution_count": null,
   "metadata": {},
   "outputs": [],
   "source": []
  }
 ],
 "metadata": {
  "kernelspec": {
   "display_name": "Python 3",
   "language": "python",
   "name": "python3"
  },
  "language_info": {
   "codemirror_mode": {
    "name": "ipython",
    "version": 3
   },
   "file_extension": ".py",
   "mimetype": "text/x-python",
   "name": "python",
   "nbconvert_exporter": "python",
   "pygments_lexer": "ipython3",
   "version": "3.6.9"
  }
 },
 "nbformat": 4,
 "nbformat_minor": 4
}
