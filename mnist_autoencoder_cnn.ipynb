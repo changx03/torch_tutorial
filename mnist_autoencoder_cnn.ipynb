{
 "cells": [
  {
   "cell_type": "code",
   "execution_count": 1,
   "metadata": {},
   "outputs": [
    {
     "name": "stdout",
     "output_type": "stream",
     "text": [
      "3.6.9 (default, Nov  7 2019, 10:44:02) \n",
      "[GCC 8.3.0]\n",
      "/usr/lib/python36.zip\n",
      "/usr/lib/python3.6\n",
      "/usr/lib/python3.6/lib-dynload\n",
      "\n",
      "/home/lukec/venv/lib/python3.6/site-packages\n",
      "/home/lukec/Downloads/jax/build\n",
      "/home/lukec/.local/lib/python3.6/site-packages\n",
      "/usr/local/lib/python3.6/dist-packages\n",
      "/usr/lib/python3/dist-packages\n",
      "/home/lukec/venv/lib/python3.6/site-packages/IPython/extensions\n",
      "/home/lukec/.ipython\n"
     ]
    }
   ],
   "source": [
    "import sys\n",
    "print(sys.version)\n",
    "print(*sys.path, sep='\\n')"
   ]
  },
  {
   "cell_type": "code",
   "execution_count": 2,
   "metadata": {},
   "outputs": [],
   "source": [
    "import numpy as np\n",
    "import matplotlib.pyplot as plt\n",
    "import time\n",
    "import os\n",
    "import copy\n",
    "import torch\n",
    "import torch.nn as nn\n",
    "import torch.nn.functional as F\n",
    "from torch.utils.data import DataLoader\n",
    "import torchvision as tv"
   ]
  },
  {
   "cell_type": "code",
   "execution_count": 3,
   "metadata": {},
   "outputs": [
    {
     "name": "stdout",
     "output_type": "stream",
     "text": [
      "cuda:0\n",
      "6\n"
     ]
    }
   ],
   "source": [
    "device = torch.device('cuda:0' if torch.cuda.is_available() else 'cpu')\n",
    "print(device)\n",
    "\n",
    "num_workers = os.cpu_count()\n",
    "print(num_workers)"
   ]
  },
  {
   "cell_type": "code",
   "execution_count": 4,
   "metadata": {},
   "outputs": [],
   "source": [
    "# parameters for trained CNN\n",
    "ROOT = os.path.join('.', 'dataset_root')\n",
    "MODEL_PATH = 'mnist_autoencoder.pt'\n",
    "\n",
    "BATCH_SIZE = 64\n",
    "\n",
    "MOMENTUM=0.9\n",
    "LEARNING_RATE = 1e-2  # this is for training the parameters in fully connected layers\n",
    "STEP_SIZE=6\n",
    "GAMMA=0.1\n",
    "\n",
    "EPOCHS = 40"
   ]
  },
  {
   "cell_type": "code",
   "execution_count": 5,
   "metadata": {},
   "outputs": [],
   "source": [
    "def imshow(tensor_grid, mean=0., std=1., title=None):\n",
    "    assert isinstance(tensor_grid, torch.Tensor)\n",
    "    assert len(tensor_grid.size()) == 4, \\\n",
    "        f'For a batch of images only, {tensor_grid.size()} '\n",
    "    \n",
    "    tensor_grid = tv.utils.make_grid(tensor_grid)\n",
    "    grid = tensor_grid.numpy().transpose((1,2,0))\n",
    "    grid = std * grid + mean\n",
    "    grid = np.clip(grid, 0, 1)\n",
    "    plt.imshow(grid)\n",
    "    \n",
    "    if title is not None:\n",
    "        plt.title(title)\n",
    "        \n",
    "    plt.pause(0.001)"
   ]
  },
  {
   "cell_type": "code",
   "execution_count": 6,
   "metadata": {},
   "outputs": [],
   "source": [
    "# prepare data\n",
    "# foolbox model expects raw numpy array as image\n",
    "transform = tv.transforms.Compose([\n",
    "        tv.transforms.ToTensor(),\n",
    "#         tv.transforms.Normalize(mean, std)\n",
    "])\n",
    "train_dataset = tv.datasets.MNIST(\n",
    "    ROOT,\n",
    "    train=True, \n",
    "    download=True,\n",
    "    transform=transform)\n",
    "test_dataset = tv.datasets.MNIST(\n",
    "    ROOT,\n",
    "    train=False, \n",
    "    download=True,\n",
    "    transform=transform)\n",
    "\n",
    "train_loader = DataLoader(\n",
    "    train_dataset,\n",
    "    batch_size=BATCH_SIZE,\n",
    "    shuffle=True,\n",
    "    num_workers=num_workers\n",
    ")\n",
    "test_loader = DataLoader(\n",
    "    test_dataset,\n",
    "    batch_size=BATCH_SIZE,\n",
    "    shuffle=True,\n",
    "    num_workers=num_workers\n",
    ")"
   ]
  },
  {
   "cell_type": "code",
   "execution_count": 7,
   "metadata": {},
   "outputs": [],
   "source": [
    "class Autoencoder(nn.Module):\n",
    "    def __init__(self, batch_size=BATCH_SIZE):\n",
    "        super(Autoencoder, self).__init__()\n",
    "        self.batch_size = batch_size\n",
    "        \n",
    "        self.encoder = nn.Sequential(\n",
    "            nn.Conv2d(1, 32, 3, 1),\n",
    "            nn.ReLU(),\n",
    "            nn.MaxPool2d(2),\n",
    "            nn.Conv2d(32, 64, 3, 2),\n",
    "            nn.ReLU(),\n",
    "            nn.MaxPool2d(2),\n",
    "            nn.Conv2d(64, 128, 3, 2))\n",
    "        \n",
    "        self.decoder = nn.Sequential(\n",
    "            nn.ConvTranspose2d(128, 64, 3, 2),\n",
    "            nn.ReLU(),\n",
    "            nn.ConvTranspose2d(64, 32, 3, 2),\n",
    "            nn.ReLU(),\n",
    "            nn.ConvTranspose2d(32, 32, 3, 2),\n",
    "            nn.ReLU(),\n",
    "            nn.Upsample((26, 26), mode='bilinear', align_corners=True),\n",
    "            nn.ConvTranspose2d(32, 1, 3, 1),\n",
    "            nn.Tanh())\n",
    "                \n",
    "    def forward(self, x):\n",
    "        x = self.encoder(x)\n",
    "        x = self.decoder(x)\n",
    "        return x\n",
    "    \n",
    "    def encode(self, x):\n",
    "        assert isinstance(x, torch.Tensor) \\\n",
    "            and x.size() == (self.batch_size, 1, 28, 28)\n",
    "        return self.encoder(x)\n",
    "    \n",
    "    def decode(self, x):\n",
    "        assert isinstance(x, torch.Tensor) \\\n",
    "            and x.size() in ((self.batch_size, 128, 1, 1), (self.batch_size, 128))\n",
    "        \n",
    "        if x.size() == (self.batch_size, 128):\n",
    "            x = x.view(self.batch_size, 128, 1, 1)\n",
    "        \n",
    "        return self.decoder(x)"
   ]
  },
  {
   "cell_type": "code",
   "execution_count": 8,
   "metadata": {},
   "outputs": [
    {
     "data": {
      "text/plain": [
       "Autoencoder(\n",
       "  (encoder): Sequential(\n",
       "    (0): Conv2d(1, 32, kernel_size=(3, 3), stride=(1, 1))\n",
       "    (1): ReLU()\n",
       "    (2): MaxPool2d(kernel_size=2, stride=2, padding=0, dilation=1, ceil_mode=False)\n",
       "    (3): Conv2d(32, 64, kernel_size=(3, 3), stride=(2, 2))\n",
       "    (4): ReLU()\n",
       "    (5): MaxPool2d(kernel_size=2, stride=2, padding=0, dilation=1, ceil_mode=False)\n",
       "    (6): Conv2d(64, 128, kernel_size=(3, 3), stride=(2, 2))\n",
       "  )\n",
       "  (decoder): Sequential(\n",
       "    (0): ConvTranspose2d(128, 64, kernel_size=(3, 3), stride=(2, 2))\n",
       "    (1): ReLU()\n",
       "    (2): ConvTranspose2d(64, 32, kernel_size=(3, 3), stride=(2, 2))\n",
       "    (3): ReLU()\n",
       "    (4): ConvTranspose2d(32, 32, kernel_size=(3, 3), stride=(2, 2))\n",
       "    (5): ReLU()\n",
       "    (6): Upsample(size=(26, 26), mode=bilinear)\n",
       "    (7): ConvTranspose2d(32, 1, kernel_size=(3, 3), stride=(1, 1))\n",
       "    (8): Tanh()\n",
       "  )\n",
       ")"
      ]
     },
     "execution_count": 8,
     "metadata": {},
     "output_type": "execute_result"
    }
   ],
   "source": [
    "autoencoder = Autoencoder()\n",
    "autoencoder.load_state_dict(torch.load(MODEL_PATH))\n",
    "autoencoder.eval()\n",
    "autoencoder.to(device)"
   ]
  },
  {
   "cell_type": "code",
   "execution_count": 9,
   "metadata": {},
   "outputs": [],
   "source": [
    "# extract encoder\n",
    "for name, module in autoencoder.named_children():\n",
    "    if name == 'encoder':\n",
    "        encoder = module\n",
    "\n",
    "# freeze the encoder. Set gradients to readonly\n",
    "for p in encoder.parameters():\n",
    "    p.requires_grad = False"
   ]
  },
  {
   "cell_type": "code",
   "execution_count": 10,
   "metadata": {},
   "outputs": [
    {
     "data": {
      "text/plain": [
       "Sequential(\n",
       "  (0): Sequential(\n",
       "    (0): Sequential(\n",
       "      (0): Conv2d(1, 32, kernel_size=(3, 3), stride=(1, 1))\n",
       "      (1): ReLU()\n",
       "      (2): MaxPool2d(kernel_size=2, stride=2, padding=0, dilation=1, ceil_mode=False)\n",
       "      (3): Conv2d(32, 64, kernel_size=(3, 3), stride=(2, 2))\n",
       "      (4): ReLU()\n",
       "      (5): MaxPool2d(kernel_size=2, stride=2, padding=0, dilation=1, ceil_mode=False)\n",
       "      (6): Conv2d(64, 128, kernel_size=(3, 3), stride=(2, 2))\n",
       "    )\n",
       "    (1): Flatten()\n",
       "    (2): Linear(in_features=128, out_features=128, bias=True)\n",
       "    (3): ReLU()\n",
       "    (4): Linear(in_features=128, out_features=10, bias=True)\n",
       "  )\n",
       "  (1): LogSoftmax()\n",
       ")"
      ]
     },
     "execution_count": 10,
     "metadata": {},
     "output_type": "execute_result"
    }
   ],
   "source": [
    "# the neural network without softmax layer\n",
    "cnn = nn.Sequential(\n",
    "    encoder,\n",
    "    nn.Flatten(1),\n",
    "    nn.Linear(128, 128),\n",
    "    nn.ReLU(),\n",
    "    nn.Linear(128, 10))\n",
    "\n",
    "# the complete neural network for classification\n",
    "model = nn.Sequential(\n",
    "    cnn,\n",
    "    nn.LogSoftmax(dim=1))\n",
    "model.to(device)"
   ]
  },
  {
   "cell_type": "code",
   "execution_count": 11,
   "metadata": {},
   "outputs": [
    {
     "name": "stdout",
     "output_type": "stream",
     "text": [
      "torch.Size([64, 10])\n"
     ]
    }
   ],
   "source": [
    "# sanity check\n",
    "images = next(iter(train_loader))[0]\n",
    "images = images.to(device)\n",
    "output = model(images)\n",
    "print(output.size())"
   ]
  },
  {
   "cell_type": "code",
   "execution_count": 12,
   "metadata": {},
   "outputs": [],
   "source": [
    "def train(model, loader, optimizer):\n",
    "    model.train()\n",
    "    total_loss = 0.\n",
    "    corrects = 0.\n",
    "        \n",
    "    for x, y in loader:\n",
    "        x = x.to(device)\n",
    "        y = y.to(device)\n",
    "        batch_size = x.size(0)\n",
    "        \n",
    "        optimizer.zero_grad()\n",
    "        output = model(x)\n",
    "        loss = F.nll_loss(output, y)\n",
    "        loss.backward()\n",
    "        optimizer.step()\n",
    "\n",
    "        # for display\n",
    "        total_loss += loss.item() * batch_size\n",
    "        preds = output.max(1, keepdim=True)[1]\n",
    "        corrects += preds.eq(y.view_as(preds)).sum().item()\n",
    "    \n",
    "    n = len(loader.dataset)\n",
    "    total_loss = total_loss / n\n",
    "    accuracy = corrects / n\n",
    "    return total_loss, accuracy"
   ]
  },
  {
   "cell_type": "code",
   "execution_count": 13,
   "metadata": {},
   "outputs": [],
   "source": [
    "def validate(model, loader):\n",
    "    model.eval()\n",
    "    total_loss = 0.\n",
    "    corrects = 0.\n",
    "    \n",
    "    with torch.no_grad():\n",
    "        for x, y in loader:\n",
    "            x = x.to(device)\n",
    "            y = y.to(device)\n",
    "            batch_size = x.size(0)\n",
    "            output = model(x)\n",
    "            loss = F.nll_loss(output, y)\n",
    "            total_loss += loss.item() * batch_size\n",
    "            preds = output.max(1, keepdim=True)[1]\n",
    "            corrects += preds.eq(y.view_as(preds)).sum().item()\n",
    "    \n",
    "    n = len(loader.dataset)\n",
    "    total_loss = total_loss / n\n",
    "    accuracy = corrects / n\n",
    "    return total_loss, accuracy"
   ]
  },
  {
   "cell_type": "code",
   "execution_count": 14,
   "metadata": {},
   "outputs": [],
   "source": [
    "class EarlyStopping:\n",
    "    def __init__(\n",
    "            self, \n",
    "            patience=5, \n",
    "            delta=0, \n",
    "            path='checkpoint.pt'):\n",
    "        self.patience = patience\n",
    "        self.countdown = patience\n",
    "        self.lowest_loss = 1e10\n",
    "        self.early_stop = False\n",
    "        self.delta = delta\n",
    "        self.path = path\n",
    "    \n",
    "    def __call__(self, loss, model):\n",
    "        if loss > self.lowest_loss * (1-self.delta):\n",
    "            self.countdown -= 1\n",
    "            print(f'Early stopping countdown: [{self.countdown}]')\n",
    "            if self.countdown <= 0:\n",
    "                self.early_stop = True\n",
    "        else:\n",
    "            self.countdown = self.patience\n",
    "            self.lowest_loss = loss\n",
    "            self.save_checkpoint_(model)\n",
    "        \n",
    "        return self.early_stop\n",
    "    \n",
    "    def save_checkpoint_(self, model):\n",
    "        torch.save(model.state_dict(), self.path)\n",
    "        \n",
    "    def load_checkpoint(self):\n",
    "        return torch.load(self.path)"
   ]
  },
  {
   "cell_type": "code",
   "execution_count": 15,
   "metadata": {},
   "outputs": [],
   "source": [
    "optimizer = torch.optim.SGD(model.parameters(), lr=LEARNING_RATE, momentum=MOMENTUM)\n",
    "lr_scheduler = torch.optim.lr_scheduler.StepLR(\n",
    "    optimizer, \n",
    "    step_size=STEP_SIZE, \n",
    "    gamma=GAMMA)"
   ]
  },
  {
   "cell_type": "code",
   "execution_count": 16,
   "metadata": {},
   "outputs": [
    {
     "name": "stdout",
     "output_type": "stream",
     "text": [
      "[ 1] 0m 2.1s Train Loss: 0.2662 Accuracy: 92.5167%, Test Loss: 0.1193 Accuracy: 96.2900%\n",
      "[ 2] 0m 2.0s Train Loss: 0.1097 Accuracy: 96.7800%, Test Loss: 0.0897 Accuracy: 97.4300%\n",
      "[ 3] 0m 1.9s Train Loss: 0.0863 Accuracy: 97.3083%, Test Loss: 0.0747 Accuracy: 97.7300%\n",
      "[ 4] 0m 2.2s Train Loss: 0.0723 Accuracy: 97.7483%, Test Loss: 0.0679 Accuracy: 97.9100%\n",
      "[ 5] 0m 2.0s Train Loss: 0.0625 Accuracy: 98.0417%, Test Loss: 0.0607 Accuracy: 98.2300%\n",
      "[ 6] 0m 2.0s Train Loss: 0.0555 Accuracy: 98.2867%, Test Loss: 0.0588 Accuracy: 98.1300%\n",
      "[ 7] 0m 2.1s Train Loss: 0.0497 Accuracy: 98.4617%, Test Loss: 0.0518 Accuracy: 98.4200%\n",
      "[ 8] 0m 2.0s Train Loss: 0.0447 Accuracy: 98.6067%, Test Loss: 0.0528 Accuracy: 98.3000%\n",
      "EarlyStopping countdown: [4]\n",
      "[ 9] 0m 2.0s Train Loss: 0.0406 Accuracy: 98.7350%, Test Loss: 0.0517 Accuracy: 98.3200%\n",
      "[10] 0m 2.1s Train Loss: 0.0373 Accuracy: 98.8533%, Test Loss: 0.0469 Accuracy: 98.4600%\n",
      "[11] 0m 2.0s Train Loss: 0.0338 Accuracy: 98.9717%, Test Loss: 0.0466 Accuracy: 98.5600%\n",
      "[12] 0m 1.9s Train Loss: 0.0314 Accuracy: 99.0533%, Test Loss: 0.0506 Accuracy: 98.4300%\n",
      "EarlyStopping countdown: [4]\n",
      "[13] 0m 2.0s Train Loss: 0.0293 Accuracy: 99.1233%, Test Loss: 0.0466 Accuracy: 98.5600%\n",
      "EarlyStopping countdown: [3]\n",
      "[14] 0m 2.0s Train Loss: 0.0269 Accuracy: 99.1933%, Test Loss: 0.0439 Accuracy: 98.6500%\n",
      "[15] 0m 2.0s Train Loss: 0.0250 Accuracy: 99.2950%, Test Loss: 0.0438 Accuracy: 98.6300%\n",
      "[16] 0m 2.0s Train Loss: 0.0234 Accuracy: 99.3383%, Test Loss: 0.0423 Accuracy: 98.6600%\n",
      "[17] 0m 2.0s Train Loss: 0.0219 Accuracy: 99.4083%, Test Loss: 0.0433 Accuracy: 98.6500%\n",
      "EarlyStopping countdown: [4]\n",
      "[18] 0m 2.0s Train Loss: 0.0203 Accuracy: 99.4833%, Test Loss: 0.0431 Accuracy: 98.6600%\n",
      "EarlyStopping countdown: [3]\n",
      "[19] 0m 1.9s Train Loss: 0.0189 Accuracy: 99.5317%, Test Loss: 0.0437 Accuracy: 98.5500%\n",
      "EarlyStopping countdown: [2]\n",
      "[20] 0m 2.1s Train Loss: 0.0176 Accuracy: 99.5600%, Test Loss: 0.0480 Accuracy: 98.4400%\n",
      "EarlyStopping countdown: [1]\n",
      "[21] 0m 2.0s Train Loss: 0.0169 Accuracy: 99.5750%, Test Loss: 0.0428 Accuracy: 98.5900%\n",
      "EarlyStopping countdown: [0]\n",
      "Total run time: 0m 42.1s\n"
     ]
    }
   ],
   "source": [
    "tr_losses = []\n",
    "va_losses = []\n",
    "early_stop = EarlyStopping()\n",
    "\n",
    "since = time.time()\n",
    "for epoch in range(EPOCHS):\n",
    "    start = time.time()\n",
    "    tr_loss, tr_acc = train(model, train_loader, optimizer)\n",
    "    va_loss, va_acc = validate(model, test_loader)\n",
    "    \n",
    "    time_elapsed = time.time() - start\n",
    "    print(('[{:2d}] {:.0f}m {:.1f}s Train Loss: {:.4f} Accuracy: {:.4f}%, ' +\n",
    "        'Test Loss: {:.4f} Accuracy: {:.4f}%').format(\n",
    "            epoch+1, time_elapsed // 60, time_elapsed % 60,\n",
    "            tr_loss, tr_acc*100.,\n",
    "            va_loss, va_acc*100.))\n",
    "        \n",
    "    tr_losses.append(tr_loss)\n",
    "    va_losses.append(va_loss)\n",
    "    \n",
    "    # early stopping\n",
    "    if early_stop(va_loss, model):\n",
    "        checkpoint = early_stop.load_checkpoint()\n",
    "        model.load_state_dict(checkpoint)\n",
    "        break\n",
    "    \n",
    "time_elapsed = time.time() - since\n",
    "print('Total run time: {:.0f}m {:.1f}s'.format(\n",
    "    time_elapsed // 60,\n",
    "    time_elapsed % 60))"
   ]
  },
  {
   "cell_type": "code",
   "execution_count": 24,
   "metadata": {},
   "outputs": [
    {
     "data": {
      "image/png": "[encoded data removed]",
      "text/plain": [
       "<Figure size 720x432 with 1 Axes>"
      ]
     },
     "metadata": {
      "needs_background": "light"
     },
     "output_type": "display_data"
    }
   ],
   "source": [
    "plt.figure(figsize=[10, 6])\n",
    "plt.rcParams['font.size'] = 14\n",
    "plt.plot(tr_losses, label='Train')\n",
    "plt.plot(va_losses, label='Test')\n",
    "plt.legend()\n",
    "plt.show()"
   ]
  },
  {
   "cell_type": "code",
   "execution_count": 25,
   "metadata": {},
   "outputs": [],
   "source": [
    "PATH = 'mnist_autoencoder_cnn.pt'\n",
    "torch.save(model.state_dict(), PATH)"
   ]
  },
  {
   "cell_type": "code",
   "execution_count": null,
   "metadata": {},
   "outputs": [],
   "source": []
  }
 ],
 "metadata": {
  "kernelspec": {
   "display_name": "Python 3",
   "language": "python",
   "name": "python3"
  },
  "language_info": {
   "codemirror_mode": {
    "name": "ipython",
    "version": 3
   },
   "file_extension": ".py",
   "mimetype": "text/x-python",
   "name": "python",
   "nbconvert_exporter": "python",
   "pygments_lexer": "ipython3",
   "version": "3.6.9"
  }
 },
 "nbformat": 4,
 "nbformat_minor": 4
}
