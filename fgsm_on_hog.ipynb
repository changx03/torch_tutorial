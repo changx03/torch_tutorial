{
 "cells": [
  {
   "cell_type": "code",
   "execution_count": 1,
   "metadata": {},
   "outputs": [],
   "source": [
    "import numpy as np\n",
    "import matplotlib.pyplot as plt\n",
    "import art\n",
    "from sklearn.datasets import fetch_openml\n",
    "from sklearn.model_selection import train_test_split\n",
    "from sklearn.svm import SVC\n",
    "from skimage.feature import hog"
   ]
  },
  {
   "cell_type": "code",
   "execution_count": 2,
   "metadata": {},
   "outputs": [],
   "source": [
    "X, y = fetch_openml('mnist_784', version=1, return_X_y=True)"
   ]
  },
  {
   "cell_type": "code",
   "execution_count": 3,
   "metadata": {},
   "outputs": [
    {
     "name": "stdout",
     "output_type": "stream",
     "text": [
      "(70000, 28, 28)\n"
     ]
    }
   ],
   "source": [
    "permutation = np.random.permutation(X.shape[0])\n",
    "X = X[permutation].astype(np.float32) / 255.0\n",
    "X = X.reshape((X.shape[0], 28, 28))\n",
    "y = y[permutation].astype(np.long)\n",
    "print(X.shape)"
   ]
  },
  {
   "cell_type": "code",
   "execution_count": 4,
   "metadata": {},
   "outputs": [],
   "source": [
    "fd, hog_image = hog(X[0],\n",
    "                    orientations=8,\n",
    "                    cells_per_block=(1, 1),\n",
    "                    visualize=True,\n",
    "                    multichannel=False)"
   ]
  },
  {
   "cell_type": "code",
   "execution_count": 5,
   "metadata": {},
   "outputs": [
    {
     "data": {
      "text/plain": [
       "(28, 28)"
      ]
     },
     "execution_count": 5,
     "metadata": {},
     "output_type": "execute_result"
    }
   ],
   "source": [
    "hog_image.shape"
   ]
  },
  {
   "cell_type": "code",
   "execution_count": 6,
   "metadata": {},
   "outputs": [
    {
     "data": {
      "image/png": "[encoded data removed]",
      "text/plain": [
       "<Figure size 432x288 with 1 Axes>"
      ]
     },
     "metadata": {
      "needs_background": "light"
     },
     "output_type": "display_data"
    }
   ],
   "source": [
    "plt.figure()\n",
    "plt.imshow(X[0], cmap=plt.cm.gray)\n",
    "plt.show()"
   ]
  },
  {
   "cell_type": "code",
   "execution_count": 7,
   "metadata": {},
   "outputs": [
    {
     "data": {
      "image/png": "[encoded data removed]",
      "text/plain": [
       "<Figure size 432x288 with 1 Axes>"
      ]
     },
     "metadata": {
      "needs_background": "light"
     },
     "output_type": "display_data"
    }
   ],
   "source": [
    "plt.figure()\n",
    "plt.imshow(hog_image, cmap=plt.cm.gray)\n",
    "plt.show()"
   ]
  },
  {
   "cell_type": "code",
   "execution_count": 8,
   "metadata": {},
   "outputs": [
    {
     "data": {
      "text/plain": [
       "(72,)"
      ]
     },
     "execution_count": 8,
     "metadata": {},
     "output_type": "execute_result"
    }
   ],
   "source": [
    "fd.shape"
   ]
  },
  {
   "cell_type": "code",
   "execution_count": 9,
   "metadata": {},
   "outputs": [],
   "source": [
    "X_hoc = np.empty((X.shape[0], fd.shape[0]), dtype=np.float32)"
   ]
  },
  {
   "cell_type": "code",
   "execution_count": 10,
   "metadata": {},
   "outputs": [],
   "source": [
    "for i in range(X.shape[0]):\n",
    "    x_hoc = hog(X[i],\n",
    "                orientations=8,\n",
    "                cells_per_block=(1, 1),\n",
    "                visualize=False,\n",
    "                multichannel=False)\n",
    "    X_hoc[i] = x_hoc.squeeze()"
   ]
  },
  {
   "cell_type": "code",
   "execution_count": 11,
   "metadata": {},
   "outputs": [
    {
     "name": "stdout",
     "output_type": "stream",
     "text": [
      "(56000, 72)\n"
     ]
    }
   ],
   "source": [
    "X_train, X_test, y_train, y_test = train_test_split(\n",
    "    X_hoc, y, train_size=0.8)\n",
    "print(X_train.shape)"
   ]
  },
  {
   "cell_type": "code",
   "execution_count": 12,
   "metadata": {},
   "outputs": [
    {
     "data": {
      "text/plain": [
       "SVC(C=1.0, break_ties=False, cache_size=200, class_weight=None, coef0=0.0,\n",
       "    decision_function_shape='ovr', degree=3, gamma='scale', kernel='rbf',\n",
       "    max_iter=-1, probability=False, random_state=None, shrinking=True,\n",
       "    tol=0.001, verbose=False)"
      ]
     },
     "execution_count": 12,
     "metadata": {},
     "output_type": "execute_result"
    }
   ],
   "source": [
    "model = SVC()\n",
    "model.fit(X_train, y_train)"
   ]
  },
  {
   "cell_type": "code",
   "execution_count": 20,
   "metadata": {},
   "outputs": [
    {
     "name": "stdout",
     "output_type": "stream",
     "text": [
      "accuracy on test set:  0.9512142857142857\n"
     ]
    }
   ],
   "source": [
    "acc = model.score(X_test, y_test)\n",
    "print('accuracy on test set: ', acc)"
   ]
  },
  {
   "cell_type": "code",
   "execution_count": 14,
   "metadata": {},
   "outputs": [
    {
     "name": "stdout",
     "output_type": "stream",
     "text": [
      "0.0 1.0\n",
      "[[1. 0. 0. 0. 0. 0. 0. 0. 0. 0.]\n",
      " [0. 0. 0. 1. 0. 0. 0. 0. 0. 0.]\n",
      " [0. 0. 0. 0. 0. 0. 0. 0. 0. 1.]\n",
      " [0. 0. 0. 0. 1. 0. 0. 0. 0. 0.]\n",
      " [0. 0. 0. 0. 0. 0. 0. 0. 1. 0.]]\n"
     ]
    }
   ],
   "source": [
    "# Create ART wrapper\n",
    "SklearnClassifier = art.estimators.classification.SklearnClassifier\n",
    "X_min = X_hoc.min()\n",
    "X_max = X_hoc.max()\n",
    "print(X_min, X_max)\n",
    "classifier = SklearnClassifier(model=model, clip_values=(X_min, X_max))\n",
    "predictions = classifier.predict(X_test[:5])\n",
    "print(predictions)"
   ]
  },
  {
   "cell_type": "code",
   "execution_count": 15,
   "metadata": {},
   "outputs": [
    {
     "data": {
      "text/plain": [
       "0.06"
      ]
     },
     "execution_count": 15,
     "metadata": {},
     "output_type": "execute_result"
    }
   ],
   "source": [
    "# Attack the SVM, generating 1000 adversarial examples\n",
    "n = 100\n",
    "FGSM = art.attacks.evasion.FastGradientMethod\n",
    "attack = FGSM(estimator=classifier, eps=0.2)\n",
    "adv = attack.generate(x=X_test[:n])\n",
    "predictions = np.argmax(classifier.predict(adv), axis=1)\n",
    "acc = np.sum(predictions == model.predict(X_test[:n])) / n\n",
    "acc"
   ]
  },
  {
   "cell_type": "code",
   "execution_count": 16,
   "metadata": {},
   "outputs": [
    {
     "name": "stdout",
     "output_type": "stream",
     "text": [
      "[0.3773399  0.3773399  0.3773399  0.2        0.20599759 0.2\n",
      " 0.2        0.2        0.2        0.34480453 0.5157889  0.2\n",
      " 0.7448045  0.34480453 0.2        0.         0.2        0.2\n",
      " 0.2        0.2        0.5071068  0.5071068  0.2        0.2\n",
      " 0.3        0.3        0.         0.2        0.2        0.2\n",
      " 0.3        0.3        0.19889866 0.19889866 0.19889866 0.4127891\n",
      " 0.59889865 0.59889865 0.2        0.19889866 0.27749878 0.2\n",
      " 0.2        0.2        0.24167289 0.27749878 0.27749878 0.14772086\n",
      " 0.2753033  0.         0.2        0.2        0.06521933 0.2843365\n",
      " 0.2843365  0.2843365  0.22084449 0.2        0.2673208  0.34315193\n",
      " 0.3035488  0.3035488  0.3035488  0.2        0.23096791 0.29875946\n",
      " 0.38382292 0.38382292 0.4618808  0.2        0.2        0.2       ]\n",
      "[0.5773399  0.5773399  0.5773399  0.         0.00599758 0.\n",
      " 0.         0.         0.         0.5448045  0.3157889  0.\n",
      " 0.5448045  0.5448045  0.         0.09920421 0.         0.\n",
      " 0.         0.         0.70710677 0.70710677 0.         0.\n",
      " 0.5        0.5        0.         0.         0.         0.\n",
      " 0.5        0.5        0.39889866 0.39889866 0.39889866 0.21278912\n",
      " 0.39889866 0.39889866 0.         0.39889866 0.47749877 0.\n",
      " 0.         0.         0.4416729  0.47749877 0.47749877 0.34772086\n",
      " 0.4753033  0.         0.         0.         0.26521933 0.4843365\n",
      " 0.4843365  0.4843365  0.02084449 0.         0.46732083 0.14315194\n",
      " 0.5035488  0.5035488  0.5035488  0.         0.03096791 0.49875945\n",
      " 0.5838229  0.5838229  0.26188082 0.         0.         0.        ]\n"
     ]
    }
   ],
   "source": [
    "print(adv[0])\n",
    "print(X_test[0])"
   ]
  },
  {
   "cell_type": "code",
   "execution_count": 17,
   "metadata": {},
   "outputs": [
    {
     "name": "stdout",
     "output_type": "stream",
     "text": [
      "15.251106\n"
     ]
    }
   ],
   "source": [
    "# Compute L2 norm\n",
    "l2 = np.linalg.norm(X_test[:n] - adv)\n",
    "print(l2)"
   ]
  },
  {
   "cell_type": "code",
   "execution_count": 18,
   "metadata": {},
   "outputs": [
    {
     "data": {
      "image/png": "[encoded data removed]",
      "text/plain": [
       "<Figure size 432x288 with 1 Axes>"
      ]
     },
     "metadata": {
      "needs_background": "light"
     },
     "output_type": "display_data"
    }
   ],
   "source": [
    "counts, bins = np.histogram(adv.flatten(), 100)\n",
    "plt.figure()\n",
    "plt.hist(bins[:-1], bins, weights=counts)\n",
    "plt.show()"
   ]
  },
  {
   "cell_type": "code",
   "execution_count": 19,
   "metadata": {},
   "outputs": [
    {
     "data": {
      "image/png": "[encoded data removed]",
      "text/plain": [
       "<Figure size 432x288 with 1 Axes>"
      ]
     },
     "metadata": {
      "needs_background": "light"
     },
     "output_type": "display_data"
    }
   ],
   "source": [
    "counts, bins = np.histogram(X_test[:n].flatten(), 100)\n",
    "plt.figure()\n",
    "plt.hist(bins[:-1], bins, weights=counts)\n",
    "plt.show()"
   ]
  },
  {
   "cell_type": "code",
   "execution_count": null,
   "metadata": {},
   "outputs": [],
   "source": []
  }
 ],
 "metadata": {
  "kernelspec": {
   "display_name": "Python 3.6.9 64-bit ('venv': venv)",
   "language": "python",
   "name": "python36964bitvenvvenve145b791d6204accb9e663fb9bdb1493"
  },
  "language_info": {
   "codemirror_mode": {
    "name": "ipython",
    "version": 3
   },
   "file_extension": ".py",
   "mimetype": "text/x-python",
   "name": "python",
   "nbconvert_exporter": "python",
   "pygments_lexer": "ipython3",
   "version": "3.6.9"
  }
 },
 "nbformat": 4,
 "nbformat_minor": 4
}
