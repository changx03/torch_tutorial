{
 "cells": [
  {
   "cell_type": "code",
   "execution_count": 1,
   "metadata": {},
   "outputs": [
    {
     "name": "stdout",
     "output_type": "stream",
     "text": [
      "cuda:0\n",
      "6\n"
     ]
    }
   ],
   "source": [
    "import os\n",
    "import numpy as np\n",
    "import pandas as pd\n",
    "import torch\n",
    "from torch.utils.data import DataLoader\n",
    "import torchvision as tv\n",
    "from sklearn.preprocessing import normalize\n",
    "import matplotlib.pyplot as plt\n",
    "\n",
    "device = torch.device('cuda:0' if torch.cuda.is_available else 'cpu')\n",
    "print(device)\n",
    "\n",
    "num_workers = os.cpu_count()\n",
    "print(num_workers)"
   ]
  },
  {
   "cell_type": "code",
   "execution_count": 2,
   "metadata": {},
   "outputs": [],
   "source": [
    "# provide fixed seed\n",
    "seed = 2**12\n",
    "np.random.seed(seed)"
   ]
  },
  {
   "cell_type": "code",
   "execution_count": 3,
   "metadata": {},
   "outputs": [
    {
     "name": "stdout",
     "output_type": "stream",
     "text": [
      "Path directory: ./dataset_root\n"
     ]
    }
   ],
   "source": [
    "root = os.path.join('.', 'dataset_root')\n",
    "print(f'Path directory: {root}')\n",
    "batch_size = 128"
   ]
  },
  {
   "cell_type": "code",
   "execution_count": 4,
   "metadata": {},
   "outputs": [],
   "source": [
    "def split_dataframe(frame, train_ratio=.8):\n",
    "    assert isinstance(frame, pd.DataFrame)\n",
    "    assert (isinstance(train_ratio, float) and \n",
    "            train_ratio > 0. and train_ratio < 1.)\n",
    "    \n",
    "    n, m = frame.shape\n",
    "    m = m - 1  # not include output column\n",
    "    # expecting last column (y) has integer values\n",
    "    last_col = frame.columns[m]\n",
    "    assert frame[last_col].dtype in (np.int8, np.int16, np.int32, np.int64), \\\n",
    "        f'{frame[last_col].dtype}'\n",
    "    \n",
    "    n_train = int(np.round(n * train_ratio))\n",
    "    n_test = n - n_train\n",
    "    \n",
    "    x_train = frame.iloc[:n_train, :m].values\n",
    "    y_train = frame.iloc[:n_train, -1].values\n",
    "    x_test = frame.iloc[-n_test:, :m].values\n",
    "    y_test = frame.iloc[-n_test:, -1].values\n",
    "    \n",
    "    # checking shapes\n",
    "    assert x_train.shape == (n_train, m)\n",
    "    assert y_train.shape == (n_train,)\n",
    "    assert x_test.shape == (n_test, m)\n",
    "    assert y_test.shape == (n_test,)\n",
    "    \n",
    "    return x_train, y_train, x_test, y_test"
   ]
  },
  {
   "cell_type": "code",
   "execution_count": 5,
   "metadata": {},
   "outputs": [],
   "source": [
    "def scale_normalize(data, xmax, xmin):\n",
    "    assert (type(data) == np.ndarray and \n",
    "        type(xmax) == np.ndarray and \n",
    "        type(xmin) == np.ndarray)\n",
    "    assert data.shape[1] == len(xmax) and data.shape[1] == len(xmin)\n",
    "    \n",
    "    return (data - xmin) / (xmax - xmin)"
   ]
  },
  {
   "cell_type": "code",
   "execution_count": 6,
   "metadata": {},
   "outputs": [],
   "source": [
    "class NumeralDataset(torch.utils.data.Dataset):\n",
    "    def __init__(self, data, label):\n",
    "        assert isinstance(data, torch.Tensor) \\\n",
    "            and isinstance(label, torch.Tensor)\n",
    "        \n",
    "        self.data = data\n",
    "        self.label = label\n",
    "        \n",
    "    def __getitem__(self, index):\n",
    "        return self.data[index], self.label[index]\n",
    "    \n",
    "    def __len__(self):\n",
    "        return len(self.data)"
   ]
  },
  {
   "cell_type": "markdown",
   "metadata": {},
   "source": [
    "## Banknote Authentication\n",
    "\n",
    "- Input: 4\n",
    "- Output: {0, 1}\n",
    "- Classes: Binary classification. \n",
    "- Samples: 1372\n",
    "- 80:20 split \n",
    "- Train: 1098\n",
    "- Test: 274\n",
    "- Resacling to [0, 1]\n",
    "\n",
    "https://archive.ics.uci.edu/ml/datasets/banknote+authentication  \n",
    "https://www.kaggle.com/ritesaluja/bank-note-authentication-uci-data#BankNote_Authentication.csv"
   ]
  },
  {
   "cell_type": "code",
   "execution_count": 7,
   "metadata": {},
   "outputs": [
    {
     "name": "stdout",
     "output_type": "stream",
     "text": [
      "./dataset_root/data_banknote_authentication.txt\n"
     ]
    }
   ],
   "source": [
    "banknote_dir = os.path.join(root, 'data_banknote_authentication.txt')\n",
    "print(banknote_dir)"
   ]
  },
  {
   "cell_type": "code",
   "execution_count": 8,
   "metadata": {},
   "outputs": [
    {
     "name": "stdout",
     "output_type": "stream",
     "text": [
      "(1372, 5)\n",
      "1372 samples, 4 attributes\n"
     ]
    },
    {
     "data": {
      "text/html": [
       "<div>\n",
       "<style scoped>\n",
       "    .dataframe tbody tr th:only-of-type {\n",
       "        vertical-align: middle;\n",
       "    }\n",
       "\n",
       "    .dataframe tbody tr th {\n",
       "        vertical-align: top;\n",
       "    }\n",
       "\n",
       "    .dataframe thead th {\n",
       "        text-align: right;\n",
       "    }\n",
       "</style>\n",
       "<table border=\"1\" class=\"dataframe\">\n",
       "  <thead>\n",
       "    <tr style=\"text-align: right;\">\n",
       "      <th></th>\n",
       "      <th>variance</th>\n",
       "      <th>skewness</th>\n",
       "      <th>curtosis</th>\n",
       "      <th>entropy</th>\n",
       "      <th>class</th>\n",
       "    </tr>\n",
       "  </thead>\n",
       "  <tbody>\n",
       "    <tr>\n",
       "      <th>579</th>\n",
       "      <td>1.15880</td>\n",
       "      <td>8.93310</td>\n",
       "      <td>-2.08070</td>\n",
       "      <td>-1.1272</td>\n",
       "      <td>0</td>\n",
       "    </tr>\n",
       "    <tr>\n",
       "      <th>202</th>\n",
       "      <td>-0.78689</td>\n",
       "      <td>9.56630</td>\n",
       "      <td>-3.78670</td>\n",
       "      <td>-7.5034</td>\n",
       "      <td>0</td>\n",
       "    </tr>\n",
       "    <tr>\n",
       "      <th>950</th>\n",
       "      <td>-2.08910</td>\n",
       "      <td>-0.48422</td>\n",
       "      <td>1.70400</td>\n",
       "      <td>1.7435</td>\n",
       "      <td>1</td>\n",
       "    </tr>\n",
       "    <tr>\n",
       "      <th>1196</th>\n",
       "      <td>-2.01490</td>\n",
       "      <td>3.68740</td>\n",
       "      <td>-1.93850</td>\n",
       "      <td>-3.8918</td>\n",
       "      <td>1</td>\n",
       "    </tr>\n",
       "    <tr>\n",
       "      <th>740</th>\n",
       "      <td>-2.44730</td>\n",
       "      <td>12.62470</td>\n",
       "      <td>0.73573</td>\n",
       "      <td>-7.6612</td>\n",
       "      <td>0</td>\n",
       "    </tr>\n",
       "  </tbody>\n",
       "</table>\n",
       "</div>"
      ],
      "text/plain": [
       "      variance  skewness  curtosis  entropy  class\n",
       "579    1.15880   8.93310  -2.08070  -1.1272      0\n",
       "202   -0.78689   9.56630  -3.78670  -7.5034      0\n",
       "950   -2.08910  -0.48422   1.70400   1.7435      1\n",
       "1196  -2.01490   3.68740  -1.93850  -3.8918      1\n",
       "740   -2.44730  12.62470   0.73573  -7.6612      0"
      ]
     },
     "execution_count": 8,
     "metadata": {},
     "output_type": "execute_result"
    }
   ],
   "source": [
    "banknote_frame = pd.read_csv(\n",
    "    banknote_dir,\n",
    "    header=None,\n",
    "    names=['variance', 'skewness', 'curtosis', 'entropy', 'class'],\n",
    "    dtype=np.float32)\n",
    "print(banknote_frame.shape)\n",
    "\n",
    "n = len(banknote_frame.index)\n",
    "m = banknote_frame.shape[1] -1\n",
    "print(f'{n} samples, {m} attributes')\n",
    "\n",
    "# use small integer for categorical data\n",
    "banknote_frame['class'] = banknote_frame['class'].astype('int8')\n",
    "\n",
    "shuffle_idx = np.random.permutation(n)\n",
    "assert len(shuffle_idx) == banknote_frame.shape[0]\n",
    "banknote_frame = banknote_frame.iloc[shuffle_idx]\n",
    "banknote_frame.head()"
   ]
  },
  {
   "cell_type": "code",
   "execution_count": 9,
   "metadata": {},
   "outputs": [
    {
     "name": "stdout",
     "output_type": "stream",
     "text": [
      "max [ 6.8248 12.9516 17.9274  2.4495] \n",
      "min [ -7.0421 -13.7731  -5.2861  -8.5482]\n",
      "train (1098, 4)\n",
      "test (274, 4)\n"
     ]
    }
   ],
   "source": [
    "x = banknote_frame.values[:, :m]\n",
    "x_max = np.max(x, axis=0)\n",
    "x_min = np.min(x, axis=0)\n",
    "print('max', x_max, '\\nmin', x_min)\n",
    "\n",
    "banknote_x_train, banknote_y_train, banknote_x_test, banknote_y_test = split_dataframe(banknote_frame)\n",
    "banknote_x_train = scale_normalize(banknote_x_train, x_max, x_min)\n",
    "banknote_x_test = scale_normalize(banknote_x_test, x_max, x_min)\n",
    "\n",
    "print('train', banknote_x_train.shape)\n",
    "print('test', banknote_x_test.shape)"
   ]
  },
  {
   "cell_type": "code",
   "execution_count": 10,
   "metadata": {},
   "outputs": [],
   "source": [
    "# create DataLoader for pytorch\n",
    "dataset_banknote_train = NumeralDataset(\n",
    "    torch.Tensor(banknote_x_train), \n",
    "    torch.Tensor(banknote_y_train))\n",
    "dataset_banknote_test = NumeralDataset(\n",
    "    torch.Tensor(banknote_x_test), \n",
    "    torch.Tensor(banknote_y_test))\n",
    "\n",
    "dataloader_banknote_train = DataLoader(\n",
    "    dataset_banknote_train,\n",
    "    batch_size,\n",
    "    shuffle=True,\n",
    "    num_workers=num_workers)\n",
    "\n",
    "dataloader_banknote_test = DataLoader(\n",
    "    dataset_banknote_test,\n",
    "    batch_size,\n",
    "    shuffle=True,\n",
    "    num_workers=num_workers)\n",
    "\n",
    "# check batch size\n",
    "sample, label = next(iter(dataloader_banknote_train))\n",
    "assert sample.size() == (batch_size, m) and label.size() == (batch_size,)"
   ]
  },
  {
   "cell_type": "markdown",
   "metadata": {},
   "source": [
    "## Iris Data Set\n",
    "\n",
    "- Input: 4\n",
    "- Output: 3\n",
    "- Sample: 150\n",
    "- Classes: ['Iris-setosa', 'Iris-versicolor', 'Iris-virginica']\n",
    "- Split: 80:20\n",
    "- Train: 120\n",
    "- Test: 30\n",
    "- Resacling to [0, 1]\n",
    "- Data URL: https://archive.ics.uci.edu/ml/machine-learning-databases/iris/iris.data\n",
    "\n",
    "https://archive.ics.uci.edu/ml/datasets/Iris  \n",
    "https://www.kaggle.com/uciml/iris"
   ]
  },
  {
   "cell_type": "code",
   "execution_count": 12,
   "metadata": {},
   "outputs": [
    {
     "name": "stdout",
     "output_type": "stream",
     "text": [
      "(150, 5)\n",
      "150 samples, 4 attributes\n"
     ]
    },
    {
     "data": {
      "text/html": [
       "<div>\n",
       "<style scoped>\n",
       "    .dataframe tbody tr th:only-of-type {\n",
       "        vertical-align: middle;\n",
       "    }\n",
       "\n",
       "    .dataframe tbody tr th {\n",
       "        vertical-align: top;\n",
       "    }\n",
       "\n",
       "    .dataframe thead th {\n",
       "        text-align: right;\n",
       "    }\n",
       "</style>\n",
       "<table border=\"1\" class=\"dataframe\">\n",
       "  <thead>\n",
       "    <tr style=\"text-align: right;\">\n",
       "      <th></th>\n",
       "      <th>SepalLength</th>\n",
       "      <th>SepalWidth</th>\n",
       "      <th>PetalLength</th>\n",
       "      <th>PetalWidth</th>\n",
       "      <th>Class</th>\n",
       "    </tr>\n",
       "  </thead>\n",
       "  <tbody>\n",
       "    <tr>\n",
       "      <th>65</th>\n",
       "      <td>6.7</td>\n",
       "      <td>3.1</td>\n",
       "      <td>4.4</td>\n",
       "      <td>1.4</td>\n",
       "      <td>1</td>\n",
       "    </tr>\n",
       "    <tr>\n",
       "      <th>80</th>\n",
       "      <td>5.5</td>\n",
       "      <td>2.4</td>\n",
       "      <td>3.8</td>\n",
       "      <td>1.1</td>\n",
       "      <td>1</td>\n",
       "    </tr>\n",
       "    <tr>\n",
       "      <th>12</th>\n",
       "      <td>4.8</td>\n",
       "      <td>3.0</td>\n",
       "      <td>1.4</td>\n",
       "      <td>0.1</td>\n",
       "      <td>0</td>\n",
       "    </tr>\n",
       "    <tr>\n",
       "      <th>131</th>\n",
       "      <td>7.9</td>\n",
       "      <td>3.8</td>\n",
       "      <td>6.4</td>\n",
       "      <td>2.0</td>\n",
       "      <td>2</td>\n",
       "    </tr>\n",
       "    <tr>\n",
       "      <th>6</th>\n",
       "      <td>4.6</td>\n",
       "      <td>3.4</td>\n",
       "      <td>1.4</td>\n",
       "      <td>0.3</td>\n",
       "      <td>0</td>\n",
       "    </tr>\n",
       "  </tbody>\n",
       "</table>\n",
       "</div>"
      ],
      "text/plain": [
       "     SepalLength  SepalWidth  PetalLength  PetalWidth  Class\n",
       "65           6.7         3.1          4.4         1.4      1\n",
       "80           5.5         2.4          3.8         1.1      1\n",
       "12           4.8         3.0          1.4         0.1      0\n",
       "131          7.9         3.8          6.4         2.0      2\n",
       "6            4.6         3.4          1.4         0.3      0"
      ]
     },
     "execution_count": 12,
     "metadata": {},
     "output_type": "execute_result"
    }
   ],
   "source": [
    "iris_dir = os.path.join(root, 'iris.data')\n",
    "iris_frame = pd.read_csv(\n",
    "    iris_dir,\n",
    "    header=None,\n",
    "    names=['SepalLength', 'SepalWidth', 'PetalLength', 'PetalWidth', 'Class'],\n",
    "    dtype={'SepalLength': np.float32, \n",
    "           'SepalWidth': np.float32, \n",
    "           'PetalLength': np.float32, \n",
    "           'PetalWidth': np.float32, \n",
    "           'Class': np.str})\n",
    "print(iris_frame.shape)\n",
    "n = len(iris_frame.index)\n",
    "m = iris_frame.shape[1] - 1\n",
    "print(f'{n} samples, {m} attributes')\n",
    "\n",
    "# reset seed\n",
    "np.random.seed(seed)\n",
    "shuffle_idx = np.random.permutation(n)\n",
    "assert len(shuffle_idx) == iris_frame.shape[0]\n",
    "iris_frame = iris_frame.iloc[shuffle_idx]\n",
    "\n",
    "# convert categorical data to integer codes\n",
    "iris_frame['Class'] = iris_frame['Class'].astype('category')\n",
    "iris_classes = ['Iris-setosa', 'Iris-versicolor', 'Iris-virginica']\n",
    "iris_frame['Class'] = iris_frame['Class'].cat.codes\n",
    "iris_frame.head()"
   ]
  },
  {
   "cell_type": "code",
   "execution_count": null,
   "metadata": {},
   "outputs": [],
   "source": [
    "# 80:20 split\n",
    "n_train = int(np.round(n * .8))\n",
    "n_test = n - n_train\n",
    "assert n_train + n_test == n\n",
    "print(f'Train: {n_train}, Test: {n_test}')\n",
    "\n",
    "iris_data_train = iris_frame.iloc[:n_train, :4].values\n",
    "iris_data_test = iris\n",
    "iris_label_train = None\n",
    "iris_label_test = None"
   ]
  },
  {
   "cell_type": "code",
   "execution_count": null,
   "metadata": {},
   "outputs": [],
   "source": [
    "dataset_iris_train = None\n",
    "dataset_iris_test = None\n",
    "dataloader_iris_train = None\n",
    "dataloader_iris_test = None"
   ]
  },
  {
   "cell_type": "markdown",
   "metadata": {},
   "source": [
    "## Breast Cancer Wisconsin (Diagnostic) Data Set\n",
    "\n",
    "https://archive.ics.uci.edu/ml/datasets/Breast+Cancer+Wisconsin+(Diagnostic)  \n",
    "https://www.kaggle.com/uciml/breast-cancer-wisconsin-data"
   ]
  },
  {
   "cell_type": "code",
   "execution_count": null,
   "metadata": {},
   "outputs": [],
   "source": [
    "bc_frame = None\n",
    "bc_data_train = None\n",
    "bc_data_test = None\n",
    "bc_label_train = None\n",
    "bc_label_test = None"
   ]
  },
  {
   "cell_type": "code",
   "execution_count": null,
   "metadata": {},
   "outputs": [],
   "source": [
    "dataset_bc_train = None\n",
    "dataset_bc_test = None\n",
    "dataloader_bc_train = None\n",
    "dataloader_bc_test = None"
   ]
  },
  {
   "cell_type": "markdown",
   "metadata": {},
   "source": [
    "## Seeds of Wheat Data Set\n",
    "\n",
    "https://archive.ics.uci.edu/ml/datasets/seeds  \n",
    "https://www.kaggle.com/dongeorge/seed-from-uci"
   ]
  },
  {
   "cell_type": "code",
   "execution_count": null,
   "metadata": {},
   "outputs": [],
   "source": [
    "seed_frame = None\n",
    "seed_data_train = None\n",
    "seed_data_test = None\n",
    "seed_label_train = None\n",
    "seed_label_test = None"
   ]
  },
  {
   "cell_type": "code",
   "execution_count": null,
   "metadata": {},
   "outputs": [],
   "source": [
    "dataset_seed_train = None\n",
    "dataset_seed_test = None\n",
    "dataloader_seed_train = None\n",
    "dataloader_seed_test = None"
   ]
  },
  {
   "cell_type": "markdown",
   "metadata": {},
   "source": [
    "## HTRU2 Data Set\n",
    "\n",
    "- PREDICTING A PULSAR STAR\n",
    "\n",
    "https://archive.ics.uci.edu/ml/datasets/HTRU2  \n",
    "https://www.kaggle.com/pavanraj159/predicting-a-pulsar-star"
   ]
  },
  {
   "cell_type": "code",
   "execution_count": null,
   "metadata": {},
   "outputs": [],
   "source": [
    "htru2_frame = None\n",
    "htru2_data_train = None\n",
    "htru2_data_test = None\n",
    "htru2_label_train = None\n",
    "htru2_label_test = None"
   ]
  },
  {
   "cell_type": "code",
   "execution_count": null,
   "metadata": {},
   "outputs": [],
   "source": [
    "dataset_htru2_train = None\n",
    "dataset_htru2_test = None\n",
    "dataloader_htru2_train = None\n",
    "dataloader_htru2_test = None"
   ]
  },
  {
   "cell_type": "code",
   "execution_count": null,
   "metadata": {},
   "outputs": [],
   "source": []
  }
 ],
 "metadata": {
  "kernelspec": {
   "display_name": "Python 3",
   "language": "python",
   "name": "python3"
  },
  "language_info": {
   "codemirror_mode": {
    "name": "ipython",
    "version": 3
   },
   "file_extension": ".py",
   "mimetype": "text/x-python",
   "name": "python",
   "nbconvert_exporter": "python",
   "pygments_lexer": "ipython3",
   "version": "3.6.9"
  }
 },
 "nbformat": 4,
 "nbformat_minor": 4
}
