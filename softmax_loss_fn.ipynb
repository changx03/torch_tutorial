{
 "cells": [
  {
   "cell_type": "markdown",
   "metadata": {},
   "source": [
    "# Softmax and Loss Funcion\n",
    "https://pytorch.org/tutorials/beginner/nlp/deep_learning_tutorial.html?highlight=loss%20function"
   ]
  },
  {
   "cell_type": "code",
   "execution_count": 1,
   "metadata": {},
   "outputs": [],
   "source": [
    "import numpy as np\n",
    "import torch\n",
    "import torch.nn as nn\n",
    "import torch.nn.functional as F"
   ]
  },
  {
   "cell_type": "code",
   "execution_count": 2,
   "metadata": {},
   "outputs": [
    {
     "name": "stdout",
     "output_type": "stream",
     "text": [
      "tensor([-0.2097,  0.2226,  0.0553, -2.0127,  0.1066])\n"
     ]
    }
   ],
   "source": [
    "# create synthetic data\n",
    "n = 5\n",
    "x = torch.randn(n)\n",
    "print(x)"
   ]
  },
  {
   "cell_type": "code",
   "execution_count": 3,
   "metadata": {},
   "outputs": [
    {
     "name": "stdout",
     "output_type": "stream",
     "text": [
      "0.22260449826717377 1\n"
     ]
    }
   ],
   "source": [
    "# val: maximum value\n",
    "# c: the true class\n",
    "val, c = torch.max(x, dim=0, keepdim=True)\n",
    "print(val.item(), c.item())"
   ]
  },
  {
   "cell_type": "code",
   "execution_count": 4,
   "metadata": {},
   "outputs": [
    {
     "name": "stdout",
     "output_type": "stream",
     "text": [
      "[0.18583983 0.2863342  0.24222979 0.03062579 0.25497052]\n"
     ]
    }
   ],
   "source": [
    "phi = F.softmax(x, dim=0)\n",
    "print(phi.numpy())"
   ]
  },
  {
   "cell_type": "code",
   "execution_count": 5,
   "metadata": {},
   "outputs": [
    {
     "name": "stdout",
     "output_type": "stream",
     "text": [
      "1.0000001192092896\n"
     ]
    }
   ],
   "source": [
    "# probability sum to 1\n",
    "print(torch.sum(phi).item())"
   ]
  },
  {
   "cell_type": "code",
   "execution_count": 6,
   "metadata": {},
   "outputs": [
    {
     "name": "stdout",
     "output_type": "stream",
     "text": [
      "[-1.6828701 -1.2505957 -1.4178685 -3.4859128 -1.3666074]\n"
     ]
    }
   ],
   "source": [
    "# mathematically equivalent to log(softmax(x)), but faster\n",
    "log_phi = F.log_softmax(x, dim=0)\n",
    "print(log_phi.numpy())"
   ]
  },
  {
   "cell_type": "code",
   "execution_count": 7,
   "metadata": {},
   "outputs": [
    {
     "name": "stdout",
     "output_type": "stream",
     "text": [
      "-9.20385456085205\n"
     ]
    }
   ],
   "source": [
    "# no longer sum to 1\n",
    "print(log_phi.sum().item())"
   ]
  },
  {
   "cell_type": "code",
   "execution_count": 8,
   "metadata": {},
   "outputs": [],
   "source": [
    "loss_fn = nn.NLLLoss()"
   ]
  },
  {
   "cell_type": "code",
   "execution_count": 9,
   "metadata": {},
   "outputs": [
    {
     "name": "stdout",
     "output_type": "stream",
     "text": [
      "1.2505956888198853\n"
     ]
    }
   ],
   "source": [
    "print(loss_fn(log_phi.unsqueeze(0), c).item())"
   ]
  },
  {
   "cell_type": "code",
   "execution_count": 10,
   "metadata": {},
   "outputs": [
    {
     "name": "stdout",
     "output_type": "stream",
     "text": [
      "1.2505956888198853\n"
     ]
    }
   ],
   "source": [
    "# L(y_hat, y) = -log(y_hat)\n",
    "# same as above\n",
    "print(-log_phi[c].item())"
   ]
  },
  {
   "cell_type": "code",
   "execution_count": 11,
   "metadata": {},
   "outputs": [
    {
     "name": "stdout",
     "output_type": "stream",
     "text": [
      "1.2505958080291748\n"
     ]
    }
   ],
   "source": [
    "# loss = -x[c] + log(sum(exp(x)))\n",
    "loss = - x[c] + torch.exp(x).sum().log()\n",
    "print(loss.item())"
   ]
  },
  {
   "cell_type": "code",
   "execution_count": 12,
   "metadata": {},
   "outputs": [
    {
     "name": "stdout",
     "output_type": "stream",
     "text": [
      "[0, 2, 3, 4]\n",
      "2\n"
     ]
    }
   ],
   "source": [
    "# pick any index which is not c\n",
    "indices_not_c = [i for i in range(n) if i != c]\n",
    "print(indices_not_c)\n",
    "not_c = np.random.choice(indices_not_c)\n",
    "print(not_c)"
   ]
  },
  {
   "cell_type": "code",
   "execution_count": 13,
   "metadata": {},
   "outputs": [
    {
     "name": "stdout",
     "output_type": "stream",
     "text": [
      "1.4178684949874878\n"
     ]
    }
   ],
   "source": [
    "class_ = torch.tensor([not_c])\n",
    "print(loss_fn(log_phi.unsqueeze(0), class_).item())"
   ]
  },
  {
   "cell_type": "code",
   "execution_count": 14,
   "metadata": {},
   "outputs": [
    {
     "name": "stdout",
     "output_type": "stream",
     "text": [
      "1.4178684949874878\n"
     ]
    }
   ],
   "source": [
    "# same as above\n",
    "print(-log_phi[not_c].item())"
   ]
  },
  {
   "cell_type": "code",
   "execution_count": 15,
   "metadata": {},
   "outputs": [
    {
     "name": "stdout",
     "output_type": "stream",
     "text": [
      "1.4178686141967773\n"
     ]
    }
   ],
   "source": [
    "loss = - x[not_c] + torch.exp(x).sum().log()\n",
    "print(loss.item())"
   ]
  },
  {
   "cell_type": "code",
   "execution_count": null,
   "metadata": {},
   "outputs": [],
   "source": []
  }
 ],
 "metadata": {
  "kernelspec": {
   "display_name": "Python 3.6.9 64-bit ('venv': venv)",
   "language": "python",
   "name": "python36964bitvenvvenv794a3f6500e74251b078ca195c3ad1e1"
  },
  "language_info": {
   "codemirror_mode": {
    "name": "ipython",
    "version": 3
   },
   "file_extension": ".py",
   "mimetype": "text/x-python",
   "name": "python",
   "nbconvert_exporter": "python",
   "pygments_lexer": "ipython3",
   "version": "3.6.9"
  }
 },
 "nbformat": 4,
 "nbformat_minor": 4
}
