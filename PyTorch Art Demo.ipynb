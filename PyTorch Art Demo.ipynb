{
 "cells": [
  {
   "cell_type": "code",
   "execution_count": 1,
   "metadata": {},
   "outputs": [],
   "source": [
    "import os\n",
    "import time\n",
    "\n",
    "import numpy as np\n",
    "import matplotlib.pyplot as plt\n",
    "import torch\n",
    "import torch.nn as nn\n",
    "import torch.nn.functional as F\n",
    "import torch.optim as optim\n",
    "from torch.utils.data import Dataset\n",
    "from torch.utils.data import DataLoader\n",
    "import torchvision as tv\n",
    "import art\n",
    "from sklearn.datasets import fetch_openml\n",
    "from sklearn.model_selection import train_test_split"
   ]
  },
  {
   "cell_type": "code",
   "execution_count": 2,
   "metadata": {},
   "outputs": [
    {
     "name": "stdout",
     "output_type": "stream",
     "text": [
      "cuda:0\n",
      "CPU threads = 6\n"
     ]
    }
   ],
   "source": [
    "device = torch.device('cuda:0' if torch.cuda.is_available() else 'cpu')\n",
    "print(device)\n",
    "\n",
    "num_threads = os.cpu_count()\n",
    "print('CPU threads = {}'.format(num_threads))"
   ]
  },
  {
   "cell_type": "code",
   "execution_count": 3,
   "metadata": {},
   "outputs": [],
   "source": [
    "epochs = 30\n",
    "batch_size = 128"
   ]
  },
  {
   "cell_type": "code",
   "execution_count": 4,
   "metadata": {},
   "outputs": [],
   "source": [
    "X, y = fetch_openml('mnist_784', version=1, return_X_y=True)"
   ]
  },
  {
   "cell_type": "code",
   "execution_count": 5,
   "metadata": {},
   "outputs": [
    {
     "name": "stdout",
     "output_type": "stream",
     "text": [
      "(70000, 1, 28, 28)\n"
     ]
    }
   ],
   "source": [
    "permutation = np.random.permutation(X.shape[0])\n",
    "X = X[permutation].astype(np.float32) / 255.0\n",
    "X = X.reshape((X.shape[0], 1, 28, 28))\n",
    "y = y[permutation].astype(np.long)\n",
    "X_train, X_test, y_train, y_test = train_test_split(\n",
    "    X, y, train_size=0.8)\n",
    "print(X.shape)"
   ]
  },
  {
   "cell_type": "code",
   "execution_count": 6,
   "metadata": {},
   "outputs": [
    {
     "name": "stdout",
     "output_type": "stream",
     "text": [
      "0.0 1.0\n"
     ]
    }
   ],
   "source": [
    "X_max = X_train.max()\n",
    "X_min = X_train.min()\n",
    "print(X_min, X_max)"
   ]
  },
  {
   "cell_type": "code",
   "execution_count": 7,
   "metadata": {},
   "outputs": [
    {
     "data": {
      "image/png": "[encoded data removed]",
      "text/plain": [
       "<Figure size 432x288 with 1 Axes>"
      ]
     },
     "metadata": {
      "needs_background": "light"
     },
     "output_type": "display_data"
    }
   ],
   "source": [
    "plt.figure()\n",
    "plt.imshow(X[0, 0], cmap='gray')\n",
    "plt.show()"
   ]
  },
  {
   "cell_type": "code",
   "execution_count": 8,
   "metadata": {},
   "outputs": [],
   "source": [
    "class CustomDataset(Dataset):\n",
    "    def __init__(self, data, labels):\n",
    "        self.data = torch.from_numpy(data)\n",
    "        self.labels = torch.from_numpy(labels)\n",
    "    \n",
    "    def __getitem__(self, index):\n",
    "        return self.data[index], self.labels[index]\n",
    "    \n",
    "    def __len__(self):\n",
    "        return len(self.data)"
   ]
  },
  {
   "cell_type": "code",
   "execution_count": 9,
   "metadata": {},
   "outputs": [],
   "source": [
    "batch_size = 128\n",
    "\n",
    "train_dataset = CustomDataset(X_train, y_train)\n",
    "train_loader = DataLoader(\n",
    "    train_dataset,\n",
    "    batch_size,\n",
    "    shuffle=True,\n",
    "    num_workers=num_threads\n",
    ")\n",
    "test_dataset = CustomDataset(X_test, y_test)\n",
    "test_loader = DataLoader(\n",
    "    train_dataset,\n",
    "    batch_size,\n",
    "    shuffle=True,\n",
    "    num_workers=num_threads\n",
    ")"
   ]
  },
  {
   "cell_type": "code",
   "execution_count": 10,
   "metadata": {},
   "outputs": [],
   "source": [
    "# Using built-in PyTorch DataLoader\n",
    "\n",
    "# root = os.path.join('.', 'data')\n",
    "# mean, std = [0.13066046], [0.30150425]\n",
    "\n",
    "# transform = tv.transforms.Compose([\n",
    "#         tv.transforms.ToTensor(),\n",
    "#         tv.transforms.Normalize(mean, std)])\n",
    "# train_dataset = tv.datasets.MNIST(\n",
    "#     root,\n",
    "#     train=True, \n",
    "#     download=True,\n",
    "#     transform=transform)\n",
    "# test_dataset = tv.datasets.MNIST(\n",
    "#     root,\n",
    "#     train=False, \n",
    "#     download=True,\n",
    "#     transform=transform)\n",
    "\n",
    "# train_loader = DataLoader(\n",
    "#     train_dataset,\n",
    "#     batch_size=batch_size,\n",
    "#     shuffle=True,\n",
    "#     num_workers=num_threads\n",
    "# )\n",
    "# test_loader = DataLoader(\n",
    "#     test_dataset,\n",
    "#     batch_size=batch_size,\n",
    "#     shuffle=True,\n",
    "#     num_workers=num_threads\n",
    "# )\n",
    "\n",
    "# X_max = 1.0\n",
    "# X_min = 0.0\n",
    "\n",
    "# it = iter(train_loader)\n",
    "# x, _ = next(it)\n",
    "# print(x.size())\n",
    "# x = x.to(device)"
   ]
  },
  {
   "cell_type": "code",
   "execution_count": 11,
   "metadata": {},
   "outputs": [],
   "source": [
    "class Net(nn.Module):\n",
    "    def __init__(self):\n",
    "        super(Net, self).__init__()\n",
    "        self.conv1 = nn.Conv2d(1, 32, 3, 1)\n",
    "        self.conv2 = nn.Conv2d(32, 64, 3, 1)\n",
    "        self.fc1 = nn.Linear(9216, 200)\n",
    "        self.fc2 = nn.Linear(200, 10)\n",
    "    \n",
    "    def forward(self, x):\n",
    "        x = F.relu(self.conv1(x))\n",
    "        x = F.relu(self.conv2(x))\n",
    "        x = F.max_pool2d(x, 2)\n",
    "        x = torch.flatten(x, 1)\n",
    "        x = F.relu(self.fc1(x))\n",
    "        x = self.fc2(x)\n",
    "        return F.log_softmax(x, dim=1)"
   ]
  },
  {
   "cell_type": "code",
   "execution_count": 12,
   "metadata": {},
   "outputs": [],
   "source": [
    "def train(model, loader, loss, optimizer):\n",
    "    model.train()\n",
    "    total_loss = 0.\n",
    "    corrects = 0.\n",
    "    \n",
    "    for x, y in loader:\n",
    "        x = x.to(device)\n",
    "        y = y.to(device)\n",
    "        batch_size = x.size(0)\n",
    "        \n",
    "        optimizer.zero_grad()\n",
    "        output = model(x)\n",
    "        l = loss(output, y)\n",
    "        l.backward()\n",
    "        optimizer.step()\n",
    "\n",
    "        # for display\n",
    "        total_loss += l.item() * batch_size\n",
    "        preds = output.max(1, keepdim=True)[1]\n",
    "        corrects += preds.eq(y.view_as(preds)).sum().item()\n",
    "    \n",
    "    n = len(train_loader.dataset)\n",
    "    total_loss = total_loss / n\n",
    "    accuracy = corrects / n\n",
    "    return total_loss, accuracy"
   ]
  },
  {
   "cell_type": "code",
   "execution_count": 13,
   "metadata": {},
   "outputs": [],
   "source": [
    "def validate(model, loader, loss):\n",
    "    model.eval()\n",
    "    total_loss = 0.\n",
    "    corrects = 0.\n",
    "    \n",
    "    with torch.no_grad():\n",
    "        for x, y in loader:\n",
    "            x = x.to(device)\n",
    "            y = y.to(device)\n",
    "            batch_size = x.size(0)\n",
    "            output = model(x)\n",
    "            l = loss(output, y)\n",
    "            total_loss += l.item() * batch_size\n",
    "            preds = output.max(1, keepdim=True)[1]\n",
    "            corrects += preds.eq(y.view_as(preds)).sum().item()\n",
    "    \n",
    "    n = len(test_loader.dataset)\n",
    "    total_loss = total_loss / n\n",
    "    accuracy = corrects / n\n",
    "    return total_loss, accuracy"
   ]
  },
  {
   "cell_type": "code",
   "execution_count": 14,
   "metadata": {},
   "outputs": [],
   "source": [
    "model = Net()\n",
    "model.to(device)\n",
    "optimizer = optim.SGD(model.parameters(), lr=0.01, momentum=0.9)\n",
    "loss=nn.NLLLoss()"
   ]
  },
  {
   "cell_type": "code",
   "execution_count": 15,
   "metadata": {},
   "outputs": [],
   "source": [
    "# it = iter(train_loader)\n",
    "# x, _ = next(it)\n",
    "# print(x.size())\n",
    "# x = x.to(device)\n",
    "# model(x)"
   ]
  },
  {
   "cell_type": "code",
   "execution_count": 16,
   "metadata": {},
   "outputs": [
    {
     "name": "stdout",
     "output_type": "stream",
     "text": [
      "[ 1] 0m 3.3s Train Loss: 0.4248 Accuracy: 87.9339%, Test Loss: 0.1605 Accuracy: 94.9946%\n",
      "[ 2] 0m 3.2s Train Loss: 0.1323 Accuracy: 95.9696%, Test Loss: 0.0957 Accuracy: 97.0321%\n",
      "[ 3] 0m 3.3s Train Loss: 0.0869 Accuracy: 97.2554%, Test Loss: 0.0704 Accuracy: 97.7875%\n",
      "[ 4] 0m 3.2s Train Loss: 0.0635 Accuracy: 98.0857%, Test Loss: 0.0497 Accuracy: 98.4411%\n",
      "[ 5] 0m 3.2s Train Loss: 0.0462 Accuracy: 98.5500%, Test Loss: 0.0380 Accuracy: 98.8321%\n",
      "[ 6] 0m 3.3s Train Loss: 0.0370 Accuracy: 98.8321%, Test Loss: 0.0258 Accuracy: 99.2554%\n",
      "[ 7] 0m 3.4s Train Loss: 0.0297 Accuracy: 99.0536%, Test Loss: 0.0212 Accuracy: 99.3929%\n",
      "[ 8] 0m 3.3s Train Loss: 0.0230 Accuracy: 99.2661%, Test Loss: 0.0177 Accuracy: 99.4911%\n",
      "[ 9] 0m 3.2s Train Loss: 0.0187 Accuracy: 99.4143%, Test Loss: 0.0151 Accuracy: 99.5589%\n",
      "[10] 0m 3.3s Train Loss: 0.0159 Accuracy: 99.5036%, Test Loss: 0.0099 Accuracy: 99.7643%\n",
      "[11] 0m 3.5s Train Loss: 0.0125 Accuracy: 99.6286%, Test Loss: 0.0114 Accuracy: 99.6500%\n",
      "[12] 0m 3.3s Train Loss: 0.0092 Accuracy: 99.7286%, Test Loss: 0.0062 Accuracy: 99.8429%\n",
      "[13] 0m 3.3s Train Loss: 0.0077 Accuracy: 99.7821%, Test Loss: 0.0054 Accuracy: 99.8750%\n",
      "[14] 0m 3.3s Train Loss: 0.0057 Accuracy: 99.8464%, Test Loss: 0.0033 Accuracy: 99.9393%\n",
      "[15] 0m 3.4s Train Loss: 0.0045 Accuracy: 99.8964%, Test Loss: 0.0028 Accuracy: 99.9464%\n",
      "[16] 0m 3.2s Train Loss: 0.0042 Accuracy: 99.9000%, Test Loss: 0.0020 Accuracy: 99.9679%\n",
      "[17] 0m 3.3s Train Loss: 0.0030 Accuracy: 99.9179%, Test Loss: 0.0017 Accuracy: 99.9768%\n",
      "[18] 0m 3.3s Train Loss: 0.0017 Accuracy: 99.9679%, Test Loss: 0.0016 Accuracy: 99.9661%\n",
      "[19] 0m 3.3s Train Loss: 0.0018 Accuracy: 99.9589%, Test Loss: 0.0010 Accuracy: 99.9875%\n",
      "[20] 0m 3.3s Train Loss: 0.0009 Accuracy: 99.9875%, Test Loss: 0.0005 Accuracy: 100.0000%\n",
      "[21] 0m 3.3s Train Loss: 0.0005 Accuracy: 100.0000%, Test Loss: 0.0004 Accuracy: 99.9946%\n",
      "[22] 0m 3.3s Train Loss: 0.0005 Accuracy: 99.9964%, Test Loss: 0.0003 Accuracy: 100.0000%\n",
      "[23] 0m 3.2s Train Loss: 0.0004 Accuracy: 99.9982%, Test Loss: 0.0003 Accuracy: 100.0000%\n",
      "[24] 0m 3.4s Train Loss: 0.0003 Accuracy: 100.0000%, Test Loss: 0.0003 Accuracy: 99.9982%\n",
      "[25] 0m 3.2s Train Loss: 0.0003 Accuracy: 100.0000%, Test Loss: 0.0002 Accuracy: 100.0000%\n",
      "[26] 0m 3.2s Train Loss: 0.0002 Accuracy: 100.0000%, Test Loss: 0.0002 Accuracy: 100.0000%\n",
      "[27] 0m 3.3s Train Loss: 0.0002 Accuracy: 100.0000%, Test Loss: 0.0002 Accuracy: 100.0000%\n",
      "[28] 0m 3.3s Train Loss: 0.0002 Accuracy: 100.0000%, Test Loss: 0.0002 Accuracy: 100.0000%\n",
      "[29] 0m 3.3s Train Loss: 0.0002 Accuracy: 100.0000%, Test Loss: 0.0002 Accuracy: 100.0000%\n",
      "[30] 0m 3.3s Train Loss: 0.0002 Accuracy: 100.0000%, Test Loss: 0.0002 Accuracy: 100.0000%\n",
      "Total run time: 1m 38.4s\n"
     ]
    }
   ],
   "source": [
    "since = time.time()\n",
    "for epoch in range(epochs):\n",
    "    start = time.time()\n",
    "    tr_loss, tr_acc = train(model, train_loader, loss, optimizer)\n",
    "    va_loss, va_acc = validate(model, test_loader, loss)\n",
    "    \n",
    "    time_elapsed = time.time() - start\n",
    "    print(('[{:2d}] {:.0f}m {:.1f}s Train Loss: {:.4f} Accuracy: {:.4f}%, ' +\n",
    "        'Test Loss: {:.4f} Accuracy: {:.4f}%').format(\n",
    "            epoch+1, time_elapsed // 60, time_elapsed % 60,\n",
    "            tr_loss, tr_acc*100.,\n",
    "            va_loss, va_acc*100.))\n",
    "    \n",
    "time_elapsed = time.time() - since\n",
    "print('Total run time: {:.0f}m {:.1f}s'.format(\n",
    "    time_elapsed // 60,\n",
    "    time_elapsed % 60))"
   ]
  },
  {
   "cell_type": "code",
   "execution_count": 17,
   "metadata": {},
   "outputs": [],
   "source": [
    "PyTorchClassifier = art.estimators.classification.PyTorchClassifier\n",
    "classifier = PyTorchClassifier(\n",
    "    model=model,\n",
    "    clip_values=(X_min, X_max),\n",
    "    loss=loss,\n",
    "    optimizer=optimizer,\n",
    "    input_shape=(1, 28, 28),\n",
    "    nb_classes=10,\n",
    "    device_type=device\n",
    ")"
   ]
  },
  {
   "cell_type": "code",
   "execution_count": 18,
   "metadata": {},
   "outputs": [
    {
     "name": "stdout",
     "output_type": "stream",
     "text": [
      "Accuracy on test set: 98.95714285714286%\n"
     ]
    }
   ],
   "source": [
    "predictions = classifier.predict(X_test)\n",
    "predictions = np.argmax(predictions, axis=1)\n",
    "accuracy = np.sum(predictions == y_test) / len(y_test)\n",
    "print(\"Accuracy on test set: {}%\".format(accuracy * 100))"
   ]
  },
  {
   "cell_type": "code",
   "execution_count": 19,
   "metadata": {},
   "outputs": [],
   "source": [
    "data_point = np.expand_dims(X_test[0], axis=0)"
   ]
  },
  {
   "cell_type": "code",
   "execution_count": 29,
   "metadata": {},
   "outputs": [],
   "source": [
    "def filename(attack, label):\n",
    "    return '{}_{}.png'.format(attack, label)"
   ]
  },
  {
   "cell_type": "code",
   "execution_count": 42,
   "metadata": {},
   "outputs": [
    {
     "data": {
      "image/png": "[encoded data removed]",
      "text/plain": [
       "<Figure size 432x288 with 1 Axes>"
      ]
     },
     "metadata": {
      "needs_background": "light"
     },
     "output_type": "display_data"
    }
   ],
   "source": [
    "pred = classifier.predict(data_point)\n",
    "pred = np.argmax(pred, axis=1)[0]\n",
    "\n",
    "plt.figure()\n",
    "plt.imshow(data_point[0, 0], cmap='gray')\n",
    "plt.savefig(filename('clean', pred), dpi=300)\n",
    "plt.show()"
   ]
  },
  {
   "cell_type": "code",
   "execution_count": 43,
   "metadata": {},
   "outputs": [
    {
     "name": "stdout",
     "output_type": "stream",
     "text": [
      "[8] [2]\n"
     ]
    },
    {
     "data": {
      "image/png": "[encoded data removed]",
      "text/plain": [
       "<Figure size 432x288 with 1 Axes>"
      ]
     },
     "metadata": {
      "needs_background": "light"
     },
     "output_type": "display_data"
    }
   ],
   "source": [
    "FastGradientMethod = art.attacks.evasion.FastGradientMethod\n",
    "attack = FastGradientMethod(estimator=classifier, eps=0.2)\n",
    "adv_test = attack.generate(x=data_point)\n",
    "pred = classifier.predict(data_point)\n",
    "pred = np.argmax(pred, axis=1)\n",
    "adv_pred = classifier.predict(adv_test)\n",
    "adv_pred = np.argmax(adv_pred, axis=1)\n",
    "print(pred, adv_pred)\n",
    "\n",
    "plt.figure()\n",
    "plt.imshow(adv_test[0, 0], cmap='gray')\n",
    "plt.savefig(filename('FGSM', adv_pred[0]), dpi=300)\n",
    "plt.show()"
   ]
  },
  {
   "cell_type": "code",
   "execution_count": 44,
   "metadata": {},
   "outputs": [
    {
     "name": "stdout",
     "output_type": "stream",
     "text": [
      "[8] [2]\n"
     ]
    },
    {
     "data": {
      "image/png": "[encoded data removed]",
      "text/plain": [
       "<Figure size 432x288 with 1 Axes>"
      ]
     },
     "metadata": {
      "needs_background": "light"
     },
     "output_type": "display_data"
    }
   ],
   "source": [
    "BIM = art.attacks.evasion.BasicIterativeMethod\n",
    "attack = BIM(estimator=classifier, eps=0.2)\n",
    "adv_test = attack.generate(x=data_point)\n",
    "pred = classifier.predict(data_point)\n",
    "pred = np.argmax(pred, axis=1)\n",
    "adv_pred = classifier.predict(adv_test)\n",
    "adv_pred = np.argmax(adv_pred, axis=1)\n",
    "print(pred, adv_pred)\n",
    "\n",
    "plt.figure()\n",
    "plt.imshow(adv_test[0, 0], cmap='gray')\n",
    "plt.savefig(filename('BIM', adv_pred[0]), dpi=300)\n",
    "plt.show()"
   ]
  },
  {
   "cell_type": "code",
   "execution_count": 45,
   "metadata": {},
   "outputs": [
    {
     "name": "stderr",
     "output_type": "stream",
     "text": [
      "C&W L_2: 100%|██████████| 1/1 [00:00<00:00,  1.97it/s]"
     ]
    },
    {
     "name": "stdout",
     "output_type": "stream",
     "text": [
      "[8] [2]\n"
     ]
    },
    {
     "name": "stderr",
     "output_type": "stream",
     "text": [
      "\n"
     ]
    },
    {
     "data": {
      "image/png": "[encoded data removed]",
      "text/plain": [
       "<Figure size 432x288 with 1 Axes>"
      ]
     },
     "metadata": {
      "needs_background": "light"
     },
     "output_type": "display_data"
    }
   ],
   "source": [
    "CW = art.attacks.evasion.CarliniL2Method\n",
    "attack = CW(classifier)\n",
    "adv_test = attack.generate(x=data_point)\n",
    "pred = classifier.predict(data_point)\n",
    "pred = np.argmax(pred, axis=1)\n",
    "adv_pred = classifier.predict(adv_test)\n",
    "adv_pred = np.argmax(adv_pred, axis=1)\n",
    "print(pred, adv_pred)\n",
    "\n",
    "plt.figure()\n",
    "plt.imshow(adv_test[0, 0], cmap='gray')\n",
    "plt.savefig(filename('CW', adv_pred[0]), dpi=300)\n",
    "plt.show()"
   ]
  },
  {
   "cell_type": "code",
   "execution_count": 46,
   "metadata": {},
   "outputs": [
    {
     "name": "stderr",
     "output_type": "stream",
     "text": [
      "DeepFool: 100%|██████████| 1/1 [00:00<00:00, 11.34it/s]\n"
     ]
    },
    {
     "name": "stdout",
     "output_type": "stream",
     "text": [
      "[8] [2]\n"
     ]
    },
    {
     "data": {
      "image/png": "[encoded data removed]",
      "text/plain": [
       "<Figure size 432x288 with 1 Axes>"
      ]
     },
     "metadata": {
      "needs_background": "light"
     },
     "output_type": "display_data"
    }
   ],
   "source": [
    "DeepFool = art.attacks.evasion.DeepFool\n",
    "attack = DeepFool(classifier)\n",
    "adv_test = attack.generate(x=data_point)\n",
    "pred = classifier.predict(data_point)\n",
    "pred = np.argmax(pred, axis=1)\n",
    "adv_pred = classifier.predict(adv_test)\n",
    "adv_pred = np.argmax(adv_pred, axis=1)\n",
    "print(pred, adv_pred)\n",
    "\n",
    "plt.figure()\n",
    "plt.imshow(adv_test[0, 0], cmap='gray')\n",
    "plt.savefig(filename('DeepFool', adv_pred[0]), dpi=300)\n",
    "plt.show()"
   ]
  },
  {
   "cell_type": "code",
   "execution_count": 51,
   "metadata": {},
   "outputs": [
    {
     "name": "stderr",
     "output_type": "stream",
     "text": [
      "JSMA: 100%|██████████| 1/1 [00:00<00:00,  2.21it/s]"
     ]
    },
    {
     "name": "stdout",
     "output_type": "stream",
     "text": [
      "[8] [4]\n"
     ]
    },
    {
     "name": "stderr",
     "output_type": "stream",
     "text": [
      "\n"
     ]
    },
    {
     "data": {
      "image/png": "[encoded data removed]",
      "text/plain": [
       "<Figure size 432x288 with 1 Axes>"
      ]
     },
     "metadata": {
      "needs_background": "light"
     },
     "output_type": "display_data"
    }
   ],
   "source": [
    "JSMA = art.attacks.evasion.SaliencyMapMethod\n",
    "attack = JSMA(classifier)\n",
    "adv_test = attack.generate(x=data_point)\n",
    "pred = classifier.predict(data_point)\n",
    "pred = np.argmax(pred, axis=1)\n",
    "adv_pred = classifier.predict(adv_test)\n",
    "adv_pred = np.argmax(adv_pred, axis=1)\n",
    "print(pred, adv_pred)\n",
    "\n",
    "plt.figure()\n",
    "plt.imshow(adv_test[0, 0], cmap='gray')\n",
    "plt.savefig(filename('JSMA', adv_pred[0]), dpi=300)\n",
    "plt.show()"
   ]
  },
  {
   "cell_type": "code",
   "execution_count": 47,
   "metadata": {},
   "outputs": [
    {
     "name": "stderr",
     "output_type": "stream",
     "text": [
      "Pixel threshold: 1it [00:00,  3.86it/s]"
     ]
    },
    {
     "name": "stdout",
     "output_type": "stream",
     "text": [
      "[8] [8]\n"
     ]
    },
    {
     "name": "stderr",
     "output_type": "stream",
     "text": [
      "\n"
     ]
    },
    {
     "data": {
      "image/png": "[encoded data removed]",
      "text/plain": [
       "<Figure size 432x288 with 1 Axes>"
      ]
     },
     "metadata": {
      "needs_background": "light"
     },
     "output_type": "display_data"
    }
   ],
   "source": [
    "PixelAttack = art.attacks.evasion.PixelAttack\n",
    "attack = PixelAttack(classifier)\n",
    "adv_test = attack.generate(x=data_point)\n",
    "pred = classifier.predict(data_point)\n",
    "pred = np.argmax(pred, axis=1)\n",
    "adv_pred = classifier.predict(adv_test)\n",
    "adv_pred = np.argmax(adv_pred, axis=1)\n",
    "print(pred, adv_pred)\n",
    "\n",
    "plt.figure()\n",
    "plt.imshow(adv_test[0, 0], cmap='gray')\n",
    "plt.savefig(filename('PixelAttack', adv_pred[0]), dpi=300)\n",
    "plt.show()"
   ]
  },
  {
   "cell_type": "code",
   "execution_count": 48,
   "metadata": {},
   "outputs": [
    {
     "name": "stderr",
     "output_type": "stream",
     "text": [
      "Boundary attack: 100%|██████████| 1/1 [00:50<00:00, 50.78s/it]"
     ]
    },
    {
     "name": "stdout",
     "output_type": "stream",
     "text": [
      "[8] [3]\n"
     ]
    },
    {
     "name": "stderr",
     "output_type": "stream",
     "text": [
      "\n"
     ]
    },
    {
     "data": {
      "image/png": "[encoded data removed]",
      "text/plain": [
       "<Figure size 432x288 with 1 Axes>"
      ]
     },
     "metadata": {
      "needs_background": "light"
     },
     "output_type": "display_data"
    }
   ],
   "source": [
    "BoundaryAttack = art.attacks.evasion.BoundaryAttack\n",
    "attack = BoundaryAttack(classifier, targeted=False)\n",
    "adv_test = attack.generate(x=data_point)\n",
    "pred = classifier.predict(data_point)\n",
    "pred = np.argmax(pred, axis=1)\n",
    "adv_pred = classifier.predict(adv_test)\n",
    "adv_pred = np.argmax(adv_pred, axis=1)\n",
    "print(pred, adv_pred)\n",
    "\n",
    "plt.figure()\n",
    "plt.imshow(adv_test[0, 0], cmap='gray')\n",
    "plt.savefig(filename('BoundaryAttack', adv_pred[0]), dpi=300)\n",
    "plt.show()"
   ]
  },
  {
   "cell_type": "code",
   "execution_count": 49,
   "metadata": {},
   "outputs": [
    {
     "name": "stderr",
     "output_type": "stream",
     "text": [
      "ZOO: 100%|██████████| 1/1 [00:04<00:00,  4.54s/it]"
     ]
    },
    {
     "name": "stdout",
     "output_type": "stream",
     "text": [
      "[8] [8]\n"
     ]
    },
    {
     "name": "stderr",
     "output_type": "stream",
     "text": [
      "\n"
     ]
    },
    {
     "data": {
      "image/png": "[encoded data removed]",
      "text/plain": [
       "<Figure size 432x288 with 1 Axes>"
      ]
     },
     "metadata": {
      "needs_background": "light"
     },
     "output_type": "display_data"
    }
   ],
   "source": [
    "Zoo = art.attacks.evasion.ZooAttack\n",
    "attack = Zoo(classifier, targeted=False, learning_rate=0.01, max_iter=100)\n",
    "adv_test = attack.generate(x=data_point)\n",
    "pred = classifier.predict(data_point)\n",
    "pred = np.argmax(pred, axis=1)\n",
    "adv_pred = classifier.predict(adv_test)\n",
    "adv_pred = np.argmax(adv_pred, axis=1)\n",
    "print(pred, adv_pred)\n",
    "\n",
    "plt.figure()\n",
    "plt.imshow(adv_test[0, 0], cmap='gray')\n",
    "plt.savefig(filename('Zoo', adv_pred[0]), dpi=300)\n",
    "plt.show()"
   ]
  },
  {
   "cell_type": "code",
   "execution_count": 50,
   "metadata": {},
   "outputs": [
    {
     "name": "stderr",
     "output_type": "stream",
     "text": [
      "Pixel threshold: 1it [00:07,  7.78s/it]"
     ]
    },
    {
     "name": "stdout",
     "output_type": "stream",
     "text": [
      "[8] [8]\n"
     ]
    },
    {
     "name": "stderr",
     "output_type": "stream",
     "text": [
      "\n"
     ]
    },
    {
     "data": {
      "image/png": "[encoded data removed]",
      "text/plain": [
       "<Figure size 432x288 with 1 Axes>"
      ]
     },
     "metadata": {
      "needs_background": "light"
     },
     "output_type": "display_data"
    }
   ],
   "source": [
    "PixelAttack = art.attacks.evasion.PixelAttack\n",
    "attack = PixelAttack(classifier, th=80, es=1, targeted=False)\n",
    "adv_test = attack.generate(x=data_point)\n",
    "pred = classifier.predict(data_point)\n",
    "pred = np.argmax(pred, axis=1)\n",
    "adv_pred = classifier.predict(adv_test)\n",
    "adv_pred = np.argmax(adv_pred, axis=1)\n",
    "print(pred, adv_pred)\n",
    "\n",
    "plt.figure()\n",
    "plt.imshow(adv_test[0, 0], cmap='gray')\n",
    "plt.savefig(filename('PixelAttack', adv_pred[0]), dpi=300)\n",
    "plt.show()"
   ]
  },
  {
   "cell_type": "code",
   "execution_count": null,
   "metadata": {},
   "outputs": [],
   "source": []
  }
 ],
 "metadata": {
  "kernelspec": {
   "display_name": "Python 3.6.9 64-bit ('venv': venv)",
   "language": "python",
   "name": "python36964bitvenvvenv176f1e61aec34b8aa02446bdaa51a523"
  },
  "language_info": {
   "codemirror_mode": {
    "name": "ipython",
    "version": 3
   },
   "file_extension": ".py",
   "mimetype": "text/x-python",
   "name": "python",
   "nbconvert_exporter": "python",
   "pygments_lexer": "ipython3",
   "version": "3.6.9"
  }
 },
 "nbformat": 4,
 "nbformat_minor": 4
}
