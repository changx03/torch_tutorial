{
 "cells": [
  {
   "cell_type": "markdown",
   "metadata": {},
   "source": [
    "# SPATIAL TRANSFORMER NETWORKS TUTORIAL\n",
    "https://pytorch.org/tutorials/intermediate/spatial_transformer_tutorial.html"
   ]
  },
  {
   "cell_type": "code",
   "execution_count": 1,
   "metadata": {},
   "outputs": [
    {
     "name": "stdout",
     "output_type": "stream",
     "text": [
      "cpu\n",
      "6\n"
     ]
    }
   ],
   "source": [
    "import torch\n",
    "import torch.nn as nn\n",
    "import torch.nn.functional as F\n",
    "import torch.optim as optim\n",
    "import numpy as np\n",
    "import torchvision as tv\n",
    "import matplotlib.pyplot as plt\n",
    "import time\n",
    "import os\n",
    "import copy\n",
    "\n",
    "plt.rcParams['figure.figsize'] = [16,8]\n",
    "plt.ion()  # interactive mode\n",
    "\n",
    "device = torch.device('cuda:0' if torch.cuda.is_available() else 'cpu')\n",
    "print(device)\n",
    "\n",
    "num_workers = os.cpu_count()\n",
    "print(num_workers)\n",
    "\n",
    "# Ignore warnings for image input\n",
    "import warnings\n",
    "warnings.filterwarnings(\"ignore\")"
   ]
  },
  {
   "cell_type": "code",
   "execution_count": 2,
   "metadata": {},
   "outputs": [],
   "source": [
    "data_dir = os.path.join('.', 'data')\n",
    "batch_size = 32\n",
    "\n",
    "mean = (0.1307,)\n",
    "std = (0.3081, )\n",
    "\n",
    "train_dataset = tv.datasets.MNIST(\n",
    "    root=data_dir,\n",
    "    train=True,\n",
    "    download=True,\n",
    "    transform=tv.transforms.Compose([\n",
    "        tv.transforms.ToTensor(),\n",
    "        tv.transforms.Normalize(mean, std)\n",
    "    ]))\n",
    "train_loader = torch.utils.data.DataLoader(\n",
    "    train_dataset,\n",
    "    batch_size=batch_size,\n",
    "    shuffle=True,\n",
    "    num_workers=num_workers)\n",
    "\n",
    "test_dataset = tv.datasets.MNIST(\n",
    "    root=data_dir,\n",
    "    train=False,\n",
    "    download=True,\n",
    "    transform=tv.transforms.Compose([\n",
    "        tv.transforms.ToTensor(),\n",
    "        tv.transforms.Normalize(mean, std)\n",
    "    ]))\n",
    "test_loader = torch.utils.data.DataLoader(\n",
    "    test_dataset,\n",
    "    batch_size=batch_size,\n",
    "    shuffle=True,\n",
    "    num_workers=num_workers)"
   ]
  },
  {
   "cell_type": "code",
   "execution_count": 3,
   "metadata": {},
   "outputs": [
    {
     "data": {
      "text/plain": [
       "torch.Size([32, 1, 28, 28])"
      ]
     },
     "execution_count": 3,
     "metadata": {},
     "output_type": "execute_result"
    }
   ],
   "source": [
    "data_iter = iter(train_loader)\n",
    "images, _ = data_iter.next()\n",
    "images.size()"
   ]
  },
  {
   "cell_type": "code",
   "execution_count": 4,
   "metadata": {},
   "outputs": [],
   "source": [
    "p = .5\n",
    "\n",
    "class Net(nn.Module):\n",
    "    def __init__(self):\n",
    "        super(Net, self).__init__()\n",
    "        self.conv1 = nn.Conv2d(1, 10, kernel_size=5)  # out_dim=24**2*10\n",
    "        self.conv2 = nn.Conv2d(10, 20, kernel_size=5)  # pool_out_dim=12**2*10, out_dim=8**2*10 \n",
    "        self.conv2_drop = nn.Dropout2d(p=p)  # dropout doesn't affect dimension\n",
    "        self.fc1 = nn.Linear(320, 50)  # pool_out_dim=in_dim=4**2*20=320\n",
    "        self.fc2 = nn.Linear(50, 10)\n",
    "        \n",
    "        # Spatial transformer localization-network\n",
    "        self.localization = nn.Sequential(\n",
    "            nn.Conv2d(1, 8, kernel_size=7),\n",
    "            nn.MaxPool2d(2, stride=2),\n",
    "            nn.ReLU(True),\n",
    "            nn.Conv2d(8, 10, kernel_size=5),\n",
    "            nn.MaxPool2d(2, stride=2),\n",
    "            nn.ReLU(True))\n",
    "        \n",
    "        # Regressor for the 3 * 2 affine matrix\n",
    "        self.fc_loc = nn.Sequential(\n",
    "            nn.Linear(10*3*3, 32),\n",
    "            nn.ReLU(True),\n",
    "            nn.Linear(32, 3*2))\n",
    "        \n",
    "        # Initialize the weights/bias with identity transformation\n",
    "        self.fc_loc[2].weight.data.zero_()\n",
    "        self.fc_loc[2].bias.data.copy_(torch.tensor([1, 0, 0, 0, 1, 0], dtype=torch.float))\n",
    "        \n",
    "    def stn(self, x):\n",
    "        '''Spatial transformer network forward function\n",
    "        '''\n",
    "        xs = self.localization(x)\n",
    "        xs = xs.view(-1, 10*3*3)\n",
    "        theta = self.fc_loc(xs)\n",
    "        theta = theta.view(-1, 2, 3)\n",
    "\n",
    "        grid = F.affine_grid(theta, x.size())\n",
    "        x = F.grid_sample(x, grid)\n",
    "        return x\n",
    "    \n",
    "    def forward(self, x):\n",
    "        # transform the input\n",
    "        x = self.stn(x)\n",
    "\n",
    "        # Perform the usual forward pass\n",
    "        x = F.relu(F.max_pool2d(self.conv1(x), 2))\n",
    "        x = F.relu(F.max_pool2d(self.conv2_drop(self.conv2(x)), 2))\n",
    "        x = x.view(-1, 320)\n",
    "        x = F.relu(self.fc1(x))\n",
    "        x = F.dropout(x, training=self.training)\n",
    "        x = self.fc2(x)\n",
    "        return F.log_softmax(x, dim=1)"
   ]
  },
  {
   "cell_type": "code",
   "execution_count": 5,
   "metadata": {},
   "outputs": [
    {
     "name": "stdout",
     "output_type": "stream",
     "text": [
      "Net(\n",
      "  (conv1): Conv2d(1, 10, kernel_size=(5, 5), stride=(1, 1))\n",
      "  (conv2): Conv2d(10, 20, kernel_size=(5, 5), stride=(1, 1))\n",
      "  (conv2_drop): Dropout2d(p=0.5, inplace=False)\n",
      "  (fc1): Linear(in_features=320, out_features=50, bias=True)\n",
      "  (fc2): Linear(in_features=50, out_features=10, bias=True)\n",
      "  (localization): Sequential(\n",
      "    (0): Conv2d(1, 8, kernel_size=(7, 7), stride=(1, 1))\n",
      "    (1): MaxPool2d(kernel_size=2, stride=2, padding=0, dilation=1, ceil_mode=False)\n",
      "    (2): ReLU(inplace=True)\n",
      "    (3): Conv2d(8, 10, kernel_size=(5, 5), stride=(1, 1))\n",
      "    (4): MaxPool2d(kernel_size=2, stride=2, padding=0, dilation=1, ceil_mode=False)\n",
      "    (5): ReLU(inplace=True)\n",
      "  )\n",
      "  (fc_loc): Sequential(\n",
      "    (0): Linear(in_features=90, out_features=32, bias=True)\n",
      "    (1): ReLU(inplace=True)\n",
      "    (2): Linear(in_features=32, out_features=6, bias=True)\n",
      "  )\n",
      ")\n"
     ]
    }
   ],
   "source": [
    "model = Net().to(device)\n",
    "print(model)\n",
    "\n",
    "optimizer = optim.SGD(model.parameters(), lr=0.01)\n",
    "# scheduler = optim.lr_scheduler.StepLR(optimizer, step_size=7, gamma=0.1)"
   ]
  },
  {
   "cell_type": "code",
   "execution_count": 6,
   "metadata": {},
   "outputs": [],
   "source": [
    "def train(epoch):\n",
    "    start = time.time()\n",
    "    model.train()\n",
    "    \n",
    "    for batch_idx, (data, target) in enumerate(train_loader):\n",
    "        data = data.to(device)\n",
    "        target = target.to(device)\n",
    "        \n",
    "        optimizer.zero_grad()\n",
    "        output = model(data)\n",
    "        loss = F.nll_loss(output, target)\n",
    "        loss.backward()\n",
    "        optimizer.step()\n",
    "#         scheduler.step()\n",
    "        \n",
    "        if batch_idx % 500 == 0:\n",
    "            print(f'Train Epoch: {epoch} [{batch_idx*len(data)}/{len(train_loader.dataset)}' + \n",
    "                  f' ({batch_idx/len(train_loader)*100.:.0f}%)]\\tLoss: {loss.item():.6f}')"
   ]
  },
  {
   "cell_type": "code",
   "execution_count": 7,
   "metadata": {},
   "outputs": [],
   "source": [
    "def test():\n",
    "    with torch.no_grad():\n",
    "        model.eval()\n",
    "        test_loss = 0\n",
    "        correct = 0\n",
    "        \n",
    "        for data, target in test_loader:\n",
    "            data = data.to(device)\n",
    "            target = target.to(device)\n",
    "            output = model(data)\n",
    "            \n",
    "            test_loss += F.nll_loss(output, target, size_average=False).item()\n",
    "            pred = output.max(1, keepdim=True)[1]\n",
    "            correct += pred.eq(target.view_as(pred)).sum().item()\n",
    "        \n",
    "        test_loss /= len(test_loader.dataset)\n",
    "        print('\\nTest set: Average loss: {:.4f}, Accuracy: {}/{} ({:.0f}%)\\n'\n",
    "              .format(test_loss, correct, \n",
    "                      len(test_loader.dataset),\n",
    "                      correct/len(test_loader.dataset)*100.))"
   ]
  },
  {
   "cell_type": "code",
   "execution_count": 8,
   "metadata": {},
   "outputs": [],
   "source": [
    "def convert_image_np(inp):\n",
    "    \"\"\"Convert a Tensor to numpy image.\"\"\"\n",
    "    inp = inp.numpy().transpose((1, 2, 0))\n",
    "    mean = np.array([0.485, 0.456, 0.406])\n",
    "    std = np.array([0.229, 0.224, 0.225])\n",
    "    inp = std * inp + mean\n",
    "    inp = np.clip(inp, 0, 1)\n",
    "    return inp"
   ]
  },
  {
   "cell_type": "code",
   "execution_count": 9,
   "metadata": {},
   "outputs": [],
   "source": [
    "def visualize_stn():\n",
    "    with torch.no_grad():\n",
    "        # Get a batch of training data\n",
    "        data = next(iter(test_loader))[0].to(device)\n",
    "\n",
    "        input_tensor = data.cpu()\n",
    "        transformed_input_tensor = model.stn(data).cpu()\n",
    "\n",
    "        in_grid = convert_image_np(\n",
    "            tv.utils.make_grid(input_tensor))\n",
    "\n",
    "        out_grid = convert_image_np(\n",
    "            tv.utils.make_grid(transformed_input_tensor))\n",
    "\n",
    "        # Plot the results side-by-side\n",
    "        f, axarr = plt.subplots(1, 2)\n",
    "        axarr[0].imshow(in_grid)\n",
    "        axarr[0].set_title('Dataset Images')\n",
    "\n",
    "        axarr[1].imshow(out_grid)\n",
    "        axarr[1].set_title('Transformed Images')"
   ]
  },
  {
   "cell_type": "code",
   "execution_count": 10,
   "metadata": {},
   "outputs": [
    {
     "name": "stdout",
     "output_type": "stream",
     "text": [
      "Train Epoch: 1 [0/60000 (0%)]\tLoss: 2.295361\n",
      "Train Epoch: 1 [16000/60000 (27%)]\tLoss: 1.115399\n",
      "Train Epoch: 1 [32000/60000 (53%)]\tLoss: 0.659999\n",
      "Train Epoch: 1 [48000/60000 (80%)]\tLoss: 0.409444\n",
      "\n",
      "Test set: Average loss: 0.1576, Accuracy: 9542/10000 (95%)\n",
      "\n",
      "Train Epoch: 2 [0/60000 (0%)]\tLoss: 0.285885\n",
      "Train Epoch: 2 [16000/60000 (27%)]\tLoss: 0.640837\n",
      "Train Epoch: 2 [32000/60000 (53%)]\tLoss: 0.286160\n",
      "Train Epoch: 2 [48000/60000 (80%)]\tLoss: 0.236922\n",
      "\n",
      "Test set: Average loss: 0.1237, Accuracy: 9622/10000 (96%)\n",
      "\n",
      "Train Epoch: 3 [0/60000 (0%)]\tLoss: 0.711693\n",
      "Train Epoch: 3 [16000/60000 (27%)]\tLoss: 0.385587\n",
      "Train Epoch: 3 [32000/60000 (53%)]\tLoss: 0.318184\n",
      "Train Epoch: 3 [48000/60000 (80%)]\tLoss: 0.162387\n",
      "\n",
      "Test set: Average loss: 0.0698, Accuracy: 9801/10000 (98%)\n",
      "\n",
      "Train Epoch: 4 [0/60000 (0%)]\tLoss: 0.167267\n",
      "Train Epoch: 4 [16000/60000 (27%)]\tLoss: 0.139122\n",
      "Train Epoch: 4 [32000/60000 (53%)]\tLoss: 0.687918\n",
      "Train Epoch: 4 [48000/60000 (80%)]\tLoss: 0.356661\n",
      "\n",
      "Test set: Average loss: 0.0806, Accuracy: 9746/10000 (97%)\n",
      "\n",
      "Train Epoch: 5 [0/60000 (0%)]\tLoss: 0.061063\n",
      "Train Epoch: 5 [16000/60000 (27%)]\tLoss: 0.123783\n",
      "Train Epoch: 5 [32000/60000 (53%)]\tLoss: 0.357167\n",
      "Train Epoch: 5 [48000/60000 (80%)]\tLoss: 0.045243\n",
      "\n",
      "Test set: Average loss: 0.0546, Accuracy: 9826/10000 (98%)\n",
      "\n",
      "Train Epoch: 6 [0/60000 (0%)]\tLoss: 0.063105\n",
      "Train Epoch: 6 [16000/60000 (27%)]\tLoss: 0.101045\n",
      "Train Epoch: 6 [32000/60000 (53%)]\tLoss: 0.251134\n",
      "Train Epoch: 6 [48000/60000 (80%)]\tLoss: 0.063618\n",
      "\n",
      "Test set: Average loss: 0.1254, Accuracy: 9604/10000 (96%)\n",
      "\n",
      "Train Epoch: 7 [0/60000 (0%)]\tLoss: 0.072604\n",
      "Train Epoch: 7 [16000/60000 (27%)]\tLoss: 0.238991\n",
      "Train Epoch: 7 [32000/60000 (53%)]\tLoss: 0.092746\n",
      "Train Epoch: 7 [48000/60000 (80%)]\tLoss: 0.288272\n",
      "\n",
      "Test set: Average loss: 0.0528, Accuracy: 9842/10000 (98%)\n",
      "\n",
      "Train Epoch: 8 [0/60000 (0%)]\tLoss: 0.117482\n",
      "Train Epoch: 8 [16000/60000 (27%)]\tLoss: 0.048648\n",
      "Train Epoch: 8 [32000/60000 (53%)]\tLoss: 0.167886\n",
      "Train Epoch: 8 [48000/60000 (80%)]\tLoss: 0.251281\n",
      "\n",
      "Test set: Average loss: 0.0546, Accuracy: 9824/10000 (98%)\n",
      "\n",
      "Train Epoch: 9 [0/60000 (0%)]\tLoss: 0.201459\n",
      "Train Epoch: 9 [16000/60000 (27%)]\tLoss: 0.241777\n",
      "Train Epoch: 9 [32000/60000 (53%)]\tLoss: 0.055033\n",
      "Train Epoch: 9 [48000/60000 (80%)]\tLoss: 0.107348\n",
      "\n",
      "Test set: Average loss: 0.0515, Accuracy: 9850/10000 (98%)\n",
      "\n",
      "Train Epoch: 10 [0/60000 (0%)]\tLoss: 0.045038\n",
      "Train Epoch: 10 [16000/60000 (27%)]\tLoss: 0.108499\n",
      "Train Epoch: 10 [32000/60000 (53%)]\tLoss: 0.027188\n",
      "Train Epoch: 10 [48000/60000 (80%)]\tLoss: 0.018394\n",
      "\n",
      "Test set: Average loss: 0.0479, Accuracy: 9863/10000 (99%)\n",
      "\n"
     ]
    }
   ],
   "source": [
    "for epoch in range(10):\n",
    "    train(epoch+1)\n",
    "    test()"
   ]
  },
  {
   "cell_type": "code",
   "execution_count": 11,
   "metadata": {},
   "outputs": [
    {
     "data": {
      "image/png": "[encoded data removed]",
      "text/plain": [
       "<Figure size 1152x576 with 2 Axes>"
      ]
     },
     "metadata": {
      "needs_background": "light"
     },
     "output_type": "display_data"
    }
   ],
   "source": [
    "visualize_stn()\n",
    "plt.ioff()\n",
    "plt.show()"
   ]
  },
  {
   "cell_type": "code",
   "execution_count": null,
   "metadata": {},
   "outputs": [],
   "source": []
  }
 ],
 "metadata": {
  "kernelspec": {
   "display_name": "Python 3.7.5 64-bit ('venv': virtualenv)",
   "language": "python",
   "name": "python37564bitvenvvirtualenv2799a71a01bd42628f916a772c3c212a"
  },
  "language_info": {
   "codemirror_mode": {
    "name": "ipython",
    "version": 3
   },
   "file_extension": ".py",
   "mimetype": "text/x-python",
   "name": "python",
   "nbconvert_exporter": "python",
   "pygments_lexer": "ipython3",
   "version": "3.6.9"
  }
 },
 "nbformat": 4,
 "nbformat_minor": 4
}
