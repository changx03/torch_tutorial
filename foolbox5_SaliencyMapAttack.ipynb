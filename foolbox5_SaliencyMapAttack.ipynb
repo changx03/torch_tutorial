{
 "cells": [
  {
   "cell_type": "code",
   "execution_count": 1,
   "metadata": {},
   "outputs": [
    {
     "name": "stdout",
     "output_type": "stream",
     "text": [
      "3.6.9 (default, Nov  7 2019, 10:44:02) \n",
      "[GCC 8.3.0]\n",
      "/usr/lib/python36.zip\n",
      "/usr/lib/python3.6\n",
      "/usr/lib/python3.6/lib-dynload\n",
      "\n",
      "/home/lukec/venv/lib/python3.6/site-packages\n",
      "/home/lukec/.local/lib/python3.6/site-packages\n",
      "/usr/local/lib/python3.6/dist-packages\n",
      "/usr/lib/python3/dist-packages\n",
      "/home/lukec/venv/lib/python3.6/site-packages/IPython/extensions\n",
      "/home/lukec/.ipython\n"
     ]
    }
   ],
   "source": [
    "# check virtual environment path\n",
    "import sys\n",
    "print(sys.version)\n",
    "print(*sys.path, sep='\\n')"
   ]
  },
  {
   "cell_type": "code",
   "execution_count": 2,
   "metadata": {},
   "outputs": [],
   "source": [
    "import numpy as np\n",
    "import matplotlib.pyplot as plt\n",
    "import time\n",
    "import os\n",
    "import torch\n",
    "import torch.nn as nn\n",
    "import torch.nn.functional as F\n",
    "from torch.utils.data import DataLoader\n",
    "import torchvision as tv\n",
    "import foolbox\n",
    "from foolbox.models import PyTorchModel\n",
    "import logging"
   ]
  },
  {
   "cell_type": "code",
   "execution_count": 3,
   "metadata": {},
   "outputs": [
    {
     "name": "stdout",
     "output_type": "stream",
     "text": [
      "cuda:0\n",
      "6\n"
     ]
    }
   ],
   "source": [
    "device = torch.device('cuda:0' if torch.cuda.is_available() else 'cpu')\n",
    "print(device)\n",
    "\n",
    "num_workers = os.cpu_count()\n",
    "print(num_workers)"
   ]
  },
  {
   "cell_type": "code",
   "execution_count": 4,
   "metadata": {},
   "outputs": [],
   "source": [
    "# parameters for trained CNN\n",
    "root = os.path.join('.', 'dataset_root')\n",
    "mean, std = [0.13066046], [0.30150425] # based on training set\n",
    "batch_size = 16\n",
    "lr = 0.01\n",
    "momentum=0.9\n",
    "step_size=10\n",
    "gamma=0.1\n",
    "epochs = 20\n",
    "model_path = 'mnist_cnn.pt'"
   ]
  },
  {
   "cell_type": "code",
   "execution_count": 5,
   "metadata": {},
   "outputs": [],
   "source": [
    "def imshow(tensor_grid, mean=0., std=1., title=None):\n",
    "    assert isinstance(tensor_grid, torch.Tensor)\n",
    "    assert len(tensor_grid.size()) == 4, \\\n",
    "        f'For a batch of images only, {tensor_grid.size()} '\n",
    "    \n",
    "    tensor_grid = tv.utils.make_grid(tensor_grid)\n",
    "    grid = tensor_grid.numpy().transpose((1,2,0))\n",
    "    grid = std * grid + mean\n",
    "    grid = np.clip(grid, 0, 1)\n",
    "    plt.imshow(grid)\n",
    "    \n",
    "    if title is not None:\n",
    "        plt.title(title)\n",
    "        \n",
    "    plt.pause(0.001)"
   ]
  },
  {
   "cell_type": "code",
   "execution_count": 6,
   "metadata": {},
   "outputs": [],
   "source": [
    "# prepare data\n",
    "# foolbox model expects raw numpy array as image\n",
    "transform = tv.transforms.Compose([\n",
    "        tv.transforms.ToTensor(),\n",
    "        tv.transforms.Normalize(mean, std)])\n",
    "train_dataset = tv.datasets.MNIST(\n",
    "    root,\n",
    "    train=True, \n",
    "    download=True,\n",
    "    transform=transform)\n",
    "test_dataset = tv.datasets.MNIST(\n",
    "    root,\n",
    "    train=False, \n",
    "    download=True,\n",
    "    transform=transform)\n",
    "\n",
    "train_loader = DataLoader(\n",
    "    train_dataset,\n",
    "    batch_size=batch_size,\n",
    "    shuffle=True,\n",
    "    num_workers=num_workers\n",
    ")\n",
    "test_loader = DataLoader(\n",
    "    test_dataset,\n",
    "    batch_size=batch_size,\n",
    "    shuffle=True,\n",
    "    num_workers=num_workers\n",
    ")"
   ]
  },
  {
   "cell_type": "code",
   "execution_count": 7,
   "metadata": {},
   "outputs": [],
   "source": [
    "# CNN\n",
    "# https://foolbox.readthedocs.io/en/stable/modules/models.html#foolbox.models.PyTorchModel\n",
    "# \"It should predict logits or log-probabilities, i.e. predictions without the softmax.\"\n",
    "class Net(nn.Module):\n",
    "    def __init__(self):\n",
    "        super(Net, self).__init__()\n",
    "        self.conv1 = nn.Conv2d(1, 32, 3, 1)\n",
    "        self.conv2 = nn.Conv2d(32, 64, 3, 1)\n",
    "        self.dropout1 = nn.Dropout2d(0.25)\n",
    "        self.dropout2 = nn.Dropout2d(0.5)\n",
    "        self.fc1 = nn.Linear(9216, 128)\n",
    "        self.fc2 = nn.Linear(128, 10)\n",
    "    \n",
    "    def forward(self, x):\n",
    "        x = self.conv1(x)\n",
    "        x = F.relu(x)\n",
    "        x = self.conv2(x)\n",
    "        x = F.max_pool2d(x, 2)\n",
    "        x = self.dropout1(x)\n",
    "        x = torch.flatten(x, 1)\n",
    "        x = self.fc1(x)\n",
    "        x = F.relu(x)\n",
    "        x = self.dropout2(x)\n",
    "        x = self.fc2(x)\n",
    "        # remove the softmax layer\n",
    "        x = F.log_softmax(x, dim=1)  # caveat log(softmax(x))\n",
    "        return x"
   ]
  },
  {
   "cell_type": "code",
   "execution_count": 8,
   "metadata": {},
   "outputs": [],
   "source": [
    "# load parameters\n",
    "model = Net()\n",
    "model.load_state_dict(torch.load(model_path))\n",
    "model.eval()\n",
    "model = model.to(device)"
   ]
  },
  {
   "cell_type": "code",
   "execution_count": 9,
   "metadata": {},
   "outputs": [],
   "source": [
    "def validate(loader):\n",
    "    model.eval()\n",
    "    total_loss = 0.\n",
    "    corrects = 0\n",
    "    \n",
    "    with torch.no_grad():\n",
    "        for x, y in loader:\n",
    "            x = x.to(device)\n",
    "            y = y.to(device)\n",
    "            batch_size = x.size(0)\n",
    "            output = model(x)\n",
    "            loss = F.nll_loss(output, y).item()\n",
    "            total_loss += loss * batch_size\n",
    "            preds = output.max(1, keepdim=True)[1]\n",
    "            corrects += preds.eq(y.view_as(preds)).sum().item()\n",
    "    \n",
    "    n = len(loader.dataset)\n",
    "    total_loss = total_loss / n\n",
    "    accuracy = corrects / n\n",
    "    return total_loss, accuracy"
   ]
  },
  {
   "cell_type": "code",
   "execution_count": 10,
   "metadata": {},
   "outputs": [
    {
     "name": "stdout",
     "output_type": "stream",
     "text": [
      "10000\n",
      "Test Loss: 0.0275 Accuracy: 99.1000%\n"
     ]
    }
   ],
   "source": [
    "print(len(test_loader.dataset))\n",
    "va_loss, va_acc = validate(test_loader)\n",
    "print('Test Loss: {:.4f} Accuracy: {:.4f}%'.format(va_loss, va_acc*100.))"
   ]
  },
  {
   "cell_type": "code",
   "execution_count": 11,
   "metadata": {},
   "outputs": [
    {
     "name": "stdout",
     "output_type": "stream",
     "text": [
      "torch.Size([16, 10])\n",
      "[-2.3127687e+01 -5.7220459e-06 -2.3099560e+01 -2.0508118e+01\n",
      " -1.2027435e+01 -1.9260912e+01 -2.1138998e+01 -1.4736856e+01\n",
      " -2.0907249e+01 -1.8600206e+01]\n"
     ]
    }
   ],
   "source": [
    "model.eval()\n",
    "with torch.no_grad():\n",
    "    x, y = next(iter(test_loader))\n",
    "    x = x.to(device)\n",
    "    y = y.to(device)\n",
    "    output = model(x)\n",
    "    print(output.size())\n",
    "    for i in output[:1].cpu().detach().numpy():\n",
    "        print(i)"
   ]
  },
  {
   "cell_type": "code",
   "execution_count": 12,
   "metadata": {},
   "outputs": [],
   "source": [
    "preprocessing = {'mean': mean, 'std': std, 'axis': -1}  # for single channel\n",
    "fmodel = PyTorchModel(\n",
    "    model, \n",
    "    bounds=(0, 1), \n",
    "    num_classes=10, \n",
    "    preprocessing=preprocessing,\n",
    "    channel_axis=1,\n",
    "    device=device)"
   ]
  },
  {
   "cell_type": "code",
   "execution_count": 13,
   "metadata": {},
   "outputs": [],
   "source": [
    "# a image loader without transform\n",
    "test_raw_dataset = tv.datasets.MNIST(\n",
    "    root,\n",
    "    train=False, \n",
    "    download=True,\n",
    "    transform=tv.transforms.Compose([\n",
    "        tv.transforms.ToTensor()]))\n",
    "\n",
    "test_raw_loader = DataLoader(\n",
    "    test_raw_dataset,\n",
    "    batch_size=batch_size,\n",
    "    shuffle=True,\n",
    "    num_workers=num_workers\n",
    ")"
   ]
  },
  {
   "cell_type": "code",
   "execution_count": 14,
   "metadata": {},
   "outputs": [
    {
     "name": "stdout",
     "output_type": "stream",
     "text": [
      "(16, 1, 28, 28) (16,)\n",
      "float32\n",
      "-25.45496 -9.294268 -13.375773 -9.335901 -23.949455 -26.460426 -30.1288 -0.00018119812 -15.622798 -18.70766\n",
      "(16, 10)\n",
      "1.0\n"
     ]
    }
   ],
   "source": [
    "# caveat: foolbox model is looking for raw image!\n",
    "with torch.no_grad():\n",
    "    x, y = next(iter(test_raw_loader))\n",
    "    np_x = x.numpy()\n",
    "    np_y = y.numpy()\n",
    "    print(np_x.shape, np_y.shape)\n",
    "    print(np_x.dtype)\n",
    "    \n",
    "    output = fmodel.forward(np_x)\n",
    "    print(*(output[0]), sep=' ')\n",
    "    pred = output.argmax(axis=-1)\n",
    "    print(output.shape)\n",
    "    accuracy = np.mean(pred == np_y)\n",
    "    print(accuracy)"
   ]
  },
  {
   "cell_type": "code",
   "execution_count": 15,
   "metadata": {},
   "outputs": [
    {
     "data": {
      "image/png": "[encoded data removed]",
      "text/plain": [
       "<Figure size 1152x576 with 1 Axes>"
      ]
     },
     "metadata": {
      "needs_background": "light"
     },
     "output_type": "display_data"
    }
   ],
   "source": [
    "plt.figure(figsize=[16,8])\n",
    "imshow(x[:16], title='MNIST')\n",
    "plt.show()"
   ]
  },
  {
   "cell_type": "code",
   "execution_count": 18,
   "metadata": {},
   "outputs": [
    {
     "name": "stderr",
     "output_type": "stream",
     "text": [
      "/home/lukec/venv/lib/python3.6/site-packages/foolbox/attacks/base.py:95: UserWarning: GradientAttack did not find an adversarial, maybe the model or the criterion is not supported by this attack.\n",
      "  \" attack.\".format(self.name())\n",
      "/home/lukec/venv/lib/python3.6/site-packages/foolbox/attacks/base.py:95: UserWarning: SaliencyMapAttack did not find an adversarial, maybe the model or the criterion is not supported by this attack.\n",
      "  \" attack.\".format(self.name())\n"
     ]
    },
    {
     "name": "stdout",
     "output_type": "stream",
     "text": [
      "output (16, 10)\n",
      "pred (16,)\n",
      "adversarials (16, 1, 28, 28)\n",
      "0.125\n"
     ]
    }
   ],
   "source": [
    "# https://foolbox.readthedocs.io/en/stable/modules/attacks/gradient.html#foolbox.attacks.SaliencyMapAttack\n",
    "attack = foolbox.attacks.SaliencyMapAttack(fmodel)\n",
    "adversarials = attack(\n",
    "    np_x, np_y,\n",
    "    # parameter for BoundaryAttack\n",
    "    max_iter=1000, \n",
    "    num_random_targets=0, \n",
    "    fast=True, \n",
    "    theta=0.1, \n",
    "    max_perturbations_per_pixel=7\n",
    ")\n",
    "output = fmodel.forward(adversarials)\n",
    "print('output', output.shape)\n",
    "pred = output.argmax(axis=1)\n",
    "print('pred', pred.shape)\n",
    "print('adversarials', adversarials.shape)\n",
    "print(np.mean(pred == np_y))"
   ]
  },
  {
   "cell_type": "code",
   "execution_count": 19,
   "metadata": {},
   "outputs": [
    {
     "data": {
      "image/png": "[encoded data removed]",
      "text/plain": [
       "<Figure size 1152x576 with 1 Axes>"
      ]
     },
     "metadata": {
      "needs_background": "light"
     },
     "output_type": "display_data"
    },
    {
     "name": "stdout",
     "output_type": "stream",
     "text": [
      "[3 5 0 4 8 4 1 1 0 2 2 7 9 1 4 5]\n",
      "[7 7 6 0 1 1 1 5 6 7 0 2 7 1 9 4]\n"
     ]
    }
   ],
   "source": [
    "img_tensor = torch.tensor(adversarials[:16])\n",
    "plt.figure(figsize=[16,8])\n",
    "imshow(img_tensor, title='MNIST')\n",
    "plt.show()\n",
    "\n",
    "print(pred[:16])\n",
    "print(np_y[:16])"
   ]
  },
  {
   "cell_type": "code",
   "execution_count": null,
   "metadata": {},
   "outputs": [],
   "source": []
  }
 ],
 "metadata": {
  "kernelspec": {
   "display_name": "Python 3.6.9 64-bit ('venv': venv)",
   "language": "python",
   "name": "python36964bitvenvvenv794a3f6500e74251b078ca195c3ad1e1"
  },
  "language_info": {
   "codemirror_mode": {
    "name": "ipython",
    "version": 3
   },
   "file_extension": ".py",
   "mimetype": "text/x-python",
   "name": "python",
   "nbconvert_exporter": "python",
   "pygments_lexer": "ipython3",
   "version": "3.6.9"
  }
 },
 "nbformat": 4,
 "nbformat_minor": 4
}
