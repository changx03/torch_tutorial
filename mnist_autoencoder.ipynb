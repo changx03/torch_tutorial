{
 "cells": [
  {
   "cell_type": "code",
   "execution_count": 1,
   "metadata": {},
   "outputs": [
    {
     "name": "stdout",
     "output_type": "stream",
     "text": [
      "3.6.9 (default, Nov  7 2019, 10:44:02) \n",
      "[GCC 8.3.0]\n",
      "/usr/lib/python36.zip\n",
      "/usr/lib/python3.6\n",
      "/usr/lib/python3.6/lib-dynload\n",
      "\n",
      "/home/lukec/venv/lib/python3.6/site-packages\n",
      "/home/lukec/Downloads/jax/build\n",
      "/home/lukec/.local/lib/python3.6/site-packages\n",
      "/usr/local/lib/python3.6/dist-packages\n",
      "/usr/lib/python3/dist-packages\n",
      "/home/lukec/venv/lib/python3.6/site-packages/IPython/extensions\n",
      "/home/lukec/.ipython\n"
     ]
    }
   ],
   "source": [
    "import sys\n",
    "print(sys.version)\n",
    "print(*sys.path, sep='\\n')"
   ]
  },
  {
   "cell_type": "code",
   "execution_count": 2,
   "metadata": {},
   "outputs": [],
   "source": [
    "import numpy as np\n",
    "import matplotlib.pyplot as plt\n",
    "import time\n",
    "import os\n",
    "import copy\n",
    "import torch\n",
    "import torch.nn as nn\n",
    "import torch.nn.functional as F\n",
    "from torch.utils.data import DataLoader\n",
    "import torchvision as tv"
   ]
  },
  {
   "cell_type": "code",
   "execution_count": 3,
   "metadata": {},
   "outputs": [
    {
     "name": "stdout",
     "output_type": "stream",
     "text": [
      "cuda:0\n",
      "6\n"
     ]
    }
   ],
   "source": [
    "device = torch.device('cuda:0' if torch.cuda.is_available() else 'cpu')\n",
    "print(device)\n",
    "\n",
    "num_workers = os.cpu_count()\n",
    "print(num_workers)"
   ]
  },
  {
   "cell_type": "code",
   "execution_count": 4,
   "metadata": {},
   "outputs": [],
   "source": [
    "# parameters for trained CNN\n",
    "ROOT = os.path.join('.', 'dataset_root')\n",
    "BATCH_SIZE = 64\n",
    "LEARNING_RATE = 1e-3\n",
    "WEIGHT_DECAY = 1e-5\n",
    "EPOCHS = 15"
   ]
  },
  {
   "cell_type": "code",
   "execution_count": 5,
   "metadata": {},
   "outputs": [],
   "source": [
    "def imshow(tensor_grid, mean=0., std=1., title=None):\n",
    "    assert isinstance(tensor_grid, torch.Tensor)\n",
    "    assert len(tensor_grid.size()) == 4, \\\n",
    "        f'For a batch of images only, {tensor_grid.size()} '\n",
    "    \n",
    "    tensor_grid = tv.utils.make_grid(tensor_grid)\n",
    "    grid = tensor_grid.numpy().transpose((1,2,0))\n",
    "    grid = std * grid + mean\n",
    "    grid = np.clip(grid, 0, 1)\n",
    "    plt.imshow(grid)\n",
    "    \n",
    "    if title is not None:\n",
    "        plt.title(title)\n",
    "        \n",
    "    plt.pause(0.001)"
   ]
  },
  {
   "cell_type": "code",
   "execution_count": 6,
   "metadata": {},
   "outputs": [],
   "source": [
    "# prepare data\n",
    "# foolbox model expects raw numpy array as image\n",
    "transform = tv.transforms.Compose([\n",
    "        tv.transforms.ToTensor(),\n",
    "#         tv.transforms.Normalize(mean, std)\n",
    "])\n",
    "train_dataset = tv.datasets.MNIST(\n",
    "    ROOT,\n",
    "    train=True, \n",
    "    download=True,\n",
    "    transform=transform)\n",
    "test_dataset = tv.datasets.MNIST(\n",
    "    ROOT,\n",
    "    train=False, \n",
    "    download=True,\n",
    "    transform=transform)\n",
    "\n",
    "train_loader = DataLoader(\n",
    "    train_dataset,\n",
    "    batch_size=BATCH_SIZE,\n",
    "    shuffle=True,\n",
    "    num_workers=num_workers\n",
    ")\n",
    "test_loader = DataLoader(\n",
    "    test_dataset,\n",
    "    batch_size=BATCH_SIZE,\n",
    "    shuffle=True,\n",
    "    num_workers=num_workers\n",
    ")"
   ]
  },
  {
   "cell_type": "code",
   "execution_count": 7,
   "metadata": {},
   "outputs": [
    {
     "name": "stdout",
     "output_type": "stream",
     "text": [
      "torch.Size([1, 1, 28, 28])\n",
      "torch.Size([1, 32, 26, 26])\n",
      "torch.Size([1, 32, 13, 13])\n",
      "torch.Size([1, 64, 6, 6])\n",
      "torch.Size([1, 64, 3, 3])\n",
      "torch.Size([1, 128, 1, 1])\n",
      "\n",
      "Decoding\n",
      "torch.Size([1, 64, 3, 3])\n",
      "torch.Size([1, 32, 7, 7])\n",
      "torch.Size([1, 32, 15, 15])\n",
      "torch.Size([1, 32, 26, 26])\n",
      "torch.Size([1, 1, 28, 28])\n"
     ]
    }
   ],
   "source": [
    "x = torch.rand(1, 1, 28, 28)\n",
    "print(x.size())\n",
    "\n",
    "conv = nn.Conv2d(1, 32, 3, 1)\n",
    "x = conv(x)\n",
    "print(x.size())\n",
    "pool = nn.MaxPool2d(2)\n",
    "x = pool(x)\n",
    "print(x.size())\n",
    "conv = nn.Conv2d(32, 64, 3, 2)\n",
    "x = conv(x)\n",
    "print(x.size())\n",
    "pool = nn.MaxPool2d(2)\n",
    "x = pool(x)\n",
    "print(x.size())\n",
    "conv = nn.Conv2d(64, 128, 3, 2)\n",
    "x = conv(x)\n",
    "print(x.size())\n",
    "\n",
    "print('\\nDecoding')\n",
    "convt = nn.ConvTranspose2d(128, 64, 3, 2)\n",
    "x = convt(x)\n",
    "print(x.size())\n",
    "convt = nn.ConvTranspose2d(64, 32, 3, 2)\n",
    "x = convt(x)\n",
    "print(x.size())\n",
    "convt = nn.ConvTranspose2d(32, 32, 3, 2)\n",
    "x = convt(x)\n",
    "print(x.size())\n",
    "up = nn.Upsample((26, 26), mode='bilinear', align_corners=True)\n",
    "x = up(x)\n",
    "print(x.size())\n",
    "convt = nn.ConvTranspose2d(32, 1, 3, 1)\n",
    "x = convt(x)\n",
    "print(x.size())"
   ]
  },
  {
   "cell_type": "code",
   "execution_count": 8,
   "metadata": {},
   "outputs": [],
   "source": [
    "class Autoencoder(nn.Module):\n",
    "    def __init__(self, batch_size=BATCH_SIZE):\n",
    "        super(Autoencoder, self).__init__()\n",
    "        self.batch_size = batch_size\n",
    "        \n",
    "        self.encoder = nn.Sequential(\n",
    "            nn.Conv2d(1, 32, 3, 1),\n",
    "            nn.ReLU(),\n",
    "            nn.MaxPool2d(2),\n",
    "            nn.Conv2d(32, 64, 3, 2),\n",
    "            nn.ReLU(),\n",
    "            nn.MaxPool2d(2),\n",
    "            nn.Conv2d(64, 128, 3, 2))\n",
    "        \n",
    "        self.decoder = nn.Sequential(\n",
    "            nn.ConvTranspose2d(128, 64, 3, 2),\n",
    "            nn.ReLU(),\n",
    "            nn.ConvTranspose2d(64, 32, 3, 2),\n",
    "            nn.ReLU(),\n",
    "            nn.ConvTranspose2d(32, 32, 3, 2),\n",
    "            nn.ReLU(),\n",
    "            nn.Upsample((26, 26), mode='bilinear', align_corners=True),\n",
    "            nn.ConvTranspose2d(32, 1, 3, 1),\n",
    "            nn.Tanh())\n",
    "                \n",
    "    def forward(self, x):\n",
    "        x = self.encoder(x)\n",
    "        x = self.decoder(x)\n",
    "        return x\n",
    "    \n",
    "    def encode(self, x):\n",
    "        assert isinstance(x, torch.Tensor) \\\n",
    "            and x.size() == (self.batch_size, 1, 28, 28)\n",
    "        return self.encoder(x)\n",
    "    \n",
    "    def decode(self, x):\n",
    "        assert isinstance(x, torch.Tensor) \\\n",
    "            and x.size() in ((self.batch_size, 128, 1, 1), (self.batch_size, 128))\n",
    "        \n",
    "        if x.size() == (self.batch_size, 128):\n",
    "            x = x.view(self.batch_size, 128, 1, 1)\n",
    "        \n",
    "        return self.decoder(x)"
   ]
  },
  {
   "cell_type": "code",
   "execution_count": 9,
   "metadata": {},
   "outputs": [
    {
     "data": {
      "text/plain": [
       "Autoencoder(\n",
       "  (encoder): Sequential(\n",
       "    (0): Conv2d(1, 32, kernel_size=(3, 3), stride=(1, 1))\n",
       "    (1): ReLU()\n",
       "    (2): MaxPool2d(kernel_size=2, stride=2, padding=0, dilation=1, ceil_mode=False)\n",
       "    (3): Conv2d(32, 64, kernel_size=(3, 3), stride=(2, 2))\n",
       "    (4): ReLU()\n",
       "    (5): MaxPool2d(kernel_size=2, stride=2, padding=0, dilation=1, ceil_mode=False)\n",
       "    (6): Conv2d(64, 128, kernel_size=(3, 3), stride=(2, 2))\n",
       "  )\n",
       "  (decoder): Sequential(\n",
       "    (0): ConvTranspose2d(128, 64, kernel_size=(3, 3), stride=(2, 2))\n",
       "    (1): ReLU()\n",
       "    (2): ConvTranspose2d(64, 32, kernel_size=(3, 3), stride=(2, 2))\n",
       "    (3): ReLU()\n",
       "    (4): ConvTranspose2d(32, 32, kernel_size=(3, 3), stride=(2, 2))\n",
       "    (5): ReLU()\n",
       "    (6): Upsample(size=(26, 26), mode=bilinear)\n",
       "    (7): ConvTranspose2d(32, 1, kernel_size=(3, 3), stride=(1, 1))\n",
       "    (8): Tanh()\n",
       "  )\n",
       ")"
      ]
     },
     "execution_count": 9,
     "metadata": {},
     "output_type": "execute_result"
    }
   ],
   "source": [
    "autoencoder = Autoencoder(BATCH_SIZE)\n",
    "autoencoder.to(device)"
   ]
  },
  {
   "cell_type": "code",
   "execution_count": 10,
   "metadata": {},
   "outputs": [
    {
     "name": "stdout",
     "output_type": "stream",
     "text": [
      "torch.Size([64, 1, 28, 28])\n",
      "torch.Size([64, 128, 1, 1])\n"
     ]
    },
    {
     "data": {
      "image/png": "[encoded data removed]",
      "text/plain": [
       "<Figure size 432x288 with 1 Axes>"
      ]
     },
     "metadata": {
      "needs_background": "light"
     },
     "output_type": "display_data"
    }
   ],
   "source": [
    "# sanity check\n",
    "# x are noise images\n",
    "x = torch.rand(BATCH_SIZE, 1, 28, 28)\n",
    "print(x.size())\n",
    "x = x.to(device)\n",
    "\n",
    "output = autoencoder(x)\n",
    "assert output.size() == x.size()\n",
    "\n",
    "en = autoencoder.encode(x)\n",
    "print(en.size())\n",
    "assert en.size() == (BATCH_SIZE, 128, 1, 1)\n",
    "\n",
    "de = autoencoder.decode(en)\n",
    "assert de.size() == x.size()\n",
    "\n",
    "# y are encoded images\n",
    "y = torch.randn(BATCH_SIZE, 128)\n",
    "y = y.to(device)\n",
    "de = autoencoder.decode(y)\n",
    "assert de.size() == x.size()\n",
    "\n",
    "plt.figure()\n",
    "imshow(output[:1].cpu().detach())\n",
    "plt.show()"
   ]
  },
  {
   "cell_type": "code",
   "execution_count": 11,
   "metadata": {},
   "outputs": [],
   "source": [
    "optimizer = torch.optim.Adam(\n",
    "    autoencoder.parameters(), \n",
    "    lr=LEARNING_RATE, \n",
    "    weight_decay=WEIGHT_DECAY)"
   ]
  },
  {
   "cell_type": "code",
   "execution_count": 12,
   "metadata": {},
   "outputs": [],
   "source": [
    "def train(autoencoder, loader, optimizer, epochs=EPOCHS):\n",
    "    autoencoder.train()\n",
    "    \n",
    "    for epoch in range(epochs):\n",
    "        since = time.time()\n",
    "        for x, y in loader:\n",
    "            x = x.to(device)\n",
    "\n",
    "            optimizer.zero_grad()\n",
    "            outputs = autoencoder(x)\n",
    "            loss = F.mse_loss(outputs, x)\n",
    "            loss.backward()    \n",
    "            optimizer.step()\n",
    "        \n",
    "        time_elapsed = time.time() - since\n",
    "        print('Epoch: {:2d} - Time: {:.0f}m {:.1f}s - Loss: {:.4f}'.format(\n",
    "            epoch + 1,\n",
    "            time_elapsed // 60, time_elapsed % 60,\n",
    "            loss.item()))"
   ]
  },
  {
   "cell_type": "code",
   "execution_count": 13,
   "metadata": {},
   "outputs": [
    {
     "name": "stdout",
     "output_type": "stream",
     "text": [
      "Epoch:  1 - Time: 0m 4.1s - Loss: 0.0113\n",
      "Epoch:  2 - Time: 0m 4.0s - Loss: 0.0064\n",
      "Epoch:  3 - Time: 0m 3.9s - Loss: 0.0068\n",
      "Epoch:  4 - Time: 0m 3.9s - Loss: 0.0054\n",
      "Epoch:  5 - Time: 0m 4.0s - Loss: 0.0052\n",
      "Epoch:  6 - Time: 0m 3.9s - Loss: 0.0051\n",
      "Epoch:  7 - Time: 0m 4.0s - Loss: 0.0051\n",
      "Epoch:  8 - Time: 0m 3.9s - Loss: 0.0045\n",
      "Epoch:  9 - Time: 0m 3.8s - Loss: 0.0049\n",
      "Epoch: 10 - Time: 0m 3.8s - Loss: 0.0053\n",
      "Epoch: 11 - Time: 0m 3.9s - Loss: 0.0044\n",
      "Epoch: 12 - Time: 0m 3.9s - Loss: 0.0042\n",
      "Epoch: 13 - Time: 0m 3.9s - Loss: 0.0043\n",
      "Epoch: 14 - Time: 0m 3.9s - Loss: 0.0038\n",
      "Epoch: 15 - Time: 0m 3.9s - Loss: 0.0044\n",
      "Training completed in 0m 58.8s\n"
     ]
    }
   ],
   "source": [
    "since = time.time()\n",
    "\n",
    "train(autoencoder, train_loader, optimizer)\n",
    "\n",
    "time_elapsed = time.time() - since\n",
    "print('Training completed in {:.0f}m {:.1f}s'.format(\n",
    "    time_elapsed // 60,\n",
    "    time_elapsed % 60))"
   ]
  },
  {
   "cell_type": "code",
   "execution_count": 14,
   "metadata": {},
   "outputs": [
    {
     "data": {
      "image/png": "[encoded data removed]",
      "text/plain": [
       "<Figure size 1152x576 with 1 Axes>"
      ]
     },
     "metadata": {
      "needs_background": "light"
     },
     "output_type": "display_data"
    },
    {
     "data": {
      "image/png": "[encoded data removed]",
      "text/plain": [
       "<Figure size 1152x576 with 1 Axes>"
      ]
     },
     "metadata": {
      "needs_background": "light"
     },
     "output_type": "display_data"
    }
   ],
   "source": [
    "inputs = next(iter(test_loader))[0]\n",
    "inputs = inputs[:8].to(device)\n",
    "outpus = autoencoder(inputs)\n",
    "\n",
    "plt.figure(figsize=[16, 8])\n",
    "imshow(inputs.cpu().detach())\n",
    "plt.show()\n",
    "\n",
    "plt.figure(figsize=[16, 8])\n",
    "imshow(outpus.cpu().detach())\n",
    "plt.show()"
   ]
  },
  {
   "cell_type": "code",
   "execution_count": 15,
   "metadata": {},
   "outputs": [],
   "source": [
    "torch.save(autoencoder.state_dict(), 'mnist_autoencoder.pt')"
   ]
  },
  {
   "cell_type": "code",
   "execution_count": null,
   "metadata": {},
   "outputs": [],
   "source": []
  }
 ],
 "metadata": {
  "kernelspec": {
   "display_name": "Python 3",
   "language": "python",
   "name": "python3"
  },
  "language_info": {
   "codemirror_mode": {
    "name": "ipython",
    "version": 3
   },
   "file_extension": ".py",
   "mimetype": "text/x-python",
   "name": "python",
   "nbconvert_exporter": "python",
   "pygments_lexer": "ipython3",
   "version": "3.6.9"
  }
 },
 "nbformat": 4,
 "nbformat_minor": 4
}
