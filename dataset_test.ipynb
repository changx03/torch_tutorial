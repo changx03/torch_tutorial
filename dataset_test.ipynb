{
 "cells": [
  {
   "cell_type": "code",
   "execution_count": 1,
   "metadata": {},
   "outputs": [
    {
     "name": "stdout",
     "output_type": "stream",
     "text": [
      "cuda:0\n",
      "6\n"
     ]
    }
   ],
   "source": [
    "import os\n",
    "import numpy as np\n",
    "import matplotlib.pyplot as plt\n",
    "import torch\n",
    "import torchvision as tv\n",
    "\n",
    "device = torch.device('cuda:0' if torch.cuda.is_available else 'cpu')\n",
    "print(device)\n",
    "\n",
    "num_workers = os.cpu_count()\n",
    "print(num_workers)\n",
    "\n",
    "plt.ion()  # interactive mode"
   ]
  },
  {
   "cell_type": "code",
   "execution_count": 2,
   "metadata": {},
   "outputs": [
    {
     "name": "stdout",
     "output_type": "stream",
     "text": [
      "Path directory: ./dataset_root\n"
     ]
    }
   ],
   "source": [
    "dataset_dir = os.path.join('.', 'dataset_root')\n",
    "print(f'Path directory: {dataset_dir}')\n",
    "batch_size = 128"
   ]
  },
  {
   "cell_type": "code",
   "execution_count": 3,
   "metadata": {},
   "outputs": [],
   "source": [
    "def get_mean_std(dataloader, c=1):\n",
    "    ''' Computes mean and standard deviation from a dataloader (training set \n",
    "    is prefered),\n",
    "    '''\n",
    "    n = len(dataloader.dataset)\n",
    "    print(f'# of samples = {n}')\n",
    "    mean = torch.zeros(c)\n",
    "    std = torch.zeros(c)\n",
    "\n",
    "    for bx, _ in dataloader_mnist_train:\n",
    "        b, c, h, w = bx.size()  # last batch has fewer images\n",
    "        bx = bx.view(b, c, -1)\n",
    "        mean += bx.mean(2).sum(0)\n",
    "        std += bx.std(2).sum(0)\n",
    "\n",
    "    mean = (mean / n).numpy()\n",
    "    std = (std / n).numpy()\n",
    "    return mean, std"
   ]
  },
  {
   "cell_type": "code",
   "execution_count": 9,
   "metadata": {},
   "outputs": [],
   "source": [
    "def imshow(tensor_grid, mean=0., std=1., title=None):\n",
    "    assert len(tensor_grid.size()) == 4, \\\n",
    "        f'For a batch of images only, {tensor_grid.size()} '\n",
    "    \n",
    "    tensor_grid = tv.utils.make_grid(tensor_grid)\n",
    "    grid = tensor_grid.numpy().transpose((1,2,0))\n",
    "    grid = std * grid + mean\n",
    "    grid = np.clip(grid, 0, 1)\n",
    "    plt.imshow(grid)\n",
    "    \n",
    "    if title is not None:\n",
    "        plt.title(title)\n",
    "        \n",
    "    plt.pause(0.001)"
   ]
  },
  {
   "cell_type": "code",
   "execution_count": 5,
   "metadata": {},
   "outputs": [
    {
     "name": "stdout",
     "output_type": "stream",
     "text": [
      "60000\n"
     ]
    }
   ],
   "source": [
    "dataset_mnist_train = tv.datasets.MNIST(\n",
    "    root=dataset_dir, \n",
    "    train= True,\n",
    "    download=True,    \n",
    "    transform=tv.transforms.Compose([\n",
    "        tv.transforms.ToTensor(),\n",
    "    ]))\n",
    "\n",
    "dataloader_mnist_train = torch.utils.data.DataLoader(\n",
    "    dataset_mnist_train,\n",
    "    batch_size=batch_size,\n",
    "    shuffle=True,\n",
    "    num_workers=num_workers)\n",
    "\n",
    "n_train = len(dataloader_mnist_train.dataset)\n",
    "print(n_train)"
   ]
  },
  {
   "cell_type": "code",
   "execution_count": 6,
   "metadata": {},
   "outputs": [
    {
     "name": "stdout",
     "output_type": "stream",
     "text": [
      "# of samples = 60000\n",
      "[0.13066049] [0.30150452]\n",
      "batch size torch.Size([128, 1, 28, 28])\n"
     ]
    }
   ],
   "source": [
    "mean, std = get_mean_std(dataloader_mnist_train, 1)\n",
    "print(mean, std)\n",
    "print('batch size' , next(iter(dataloader_mnist_train))[0].size())"
   ]
  },
  {
   "cell_type": "code",
   "execution_count": 7,
   "metadata": {},
   "outputs": [
    {
     "name": "stdout",
     "output_type": "stream",
     "text": [
      "Train = 60000, Test = 10000\n"
     ]
    }
   ],
   "source": [
    "dataset_mnist_train = tv.datasets.MNIST(\n",
    "    root=dataset_dir, \n",
    "    train=True,\n",
    "    download=True,    \n",
    "    transform=tv.transforms.Compose([\n",
    "        tv.transforms.ToTensor(),\n",
    "        tv.transforms.Normalize(mean, std)\n",
    "    ]))\n",
    "\n",
    "dataloader_mnist_train = torch.utils.data.DataLoader(\n",
    "    dataset_mnist_train,\n",
    "    batch_size=batch_size,\n",
    "    shuffle=True,\n",
    "    num_workers=num_workers)\n",
    "    \n",
    "\n",
    "dataset_mnist_test = tv.datasets.MNIST(\n",
    "    root=dataset_dir,\n",
    "    train=False,\n",
    "    download=True,    \n",
    "    transform=tv.transforms.Compose([\n",
    "        tv.transforms.ToTensor(),\n",
    "        tv.transforms.Normalize(mean, std)\n",
    "    ]))\n",
    "dataloader_mnist_test = torch.utils.data.DataLoader(\n",
    "    dataset_mnist_test,\n",
    "    batch_size=batch_size,\n",
    "    shuffle=True,\n",
    "    num_workers=num_workers)\n",
    "\n",
    "n_train = len(dataloader_mnist_train.dataset)\n",
    "n_test = len(dataloader_mnist_test.dataset)\n",
    "print(f'Train = {n_train}, Test = {n_test}')"
   ]
  },
  {
   "cell_type": "code",
   "execution_count": 13,
   "metadata": {},
   "outputs": [
    {
     "data": {
      "image/png": "[encoded data removed]",
      "text/plain": [
       "<Figure size 1152x576 with 1 Axes>"
      ]
     },
     "metadata": {
      "needs_background": "light"
     },
     "output_type": "display_data"
    }
   ],
   "source": [
    "images = next(iter(dataloader_mnist_train))[0]\n",
    "plt.figure(figsize=[16,8])\n",
    "# imshow(images[:16], mean=mean, std=std, title='MNIST')\n",
    "imshow(images[:16], mean=mean, std=std, title='MNIST')\n",
    "plt.show()"
   ]
  },
  {
   "cell_type": "code",
   "execution_count": null,
   "metadata": {},
   "outputs": [],
   "source": []
  }
 ],
 "metadata": {
  "kernelspec": {
   "display_name": "Python 3",
   "language": "python",
   "name": "python3"
  },
  "language_info": {
   "codemirror_mode": {
    "name": "ipython",
    "version": 3
   },
   "file_extension": ".py",
   "mimetype": "text/x-python",
   "name": "python",
   "nbconvert_exporter": "python",
   "pygments_lexer": "ipython3",
   "version": "3.6.9"
  }
 },
 "nbformat": 4,
 "nbformat_minor": 4
}
