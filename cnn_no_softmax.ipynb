{
 "cells": [
  {
   "cell_type": "code",
   "execution_count": null,
   "metadata": {},
   "outputs": [],
   "source": [
    "import sys\n",
    "print(sys.version)\n",
    "print(*sys.path, sep='\\n')"
   ]
  },
  {
   "cell_type": "code",
   "execution_count": 2,
   "metadata": {},
   "outputs": [],
   "source": [
    "import numpy as np\n",
    "import matplotlib.pyplot as plt\n",
    "import time\n",
    "import os\n",
    "import torch\n",
    "import torch.nn as nn\n",
    "import torch.nn.functional as F\n",
    "from torch.utils.data import DataLoader\n",
    "import torchvision as tv"
   ]
  },
  {
   "cell_type": "code",
   "execution_count": 3,
   "metadata": {},
   "outputs": [
    {
     "name": "stdout",
     "output_type": "stream",
     "text": [
      "cuda:0\n",
      "6\n"
     ]
    }
   ],
   "source": [
    "device = torch.device('cuda:0' if torch.cuda.is_available() else 'cpu')\n",
    "print(device)\n",
    "\n",
    "num_workers = os.cpu_count()\n",
    "print(num_workers)"
   ]
  },
  {
   "cell_type": "code",
   "execution_count": 4,
   "metadata": {},
   "outputs": [],
   "source": [
    "# parameters for trained CNN\n",
    "root = os.path.join('.', 'dataset_root')\n",
    "# mean, std = [0.13066046], [0.30150425] # based on training set\n",
    "batch_size = 64\n",
    "lr = 0.001\n",
    "epochs = 30"
   ]
  },
  {
   "cell_type": "code",
   "execution_count": 5,
   "metadata": {},
   "outputs": [],
   "source": [
    "def imshow(tensor_grid, mean=0., std=1., title=None):\n",
    "    assert isinstance(tensor_grid, torch.Tensor)\n",
    "    assert len(tensor_grid.size()) == 4, \\\n",
    "        f'For a batch of images only, {tensor_grid.size()} '\n",
    "    \n",
    "    tensor_grid = tv.utils.make_grid(tensor_grid)\n",
    "    grid = tensor_grid.numpy().transpose((1,2,0))\n",
    "    grid = std * grid + mean\n",
    "    grid = np.clip(grid, 0, 1)\n",
    "    plt.imshow(grid)\n",
    "    \n",
    "    if title is not None:\n",
    "        plt.title(title)\n",
    "        \n",
    "    plt.pause(0.001)"
   ]
  },
  {
   "cell_type": "code",
   "execution_count": 6,
   "metadata": {},
   "outputs": [],
   "source": [
    "# prepare data\n",
    "# foolbox model expects raw numpy array as image\n",
    "transform = tv.transforms.Compose([\n",
    "        tv.transforms.ToTensor(),\n",
    "#         tv.transforms.Normalize(mean, std)\n",
    "])\n",
    "train_dataset = tv.datasets.MNIST(\n",
    "    root,\n",
    "    train=True, \n",
    "    download=True,\n",
    "    transform=transform)\n",
    "test_dataset = tv.datasets.MNIST(\n",
    "    root,\n",
    "    train=False, \n",
    "    download=True,\n",
    "    transform=transform)\n",
    "\n",
    "train_loader = DataLoader(\n",
    "    train_dataset,\n",
    "    batch_size=batch_size,\n",
    "    shuffle=True,\n",
    "    num_workers=num_workers\n",
    ")\n",
    "test_loader = DataLoader(\n",
    "    test_dataset,\n",
    "    batch_size=batch_size,\n",
    "    shuffle=True,\n",
    "    num_workers=num_workers\n",
    ")"
   ]
  },
  {
   "cell_type": "code",
   "execution_count": 7,
   "metadata": {},
   "outputs": [],
   "source": [
    "class Net(nn.Module):\n",
    "    def __init__(self):\n",
    "        super(Net, self).__init__()\n",
    "        self.conv1 = nn.Conv2d(1, 8, 3, 1)\n",
    "        self.dropout1 = nn.Dropout2d(0.25)\n",
    "        self.fc1 = nn.Linear(int(((28 - (3-1)) / 2)**2 * 8), 128)\n",
    "        self.fc2 = nn.Linear(128, 10)\n",
    "    \n",
    "    def forward(self, x):\n",
    "        x = F.relu(self.conv1(x))\n",
    "        x = F.max_pool2d(x, 2)\n",
    "        x = self.dropout1(x)\n",
    "        x = torch.flatten(x, 1)\n",
    "        x = self.fc1(x)\n",
    "        x = F.relu(x)\n",
    "        x = self.fc2(x)\n",
    "        return x"
   ]
  },
  {
   "cell_type": "code",
   "execution_count": 8,
   "metadata": {},
   "outputs": [],
   "source": [
    "def train(model, loader, optimizer):\n",
    "    model.train()\n",
    "    total_loss = 0.\n",
    "    corrects = 0\n",
    "    \n",
    "    for x, y in loader:\n",
    "        x = x.to(device)\n",
    "        y = y.to(device)\n",
    "        batch_size = x.size(0)\n",
    "        \n",
    "        optimizer.zero_grad()\n",
    "        output = model(x)\n",
    "        loss = F.nll_loss(output, y)\n",
    "        loss.backward()\n",
    "        optimizer.step()\n",
    "\n",
    "        # for display\n",
    "        total_loss += loss.item() * batch_size\n",
    "        preds = output.max(1, keepdim=True)[1]\n",
    "        corrects += preds.eq(y.view_as(preds)).sum().item()\n",
    "    \n",
    "    n = len(train_loader.dataset)\n",
    "    total_loss = total_loss / n\n",
    "    accuracy = corrects / n\n",
    "    return total_loss, accuracy"
   ]
  },
  {
   "cell_type": "code",
   "execution_count": 9,
   "metadata": {},
   "outputs": [],
   "source": [
    "def validate(model, loader):\n",
    "    model.eval()\n",
    "    total_loss = 0.\n",
    "    corrects = 0\n",
    "    \n",
    "    with torch.no_grad():\n",
    "        for x, y in loader:\n",
    "            x = x.to(device)\n",
    "            y = y.to(device)\n",
    "            batch_size = x.size(0)\n",
    "            output = model(x)\n",
    "            loss = F.nll_loss(output, y)\n",
    "            total_loss += loss.item() * batch_size\n",
    "            preds = output.max(1, keepdim=True)[1]\n",
    "            corrects += preds.eq(y.view_as(preds)).sum().item()\n",
    "    \n",
    "    n = len(test_loader.dataset)\n",
    "    total_loss = total_loss / n\n",
    "    accuracy = corrects / n\n",
    "    return total_loss, accuracy"
   ]
  },
  {
   "cell_type": "code",
   "execution_count": 10,
   "metadata": {},
   "outputs": [],
   "source": [
    "# NOTE: NO GPU AT SCHOOL!\n",
    "model = Net()\n",
    "model_softmax = torch.nn.Sequential(\n",
    "    model,\n",
    "    torch.nn.LogSoftmax(dim=1)\n",
    ")\n",
    "model_softmax.to(device)\n",
    "optimizer = torch.optim.SGD(model_softmax.parameters(), lr=lr)"
   ]
  },
  {
   "cell_type": "code",
   "execution_count": 12,
   "metadata": {},
   "outputs": [
    {
     "name": "stdout",
     "output_type": "stream",
     "text": [
      "[ 1] 0m 2.1s Train Loss: 2.2541 Accuracy: 32.0733%, Test Loss: 2.1774 Accuracy: 56.1800%\n",
      "[ 2] 0m 2.0s Train Loss: 2.0411 Accuracy: 58.3683%, Test Loss: 1.8069 Accuracy: 70.1900%\n",
      "[ 3] 0m 2.0s Train Loss: 1.5100 Accuracy: 70.7017%, Test Loss: 1.1127 Accuracy: 79.1700%\n",
      "[ 4] 0m 2.0s Train Loss: 0.9823 Accuracy: 79.5967%, Test Loss: 0.7097 Accuracy: 84.0700%\n",
      "[ 5] 0m 2.0s Train Loss: 0.7287 Accuracy: 83.5467%, Test Loss: 0.5413 Accuracy: 86.5500%\n",
      "[ 6] 0m 2.3s Train Loss: 0.6090 Accuracy: 85.7550%, Test Loss: 0.4591 Accuracy: 88.0200%\n",
      "[ 7] 0m 2.2s Train Loss: 0.5392 Accuracy: 87.0733%, Test Loss: 0.4111 Accuracy: 88.9300%\n",
      "[ 8] 0m 2.1s Train Loss: 0.5000 Accuracy: 87.7367%, Test Loss: 0.3813 Accuracy: 89.3900%\n",
      "[ 9] 0m 2.3s Train Loss: 0.4654 Accuracy: 88.3217%, Test Loss: 0.3616 Accuracy: 89.8000%\n",
      "[10] 0m 2.1s Train Loss: 0.4477 Accuracy: 88.7600%, Test Loss: 0.3474 Accuracy: 89.9900%\n",
      "[11] 0m 2.0s Train Loss: 0.4336 Accuracy: 89.0167%, Test Loss: 0.3374 Accuracy: 90.3800%\n",
      "[12] 0m 2.1s Train Loss: 0.4175 Accuracy: 89.2817%, Test Loss: 0.3283 Accuracy: 90.6000%\n",
      "[13] 0m 2.0s Train Loss: 0.4083 Accuracy: 89.5850%, Test Loss: 0.3195 Accuracy: 90.9200%\n",
      "[14] 0m 2.0s Train Loss: 0.4008 Accuracy: 89.8233%, Test Loss: 0.3121 Accuracy: 91.1400%\n",
      "[15] 0m 2.0s Train Loss: 0.3921 Accuracy: 90.0167%, Test Loss: 0.3059 Accuracy: 91.2600%\n",
      "[16] 0m 2.0s Train Loss: 0.3829 Accuracy: 90.0917%, Test Loss: 0.3010 Accuracy: 91.4200%\n",
      "[17] 0m 2.1s Train Loss: 0.3761 Accuracy: 90.2467%, Test Loss: 0.2963 Accuracy: 91.5700%\n",
      "[18] 0m 2.1s Train Loss: 0.3691 Accuracy: 90.4583%, Test Loss: 0.2918 Accuracy: 91.7300%\n",
      "[19] 0m 2.0s Train Loss: 0.3643 Accuracy: 90.5783%, Test Loss: 0.2892 Accuracy: 91.8000%\n",
      "[20] 0m 2.0s Train Loss: 0.3581 Accuracy: 90.7283%, Test Loss: 0.2827 Accuracy: 91.7900%\n",
      "[21] 0m 2.0s Train Loss: 0.3533 Accuracy: 90.8617%, Test Loss: 0.2805 Accuracy: 91.8300%\n",
      "[22] 0m 2.0s Train Loss: 0.3446 Accuracy: 90.9750%, Test Loss: 0.2752 Accuracy: 92.0600%\n",
      "[23] 0m 2.1s Train Loss: 0.3429 Accuracy: 91.1067%, Test Loss: 0.2707 Accuracy: 92.2600%\n",
      "[24] 0m 2.0s Train Loss: 0.3358 Accuracy: 91.3550%, Test Loss: 0.2678 Accuracy: 92.3800%\n",
      "[25] 0m 2.0s Train Loss: 0.3332 Accuracy: 91.4267%, Test Loss: 0.2652 Accuracy: 92.2100%\n",
      "[26] 0m 2.0s Train Loss: 0.3257 Accuracy: 91.4933%, Test Loss: 0.2603 Accuracy: 92.4100%\n",
      "[27] 0m 2.0s Train Loss: 0.3239 Accuracy: 91.5583%, Test Loss: 0.2587 Accuracy: 92.6500%\n",
      "[28] 0m 2.0s Train Loss: 0.3179 Accuracy: 91.6417%, Test Loss: 0.2545 Accuracy: 92.7300%\n",
      "[29] 0m 2.1s Train Loss: 0.3144 Accuracy: 91.8567%, Test Loss: 0.2532 Accuracy: 92.7500%\n",
      "[30] 0m 2.0s Train Loss: 0.3108 Accuracy: 91.9517%, Test Loss: 0.2478 Accuracy: 92.8300%\n",
      "Total run time: 1m 2.2s\n"
     ]
    }
   ],
   "source": [
    "since = time.time()\n",
    "for epoch in range(epochs):\n",
    "    start = time.time()\n",
    "    tr_loss, tr_acc = train(model_softmax, train_loader, optimizer)\n",
    "    va_loss, va_acc = validate(model_softmax, test_loader)\n",
    "    \n",
    "    time_elapsed = time.time() - start\n",
    "    print(('[{:2d}] {:.0f}m {:.1f}s Train Loss: {:.4f} Accuracy: {:.4f}%, ' +\n",
    "        'Test Loss: {:.4f} Accuracy: {:.4f}%').format(\n",
    "            epoch+1, time_elapsed // 60, time_elapsed % 60,\n",
    "            tr_loss, tr_acc*100.,\n",
    "            va_loss, va_acc*100.))\n",
    "    \n",
    "    # exit early\n",
    "#     if va_acc > 0.98:\n",
    "#         break\n",
    "    \n",
    "time_elapsed = time.time() - since\n",
    "print('Total run time: {:.0f}m {:.1f}s'.format(\n",
    "    time_elapsed // 60,\n",
    "    time_elapsed % 60))"
   ]
  },
  {
   "cell_type": "code",
   "execution_count": 13,
   "metadata": {},
   "outputs": [],
   "source": [
    "torch.save(model.state_dict(), 'mnist_simple_nosoftmax.pt')\n",
    "torch.save(model_softmax.state_dict(), 'mnist_simple_full.pt')"
   ]
  },
  {
   "cell_type": "code",
   "execution_count": null,
   "metadata": {},
   "outputs": [],
   "source": []
  }
 ],
 "metadata": {
  "kernelspec": {
   "display_name": "Python 3",
   "language": "python",
   "name": "python3"
  },
  "language_info": {
   "codemirror_mode": {
    "name": "ipython",
    "version": 3
   },
   "file_extension": ".py",
   "mimetype": "text/x-python",
   "name": "python",
   "nbconvert_exporter": "python",
   "pygments_lexer": "ipython3",
   "version": "3.6.9"
  }
 },
 "nbformat": 4,
 "nbformat_minor": 4
}
