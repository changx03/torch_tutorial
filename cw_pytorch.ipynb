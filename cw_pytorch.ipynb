{
 "cells": [
  {
   "cell_type": "code",
   "execution_count": null,
   "metadata": {},
   "outputs": [],
   "source": [
    "import sys\n",
    "\n",
    "print(sys.version)\n",
    "print(*sys.path, sep='\\n')"
   ]
  },
  {
   "cell_type": "code",
   "execution_count": 2,
   "metadata": {},
   "outputs": [],
   "source": [
    "import numpy as np\n",
    "import matplotlib.pyplot as plt\n",
    "import time\n",
    "import os\n",
    "import torch\n",
    "import torch.nn as nn\n",
    "import torch.nn.functional as F\n",
    "from torch.utils.data import DataLoader\n",
    "import torchvision as tv"
   ]
  },
  {
   "cell_type": "code",
   "execution_count": 3,
   "metadata": {},
   "outputs": [
    {
     "name": "stdout",
     "output_type": "stream",
     "text": [
      "cuda:0\n",
      "6\n"
     ]
    }
   ],
   "source": [
    "device = torch.device('cuda:0' if torch.cuda.is_available() else 'cpu')\n",
    "# device = 'cpu'  # use CPU for testing. GPU doesn't have inf and nan. It could overflow.\n",
    "print(device)\n",
    "\n",
    "num_workers = os.cpu_count()\n",
    "print(num_workers)"
   ]
  },
  {
   "cell_type": "code",
   "execution_count": 4,
   "metadata": {},
   "outputs": [],
   "source": [
    "# parameters for trained CNN\n",
    "root = os.path.join('.', 'dataset_root')\n",
    "model_path = os.path.join('.', 'mnist_simple_full.pt')\n",
    "# mean, std = [0.13066046], [0.30150425] # based on training set\n",
    "BATCH_SIZE = 8\n",
    "NUM_CLASSES = 10"
   ]
  },
  {
   "cell_type": "code",
   "execution_count": 5,
   "metadata": {},
   "outputs": [],
   "source": [
    "def imshow(tensor_grid, mean=0., std=1., title=None):\n",
    "    assert isinstance(tensor_grid, torch.Tensor)\n",
    "    assert len(tensor_grid.size()) == 4, \\\n",
    "        f'For a batch of images only, {tensor_grid.size()} '\n",
    "    \n",
    "    tensor_grid = tv.utils.make_grid(tensor_grid)\n",
    "    grid = tensor_grid.numpy().transpose((1,2,0))\n",
    "    grid = std * grid + mean\n",
    "    grid = np.clip(grid, 0, 1)\n",
    "    plt.imshow(grid)\n",
    "    \n",
    "    if title is not None:\n",
    "        plt.title(title)\n",
    "        \n",
    "    plt.pause(0.001)"
   ]
  },
  {
   "cell_type": "code",
   "execution_count": 6,
   "metadata": {},
   "outputs": [],
   "source": [
    "# prepare data\n",
    "# foolbox model expects raw numpy array as image\n",
    "# NOTE: the normalize function put range to [-.4, 2.8]! NO!\n",
    "# https://developers.google.com/machine-learning/data-prep/transform/normalization\n",
    "transform = tv.transforms.Compose([\n",
    "        tv.transforms.ToTensor(),\n",
    "#         tv.transforms.Normalize(mean, std)\n",
    "])\n",
    "\n",
    "test_dataset = tv.datasets.MNIST(\n",
    "    root,\n",
    "    train=False, \n",
    "    download=True,\n",
    "    transform=transform\n",
    ")\n",
    "\n",
    "test_loader = DataLoader(\n",
    "    test_dataset,\n",
    "    batch_size=BATCH_SIZE,\n",
    "    shuffle=True,\n",
    "    num_workers=num_workers\n",
    ")"
   ]
  },
  {
   "cell_type": "code",
   "execution_count": 7,
   "metadata": {},
   "outputs": [],
   "source": [
    "class Net(nn.Module):\n",
    "    def __init__(self):\n",
    "        super(Net, self).__init__()\n",
    "        self.conv1 = nn.Conv2d(1, 8, 3, 1)\n",
    "        self.dropout1 = nn.Dropout2d(0.25)\n",
    "        self.fc1 = nn.Linear(int(((28 - (3-1)) / 2)**2 * 8), 128)\n",
    "        self.fc2 = nn.Linear(128, 10)\n",
    "    \n",
    "    def forward(self, x):\n",
    "        x = F.relu(self.conv1(x))\n",
    "        x = F.max_pool2d(x, 2)\n",
    "        x = self.dropout1(x)\n",
    "        x = torch.flatten(x, 1)\n",
    "        x = self.fc1(x)\n",
    "        x = F.relu(x)\n",
    "        x = self.fc2(x)\n",
    "        return x"
   ]
  },
  {
   "cell_type": "code",
   "execution_count": 8,
   "metadata": {},
   "outputs": [],
   "source": [
    "def validate(model, loader):\n",
    "    model.eval()\n",
    "    total_loss = 0.\n",
    "    corrects = 0\n",
    "    \n",
    "    with torch.no_grad():\n",
    "        for x, y in loader:\n",
    "            x = x.to(device)\n",
    "            y = y.to(device)\n",
    "            batch_size = x.size(0)\n",
    "            output = model(x)\n",
    "            loss = F.nll_loss(output, y)\n",
    "            total_loss += loss.item() * batch_size\n",
    "            preds = output.max(1, keepdim=True)[1]\n",
    "            corrects += preds.eq(y.view_as(preds)).sum().item()\n",
    "    \n",
    "    n = len(test_loader.dataset)\n",
    "    total_loss = total_loss / n\n",
    "    accuracy = corrects / n\n",
    "    return total_loss, accuracy"
   ]
  },
  {
   "cell_type": "code",
   "execution_count": 9,
   "metadata": {},
   "outputs": [],
   "source": [
    "# NOTE: NO GPU AT SCHOOL!\n",
    "model = Net()\n",
    "model_softmax = torch.nn.Sequential(\n",
    "    model,\n",
    "    torch.nn.LogSoftmax(dim=1)\n",
    ")"
   ]
  },
  {
   "cell_type": "code",
   "execution_count": 10,
   "metadata": {},
   "outputs": [
    {
     "data": {
      "text/plain": [
       "Sequential(\n",
       "  (0): Net(\n",
       "    (conv1): Conv2d(1, 8, kernel_size=(3, 3), stride=(1, 1))\n",
       "    (dropout1): Dropout2d(p=0.25, inplace=False)\n",
       "    (fc1): Linear(in_features=1352, out_features=128, bias=True)\n",
       "    (fc2): Linear(in_features=128, out_features=10, bias=True)\n",
       "  )\n",
       "  (1): LogSoftmax()\n",
       ")"
      ]
     },
     "execution_count": 10,
     "metadata": {},
     "output_type": "execute_result"
    }
   ],
   "source": [
    "# load trained parameters\n",
    "# this will load both models\n",
    "model_softmax.load_state_dict(torch.load(model_path, map_location=device))\n",
    "model_softmax.to(device)\n",
    "model.eval()\n",
    "model_softmax.eval()"
   ]
  },
  {
   "cell_type": "code",
   "execution_count": 11,
   "metadata": {},
   "outputs": [
    {
     "name": "stdout",
     "output_type": "stream",
     "text": [
      "10000\n",
      "Test Loss: 0.2478 Accuracy: 92.8300%\n"
     ]
    }
   ],
   "source": [
    "print(len(test_loader.dataset))\n",
    "va_loss, va_acc = validate(model_softmax, test_loader)\n",
    "print('Test Loss: {:.4f} Accuracy: {:.4f}%'.format(va_loss, va_acc*100.))"
   ]
  },
  {
   "cell_type": "code",
   "execution_count": 12,
   "metadata": {},
   "outputs": [
    {
     "name": "stdout",
     "output_type": "stream",
     "text": [
      "10000\n",
      "Test Loss: -9.2143 Accuracy: 92.8300%\n"
     ]
    }
   ],
   "source": [
    "# Same accuracy as softmax model, this proves the model has trained parameters\n",
    "# The loss function is way off, which is expected.\n",
    "print(len(test_loader.dataset))\n",
    "va_loss, va_acc = validate(model, test_loader)\n",
    "print('Test Loss: {:.4f} Accuracy: {:.4f}%'.format(va_loss, va_acc*100.))"
   ]
  },
  {
   "cell_type": "code",
   "execution_count": 13,
   "metadata": {},
   "outputs": [
    {
     "name": "stdout",
     "output_type": "stream",
     "text": [
      "8 1 28 28\n"
     ]
    }
   ],
   "source": [
    "images, labels = next(iter(test_loader))\n",
    "images = images.to(device)\n",
    "labels = labels.to(device)\n",
    "batch_size, c, h, w = images.size()\n",
    "print(batch_size, c, h, w)"
   ]
  },
  {
   "cell_type": "code",
   "execution_count": 14,
   "metadata": {},
   "outputs": [
    {
     "name": "stdout",
     "output_type": "stream",
     "text": [
      "tensor([[5],\n",
      "        [3],\n",
      "        [0],\n",
      "        [0],\n",
      "        [9],\n",
      "        [3],\n",
      "        [6],\n",
      "        [7]], device='cuda:0')\n"
     ]
    }
   ],
   "source": [
    "outputs = model(images)\n",
    "preds = outputs.max(1, keepdim=True)[1]\n",
    "print(preds)"
   ]
  },
  {
   "cell_type": "code",
   "execution_count": 15,
   "metadata": {},
   "outputs": [
    {
     "data": {
      "image/png": "[encoded data removed]",
      "text/plain": [
       "<Figure size 1152x432 with 1 Axes>"
      ]
     },
     "metadata": {
      "needs_background": "light"
     },
     "output_type": "display_data"
    },
    {
     "name": "stdout",
     "output_type": "stream",
     "text": [
      "5, 3, 2, 8, 9, 3, 6, 7\n"
     ]
    }
   ],
   "source": [
    "plt.figure(figsize=[16, 6])\n",
    "imshow(images.cpu().detach(), title='MNIST')\n",
    "plt.show()\n",
    "print(*labels.cpu().detach().numpy(), sep=', ')"
   ]
  },
  {
   "cell_type": "code",
   "execution_count": 16,
   "metadata": {},
   "outputs": [
    {
     "name": "stdout",
     "output_type": "stream",
     "text": [
      "tensor(0.1526, device='cuda:0') tensor(1., device='cuda:0') tensor(0., device='cuda:0') tensor(0.1526, device='cuda:0') tensor(0.3284, device='cuda:0')\n"
     ]
    }
   ],
   "source": [
    "print(images.mean(), images.max(), images.min(), images.mean(), images.std())"
   ]
  },
  {
   "cell_type": "code",
   "execution_count": 17,
   "metadata": {},
   "outputs": [],
   "source": [
    "# parameters for C&W L2 attack\n",
    "BINARY_SEARCH_STEPS = 9           # number of times to adjust the constant with binary search\n",
    "MAX_ITERATIONS = 10000            # number of iterations to perform gradient descent\n",
    "ABORT_EARLY = True                # if we stop improving, abort gradient descent early\n",
    "LEARNING_RATE = 1e-2              # larger values converge faster to less accurate results\n",
    "TARGETED = False                  # should we target one specific class? or just be wrong?\n",
    "CONFIDENCE = 0                    # how strong the adversarial example should be, kappa in the paper\n",
    "INITIAL_C_MULTIPLIER = 1e-3       # the initial constant c_multiplier to pick as a first guess\n",
    "C_RANGE = [0, 1e10]            # lower and upper bounds for c_multiplier\n",
    "# NOTE: the normalize function does NOT scale the range to -1, 1.\n",
    "BOX_BOUND = [0., 1.]              # [-1., 1.] is used in original paper\n",
    "# NOTE: np.inf will return nan when np.inf*0. This is a problem!\n",
    "INF = 1e10                        # np.inf does NOT play well with pytorch. 1e10 was used in carlini's implementation"
   ]
  },
  {
   "cell_type": "code",
   "execution_count": 18,
   "metadata": {},
   "outputs": [],
   "source": [
    "def arctanh(x, epsilon=1e-6):\n",
    "    '''\n",
    "    formular:\n",
    "    https://en.wikipedia.org/wiki/Inverse_hyperbolic_functions#Inverse_hyperbolic_tangent\n",
    "    '''\n",
    "    assert isinstance(x, torch.Tensor), f'{type(x)} is not a torch.Tensor!'\n",
    "\n",
    "    x = x * (1-epsilon)  # to enhance numeric stability. avoiding devide by zero\n",
    "    return 0.5 * torch.log((1.+x) / (1.-x))"
   ]
  },
  {
   "cell_type": "code",
   "execution_count": 19,
   "metadata": {},
   "outputs": [],
   "source": [
    "def to_tanh_sapce(image, bound=BOX_BOUND):\n",
    "    box_mul = (bound[1] - bound[0]) * .5\n",
    "    box_plus = (bound[1] + bound[0]) * .5\n",
    "    return arctanh((image - box_plus) / box_mul)"
   ]
  },
  {
   "cell_type": "code",
   "execution_count": 20,
   "metadata": {},
   "outputs": [],
   "source": [
    "def from_tanh_space(w, bound=BOX_BOUND):\n",
    "    box_mul = (bound[1] - bound[0]) * .5\n",
    "    box_plus = (bound[1] + bound[0]) * .5\n",
    "    return torch.tanh(w)*box_mul + box_plus"
   ]
  },
  {
   "cell_type": "code",
   "execution_count": 21,
   "metadata": {},
   "outputs": [],
   "source": [
    "def one_hot_encoding(labels, num_classes):\n",
    "    assert isinstance(labels, torch.Tensor), \\\n",
    "        f'{type(labels)} is not a torch.Tensor!'\n",
    "    assert labels.max().item() < num_classes, \\\n",
    "        f'Invalid label {labels.max()} > {num_classes}'\n",
    "    \n",
    "    labels_t = labels.unsqueeze(1)\n",
    "    y_onehot = torch.zeros(len(labels), num_classes, dtype=torch.int8)\n",
    "    y_onehot = y_onehot.to(device)\n",
    "    return y_onehot.scatter_(1, labels_t, 1)"
   ]
  },
  {
   "cell_type": "code",
   "execution_count": 22,
   "metadata": {},
   "outputs": [],
   "source": [
    "def get_l2_norm(x, y):\n",
    "    assert isinstance(x, torch.Tensor)\n",
    "    assert isinstance(y, torch.Tensor)\n",
    "    assert x.size() == y.size()\n",
    "    \n",
    "    b = x.size(0)\n",
    "    return torch.sum(torch.pow(x - y, 2).view(b, -1), 1)"
   ]
  },
  {
   "cell_type": "code",
   "execution_count": 23,
   "metadata": {},
   "outputs": [],
   "source": [
    "# We want all adversarial examples to be classified as 3\n",
    "if TARGETED:\n",
    "    targets = torch.ones(batch_size, dtype=torch.long) * 3\n",
    "    print('targets size: {}, dtype: {} , grid: {}'.format(\n",
    "        targets.size(),\n",
    "        targets.dtype,\n",
    "        targets.requires_grad))\n",
    "else: \n",
    "    targets = labels  # for untargeted attack, targets are same as labels. "
   ]
  },
  {
   "cell_type": "code",
   "execution_count": 24,
   "metadata": {},
   "outputs": [],
   "source": [
    "# For constant c\n",
    "# set the lower and upper bounds accordingly\n",
    "# lower_bound <= c_multiplier <= upper_bound\n",
    "# each image inside one batch may have varied c value\n",
    "# https://github.com/carlini/nn_robust_attacks/blob/master/l2_attack.py\n",
    "# Line 163: lower = 0, initial = 1e-3, upper = 1e10\n",
    "lower_bounds = np.ones(batch_size, dtype=np.float32) * C_RANGE[0]             # lower bound for c\n",
    "c_multipliers = np.ones(batch_size, dtype=np.float32) * INITIAL_C_MULTIPLIER  # current c\n",
    "upper_bounds = np.ones(batch_size, dtype=np.float32) * C_RANGE[1]             # upper bound for c"
   ]
  },
  {
   "cell_type": "code",
   "execution_count": 25,
   "metadata": {},
   "outputs": [
    {
     "name": "stdout",
     "output_type": "stream",
     "text": [
      "torch.Size([8, 1, 28, 28])\n"
     ]
    }
   ],
   "source": [
    "# overall score\n",
    "o_best_l2 = np.ones(batch_size, dtype=np.float32) * INF  # overall least L2 norms. Set to infinity at start\n",
    "o_best_pred = -np.ones(batch_size, dtype=np.float32)    # the perturbed predictions with the least L2 norms. Set to -1, since no class is matched.\n",
    "o_best_adv = torch.zeros_like(images)\n",
    "print(o_best_adv.size())"
   ]
  },
  {
   "cell_type": "code",
   "execution_count": 26,
   "metadata": {},
   "outputs": [
    {
     "name": "stdout",
     "output_type": "stream",
     "text": [
      "inputs_tanh size: torch.Size([8, 1, 28, 28]), dtype: torch.float32 , grid: False\n"
     ]
    }
   ],
   "source": [
    "inputs_tanh = to_tanh_sapce(images)\n",
    "print('inputs_tanh size: {}, dtype: {} , grid: {}'.format(\n",
    "    inputs_tanh.size(), inputs_tanh.dtype, inputs_tanh.requires_grad))"
   ]
  },
  {
   "cell_type": "code",
   "execution_count": 27,
   "metadata": {},
   "outputs": [
    {
     "name": "stdout",
     "output_type": "stream",
     "text": [
      "targets size: torch.Size([8]), dtype: torch.int64 , grid: False\n",
      "tensor([[0, 0, 0, 0, 0, 1, 0, 0, 0, 0],\n",
      "        [0, 0, 0, 1, 0, 0, 0, 0, 0, 0],\n",
      "        [0, 0, 1, 0, 0, 0, 0, 0, 0, 0],\n",
      "        [0, 0, 0, 0, 0, 0, 0, 0, 1, 0],\n",
      "        [0, 0, 0, 0, 0, 0, 0, 0, 0, 1],\n",
      "        [0, 0, 0, 1, 0, 0, 0, 0, 0, 0],\n",
      "        [0, 0, 0, 0, 0, 0, 1, 0, 0, 0],\n",
      "        [0, 0, 0, 0, 0, 0, 0, 1, 0, 0]], device='cuda:0', dtype=torch.int8)\n"
     ]
    }
   ],
   "source": [
    "targets_onehot = one_hot_encoding(targets, num_classes=NUM_CLASSES)\n",
    "print('targets size: {}, dtype: {} , grid: {}'.format(\n",
    "    targets.size(), targets.dtype, targets.requires_grad))\n",
    "print(targets_onehot)"
   ]
  },
  {
   "cell_type": "code",
   "execution_count": 28,
   "metadata": {},
   "outputs": [
    {
     "name": "stdout",
     "output_type": "stream",
     "text": [
      "pert_tanh size: torch.Size([8, 1, 28, 28]), dtype: torch.float32 , grid: True\n"
     ]
    }
   ],
   "source": [
    "# the perturbation variable to optimize\n",
    "# `pert_tanh` is the adversarial examples in tanh-space, it is refered as w_i in the paper\n",
    "# In Carlini's code it's denoted as `modifier`\n",
    "pert_tanh = torch.zeros_like(images, requires_grad=True)\n",
    "print('pert_tanh size: {}, dtype: {} , grid: {}'.format(\n",
    "    pert_tanh.size(), pert_tanh.dtype, pert_tanh.requires_grad))"
   ]
  },
  {
   "cell_type": "code",
   "execution_count": 29,
   "metadata": {},
   "outputs": [],
   "source": [
    "# Adam with learning rate 0.01 is used in the paper\n",
    "optimizer = torch.optim.Adam([pert_tanh], lr=LEARNING_RATE)"
   ]
  },
  {
   "cell_type": "code",
   "execution_count": 30,
   "metadata": {},
   "outputs": [],
   "source": [
    "def optimize(model, optimizer, inputs_tanh, pert_tanh, targets_oh, c):\n",
    "    # NOTE: `targets_oh` could be 2 different variables\n",
    "    #       1. the true label for original image on untargeted attacks\n",
    "    #       2. the target class for targeted attacks\n",
    "    \n",
    "    # targets_oh (batch, classes): (8, 10)\n",
    "    \n",
    "    optimizer.zero_grad()\n",
    "    \n",
    "    # adversarial examples\n",
    "    new_imgs = from_tanh_space(inputs_tanh + pert_tanh)  # the trained model does not known tanh-space\n",
    "    pred_outputs = model(new_imgs)  # predictions from adversarial examples BEFORE SOFTMAX\n",
    "    # pred_outputs (batch, classes): (8, 10)\n",
    "    \n",
    "    inputs = from_tanh_space(inputs_tanh)\n",
    "    l2_norms = get_l2_norm(inputs, new_imgs)  # the L2 distance is measured in image-sapce\n",
    "    \n",
    "    # only keeps the output for the target class\n",
    "    target_output = torch.sum(targets_oh*pred_outputs, 1)\n",
    "    # this returns the max output exclude the target label\n",
    "    other_output = torch.max((1-targets_oh)*pred_outputs - targets_oh*INF, 1)[0]\n",
    "    \n",
    "    if TARGETED:\n",
    "        f_loss = torch.clamp(other_output - target_output + CONFIDENCE, min=0.)\n",
    "    else:  # untargeted, the target variable is the true class\n",
    "        f_loss = torch.clamp(target_output - other_output + CONFIDENCE, min=0.)\n",
    "    \n",
    "    # sum up the batch into 1 total loss\n",
    "    # gradient can only be created only for scalar outputs\n",
    "    loss = torch.sum(l2_norms + c*f_loss)\n",
    "    \n",
    "    # optimization step\n",
    "    loss.backward()\n",
    "    optimizer.step()\n",
    "    \n",
    "    return loss, l2_norms, pred_outputs, new_imgs"
   ]
  },
  {
   "cell_type": "code",
   "execution_count": 31,
   "metadata": {},
   "outputs": [],
   "source": [
    "def compensate_confidence(outputs, targets):\n",
    "    assert type(outputs) == np.ndarray\n",
    "    assert type(targets) == np.ndarray\n",
    "    \n",
    "    outputs_comp = np.copy(outputs)\n",
    "    \n",
    "    if TARGETED:\n",
    "        outputs_comp[np.arange(targets.shape[0]), targets] -= CONFIDENCE\n",
    "    else:\n",
    "        outputs_comp[np.arange(targets.shape[0]), targets] += CONFIDENCE\n",
    "    \n",
    "    return outputs_comp"
   ]
  },
  {
   "cell_type": "code",
   "execution_count": 32,
   "metadata": {},
   "outputs": [],
   "source": [
    "def does_attack_success(pred, label):\n",
    "    if TARGETED:  \n",
    "        return pred == label  # match the target label\n",
    "    else:\n",
    "        return pred != label  # anyting other than the ture label"
   ]
  },
  {
   "cell_type": "code",
   "execution_count": 33,
   "metadata": {},
   "outputs": [
    {
     "name": "stdout",
     "output_type": "stream",
     "text": [
      "c: [0.001 0.001 0.001 0.001 0.001 0.001 0.001 0.001]\n",
      "Step [0] loss: 0.0323\n",
      "Step [1000] loss: 0.0323\n",
      "Step [2000] loss: 0.0323\n",
      "abort at [0/9] search step [2000/10000] optimize step\n",
      "c: [0.01   0.01   0.0005 0.0005 0.01   0.01   0.01   0.01  ]\n",
      "Step [0] loss: 0.3226\n",
      "Step [1000] loss: 0.3210\n",
      "Step [2000] loss: 0.3210\n",
      "abort at [1/9] search step [2000/10000] optimize step\n",
      "c: [0.10000001 0.10000001 0.00025    0.00025    0.10000001 0.10000001\n",
      " 0.10000001 0.10000001]\n",
      "Step [0] loss: 3.1918\n",
      "Step [1000] loss: 3.0348\n",
      "Step [2000] loss: 3.0348\n",
      "abort at [2/9] search step [2000/10000] optimize step\n",
      "c: [1.0000001e+00 1.0000001e+00 1.2500001e-04 1.2500001e-04 1.0000001e+00\n",
      " 1.0000001e+00 1.0000001e+00 1.0000001e+00]\n",
      "Step [0] loss: 28.6320\n",
      "Step [1000] loss: 18.3782\n",
      "Step [2000] loss: 18.3851\n",
      "abort at [3/9] search step [2000/10000] optimize step\n",
      "c: [1.0000001e+01 1.0000001e+01 6.2500003e-05 6.2500003e-05 5.5000007e-01\n",
      " 1.0000001e+01 5.5000007e-01 5.5000007e-01]\n",
      "Step [0] loss: 100.4517\n",
      "Step [1000] loss: 21.4835\n",
      "Step [2000] loss: 21.3018\n",
      "Step [3000] loss: 21.2592\n",
      "Step [4000] loss: 21.4162\n",
      "abort at [4/9] search step [4000/10000] optimize step\n",
      "c: [5.5000005e+00 5.5000005e+00 3.1250001e-05 3.1250001e-05 3.2500005e-01\n",
      " 5.5000005e+00 3.2500005e-01 3.2500005e-01]\n",
      "Step [0] loss: 21.3048\n",
      "Step [1000] loss: 21.0592\n",
      "Step [2000] loss: 21.0766\n",
      "abort at [5/9] search step [2000/10000] optimize step\n",
      "c: [3.2500002e+00 3.2500002e+00 1.5625001e-05 1.5625001e-05 2.1250004e-01\n",
      " 3.2500002e+00 2.1250004e-01 4.3750006e-01]\n",
      "Step [0] loss: 21.1569\n",
      "Step [1000] loss: 21.1271\n",
      "Step [2000] loss: 21.1536\n",
      "abort at [6/9] search step [2000/10000] optimize step\n",
      "c: [2.1250002e+00 2.1250002e+00 7.8125004e-06 7.8125004e-06 1.5625003e-01\n",
      " 2.1250002e+00 2.6875004e-01 4.9375007e-01]\n",
      "Step [0] loss: 21.2024\n",
      "Step [1000] loss: 21.1479\n",
      "Step [2000] loss: 21.1425\n",
      "Step [3000] loss: 21.1247\n",
      "Step [4000] loss: 21.1585\n",
      "abort at [7/9] search step [4000/10000] optimize step\n",
      "c: [1.5625002e+00 1.5625002e+00 3.9062502e-06 3.9062502e-06 1.8437503e-01\n",
      " 1.5625002e+00 2.9687506e-01 5.2187508e-01]\n",
      "Step [0] loss: 21.1563\n",
      "Step [1000] loss: 20.9213\n",
      "Step [2000] loss: 20.9221\n",
      "abort at [8/9] search step [2000/10000] optimize step\n"
     ]
    }
   ],
   "source": [
    "# `repeat` guarantees at least attempt the largest `c_multiplier` once.\n",
    "# the larger `c_multiplier` becomes, the easier to find adversarial.\n",
    "# If `c_multiplier` = 0, there will be no perturbation, and x' = x.\n",
    "binary_search_steps = BINARY_SEARCH_STEPS\n",
    "repeat = binary_search_steps >= 10\n",
    "\n",
    "# search for constant\n",
    "for sstep in range(BINARY_SEARCH_STEPS):\n",
    "    if repeat and sstep == binary_search_steps - 1:\n",
    "        c_multipliers = upper_bounds\n",
    "    \n",
    "    c = torch.from_numpy(c_multipliers)\n",
    "    c = c.to(device)\n",
    "    print(f'c: {c_multipliers}')\n",
    "    \n",
    "    best_l2 = np.ones(batch_size) * INF  # least L2 norm in current epoch\n",
    "    best_pred = -np.ones(batch_size)\n",
    "    \n",
    "    # previous (summed) batch loss, to be used in early stopping policy\n",
    "    prev_batch_loss = INF  # type: float\n",
    "    \n",
    "    # optimization step\n",
    "    for ostep in range(MAX_ITERATIONS):\n",
    "        loss, l2_norms, pred_outputs, adv_egs = optimize(\n",
    "            model, optimizer, inputs_tanh, pert_tanh, targets_onehot, c)\n",
    "        \n",
    "        # print out loss every 10%\n",
    "        if ostep % (MAX_ITERATIONS//10) == 0:\n",
    "            print('Step [{}] loss: {:.4f}'.format(\n",
    "                ostep, loss.cpu().detach().item()))\n",
    "        \n",
    "        # abort early strategy\n",
    "        # check if we should abort search if we're getting nowhere.\n",
    "        if ABORT_EARLY and ostep % (MAX_ITERATIONS//10) == 0: \n",
    "            if loss > prev_batch_loss * (1-1e-4):\n",
    "                print('abort at [{}/{}] search step [{}/{}] optimize step'.format(\n",
    "                    sstep, BINARY_SEARCH_STEPS,\n",
    "                    ostep, MAX_ITERATIONS))\n",
    "                break\n",
    "            prev_batch_loss = loss\n",
    "    \n",
    "        # update result\n",
    "        pred_outputs_np = pred_outputs.cpu().detach().numpy()\n",
    "        targets_np = targets.cpu().detach().numpy()\n",
    "        \n",
    "        max_pred_outputs = np.argmax(pred_outputs_np, axis=1)\n",
    "        comp_pred_outputs = compensate_confidence(pred_outputs_np, targets_np)\n",
    "        comp_pred_outputs = np.argmax(comp_pred_outputs, axis=1)\n",
    "        assert comp_pred_outputs.shape == (BATCH_SIZE,), \\\n",
    "            f'comp_pred_outputs.shape = {comp_pred_outputs.shape}'\n",
    "        \n",
    "        for i in range(BATCH_SIZE):\n",
    "            l2 = l2_norms[i]\n",
    "            pred = comp_pred_outputs[i]\n",
    "            label = targets_np[i]\n",
    "            adv_eg = adv_egs[i]  # a tensor\n",
    "            \n",
    "            if does_attack_success(pred, label):\n",
    "                if l2 < best_l2[i]:\n",
    "                    best_l2[i] = l2\n",
    "                    best_pred[i] = pred\n",
    "                if l2 < o_best_l2[i]:\n",
    "                    o_best_l2[i] = l2\n",
    "                    o_best_pred[i] = pred\n",
    "                    o_best_adv[i] = adv_eg\n",
    "    \n",
    "    # binary search for c\n",
    "    for i in range(BATCH_SIZE):\n",
    "        tlabel = targets_np[i]\n",
    "        assert best_pred[i] == -1 or does_attack_success(best_pred[i], tlabel)\n",
    "        assert o_best_pred[i] == -1 or does_attack_success(o_best_pred[i], tlabel)\n",
    "        \n",
    "        if best_pred[i] != -1:  # successful, try lower `c` value\n",
    "            # update upper bound, and divide c by 2\n",
    "            upper_bounds[i] = min(upper_bounds[i], c_multipliers[i])\n",
    "            if upper_bounds[i] < 1e9:\n",
    "                c_multipliers[i] = (lower_bounds[i]+upper_bounds[i]) / 2.\n",
    "                    \n",
    "        else:  # failure, try larger `c` value\n",
    "            # either multiply by 10 if no solution found yet\n",
    "            # or do binary search with the known upper bound\n",
    "            lower_bounds[i] = max(lower_bounds[i], c_multipliers[i])\n",
    "            \n",
    "            if upper_bounds[i] < C_RANGE[1] * 0.1:  # 1e9 was used in carlini's implementation\n",
    "                c_multipliers[i] = (lower_bounds[i]+upper_bounds[i]) / 2.\n",
    "            else:\n",
    "                c_multipliers[i] *= 10"
   ]
  },
  {
   "cell_type": "code",
   "execution_count": 34,
   "metadata": {},
   "outputs": [
    {
     "data": {
      "text/plain": [
       "array([7.109436  , 6.678143  , 0.        , 0.        , 0.22385192,\n",
       "       5.8890233 , 0.4488176 , 0.8547717 ], dtype=float32)"
      ]
     },
     "execution_count": 34,
     "metadata": {},
     "output_type": "execute_result"
    }
   ],
   "source": [
    "o_best_l2"
   ]
  },
  {
   "cell_type": "code",
   "execution_count": 35,
   "metadata": {},
   "outputs": [
    {
     "data": {
      "text/plain": [
       "array([8., 2., 0., 0., 8., 2., 5., 9.], dtype=float32)"
      ]
     },
     "execution_count": 35,
     "metadata": {},
     "output_type": "execute_result"
    }
   ],
   "source": [
    "o_best_pred"
   ]
  },
  {
   "cell_type": "code",
   "execution_count": 36,
   "metadata": {},
   "outputs": [
    {
     "data": {
      "text/plain": [
       "torch.Size([8, 1, 28, 28])"
      ]
     },
     "execution_count": 36,
     "metadata": {},
     "output_type": "execute_result"
    }
   ],
   "source": [
    "o_best_adv.shape"
   ]
  },
  {
   "cell_type": "code",
   "execution_count": 37,
   "metadata": {},
   "outputs": [
    {
     "data": {
      "image/png": "[encoded data removed]",
      "text/plain": [
       "<Figure size 1152x432 with 1 Axes>"
      ]
     },
     "metadata": {
      "needs_background": "light"
     },
     "output_type": "display_data"
    },
    {
     "name": "stdout",
     "output_type": "stream",
     "text": [
      "5, 3, 2, 8, 9, 3, 6, 7\n",
      "8, 2, 0, 0, 8, 2, 5, 9\n"
     ]
    }
   ],
   "source": [
    "adv_outputs = model(o_best_adv)\n",
    "adv_preds = adv_outputs.max(1, keepdim=True)[1]\n",
    "plt.figure(figsize=[16, 6])\n",
    "imshow(o_best_adv.cpu().detach())\n",
    "plt.show()\n",
    "print(*labels.cpu().detach().numpy(), sep=', ')\n",
    "print(*adv_preds.squeeze().cpu().detach().numpy(), sep=', ')"
   ]
  },
  {
   "cell_type": "code",
   "execution_count": 38,
   "metadata": {},
   "outputs": [
    {
     "name": "stdout",
     "output_type": "stream",
     "text": [
      "6\n",
      "0.14168638 -0.1027236\n",
      "(28, 28)\n"
     ]
    },
    {
     "data": {
      "image/png": "[encoded data removed]",
      "text/plain": [
       "<Figure size 1296x432 with 3 Axes>"
      ]
     },
     "metadata": {
      "needs_background": "light"
     },
     "output_type": "display_data"
    }
   ],
   "source": [
    "idx = np.random.choice(range(batch_size))\n",
    "print(idx)\n",
    "adv = np.squeeze(np.transpose(o_best_adv.cpu().detach().numpy()[idx], (1, 2, 0)))\n",
    "image = np.squeeze(np.transpose(images.cpu().detach().numpy()[idx], (1, 2, 0)))\n",
    "p = adv - image\n",
    "imax = np.max(p)\n",
    "imin = np.min(p)\n",
    "print(imax, imin)\n",
    "p = (p - imin)/ (imax-imin)\n",
    "print(p.shape)\n",
    "\n",
    "plt.figure(figsize=[18, 6])\n",
    "plt.subplot(1, 3, 1)\n",
    "plt.imshow(image, cmap='gray', vmin=0., vmax=1.)\n",
    "plt.subplot(1, 3, 2)\n",
    "plt.imshow(adv, cmap='gray', vmin=0., vmax=1.)\n",
    "plt.subplot(1, 3, 3)\n",
    "plt.imshow(p, cmap='gray', vmin=0., vmax=1.)\n",
    "plt.show()"
   ]
  },
  {
   "cell_type": "code",
   "execution_count": null,
   "metadata": {},
   "outputs": [],
   "source": []
  }
 ],
 "metadata": {
  "kernelspec": {
   "display_name": "Python 3",
   "language": "python",
   "name": "python3"
  },
  "language_info": {
   "codemirror_mode": {
    "name": "ipython",
    "version": 3
   },
   "file_extension": ".py",
   "mimetype": "text/x-python",
   "name": "python",
   "nbconvert_exporter": "python",
   "pygments_lexer": "ipython3",
   "version": "3.6.9"
  }
 },
 "nbformat": 4,
 "nbformat_minor": 4
}
