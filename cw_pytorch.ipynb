{
 "cells": [
  {
   "cell_type": "code",
   "execution_count": 1,
   "metadata": {},
   "outputs": [
    {
     "name": "stdout",
     "output_type": "stream",
     "text": [
      "3.6.9 (default, Nov  7 2019, 10:44:02) \n",
      "[GCC 8.3.0]\n",
      "/home/xcha011/venvtorch/lib/python36.zip\n",
      "/home/xcha011/venvtorch/lib/python3.6\n",
      "/home/xcha011/venvtorch/lib/python3.6/lib-dynload\n",
      "/usr/lib/python3.6\n",
      "\n",
      "/home/xcha011/venvtorch/lib/python3.6/site-packages\n",
      "/home/xcha011/.local/lib/python3.6/site-packages\n",
      "/usr/lib/python3.6/site-packages\n",
      "/usr/local/lib/python3.6/dist-packages\n",
      "/usr/lib/python3/dist-packages\n",
      "/home/xcha011/venvtorch/lib/python3.6/site-packages/IPython/extensions\n",
      "/home/xcha011/.ipython\n"
     ]
    }
   ],
   "source": [
    "import sys\n",
    "print(sys.version)\n",
    "print(*sys.path, sep='\\n')"
   ]
  },
  {
   "cell_type": "code",
   "execution_count": 2,
   "metadata": {},
   "outputs": [],
   "source": [
    "import numpy as np\n",
    "import matplotlib.pyplot as plt\n",
    "import time\n",
    "import os\n",
    "import torch\n",
    "import torch.nn as nn\n",
    "import torch.nn.functional as F\n",
    "from torch.utils.data import DataLoader\n",
    "import torchvision as tv"
   ]
  },
  {
   "cell_type": "code",
   "execution_count": 3,
   "metadata": {},
   "outputs": [
    {
     "name": "stdout",
     "output_type": "stream",
     "text": [
      "cpu\n",
      "6\n"
     ]
    }
   ],
   "source": [
    "device = torch.device('cuda:0' if torch.cuda.is_available() else 'cpu')\n",
    "print(device)\n",
    "\n",
    "num_workers = os.cpu_count()\n",
    "print(num_workers)"
   ]
  },
  {
   "cell_type": "code",
   "execution_count": 4,
   "metadata": {},
   "outputs": [],
   "source": [
    "# parameters for trained CNN\n",
    "root = os.path.join('.', 'dataset_root')\n",
    "model_path = os.path.join('.', 'mnist_simple_full.pt')\n",
    "mean, std = [0.13066046], [0.30150425] # based on training set\n",
    "BATCH_SIZE = 8\n",
    "NUM_CLASSES = 10"
   ]
  },
  {
   "cell_type": "code",
   "execution_count": 5,
   "metadata": {},
   "outputs": [],
   "source": [
    "def imshow(tensor_grid, mean=0., std=1., title=None):\n",
    "    assert isinstance(tensor_grid, torch.Tensor)\n",
    "    assert len(tensor_grid.size()) == 4, \\\n",
    "        f'For a batch of images only, {tensor_grid.size()} '\n",
    "    \n",
    "    tensor_grid = tv.utils.make_grid(tensor_grid)\n",
    "    grid = tensor_grid.numpy().transpose((1,2,0))\n",
    "    grid = std * grid + mean\n",
    "    grid = np.clip(grid, 0, 1)\n",
    "    plt.imshow(grid)\n",
    "    \n",
    "    if title is not None:\n",
    "        plt.title(title)\n",
    "        \n",
    "    plt.pause(0.001)"
   ]
  },
  {
   "cell_type": "code",
   "execution_count": 6,
   "metadata": {},
   "outputs": [],
   "source": [
    "# prepare data\n",
    "# foolbox model expects raw numpy array as image\n",
    "transform = tv.transforms.Compose([\n",
    "        tv.transforms.ToTensor(),\n",
    "        tv.transforms.Normalize(mean, std)\n",
    "])\n",
    "\n",
    "test_dataset = tv.datasets.MNIST(\n",
    "    root,\n",
    "    train=False, \n",
    "    download=True,\n",
    "    transform=transform\n",
    ")\n",
    "\n",
    "test_loader = DataLoader(\n",
    "    test_dataset,\n",
    "    batch_size=BATCH_SIZE,\n",
    "    shuffle=True,\n",
    "    num_workers=num_workers\n",
    ")"
   ]
  },
  {
   "cell_type": "code",
   "execution_count": 7,
   "metadata": {},
   "outputs": [],
   "source": [
    "class Net(nn.Module):\n",
    "    def __init__(self):\n",
    "        super(Net, self).__init__()\n",
    "        self.conv1 = nn.Conv2d(1, 8, 3, 1)\n",
    "        self.dropout1 = nn.Dropout2d(0.25)\n",
    "        self.fc1 = nn.Linear(int(((28 - (3-1)) / 2)**2 * 8), 128)\n",
    "        self.fc2 = nn.Linear(128, 10)\n",
    "    \n",
    "    def forward(self, x):\n",
    "        x = F.relu(self.conv1(x))\n",
    "        x = F.max_pool2d(x, 2)\n",
    "        x = self.dropout1(x)\n",
    "        x = torch.flatten(x, 1)\n",
    "        x = self.fc1(x)\n",
    "        x = F.relu(x)\n",
    "        x = self.fc2(x)\n",
    "        return x"
   ]
  },
  {
   "cell_type": "code",
   "execution_count": 8,
   "metadata": {},
   "outputs": [],
   "source": [
    "def validate(model, loader):\n",
    "    model.eval()\n",
    "    total_loss = 0.\n",
    "    corrects = 0\n",
    "    \n",
    "    with torch.no_grad():\n",
    "        for x, y in loader:\n",
    "            x = x.to(device)\n",
    "            y = y.to(device)\n",
    "            batch_size = x.size(0)\n",
    "            output = model(x)\n",
    "            loss = F.nll_loss(output, y)\n",
    "            total_loss += loss.item() * batch_size\n",
    "            preds = output.max(1, keepdim=True)[1]\n",
    "            corrects += preds.eq(y.view_as(preds)).sum().item()\n",
    "    \n",
    "    n = len(test_loader.dataset)\n",
    "    total_loss = total_loss / n\n",
    "    accuracy = corrects / n\n",
    "    return total_loss, accuracy"
   ]
  },
  {
   "cell_type": "code",
   "execution_count": 9,
   "metadata": {},
   "outputs": [],
   "source": [
    "# NOTE: NO GPU AT SCHOOL!\n",
    "model = Net()\n",
    "model_softmax = torch.nn.Sequential(\n",
    "    model,\n",
    "    torch.nn.LogSoftmax(dim=1)\n",
    ")"
   ]
  },
  {
   "cell_type": "code",
   "execution_count": 10,
   "metadata": {},
   "outputs": [],
   "source": [
    "# print(len(test_loader.dataset))\n",
    "# va_loss, va_acc = validate(model, test_loader)\n",
    "# print('Test Loss: {:.4f} Accuracy: {:.4f}%'.format(va_loss, va_acc*100.))"
   ]
  },
  {
   "cell_type": "code",
   "execution_count": 11,
   "metadata": {},
   "outputs": [
    {
     "data": {
      "text/plain": [
       "Sequential(\n",
       "  (0): Net(\n",
       "    (conv1): Conv2d(1, 8, kernel_size=(3, 3), stride=(1, 1))\n",
       "    (dropout1): Dropout2d(p=0.25, inplace=False)\n",
       "    (fc1): Linear(in_features=1352, out_features=128, bias=True)\n",
       "    (fc2): Linear(in_features=128, out_features=10, bias=True)\n",
       "  )\n",
       "  (1): LogSoftmax()\n",
       ")"
      ]
     },
     "execution_count": 11,
     "metadata": {},
     "output_type": "execute_result"
    }
   ],
   "source": [
    "# load trained parameters\n",
    "# this will load both models\n",
    "model_softmax.load_state_dict(torch.load(model_path))\n",
    "model.eval()\n",
    "model_softmax.eval()"
   ]
  },
  {
   "cell_type": "code",
   "execution_count": 12,
   "metadata": {},
   "outputs": [],
   "source": [
    "# print(len(test_loader.dataset))\n",
    "# va_loss, va_acc = validate(model_softmax, test_loader)\n",
    "# print('Test Loss: {:.4f} Accuracy: {:.4f}%'.format(va_loss, va_acc*100.))"
   ]
  },
  {
   "cell_type": "code",
   "execution_count": 13,
   "metadata": {},
   "outputs": [],
   "source": [
    "# Same accuracy as softmax model, this proves the model has trained parameters\n",
    "# The loss function is way off, which is expected.\n",
    "# print(len(test_loader.dataset))\n",
    "# va_loss, va_acc = validate(model, test_loader)\n",
    "# print('Test Loss: {:.4f} Accuracy: {:.4f}%'.format(va_loss, va_acc*100.))"
   ]
  },
  {
   "cell_type": "code",
   "execution_count": 14,
   "metadata": {},
   "outputs": [
    {
     "name": "stdout",
     "output_type": "stream",
     "text": [
      "8 1 28 28\n"
     ]
    }
   ],
   "source": [
    "images, labels = next(iter(test_loader))\n",
    "batch_size, c, h, w = images.size()\n",
    "print(batch_size, c, h, w)"
   ]
  },
  {
   "cell_type": "code",
   "execution_count": 15,
   "metadata": {},
   "outputs": [
    {
     "data": {
      "image/png": "[encoded data removed]",
      "text/plain": [
       "<Figure size 1152x432 with 1 Axes>"
      ]
     },
     "metadata": {
      "needs_background": "light"
     },
     "output_type": "display_data"
    },
    {
     "name": "stdout",
     "output_type": "stream",
     "text": [
      "6, 7, 4, 3, 3, 3, 2, 0\n"
     ]
    }
   ],
   "source": [
    "plt.figure(figsize=[16, 6])\n",
    "imshow(images, title='MNIST')\n",
    "plt.show()\n",
    "print(*labels.numpy(), sep=', ')"
   ]
  },
  {
   "cell_type": "code",
   "execution_count": 16,
   "metadata": {},
   "outputs": [],
   "source": [
    "def arctanh(x, epsilon=1e-6):\n",
    "    '''\n",
    "    formular:\n",
    "    https://en.wikipedia.org/wiki/Inverse_hyperbolic_functions#Inverse_hyperbolic_tangent\n",
    "    '''\n",
    "    assert isinstance(x, torch.Tensor), f'{type(x)} is not a torch.Tensor!'\n",
    "\n",
    "    x = x * (1-epsilon)  # to enhance numeric stability. avoiding devide by zero\n",
    "    return 0.5 * torch.log((1.+x) / (1.-x))"
   ]
  },
  {
   "cell_type": "code",
   "execution_count": 17,
   "metadata": {},
   "outputs": [],
   "source": [
    "def to_tanh_sapce(image, bound=[-.5, .5]):\n",
    "    box_mul = (bound[1] - bound[0]) * .5\n",
    "    box_plus = (bound[1] + bound[0]) * .5\n",
    "    return arctanh(image - box_plus) / box_mul"
   ]
  },
  {
   "cell_type": "code",
   "execution_count": 18,
   "metadata": {},
   "outputs": [],
   "source": [
    "def from_tanh_space(w, bound=[-.5, .5]):\n",
    "    box_mul = (bound[1] - bound[0]) * .5\n",
    "    box_plus = (bound[1] + bound[0]) * .5\n",
    "    return torch.tanh(w)*box_mul + box_plus"
   ]
  },
  {
   "cell_type": "code",
   "execution_count": 19,
   "metadata": {},
   "outputs": [],
   "source": [
    "def one_hot_encoding(labels, num_classes):\n",
    "    assert isinstance(labels, torch.Tensor), \\\n",
    "        f'{type(labels)} is not a torch.Tensor!'\n",
    "    assert labels.max().item() < num_classes, \\\n",
    "        f'Invalid label {labels.max()} > {num_classes}'\n",
    "    \n",
    "    labels_t = labels.unsqueeze(1)\n",
    "    y_onehot = torch.zeros(len(labels), num_classes, dtype=torch.int8)\n",
    "    return y_onehot.scatter_(1, labels_t, 1)"
   ]
  },
  {
   "cell_type": "code",
   "execution_count": 20,
   "metadata": {},
   "outputs": [],
   "source": [
    "# parameters for C&W L2 attack\n",
    "BINARY_SEARCH_STEPS = 9  # number of times to adjust the constant with binary search\n",
    "MAX_ITERATIONS = 10000   # number of iterations to perform gradient descent\n",
    "ABORT_EARLY = True       # if we stop improving, abort gradient descent early\n",
    "LEARNING_RATE = 1e-2     # larger values converge faster to less accurate results\n",
    "TARGETED = True          # should we target one specific class? or just be wrong?\n",
    "CONFIDENCE = 0           # how strong the adversarial example should be\n",
    "INITIAL_C_MULTIPLIER = 1e-3     # the initial constant c_multiplier to pick as a first guess"
   ]
  },
  {
   "cell_type": "code",
   "execution_count": 21,
   "metadata": {},
   "outputs": [
    {
     "name": "stdout",
     "output_type": "stream",
     "text": [
      "targets size: torch.Size([8]), dtype: torch.int64 , grid: False\n"
     ]
    }
   ],
   "source": [
    "# We want all adversarial examples to be classified as 3\n",
    "targets = torch.ones(batch_size, dtype=torch.long) * 3\n",
    "print('targets size: {}, dtype: {} , grid: {}'.format(\n",
    "    targets.size(),\n",
    "    targets.dtype,\n",
    "    targets.requires_grad))"
   ]
  },
  {
   "cell_type": "code",
   "execution_count": 22,
   "metadata": {},
   "outputs": [],
   "source": [
    "# For constant c\n",
    "# set the lower and upper bounds accordingly\n",
    "# lower_bound <= c_multiplier <= upper_bound\n",
    "lower_bound_np = np.zeros(batch_size, dtype=np.float32)           # lower bound for c\n",
    "c_multiplier_np = np.ones(batch_size, dtype=np.float32) * INITIAL_C_MULTIPLIER  # current c\n",
    "upper_bound_np = np.ones(batch_size, dtype=np.float32) * 1e10     # upper bound for c"
   ]
  },
  {
   "cell_type": "code",
   "execution_count": 23,
   "metadata": {},
   "outputs": [
    {
     "name": "stdout",
     "output_type": "stream",
     "text": [
      "torch.Size([8, 1, 28, 28])\n"
     ]
    }
   ],
   "source": [
    "# overall score\n",
    "o_best_l2 = np.ones(batch_size, dtype=np.float32) * np.inf  # overall least L2 norms. Set to infinity at start\n",
    "o_best_l2_ppred = -np.ones(batch_size, dtype=np.float32)    # the perturbed predictions with the least L2 norms. Set to -1, since no class is matched.\n",
    "o_best_advx = torch.zeros_like(images)\n",
    "print(o_best_advx.size())"
   ]
  },
  {
   "cell_type": "code",
   "execution_count": 24,
   "metadata": {},
   "outputs": [
    {
     "name": "stdout",
     "output_type": "stream",
     "text": [
      "inputs_tanh size: torch.Size([8, 1, 28, 28]), dtype: torch.float32 , grid: False\n"
     ]
    }
   ],
   "source": [
    "inputs_tanh = to_tanh_sapce(images)\n",
    "print('inputs_tanh size: {}, dtype: {} , grid: {}'.format(\n",
    "    inputs_tanh.size(), inputs_tanh.dtype, inputs_tanh.requires_grad))"
   ]
  },
  {
   "cell_type": "code",
   "execution_count": 25,
   "metadata": {},
   "outputs": [
    {
     "name": "stdout",
     "output_type": "stream",
     "text": [
      "targets size: torch.Size([8]), dtype: torch.int64 , grid: False\n",
      "tensor([[0, 0, 0, 1, 0, 0, 0, 0, 0, 0],\n",
      "        [0, 0, 0, 1, 0, 0, 0, 0, 0, 0],\n",
      "        [0, 0, 0, 1, 0, 0, 0, 0, 0, 0],\n",
      "        [0, 0, 0, 1, 0, 0, 0, 0, 0, 0],\n",
      "        [0, 0, 0, 1, 0, 0, 0, 0, 0, 0],\n",
      "        [0, 0, 0, 1, 0, 0, 0, 0, 0, 0],\n",
      "        [0, 0, 0, 1, 0, 0, 0, 0, 0, 0],\n",
      "        [0, 0, 0, 1, 0, 0, 0, 0, 0, 0]], dtype=torch.int8)\n"
     ]
    }
   ],
   "source": [
    "targets_onehot = one_hot_encoding(targets, num_classes=NUM_CLASSES)\n",
    "print('targets size: {}, dtype: {} , grid: {}'.format(\n",
    "    targets.size(), targets.dtype, targets.requires_grad))\n",
    "print(targets_onehot)"
   ]
  },
  {
   "cell_type": "code",
   "execution_count": 26,
   "metadata": {},
   "outputs": [
    {
     "name": "stdout",
     "output_type": "stream",
     "text": [
      "pert_tanh size: torch.Size([8, 1, 28, 28]), dtype: torch.float32 , grid: True\n"
     ]
    }
   ],
   "source": [
    "# the perturbation variable to optimize\n",
    "# `pert_tanh` is the adversarial examples in tanh-space, it is refered as w_i in the paper\n",
    "pert_tanh = torch.zeros_like(images, requires_grad=True)\n",
    "print('pert_tanh size: {}, dtype: {} , grid: {}'.format(\n",
    "    pert_tanh.size(), pert_tanh.dtype, pert_tanh.requires_grad))"
   ]
  },
  {
   "cell_type": "code",
   "execution_count": 27,
   "metadata": {},
   "outputs": [],
   "source": [
    "# Adam with learning rate 0.01 is used in the paper\n",
    "optimizer = torch.optim.Adam([pert_tanh], lr=LEARNING_RATE)"
   ]
  },
  {
   "cell_type": "code",
   "execution_count": 31,
   "metadata": {},
   "outputs": [
    {
     "name": "stdout",
     "output_type": "stream",
     "text": [
      "c: tensor([0.0010, 0.0010, 0.0010, 0.0010, 0.0010, 0.0010, 0.0010, 0.0010])\n",
      "c: tensor([0.0010, 0.0010, 0.0010, 0.0010, 0.0010, 0.0010, 0.0010, 0.0010])\n",
      "c: tensor([0.0010, 0.0010, 0.0010, 0.0010, 0.0010, 0.0010, 0.0010, 0.0010])\n",
      "c: tensor([0.0010, 0.0010, 0.0010, 0.0010, 0.0010, 0.0010, 0.0010, 0.0010])\n",
      "c: tensor([0.0010, 0.0010, 0.0010, 0.0010, 0.0010, 0.0010, 0.0010, 0.0010])\n",
      "c: tensor([0.0010, 0.0010, 0.0010, 0.0010, 0.0010, 0.0010, 0.0010, 0.0010])\n",
      "c: tensor([0.0010, 0.0010, 0.0010, 0.0010, 0.0010, 0.0010, 0.0010, 0.0010])\n",
      "c: tensor([0.0010, 0.0010, 0.0010, 0.0010, 0.0010, 0.0010, 0.0010, 0.0010])\n",
      "c: tensor([0.0010, 0.0010, 0.0010, 0.0010, 0.0010, 0.0010, 0.0010, 0.0010])\n"
     ]
    }
   ],
   "source": [
    "# `repeat` guarantees at least attempt the largest `c_multiplier` once.\n",
    "# the larger `c_multiplier` becomes, the easier to find adversarial.\n",
    "# If `c_multiplier` = 0, there will be no perturbation, and x' = x.\n",
    "binary_search_steps = BINARY_SEARCH_STEPS\n",
    "repeat = binary_search_steps >= 10\n",
    "\n",
    "# search for constant\n",
    "for sstep in range(BINARY_SEARCH_STEPS):\n",
    "    if repeat and sstep == binary_search_steps - 1:\n",
    "        c_multiplier_np = upper_bound_np\n",
    "    \n",
    "    # TODO: inplace or clone?\n",
    "    c_multiplier = torch.from_numpy(np.copy(c_multiplier_np))\n",
    "    print(f'c: {c_multiplier}')\n",
    "    \n",
    "    best_l2 = np.ones(batch_size) * np.inf  # least L2 norm in current epoch\n",
    "    best_l2_ppred = -np.ones(batch_size)\n",
    "    \n",
    "    # previous (summed) batch loss, to be used in early stopping policy\n",
    "    prev_batch_loss = np.inf  # type: float\n",
    "    \n",
    "    "
   ]
  },
  {
   "cell_type": "code",
   "execution_count": 30,
   "metadata": {},
   "outputs": [
    {
     "data": {
      "text/plain": [
       "torch.float32"
      ]
     },
     "execution_count": 30,
     "metadata": {},
     "output_type": "execute_result"
    }
   ],
   "source": []
  },
  {
   "cell_type": "code",
   "execution_count": null,
   "metadata": {},
   "outputs": [],
   "source": []
  }
 ],
 "metadata": {
  "kernelspec": {
   "display_name": "Python 3",
   "language": "python",
   "name": "python3"
  },
  "language_info": {
   "codemirror_mode": {
    "name": "ipython",
    "version": 3
   },
   "file_extension": ".py",
   "mimetype": "text/x-python",
   "name": "python",
   "nbconvert_exporter": "python",
   "pygments_lexer": "ipython3",
   "version": "3.6.9"
  }
 },
 "nbformat": 4,
 "nbformat_minor": 4
}
