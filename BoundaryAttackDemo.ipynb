{
 "cells": [
  {
   "cell_type": "code",
   "execution_count": 8,
   "metadata": {},
   "outputs": [],
   "source": [
    "import time\n",
    "import numpy as np\n",
    "from art.classifiers import SklearnClassifier\n",
    "from art.utils import load_mnist\n",
    "from art.attacks.evasion import BoundaryAttack\n",
    "from sklearn.svm import SVC"
   ]
  },
  {
   "cell_type": "code",
   "execution_count": 2,
   "metadata": {},
   "outputs": [
    {
     "name": "stdout",
     "output_type": "stream",
     "text": [
      "(60000, 28, 28, 1)\n",
      "(60000,)\n",
      "(10000, 28, 28, 1)\n",
      "(10000,)\n",
      "0.0 1.0\n"
     ]
    }
   ],
   "source": [
    "# Step 1: Load the MNIST dataset\n",
    "(x_train, y_train), (x_test, y_test), min_pixel_value, max_pixel_value = load_mnist()\n",
    "y_train = np.argmax(y_train, axis=1)\n",
    "y_test = np.argmax(y_test, axis=1)\n",
    "\n",
    "print(x_train.shape)\n",
    "print(y_train.shape)\n",
    "print(x_test.shape)\n",
    "print(y_test.shape)\n",
    "print(min_pixel_value, max_pixel_value)"
   ]
  },
  {
   "cell_type": "code",
   "execution_count": 3,
   "metadata": {},
   "outputs": [
    {
     "name": "stdout",
     "output_type": "stream",
     "text": [
      "Time taken for training classifier:  4m 59.0s\n"
     ]
    }
   ],
   "source": [
    "since = time.time()\n",
    "model = SVC()\n",
    "model.fit(x_train.reshape((len(x_train), -1)), y_train)\n",
    "time_elapsed = time.time() - since\n",
    "print('Time taken for {}: {:2.0f}m {:3.1f}s'.format('training classifier', time_elapsed//60, time_elapsed%60))"
   ]
  },
  {
   "cell_type": "code",
   "execution_count": 5,
   "metadata": {},
   "outputs": [
    {
     "data": {
      "text/plain": [
       "0.9792"
      ]
     },
     "execution_count": 5,
     "metadata": {},
     "output_type": "execute_result"
    }
   ],
   "source": [
    "model.score(x_test.reshape((len(x_test), -1)), y_test)"
   ]
  },
  {
   "cell_type": "code",
   "execution_count": 12,
   "metadata": {},
   "outputs": [],
   "source": [
    "classifier = SklearnClassifier(model=model, clip_values=(min_pixel_value, max_pixel_value))\n",
    "attack = BoundaryAttack(estimator=classifier, targeted=False, max_iter=500, num_trial=10)"
   ]
  },
  {
   "cell_type": "code",
   "execution_count": 19,
   "metadata": {},
   "outputs": [
    {
     "name": "stderr",
     "output_type": "stream",
     "text": [
      "Boundary attack: 100%|██████████| 10/10 [16:38<00:00, 99.89s/it] "
     ]
    },
    {
     "name": "stdout",
     "output_type": "stream",
     "text": [
      "Time taken for generating adv examples: 16m 39.2s\n"
     ]
    },
    {
     "name": "stderr",
     "output_type": "stream",
     "text": [
      "\n"
     ]
    }
   ],
   "source": [
    "n = 10\n",
    "x_clean = x_test.reshape((len(x_test), -1))[:n]\n",
    "y_true = y_test[:n]\n",
    "\n",
    "since = time.time()\n",
    "adv = attack.generate(x=x_clean)\n",
    "time_elapsed = time.time() - since\n",
    "print('Time taken for {}: {:2.0f}m {:3.1f}s'.format('generating adv examples', time_elapsed//60, time_elapsed%60))"
   ]
  },
  {
   "cell_type": "code",
   "execution_count": 20,
   "metadata": {},
   "outputs": [
    {
     "data": {
      "text/plain": [
       "0.0"
      ]
     },
     "execution_count": 20,
     "metadata": {},
     "output_type": "execute_result"
    }
   ],
   "source": [
    "predictions = np.argmax(classifier.predict(adv), axis=1)\n",
    "acc = np.sum(predictions == model.predict(x_clean)) / len(x_clean)\n",
    "acc"
   ]
  },
  {
   "cell_type": "code",
   "execution_count": null,
   "metadata": {},
   "outputs": [],
   "source": []
  }
 ],
 "metadata": {
  "kernelspec": {
   "display_name": "Python 3",
   "language": "python",
   "name": "python3"
  },
  "language_info": {
   "codemirror_mode": {
    "name": "ipython",
    "version": 3
   },
   "file_extension": ".py",
   "mimetype": "text/x-python",
   "name": "python",
   "nbconvert_exporter": "python",
   "pygments_lexer": "ipython3",
   "version": "3.6.9"
  }
 },
 "nbformat": 4,
 "nbformat_minor": 4
}
