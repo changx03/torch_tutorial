{
 "cells": [
  {
   "cell_type": "code",
   "execution_count": 1,
   "metadata": {},
   "outputs": [
    {
     "name": "stdout",
     "output_type": "stream",
     "text": [
      "3.6.9 (default, Nov  7 2019, 10:44:02) \n",
      "[GCC 8.3.0]\n",
      "/home/xcha011/venvtorch/lib/python36.zip\n",
      "/home/xcha011/venvtorch/lib/python3.6\n",
      "/home/xcha011/venvtorch/lib/python3.6/lib-dynload\n",
      "/usr/lib/python3.6\n",
      "\n",
      "/home/xcha011/venvtorch/lib/python3.6/site-packages\n",
      "/home/xcha011/.local/lib/python3.6/site-packages\n",
      "/usr/lib/python3.6/site-packages\n",
      "/usr/local/lib/python3.6/dist-packages\n",
      "/usr/lib/python3/dist-packages\n",
      "/home/xcha011/venvtorch/lib/python3.6/site-packages/IPython/extensions\n",
      "/home/xcha011/.ipython\n"
     ]
    }
   ],
   "source": [
    "import sys\n",
    "import numpy as np\n",
    "import matplotlib.pyplot as plt\n",
    "import time\n",
    "import os\n",
    "import torch\n",
    "import torch.nn as nn\n",
    "import torch.nn.functional as F\n",
    "from torch.utils.data import DataLoader, TensorDataset\n",
    "import torchvision as tv\n",
    "import torch_utils\n",
    "from sklearn import svm\n",
    "from sklearn import metrics\n",
    "import sklearn.neighbors as knn\n",
    "from tqdm import tqdm\n",
    "import utils as ad_utils\n",
    "import applicability_domain as ad\n",
    "\n",
    "print(sys.version)\n",
    "print(*sys.path, sep='\\n')"
   ]
  },
  {
   "cell_type": "code",
   "execution_count": 2,
   "metadata": {},
   "outputs": [
    {
     "name": "stdout",
     "output_type": "stream",
     "text": [
      "cpu\n",
      "6\n"
     ]
    }
   ],
   "source": [
    "device = torch.device('cuda:0' if torch.cuda.is_available() else 'cpu')\n",
    "# device = 'cpu'  # use CPU for testing. GPU doesn't have inf and nan. It could overflow.\n",
    "print(device)\n",
    "\n",
    "num_workers = os.cpu_count()\n",
    "print(num_workers)"
   ]
  },
  {
   "cell_type": "code",
   "execution_count": 3,
   "metadata": {},
   "outputs": [],
   "source": [
    "DATASET_ROOT = 'dataset_root'\n",
    "MODEL_PATH = 'mnist_autoencoder_cnn.pt'\n",
    "L2_FILE_PATH = 'mnist_cw_l2.npy'\n",
    "LABEL_FILE_PATH = 'mnist_cw_label.npy'\n",
    "PRED_FILE_PATH = 'mnist_cw_pred.npy'\n",
    "IMAGE_FILE_PATH = 'mnist_cw_images.npy'\n",
    "ADV_FILE_PATH = 'mnist_cw_adv.npy'\n",
    "BATCH_SIZE = 128\n",
    "NUM_CLASSES = 10\n",
    "NUM_ADV = 200  # aim to generate 1000 adversarial exmaples\n",
    "NUM_COMPONENTS = 128  # number of components after encoding\n",
    "C, H, W = 1, 28, 28  # image size in MNIST\n",
    "IMAGE_DIM = (NUM_ADV, C, H, W)\n"
   ]
  },
  {
   "cell_type": "code",
   "execution_count": 4,
   "metadata": {},
   "outputs": [],
   "source": [
    "# prepare data\n",
    "# the torchvision.transforms.Normalize uses z-score normalization (x - mean) / std. \n",
    "# The outpus have 0 mean and 1 std. This scales the images out of [0, 1] range, which we don't want.\n",
    "transform = tv.transforms.Compose([\n",
    "        tv.transforms.ToTensor()])\n",
    "dataset_train = tv.datasets.MNIST(\n",
    "    DATASET_ROOT,\n",
    "    train=True, \n",
    "    download=True,\n",
    "    transform=transform)\n",
    "dataset_test = tv.datasets.MNIST(\n",
    "    DATASET_ROOT,\n",
    "    train=False, \n",
    "    download=True,\n",
    "    transform=transform)\n",
    "\n",
    "loader_train = DataLoader(\n",
    "    dataset_train,\n",
    "    batch_size=BATCH_SIZE,\n",
    "    shuffle=True,\n",
    "    num_workers=num_workers\n",
    ")\n",
    "loader_test = DataLoader(\n",
    "    dataset_test,\n",
    "    batch_size=BATCH_SIZE,\n",
    "    shuffle=True,\n",
    "    num_workers=num_workers\n",
    ")"
   ]
  },
  {
   "cell_type": "code",
   "execution_count": 5,
   "metadata": {},
   "outputs": [],
   "source": [
    "# using the Autoencoder model\n",
    "class Autoencoder(nn.Module):\n",
    "    def __init__(self):\n",
    "        super(Autoencoder, self).__init__()\n",
    "        \n",
    "        self.encoder = nn.Sequential(\n",
    "            nn.Conv2d(1, 32, 3, 1),\n",
    "            nn.ReLU(),\n",
    "            nn.MaxPool2d(2),\n",
    "            nn.Conv2d(32, 64, 3, 2),\n",
    "            nn.ReLU(),\n",
    "            nn.MaxPool2d(2),\n",
    "            nn.Conv2d(64, 128, 3, 2))\n",
    "        \n",
    "        self.decoder = nn.Sequential(\n",
    "            nn.ConvTranspose2d(128, 64, 3, 2),\n",
    "            nn.ReLU(),\n",
    "            nn.ConvTranspose2d(64, 32, 3, 2),\n",
    "            nn.ReLU(),\n",
    "            nn.ConvTranspose2d(32, 32, 3, 2),\n",
    "            nn.ReLU(),\n",
    "            nn.Upsample((26, 26), mode='bilinear', align_corners=True),\n",
    "            nn.ConvTranspose2d(32, 1, 3, 1),\n",
    "            nn.Tanh())\n",
    "                \n",
    "    def forward(self, x):\n",
    "        x = self.encoder(x)\n",
    "        x = self.decoder(x)\n",
    "        return x\n",
    "    \n",
    "    def encode(self, x):\n",
    "        assert isinstance(x, torch.Tensor) \\\n",
    "            and x.size() == (len(x), 1, 28, 28)\n",
    "        return self.encoder(x)\n",
    "    \n",
    "    def decode(self, x):\n",
    "        assert isinstance(x, torch.Tensor) \\\n",
    "            and x.size() in ((len(x), 128, 1, 1), (len(x), 128))\n",
    "        \n",
    "        if x.size() == (len(x), 128):\n",
    "            x = x.view(len(x), 128, 1, 1)\n",
    "        \n",
    "        return self.decoder(x)"
   ]
  },
  {
   "cell_type": "code",
   "execution_count": 6,
   "metadata": {},
   "outputs": [],
   "source": [
    "autoencoder = Autoencoder()\n",
    "\n",
    "# extract encoder\n",
    "for name, module in autoencoder.named_children():\n",
    "    if name == 'encoder':\n",
    "        encoder = module\n",
    "\n",
    "# freeze the encoder. Set gradients to readonly\n",
    "for p in encoder.parameters():\n",
    "    p.requires_grad = False\n",
    "\n",
    "# the neural network without softmax layer\n",
    "cnn = nn.Sequential(\n",
    "    encoder,\n",
    "    nn.Flatten(1),\n",
    "    nn.Linear(128, 128),\n",
    "    nn.ReLU(),\n",
    "    nn.Linear(128, 10))\n",
    "\n",
    "# the complete neural network for classification\n",
    "model = nn.Sequential(\n",
    "    cnn,\n",
    "    nn.LogSoftmax(dim=1))"
   ]
  },
  {
   "cell_type": "code",
   "execution_count": 7,
   "metadata": {},
   "outputs": [
    {
     "data": {
      "text/plain": [
       "Sequential(\n",
       "  (0): Sequential(\n",
       "    (0): Sequential(\n",
       "      (0): Conv2d(1, 32, kernel_size=(3, 3), stride=(1, 1))\n",
       "      (1): ReLU()\n",
       "      (2): MaxPool2d(kernel_size=2, stride=2, padding=0, dilation=1, ceil_mode=False)\n",
       "      (3): Conv2d(32, 64, kernel_size=(3, 3), stride=(2, 2))\n",
       "      (4): ReLU()\n",
       "      (5): MaxPool2d(kernel_size=2, stride=2, padding=0, dilation=1, ceil_mode=False)\n",
       "      (6): Conv2d(64, 128, kernel_size=(3, 3), stride=(2, 2))\n",
       "    )\n",
       "    (1): Flatten()\n",
       "    (2): Linear(in_features=128, out_features=128, bias=True)\n",
       "    (3): ReLU()\n",
       "    (4): Linear(in_features=128, out_features=10, bias=True)\n",
       "  )\n",
       "  (1): LogSoftmax()\n",
       ")"
      ]
     },
     "execution_count": 7,
     "metadata": {},
     "output_type": "execute_result"
    }
   ],
   "source": [
    "# load pretrained parameters\n",
    "model.load_state_dict(torch.load(MODEL_PATH, map_location=device))\n",
    "model.eval()\n",
    "model.to(device)"
   ]
  },
  {
   "cell_type": "code",
   "execution_count": 8,
   "metadata": {},
   "outputs": [
    {
     "name": "stdout",
     "output_type": "stream",
     "text": [
      "(200, 1, 28, 28)\n",
      "(200, 1, 28, 28)\n",
      "(200,)\n",
      "(200,)\n",
      "(200,)\n"
     ]
    }
   ],
   "source": [
    "# load adversarial examples and clean samples\n",
    "# pytorch uses float32 for inputs\n",
    "saved_images = np.fromfile(open(IMAGE_FILE_PATH, 'rb'), dtype=np.float32)\n",
    "saved_images = np.reshape(saved_images, IMAGE_DIM)\n",
    "\n",
    "saved_advs = np.fromfile(open(ADV_FILE_PATH, 'rb'), dtype=np.float32)\n",
    "saved_advs = np.reshape(saved_advs, IMAGE_DIM)\n",
    "assert saved_images.shape == saved_advs.shape\n",
    "\n",
    "saved_l2 = np.fromfile(open(L2_FILE_PATH, 'rb'), dtype=np.float32)\n",
    "assert saved_l2.shape == (NUM_ADV,)\n",
    "\n",
    "# pytorch uses int64 for labels\n",
    "saved_labels = np.fromfile(open(LABEL_FILE_PATH, 'rb'), dtype=np.int64)\n",
    "assert saved_labels.shape == (NUM_ADV,)\n",
    "\n",
    "saved_preds = np.fromfile(open(PRED_FILE_PATH, 'rb'), dtype=np.int64)\n",
    "assert saved_preds.shape == (NUM_ADV,)\n",
    "\n",
    "# check saved file\n",
    "not_equal = np.not_equal(saved_labels, saved_preds)\n",
    "assert len(not_equal[not_equal==True]) == len(not_equal)\n",
    "\n",
    "\n",
    "print(saved_images.shape)\n",
    "print(saved_advs.shape)\n",
    "print(saved_l2.shape)\n",
    "print(saved_labels.shape)\n",
    "print(not_equal.shape)"
   ]
  },
  {
   "cell_type": "code",
   "execution_count": 9,
   "metadata": {},
   "outputs": [],
   "source": [
    "# convert numpy array to pytorch DataLoader\n",
    "dataset_clean = TensorDataset(\n",
    "    torch.from_numpy(saved_images), \n",
    "    torch.from_numpy(saved_labels))\n",
    "loader_clean = DataLoader(\n",
    "    dataset_clean,\n",
    "    batch_size=BATCH_SIZE,\n",
    "    shuffle=True,\n",
    "    num_workers=num_workers)\n",
    "\n",
    "dataset_adv = TensorDataset(\n",
    "    torch.from_numpy(saved_advs), \n",
    "    torch.from_numpy(saved_labels))\n",
    "loader_adv = DataLoader(\n",
    "    dataset_adv,\n",
    "    batch_size=BATCH_SIZE,\n",
    "    shuffle=True,\n",
    "    num_workers=num_workers)\n",
    "\n",
    "assert len(loader_clean.dataset) == NUM_ADV\n",
    "assert len(loader_adv.dataset) == NUM_ADV"
   ]
  },
  {
   "cell_type": "code",
   "execution_count": 10,
   "metadata": {},
   "outputs": [
    {
     "data": {
      "image/png": "[encoded data removed]",
      "text/plain": [
       "<Figure size 1152x288 with 1 Axes>"
      ]
     },
     "metadata": {
      "needs_background": "light"
     },
     "output_type": "display_data"
    },
    {
     "data": {
      "image/png": "[encoded data removed]",
      "text/plain": [
       "<Figure size 1152x288 with 1 Axes>"
      ]
     },
     "metadata": {
      "needs_background": "light"
     },
     "output_type": "display_data"
    }
   ],
   "source": [
    "images = torch.from_numpy(saved_images[:16])\n",
    "plt.figure(figsize=[16, 4])\n",
    "torch_utils.imshow(images, title='Clean Inputs')\n",
    "plt.show()\n",
    "\n",
    "advs = torch.from_numpy(saved_advs[:16])\n",
    "plt.figure(figsize=[16, 4])\n",
    "torch_utils.imshow(advs, title='Adversarial Examples')\n",
    "plt.show()"
   ]
  },
  {
   "cell_type": "code",
   "execution_count": 11,
   "metadata": {},
   "outputs": [
    {
     "name": "stdout",
     "output_type": "stream",
     "text": [
      "Clean images - Loss: 0.0104 Accuracy: 100.0000%\n",
      "Adversarial examples - Loss: 0.7066 Accuracy: 0.0000%\n",
      "Mean L2 distance: 1.4064\n"
     ]
    }
   ],
   "source": [
    "va_loss, va_acc = torch_utils.validate(model, loader_clean)\n",
    "print('Clean images - Loss: {:.4f} Accuracy: {:.4f}%'.format(va_loss, va_acc*100.))\n",
    "\n",
    "va_loss, va_acc = torch_utils.validate(model, loader_adv)\n",
    "print('Adversarial examples - Loss: {:.4f} Accuracy: {:.4f}%'.format(va_loss, va_acc*100.))\n",
    "\n",
    "print(f'Mean L2 distance: {saved_l2.mean():.4f}')"
   ]
  },
  {
   "cell_type": "code",
   "execution_count": 12,
   "metadata": {},
   "outputs": [],
   "source": [
    "def encode_dataloader(encoder, loader, encoded_outputs):\n",
    "    assert isinstance(loader, DataLoader), f'{type(loader)}'\n",
    "    assert isinstance(encoded_outputs, torch.Tensor), f'{type(encoded_outputs)}'\n",
    "\n",
    "    start = 0\n",
    "    with torch.no_grad():\n",
    "        for x, _ in loader:\n",
    "            x = x.to(device)\n",
    "            batch_size = len(x)\n",
    "            x_encoded = encoder(x).view(batch_size, -1)\n",
    "            encoded_outputs[start: start+batch_size] = x_encoded\n",
    "            start += batch_size\n",
    "    return encoded_outputs"
   ]
  },
  {
   "cell_type": "code",
   "execution_count": 14,
   "metadata": {},
   "outputs": [
    {
     "name": "stdout",
     "output_type": "stream",
     "text": [
      "num_train 60000\n",
      "num_test 10000\n",
      "num_adv 200\n",
      "Encoding train set: 0m 24.8s\n",
      "Encoding test set: 0m 4.2s\n",
      "Encoding adversarial example set: 0m 0.2s\n",
      "Encoding clean subset: 0m 0.1s\n"
     ]
    }
   ],
   "source": [
    "# start from Stage 2\n",
    "num_train = len(loader_train.dataset)\n",
    "num_test = len(loader_test.dataset)\n",
    "print('num_train', num_train)\n",
    "print('num_test', num_test)\n",
    "assert len(loader_adv.dataset) == NUM_ADV   \n",
    "print('num_adv', NUM_ADV)\n",
    "\n",
    "since = time.time()\n",
    "encoded_train = torch.empty(num_train, NUM_COMPONENTS).to(device)\n",
    "encoded_train = encode_dataloader(autoencoder.encode, loader_train, encoded_train)\n",
    "time_elapsed = time.time() - since\n",
    "print('Encoding train set: {:.0f}m {:.1f}s'.format(time_elapsed // 60, time_elapsed % 60))\n",
    "\n",
    "since = time.time()\n",
    "encoded_test = torch.empty(num_test, NUM_COMPONENTS).to(device)\n",
    "encoded_test = encode_dataloader(autoencoder.encode, loader_test, encoded_test)\n",
    "time_elapsed = time.time() - since\n",
    "print('Encoding test set: {:.0f}m {:.1f}s'.format(time_elapsed // 60, time_elapsed % 60))\n",
    "\n",
    "since = time.time()\n",
    "encoded_ad = torch.empty(NUM_ADV, NUM_COMPONENTS).to(device)\n",
    "encoded_ad = encode_dataloader(autoencoder.encode, loader_adv, encoded_ad)\n",
    "time_elapsed = time.time() - since\n",
    "print('Encoding adversarial example set: {:.0f}m {:.1f}s'.format(time_elapsed // 60, time_elapsed % 60))\n",
    "\n",
    "since = time.time()\n",
    "encoded_clean = torch.empty(NUM_ADV, NUM_COMPONENTS).to(device)\n",
    "encoded_clean = encode_dataloader(autoencoder.encode, loader_clean, encoded_clean)\n",
    "time_elapsed = time.time() - since\n",
    "print('Encoding clean subset: {:.0f}m {:.1f}s'.format(time_elapsed // 60, time_elapsed % 60))"
   ]
  },
  {
   "cell_type": "code",
   "execution_count": 15,
   "metadata": {},
   "outputs": [],
   "source": [
    "encoded_train_np = encoded_train.cpu().detach().numpy()\n",
    "encoded_test_np = encoded_test.cpu().detach().numpy()\n",
    "encoded_ad_np = encoded_ad.cpu().detach().numpy()\n",
    "encoded_clean_np = encoded_clean.cpu().detach().numpy()\n",
    "assert encoded_train_np.shape == (num_train, NUM_COMPONENTS)\n",
    "assert encoded_ad_np.shape == (NUM_ADV, NUM_COMPONENTS)\n",
    "assert encoded_clean_np.shape == encoded_ad_np.shape"
   ]
  },
  {
   "cell_type": "code",
   "execution_count": 16,
   "metadata": {},
   "outputs": [],
   "source": [
    "def loader_label_to_np(loader, labels_np):\n",
    "    assert type(labels_np) == np.ndarray\n",
    "    assert isinstance(loader, DataLoader)\n",
    "    assert len(loader.dataset) == len(labels_np)\n",
    "    \n",
    "    start = 0\n",
    "    with torch.no_grad():\n",
    "        for _, y in loader:\n",
    "            batch_size = len(y)\n",
    "            labels_np[start: start+batch_size] = y.detach().numpy()\n",
    "            start += batch_size\n",
    "    return labels_np\n",
    "\n",
    "y_train_np = -np.ones(num_train, dtype=np.int64)\n",
    "y_train_up = loader_label_to_np(loader_train, y_train_np)\n",
    "\n",
    "y_test_np = -np.ones(num_test, dtype=np.int64)\n",
    "y_test_np = loader_label_to_np(loader_test, y_test_np)"
   ]
  },
  {
   "cell_type": "code",
   "execution_count": 39,
   "metadata": {},
   "outputs": [],
   "source": [
    "# Applicability Domain\n",
    "K_AD_S2 = 12\n",
    "ZETA = 0.80"
   ]
  },
  {
   "cell_type": "code",
   "execution_count": 17,
   "metadata": {},
   "outputs": [
    {
     "name": "stderr",
     "output_type": "stream",
     "text": [
      "100%|██████████| 10/10 [00:16<00:00,  1.67s/it]"
     ]
    },
    {
     "name": "stdout",
     "output_type": "stream",
     "text": [
      "\n",
      "Creating KNN models: 0m 16.7s\n"
     ]
    },
    {
     "name": "stderr",
     "output_type": "stream",
     "text": [
      "\n"
     ]
    }
   ],
   "source": [
    "# a list of scikit learn KNN models\n",
    "knn_models = []\n",
    "\n",
    "# mu, sd, and are scalar for each labe\n",
    "k_means = np.empty(NUM_CLASSES, dtype=np.float32)\n",
    "k_stds = np.empty(NUM_CLASSES, dtype=np.float32)\n",
    "\n",
    "since = time.time()\n",
    "with tqdm(total=NUM_CLASSES) as pbar:\n",
    "    for l in range(NUM_CLASSES):\n",
    "        indices = np.where(y_train_np == l)\n",
    "        knn_model = ad_utils.unimodal_knn(encoded_train[indices], K_AD_S2)\n",
    "        knn_models.append(knn_model)\n",
    "\n",
    "        # computing mean, standard deviation and threshold\n",
    "        mu, sd = ad_utils.get_distance_info(\n",
    "            knn_models[l], encoded_train[indices], K_AD_S2, seen_in_train_set=True)\n",
    "        k_means[l] = mu\n",
    "        k_stds[l] = sd\n",
    "        \n",
    "        pbar.update(1)\n",
    "time_elapsed = time.time() - since\n",
    "print('\\nCreating KNN models: {:.0f}m {:.1f}s'.format(time_elapsed // 60, time_elapsed % 60))"
   ]
  },
  {
   "cell_type": "code",
   "execution_count": 40,
   "metadata": {},
   "outputs": [],
   "source": [
    "thresholds = np.empty(NUM_CLASSES, dtype=np.float32)\n",
    "for i in range(NUM_CLASSES):\n",
    "    thresholds[i] = ad.get_reliability_threshold(k_means[i], k_stds[i], ZETA)"
   ]
  },
  {
   "cell_type": "code",
   "execution_count": 41,
   "metadata": {},
   "outputs": [
    {
     "name": "stdout",
     "output_type": "stream",
     "text": [
      "(167, 128)\n",
      "(167,)\n"
     ]
    }
   ],
   "source": [
    "encoded_passed_s2, indices_passed_s2 = ad.check_reliability(\n",
    "    encoded_ad_np,\n",
    "    predictions=saved_preds,\n",
    "    models=knn_models,\n",
    "    dist_thresholds=thresholds,\n",
    "    classes=list(range(NUM_CLASSES)),\n",
    "    verbose=0)\n",
    "\n",
    "print(encoded_passed_s2.shape)\n",
    "print(indices_passed_s2.shape)"
   ]
  },
  {
   "cell_type": "code",
   "execution_count": 42,
   "metadata": {},
   "outputs": [
    {
     "name": "stdout",
     "output_type": "stream",
     "text": [
      "\n",
      "After reliability check:\n",
      "Blocked 33 samples\n",
      "Pass rate = 83.5000%\n",
      "Mean L2 distance: 1.4183\n",
      "\n",
      "# of misclassified = 167\n",
      "\n",
      "Confusion matrix\n",
      "Actual classes\n",
      "    0   1   2   3   4   5   6   7   8   9\n",
      "[[0 0 7 0 0 3 6 0 0 4]\n",
      " [0 0 8 0 5 0 0 9 7 0]\n",
      " [0 1 0 6 1 0 1 2 6 0]\n",
      " [0 0 1 0 0 4 0 0 4 2]\n",
      " [1 2 0 0 0 0 2 3 3 2]\n",
      " [1 0 0 7 0 0 5 0 4 1]\n",
      " [1 0 1 0 5 4 0 0 2 0]\n",
      " [0 2 4 6 1 1 0 0 0 3]\n",
      " [0 0 6 4 0 1 1 1 0 2]\n",
      " [0 0 0 4 6 0 0 0 4 0]]\n"
     ]
    }
   ],
   "source": [
    "# display Stage 2 result\n",
    "print('\\nAfter reliability check:')\n",
    "print(f'Blocked {NUM_ADV - len(indices_passed_s2)} samples')\n",
    "pass_rate = ad_utils.get_rate(encoded_passed_s2, saved_advs)\n",
    "print(f'Pass rate = {pass_rate * 100:.4f}%')\n",
    "print(f'Mean L2 distance: {saved_l2[indices_passed_s2].mean():.4f}')\n",
    "\n",
    "conf_mat = metrics.confusion_matrix(saved_labels[indices_passed_s2], saved_preds[indices_passed_s2])\n",
    "count_mis = len(np.where(np.not_equal(saved_labels[indices_passed_s2], saved_preds[indices_passed_s2]))[0])\n",
    "print(f'\\n# of misclassified = {count_mis}')\n",
    "\n",
    "print('\\nConfusion matrix')\n",
    "print('Actual classes')\n",
    "print(' ', *list(range(NUM_CLASSES)), sep='   ')\n",
    "print(conf_mat)"
   ]
  },
  {
   "cell_type": "code",
   "execution_count": 43,
   "metadata": {},
   "outputs": [
    {
     "name": "stdout",
     "output_type": "stream",
     "text": [
      "(169, 128)\n",
      "(169,)\n",
      "Pass rate = 84.5000%\n"
     ]
    }
   ],
   "source": [
    "encoded_test_left, indices_test_left = ad.check_reliability(\n",
    "    encoded_clean_np,\n",
    "    predictions=saved_labels,\n",
    "    models=knn_models,\n",
    "    dist_thresholds=thresholds,\n",
    "    classes=list(range(NUM_CLASSES)),\n",
    "    verbose=0)\n",
    "\n",
    "print(encoded_test_left.shape)\n",
    "print(indices_test_left.shape)\n",
    "pass_rate = ad_utils.get_rate(indices_test_left, saved_labels)\n",
    "print(f'Pass rate = {pass_rate * 100:.4f}%')"
   ]
  },
  {
   "cell_type": "code",
   "execution_count": 44,
   "metadata": {},
   "outputs": [
    {
     "name": "stdout",
     "output_type": "stream",
     "text": [
      "\n",
      "---------- Decidability ----------------\n",
      "Parameters: k = 12\n"
     ]
    }
   ],
   "source": [
    "# Stage 3 - Decidability\n",
    "# parameters for Decidability Stage\n",
    "K_AD_S3 = 12\n",
    "\n",
    "adv_s2 = saved_advs[indices_passed_s2]\n",
    "y_s2 = saved_labels[indices_passed_s2]\n",
    "pred_s2 = saved_preds[indices_passed_s2]\n",
    "encoded_s2 = encoded_ad_np[indices_passed_s2]\n",
    "\n",
    "# shuffle_indices = np.random.permutation(num_train)\n",
    "# shuffle10 = shuffle_indices[:num_train//10]\n",
    "\n",
    "print('\\n---------- Decidability ----------------')\n",
    "print(f'Parameters: k = {K_AD_S3}')"
   ]
  },
  {
   "cell_type": "code",
   "execution_count": 52,
   "metadata": {},
   "outputs": [
    {
     "name": "stdout",
     "output_type": "stream",
     "text": [
      "[0 1 2 3 4 5 6 7 8 9]\n"
     ]
    }
   ],
   "source": [
    "# the knnn model with complete train set\n",
    "comp_knn_model = knn.KNeighborsClassifier(\n",
    "    n_neighbors=K_AD_S3,\n",
    "    n_jobs=-1,\n",
    "    weights='distance'\n",
    ")\n",
    "# comp_knn_model.fit(encoded_train_np[shuffle10], y_train_np[shuffle10])\n",
    "comp_knn_model.fit(encoded_train_np, y_train_np)\n",
    "print(comp_knn_model.classes_)"
   ]
  },
  {
   "cell_type": "code",
   "execution_count": 53,
   "metadata": {},
   "outputs": [
    {
     "name": "stdout",
     "output_type": "stream",
     "text": [
      "Time taken: 2m 32.8s - Accuracy on train set: 100.0000%\n",
      "Time taken: 0m 25.7s - Accuracy on test set: 10.5600%\n",
      "Accuracy on clean test set  = 11.0000%\n"
     ]
    }
   ],
   "source": [
    "# TODO: accuracy on test set does NOT look correct!\n",
    "\n",
    "# test performance on train set\n",
    "since = time.time()\n",
    "pred_train = comp_knn_model.predict(encoded_train_np)\n",
    "score = metrics.accuracy_score(y_train_np, pred_train)\n",
    "time_elapsed = time.time() - since\n",
    "print('Time taken: {:.0f}m {:.1f}s - Accuracy on train set: {:.4f}%'.format(\n",
    "    time_elapsed // 60, \n",
    "    time_elapsed % 60, \n",
    "    score * 100))\n",
    "\n",
    "# test performance on test set\n",
    "since = time.time()\n",
    "pred_test = comp_knn_model.predict(encoded_test_np)\n",
    "score = metrics.accuracy_score(y_test_np, pred_test)\n",
    "time_elapsed = time.time() - since\n",
    "print('Time taken: {:.0f}m {:.1f}s - Accuracy on test set: {:.4f}%'.format(\n",
    "    time_elapsed // 60, \n",
    "    time_elapsed % 60, \n",
    "    score * 100))\n",
    "\n",
    "# test performance on clean set\n",
    "pred_clean = comp_knn_model.predict(encoded_clean_np)\n",
    "score = metrics.accuracy_score(saved_labels, pred_clean)\n",
    "print(f'Accuracy on clean test set  = {score*100:.4f}%')"
   ]
  },
  {
   "cell_type": "code",
   "execution_count": null,
   "metadata": {},
   "outputs": [],
   "source": [
    "pred_adv = comp_knn_model.predict(encoded_ad_np)\n",
    "score = metrics.accuracy_score(saved_labels, pred_adv)\n",
    "print(f'Accuracy on adversarial examples = {score*100:.4f}%')\n",
    "print('Accuracy on CNN model is 0.0%')"
   ]
  },
  {
   "cell_type": "code",
   "execution_count": null,
   "metadata": {},
   "outputs": [],
   "source": [
    "encoded_passed_s3, indices_passed_s3 = ad.check_decidability(\n",
    "    encoded_s2,\n",
    "    pred_s2,\n",
    "    comp_knn_model\n",
    ")\n",
    "indices_passed_s3 = indices_passed_s3[0]\n",
    "\n",
    "print(encoded_passed_s3.shape)\n",
    "print(indices_passed_s3.shape)"
   ]
  },
  {
   "cell_type": "code",
   "execution_count": null,
   "metadata": {},
   "outputs": [],
   "source": [
    "# Stage 3 result\n",
    "ad_s3 = adv_s2[indices_passed_s3]\n",
    "y_s3 = y_s2[indices_passed_s3]\n",
    "pred_s3 = pred_s2[indices_passed_s3]\n",
    "\n",
    "print(f'Blocked {len(indices_passed_s2) - len(indices_passed_s3)} samples')\n",
    "\n",
    "pass_rate = ad_utils.get_rate(indices_passed_s3, indices_passed_s2)\n",
    "print(f'Pass rate on 3rd stage = {pass_rate * 100:.4f}%')\n",
    "pass_rate = ad_utils.get_rate(encoded_passed_s3, saved_advs)\n",
    "print(f'Pass rate overall = {pass_rate * 100:.4f}%')\n",
    "\n",
    "print(f'\\n# of samples after AD = {len(indices_passed_s3)}')\n",
    "print(f'Total blocked samples = {NUM_ADV - len(indices_passed_s3)}')"
   ]
  },
  {
   "cell_type": "code",
   "execution_count": null,
   "metadata": {},
   "outputs": [],
   "source": [
    "\n",
    "conf_mat = metrics.confusion_matrix(y_s3, pred_s3)\n",
    "indices_mis = np.where(np.not_equal(y_s3, pred_s3))[0]\n",
    "count_mis = len(indices_mis)\n",
    "print(f'# of misclassified = {count_mis}')\n",
    "\n",
    "print('\\nConfusion matrix')\n",
    "print('Actual classes')\n",
    "print(' ', *list(range(10)), sep='   ')\n",
    "print(conf_mat)"
   ]
  },
  {
   "cell_type": "code",
   "execution_count": null,
   "metadata": {},
   "outputs": [],
   "source": [
    "print(saved_labels[:32])\n",
    "print(saved_preds[:32])"
   ]
  },
  {
   "cell_type": "code",
   "execution_count": null,
   "metadata": {},
   "outputs": [],
   "source": []
  }
 ],
 "metadata": {
  "kernelspec": {
   "display_name": "Python 3.6.9 64-bit ('venvtorch': virtualenv)",
   "language": "python",
   "name": "python36964bitvenvtorchvirtualenv14309c1aa2c34d25918b3f07e8bbea4c"
  },
  "language_info": {
   "codemirror_mode": {
    "name": "ipython",
    "version": 3
   },
   "file_extension": ".py",
   "mimetype": "text/x-python",
   "name": "python",
   "nbconvert_exporter": "python",
   "pygments_lexer": "ipython3",
   "version": "3.6.9"
  }
 },
 "nbformat": 4,
 "nbformat_minor": 4
}
