{
 "cells": [
  {
   "cell_type": "code",
   "execution_count": 1,
   "metadata": {},
   "outputs": [
    {
     "name": "stdout",
     "output_type": "stream",
     "text": [
      "3.6.9 (default, Nov  7 2019, 10:44:02) \n",
      "[GCC 8.3.0]\n",
      "/usr/lib/python36.zip\n",
      "/usr/lib/python3.6\n",
      "/usr/lib/python3.6/lib-dynload\n",
      "\n",
      "/home/lukec/venv/lib/python3.6/site-packages\n",
      "/home/lukec/Downloads/jax/build\n",
      "/home/lukec/.local/lib/python3.6/site-packages\n",
      "/usr/local/lib/python3.6/dist-packages\n",
      "/usr/lib/python3/dist-packages\n",
      "/home/lukec/venv/lib/python3.6/site-packages/IPython/extensions\n",
      "/home/lukec/.ipython\n"
     ]
    }
   ],
   "source": [
    "import sys\n",
    "print(sys.version)\n",
    "print(*sys.path, sep='\\n')"
   ]
  },
  {
   "cell_type": "code",
   "execution_count": 2,
   "metadata": {},
   "outputs": [],
   "source": [
    "import numpy as np\n",
    "import matplotlib.pyplot as plt\n",
    "import time\n",
    "import os\n",
    "import copy\n",
    "import torch\n",
    "import torch.nn as nn\n",
    "import torch.nn.functional as F\n",
    "from torch.utils.data import DataLoader\n",
    "import torchvision as tv"
   ]
  },
  {
   "cell_type": "code",
   "execution_count": 3,
   "metadata": {},
   "outputs": [
    {
     "name": "stdout",
     "output_type": "stream",
     "text": [
      "cuda:0\n",
      "6\n"
     ]
    }
   ],
   "source": [
    "device = torch.device('cuda:0' if torch.cuda.is_available() else 'cpu')\n",
    "print(device)\n",
    "\n",
    "num_workers = os.cpu_count()\n",
    "print(num_workers)"
   ]
  },
  {
   "cell_type": "code",
   "execution_count": 16,
   "metadata": {},
   "outputs": [],
   "source": [
    "# parameters for trained CNN\n",
    "ROOT = os.path.join('.', 'dataset_root')\n",
    "BATCH_SIZE = 32\n",
    "LEARNING_RATE = 1e-3\n",
    "WEIGHT_DECAY = 1e-5\n",
    "EPOCHS = 30\n",
    "MODEL_PATH = 'mnist_model3.pt'\n",
    "CHANNEL = 3"
   ]
  },
  {
   "cell_type": "code",
   "execution_count": 17,
   "metadata": {},
   "outputs": [],
   "source": [
    "def imshow(tensor_grid, mean=0., std=1., title=None):\n",
    "    assert isinstance(tensor_grid, torch.Tensor)\n",
    "    assert len(tensor_grid.size()) == 4, \\\n",
    "        f'For a batch of images only, {tensor_grid.size()} '\n",
    "    \n",
    "    tensor_grid = tv.utils.make_grid(tensor_grid)\n",
    "    grid = tensor_grid.numpy().transpose((1,2,0))\n",
    "    grid = std * grid + mean\n",
    "    grid = np.clip(grid, 0, 1)\n",
    "    plt.imshow(grid)\n",
    "    \n",
    "    if title is not None:\n",
    "        plt.title(title)\n",
    "        \n",
    "    plt.pause(0.001)"
   ]
  },
  {
   "cell_type": "code",
   "execution_count": 18,
   "metadata": {},
   "outputs": [
    {
     "name": "stdout",
     "output_type": "stream",
     "text": [
      "Files already downloaded and verified\n",
      "Files already downloaded and verified\n",
      "Train = 50000, Test = 10000\n",
      "Classes = 10\n"
     ]
    }
   ],
   "source": [
    "# prepare data\n",
    "# mean, std = [0.49139947 0.48215836 0.44653094], [0.20230092 0.1994128  0.20096162]\n",
    "transform = tv.transforms.Compose([\n",
    "        tv.transforms.ToTensor(),\n",
    "#         tv.transforms.Normalize(mean, std)\n",
    "])\n",
    "\n",
    "train_data = tv.datasets.CIFAR10(\n",
    "    ROOT,\n",
    "    train=True,\n",
    "    download=True,\n",
    "    transform=tv.transforms.Compose([\n",
    "        tv.transforms.ToTensor(),\n",
    "#         tv.transforms.Normalize(mean, std)\n",
    "    ]))\n",
    "train_loader = DataLoader(\n",
    "    train_data,\n",
    "    BATCH_SIZE,\n",
    "    shuffle=True,\n",
    "    num_workers=num_workers)\n",
    "\n",
    "test_data = tv.datasets.CIFAR10(\n",
    "    ROOT,\n",
    "    train=False,\n",
    "    download=True,\n",
    "    transform=tv.transforms.Compose([\n",
    "        tv.transforms.ToTensor(),\n",
    "#         tv.transforms.Normalize(mean, std)\n",
    "    ]))\n",
    "test_loader = DataLoader(\n",
    "    test_data,\n",
    "    BATCH_SIZE,\n",
    "    shuffle=True,\n",
    "    num_workers=num_workers)\n",
    "\n",
    "n_train = len(train_loader.dataset)\n",
    "n_test = len(test_loader.dataset)\n",
    "print(f'Train = {n_train}, Test = {n_test}')\n",
    "\n",
    "classes = np.array(['plane', 'car', 'bird', 'cat', 'deer',\n",
    "    'dog', 'frog', 'horse', 'ship', 'truck'])\n",
    "print(f'Classes = {len(classes)}')"
   ]
  },
  {
   "cell_type": "code",
   "execution_count": 30,
   "metadata": {},
   "outputs": [
    {
     "name": "stdout",
     "output_type": "stream",
     "text": [
      "torch.Size([32, 3, 32, 32])\n",
      "Pixel count = 3072\n",
      "torch.Size([1, 64, 30, 30])\n",
      "torch.Size([1, 64, 28, 28])\n",
      "torch.Size([1, 64, 14, 14])\n",
      "torch.Size([1, 128, 12, 12])\n",
      "torch.Size([1, 128, 10, 10])\n",
      "torch.Size([1, 128, 5, 5])\n",
      "torch.Size([1, 256, 3, 3])\n",
      "torch.Size([1, 384, 1, 1])\n",
      "\n",
      "Decoding\n",
      "torch.Size([1, 256, 3, 3])\n",
      "torch.Size([1, 128, 5, 5])\n",
      "torch.Size([1, 128, 10, 10])\n",
      "torch.Size([1, 128, 12, 12])\n",
      "torch.Size([1, 64, 14, 14])\n",
      "torch.Size([1, 64, 28, 28])\n",
      "torch.Size([1, 64, 30, 30])\n",
      "torch.Size([1, 3, 32, 32])\n"
     ]
    }
   ],
   "source": [
    "images = next(iter(train_loader))[0]\n",
    "b, c, h, w = images.size()\n",
    "print(images.size())\n",
    "print(f'Pixel count = {c * h * w}')\n",
    "\n",
    "x = torch.rand(1, c, h, w)\n",
    "\n",
    "conv = nn.Conv2d(3, 64, 3, 1)\n",
    "x = conv(x)\n",
    "print(x.size())\n",
    "conv = nn.Conv2d(64, 64, 3, 1)\n",
    "x = conv(x)\n",
    "print(x.size())\n",
    "pool = nn.MaxPool2d(2)\n",
    "x = pool(x)\n",
    "print(x.size())\n",
    "conv = nn.Conv2d(64, 128, 3, 1)\n",
    "x = conv(x)\n",
    "print(x.size())\n",
    "conv = nn.Conv2d(128, 128, 3, 1)\n",
    "x = conv(x)\n",
    "print(x.size())\n",
    "pool = nn.MaxPool2d(2)\n",
    "x = pool(x)\n",
    "print(x.size())\n",
    "conv = nn.Conv2d(128, 256, 3, 1)\n",
    "x = conv(x)\n",
    "print(x.size())\n",
    "conv = nn.Conv2d(256, 384, 3, 2)\n",
    "x = conv(x)\n",
    "print(x.size())\n",
    "\n",
    "print('\\nDecoding')\n",
    "convt = nn.ConvTranspose2d(384, 256, 3, 2)\n",
    "x = convt(x)\n",
    "print(x.size())\n",
    "convt = nn.ConvTranspose2d(256, 128, 3, 1)\n",
    "x = convt(x)\n",
    "print(x.size())\n",
    "up = nn.Upsample((10, 10), mode='bilinear', align_corners=True)\n",
    "x = up(x)\n",
    "print(x.size())\n",
    "convt = nn.ConvTranspose2d(128, 128, 3, 1)\n",
    "x = convt(x)\n",
    "print(x.size())\n",
    "convt = nn.ConvTranspose2d(128, 64, 3, 1)\n",
    "x = convt(x)\n",
    "print(x.size())\n",
    "up = nn.Upsample((28, 28), mode='bilinear', align_corners=True)\n",
    "x = up(x)\n",
    "print(x.size())\n",
    "convt = nn.ConvTranspose2d(64, 64, 3, 1)\n",
    "x = convt(x)\n",
    "print(x.size())\n",
    "convt = nn.ConvTranspose2d(64, 3, 3, 1)\n",
    "x = convt(x)\n",
    "print(x.size())"
   ]
  },
  {
   "cell_type": "code",
   "execution_count": 34,
   "metadata": {},
   "outputs": [],
   "source": [
    "class Autoencoder(nn.Module):\n",
    "    def __init__(self, batch_size=BATCH_SIZE, c=CHANNEL):\n",
    "        super(Autoencoder, self).__init__()\n",
    "        self.batch_size = batch_size\n",
    "        self.c = c\n",
    "        \n",
    "        self.encoder = nn.Sequential(\n",
    "            nn.Conv2d(c, 64, 3, 1),\n",
    "            nn.ReLU(),\n",
    "            nn.Conv2d(64, 64, 3, 1),\n",
    "            nn.ReLU(),\n",
    "            nn.MaxPool2d(2),\n",
    "            nn.Conv2d(64, 128, 3, 1),\n",
    "            nn.ReLU(),\n",
    "            nn.Conv2d(128, 128, 3, 1),\n",
    "            nn.ReLU(),\n",
    "            nn.MaxPool2d(2),\n",
    "            nn.Conv2d(128, 256, 3, 1),\n",
    "            nn.ReLU(),\n",
    "            nn.Conv2d(256, 384, 3, 2))\n",
    "        \n",
    "        self.decoder = nn.Sequential(\n",
    "            nn.ConvTranspose2d(384, 256, 3, 2),\n",
    "            nn.ReLU(),\n",
    "            nn.ConvTranspose2d(256, 128, 3, 1),\n",
    "            nn.ReLU(),\n",
    "            nn.Upsample((10, 10), mode='bilinear', align_corners=True),\n",
    "            nn.ConvTranspose2d(128, 128, 3, 1),\n",
    "            nn.ReLU(),\n",
    "            nn.ConvTranspose2d(128, 64, 3, 1),\n",
    "            nn.ReLU(),\n",
    "            nn.Upsample((28, 28), mode='bilinear', align_corners=True),\n",
    "            nn.ConvTranspose2d(64, 64, 3, 1),\n",
    "            nn.ReLU(),\n",
    "            nn.ConvTranspose2d(64, 3, 3, 1),\n",
    "            nn.Tanh())\n",
    "                \n",
    "    def forward(self, x):\n",
    "        x = self.encoder(x)\n",
    "        x = self.decoder(x)\n",
    "        return x\n",
    "    \n",
    "    def encode(self, x):\n",
    "        assert isinstance(x, torch.Tensor) \\\n",
    "            and x.size() == (self.batch_size, c, 32, 32)\n",
    "        \n",
    "        return self.encoder(x)\n",
    "    \n",
    "    def decode(self, x):\n",
    "        assert isinstance(x, torch.Tensor) \\\n",
    "            and x.size() in ((self.batch_size, 384, 1, 1), (self.batch_size, 384))\n",
    "        \n",
    "        if x.size() == (self.batch_size, 384):\n",
    "            x = x.view(self.batch_size, 384, 1, 1)\n",
    "        \n",
    "        return self.decoder(x)"
   ]
  },
  {
   "cell_type": "code",
   "execution_count": 35,
   "metadata": {},
   "outputs": [
    {
     "data": {
      "text/plain": [
       "Autoencoder(\n",
       "  (encoder): Sequential(\n",
       "    (0): Conv2d(3, 64, kernel_size=(3, 3), stride=(1, 1))\n",
       "    (1): ReLU()\n",
       "    (2): Conv2d(64, 64, kernel_size=(3, 3), stride=(1, 1))\n",
       "    (3): ReLU()\n",
       "    (4): MaxPool2d(kernel_size=2, stride=2, padding=0, dilation=1, ceil_mode=False)\n",
       "    (5): Conv2d(64, 128, kernel_size=(3, 3), stride=(1, 1))\n",
       "    (6): ReLU()\n",
       "    (7): Conv2d(128, 128, kernel_size=(3, 3), stride=(1, 1))\n",
       "    (8): ReLU()\n",
       "    (9): MaxPool2d(kernel_size=2, stride=2, padding=0, dilation=1, ceil_mode=False)\n",
       "    (10): Conv2d(128, 256, kernel_size=(3, 3), stride=(1, 1))\n",
       "    (11): ReLU()\n",
       "    (12): Conv2d(256, 384, kernel_size=(3, 3), stride=(2, 2))\n",
       "  )\n",
       "  (decoder): Sequential(\n",
       "    (0): ConvTranspose2d(384, 256, kernel_size=(3, 3), stride=(2, 2))\n",
       "    (1): ReLU()\n",
       "    (2): ConvTranspose2d(256, 128, kernel_size=(3, 3), stride=(1, 1))\n",
       "    (3): ReLU()\n",
       "    (4): Upsample(size=(10, 10), mode=bilinear)\n",
       "    (5): ConvTranspose2d(128, 128, kernel_size=(3, 3), stride=(1, 1))\n",
       "    (6): ReLU()\n",
       "    (7): ConvTranspose2d(128, 64, kernel_size=(3, 3), stride=(1, 1))\n",
       "    (8): ReLU()\n",
       "    (9): Upsample(size=(28, 28), mode=bilinear)\n",
       "    (10): ConvTranspose2d(64, 64, kernel_size=(3, 3), stride=(1, 1))\n",
       "    (11): ReLU()\n",
       "    (12): ConvTranspose2d(64, 3, kernel_size=(3, 3), stride=(1, 1))\n",
       "    (13): Tanh()\n",
       "  )\n",
       ")"
      ]
     },
     "execution_count": 35,
     "metadata": {},
     "output_type": "execute_result"
    }
   ],
   "source": [
    "autoencoder = Autoencoder()\n",
    "autoencoder.to(device)"
   ]
  },
  {
   "cell_type": "code",
   "execution_count": 36,
   "metadata": {},
   "outputs": [
    {
     "name": "stdout",
     "output_type": "stream",
     "text": [
      "torch.Size([32, 3, 32, 32])\n",
      "torch.Size([32, 3, 32, 32])\n",
      "torch.Size([32, 384, 1, 1])\n"
     ]
    },
    {
     "data": {
      "image/png": "[encoded data removed]",
      "text/plain": [
       "<Figure size 432x288 with 1 Axes>"
      ]
     },
     "metadata": {
      "needs_background": "light"
     },
     "output_type": "display_data"
    }
   ],
   "source": [
    "# sanity check\n",
    "# x are noise images\n",
    "x = torch.rand(b, c, h, w)\n",
    "print(x.size())\n",
    "x = x.to(device)\n",
    "\n",
    "output = autoencoder(x)\n",
    "print(output.size())\n",
    "assert output.size() == x.size()\n",
    "\n",
    "en = autoencoder.encode(x)\n",
    "print(en.size())\n",
    "assert en.size() == (BATCH_SIZE, 384, 1, 1)\n",
    "\n",
    "de = autoencoder.decode(en)\n",
    "assert de.size() == x.size()\n",
    "\n",
    "# y are encoded images\n",
    "y = torch.randn(BATCH_SIZE, 384)\n",
    "y = y.to(device)\n",
    "de = autoencoder.decode(y)\n",
    "assert de.size() == x.size()\n",
    "\n",
    "plt.figure()\n",
    "imshow(output[:1].cpu().detach())\n",
    "plt.show()"
   ]
  },
  {
   "cell_type": "code",
   "execution_count": 37,
   "metadata": {},
   "outputs": [],
   "source": [
    "optimizer = torch.optim.Adam(\n",
    "    autoencoder.parameters(), \n",
    "    lr=LEARNING_RATE, \n",
    "    weight_decay=WEIGHT_DECAY)"
   ]
  },
  {
   "cell_type": "code",
   "execution_count": 38,
   "metadata": {},
   "outputs": [],
   "source": [
    "def train(autoencoder, loader, optimizer, epochs=EPOCHS):\n",
    "    autoencoder.train()\n",
    "    \n",
    "    for epoch in range(epochs):\n",
    "        total_loss = 0.0\n",
    "        since = time.time()\n",
    "        \n",
    "        for x, y in loader:\n",
    "            x = x.to(device)\n",
    "            batch_size = x.size(0)\n",
    "\n",
    "            optimizer.zero_grad()\n",
    "            outputs = autoencoder(x)\n",
    "            loss = F.mse_loss(outputs, x)\n",
    "            loss.backward()    \n",
    "            optimizer.step()\n",
    "            \n",
    "            total_loss += loss.item() * batch_size\n",
    "        \n",
    "        time_elapsed = time.time() - since\n",
    "        total_loss = total_loss / len(loader.dataset)\n",
    "        print('Epoch: {:2d} - Time: {:.0f}m {:.1f}s - Loss: {:.4f}'.format(\n",
    "            epoch + 1,\n",
    "            time_elapsed // 60, time_elapsed % 60,\n",
    "            total_loss))"
   ]
  },
  {
   "cell_type": "code",
   "execution_count": 39,
   "metadata": {},
   "outputs": [
    {
     "name": "stdout",
     "output_type": "stream",
     "text": [
      "Epoch:  1 - Time: 0m 16.7s - Loss: 0.0250\n",
      "Epoch:  2 - Time: 0m 16.9s - Loss: 0.0136\n",
      "Epoch:  3 - Time: 0m 17.0s - Loss: 0.0116\n",
      "Epoch:  4 - Time: 0m 16.9s - Loss: 0.0105\n",
      "Epoch:  5 - Time: 0m 17.5s - Loss: 0.0096\n",
      "Epoch:  6 - Time: 0m 16.6s - Loss: 0.0089\n",
      "Epoch:  7 - Time: 0m 16.6s - Loss: 0.0084\n",
      "Epoch:  8 - Time: 0m 16.4s - Loss: 0.0081\n",
      "Epoch:  9 - Time: 0m 16.4s - Loss: 0.0079\n",
      "Epoch: 10 - Time: 0m 16.4s - Loss: 0.0076\n",
      "Epoch: 11 - Time: 0m 16.4s - Loss: 0.0075\n",
      "Epoch: 12 - Time: 0m 16.4s - Loss: 0.0073\n",
      "Epoch: 13 - Time: 0m 16.4s - Loss: 0.0071\n",
      "Epoch: 14 - Time: 0m 16.4s - Loss: 0.0070\n",
      "Epoch: 15 - Time: 0m 16.4s - Loss: 0.0070\n",
      "Epoch: 16 - Time: 0m 16.4s - Loss: 0.0069\n",
      "Epoch: 17 - Time: 0m 16.4s - Loss: 0.0068\n",
      "Epoch: 18 - Time: 0m 16.4s - Loss: 0.0067\n",
      "Epoch: 19 - Time: 0m 16.4s - Loss: 0.0068\n",
      "Epoch: 20 - Time: 0m 16.4s - Loss: 0.0065\n",
      "Epoch: 21 - Time: 0m 16.4s - Loss: 0.0065\n",
      "Epoch: 22 - Time: 0m 16.5s - Loss: 0.0064\n",
      "Epoch: 23 - Time: 0m 17.3s - Loss: 0.0064\n",
      "Epoch: 24 - Time: 0m 16.9s - Loss: 0.0063\n",
      "Epoch: 25 - Time: 0m 17.0s - Loss: 0.0076\n",
      "Epoch: 26 - Time: 0m 16.4s - Loss: 0.0067\n",
      "Epoch: 27 - Time: 0m 16.7s - Loss: 0.0065\n",
      "Epoch: 28 - Time: 0m 16.9s - Loss: 0.0065\n",
      "Epoch: 29 - Time: 0m 16.7s - Loss: 0.0064\n",
      "Epoch: 30 - Time: 0m 16.5s - Loss: 0.0063\n",
      "Training completed in 8m 18.3s\n"
     ]
    }
   ],
   "source": [
    "since = time.time()\n",
    "\n",
    "train(autoencoder, train_loader, optimizer)\n",
    "\n",
    "time_elapsed = time.time() - since\n",
    "print('Training completed in {:.0f}m {:.1f}s'.format(\n",
    "    time_elapsed // 60,\n",
    "    time_elapsed % 60))"
   ]
  },
  {
   "cell_type": "code",
   "execution_count": 40,
   "metadata": {},
   "outputs": [
    {
     "data": {
      "image/png": "[encoded data removed]",
      "text/plain": [
       "<Figure size 1152x576 with 1 Axes>"
      ]
     },
     "metadata": {
      "needs_background": "light"
     },
     "output_type": "display_data"
    },
    {
     "data": {
      "image/png": "[encoded data removed]",
      "text/plain": [
       "<Figure size 1152x576 with 1 Axes>"
      ]
     },
     "metadata": {
      "needs_background": "light"
     },
     "output_type": "display_data"
    }
   ],
   "source": [
    "inputs = next(iter(test_loader))[0]\n",
    "inputs = inputs[:8].to(device)\n",
    "outpus = autoencoder(inputs)\n",
    "\n",
    "plt.figure(figsize=[16, 8])\n",
    "imshow(inputs.cpu().detach())\n",
    "plt.show()\n",
    "\n",
    "plt.figure(figsize=[16, 8])\n",
    "imshow(outpus.cpu().detach())\n",
    "plt.show()"
   ]
  },
  {
   "cell_type": "code",
   "execution_count": 41,
   "metadata": {},
   "outputs": [],
   "source": [
    "torch.save(autoencoder.state_dict(), 'cifar_autoencoder.pt')"
   ]
  },
  {
   "cell_type": "code",
   "execution_count": null,
   "metadata": {},
   "outputs": [],
   "source": []
  }
 ],
 "metadata": {
  "kernelspec": {
   "display_name": "Python 3",
   "language": "python",
   "name": "python3"
  },
  "language_info": {
   "codemirror_mode": {
    "name": "ipython",
    "version": 3
   },
   "file_extension": ".py",
   "mimetype": "text/x-python",
   "name": "python",
   "nbconvert_exporter": "python",
   "pygments_lexer": "ipython3",
   "version": "3.6.9"
  }
 },
 "nbformat": 4,
 "nbformat_minor": 4
}
